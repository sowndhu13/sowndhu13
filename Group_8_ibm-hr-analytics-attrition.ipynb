{
 "cells": [
  {
   "cell_type": "markdown",
   "metadata": {},
   "source": [
    "## IBM-HR-Analytics-Attrition-Dataset"
   ]
  },
  {
   "cell_type": "markdown",
   "metadata": {},
   "source": [
    "### Feature description\n",
    "##### Age -Integer datatype. Gives the age of the employees. range - 18-60\n",
    "##### Attrition - Gives the attrition rate of the employee.\n",
    "##### BusinessTravel - Categorical feature. Describes about the type of travel the employee has gone. The categories are 'Travel_Rarely', 'Travel_Frequently', 'Non-Travel'\n",
    "##### DailyRate - Rate at which the employee is working based on days\n",
    "##### Department - Categorical value.Department under which the employee is working. The categories are 'Sales', 'Research & Development', \n",
    "\n",
    "'Human Resources'\n",
    "##### DistanceFromHome - Numericalfeature. Distance from home to Working place.\n",
    "##### Education  - Categorical feature. Diploma,Graduate, Bachelors, Masters, Phd\n",
    "##### EducationField - Categorical Feature. Gives the Field in which the education of employee is. Categories are : 'Life Sciences', 'Other', 'Medical', 'Marketing','Technical Degree', 'Human Resources'\n",
    "##### EmployeeCount -Number of Employees present\n",
    "##### EmployeeNumber - Employee number once enrolled.\n",
    "##### EnvironmentSatisfaction - Categorical feature. Level 1 being lowest 4 being highest.\n",
    "##### Gender - Male / Female\n",
    "##### HourlyRate - rate at which the employees working based on hours\n",
    "##### JobInvolvement - Categorical Feature. 1 being lowest and 4 being highest\n",
    "##### JobLevel - Categorical Feature. 1 being lowest and 4 being highest\n",
    "##### JobRole - Categorical feature. Role of the employee. Categories are 'Sales Executive', 'Research Scientist', 'Laboratory Technician','Manufacturing Director', 'Healthcare Representative', 'Manager','Sales Representative', 'Research Director', 'Human Resources'\n",
    "##### JobSatisfaction - Categorical Feature. Satisfaction employee gets. 1 being lowest , 4 being highest\n",
    "##### MaritalStatus - Categorical Feature . Marital status of the employee. Categories are Single, Married, Divorced\n",
    "##### MonthlyIncome   - Numerical feature. Monthly Income of the employee\n",
    "##### MonthlyRate - Rate at which employee works on Month\n",
    "##### NumCompaniesWorked - Companies the employee already worked.\n",
    "##### Over18 - whether the employee is above 18 or not\n",
    "##### OverTime - Categorical Feature. whether the employee has done overtime or not\n",
    "##### PercentSalaryHike - Hike in salary in percentage\n",
    "##### PerformanceRating - Rating of the employee\n",
    "##### RelationshipSatisfaction - Categorical Feature.Satisfaction in relationship. 1 being lowest, 4 being highest\n",
    "##### StandardHours - Employee working hours\n",
    "##### StockOptionLevel - Stock Levels present in the company\n",
    "##### TotalWorkingYears - Total number of years worked by employee\n",
    "##### TrainingTimesLastYear - Training period of the employee\n",
    "##### WorkLifeBalance - Categorical Feature. Work life balance. 1 being lowest 4 being highest\n",
    "##### YearsAtCompany - No. of years employee worked in the companny.\n",
    "##### YearsInCurrentRole - No. of years employee working in same role.\n",
    "##### YearsSinceLastPromotion - No. of years since last promotion of the employee\n",
    "##### YearsWithCurrManager - No. of years employee working with same manager"
   ]
  },
  {
   "cell_type": "markdown",
   "metadata": {},
   "source": [
    "### Import Libraries"
   ]
  },
  {
   "cell_type": "code",
   "execution_count": 1,
   "metadata": {},
   "outputs": [],
   "source": [
    "import pandas as pd\n",
    "import numpy as np\n",
    "import seaborn as sns"
   ]
  },
  {
   "cell_type": "code",
   "execution_count": 2,
   "metadata": {},
   "outputs": [],
   "source": [
    "# for modelling:\n",
    "\n",
    "import statsmodels.api as sm\n",
    "import scipy.stats as st\n",
    "import matplotlib.pyplot as plt\n",
    "from sklearn.metrics import confusion_matrix\n",
    "import matplotlib.mlab as mlab\n",
    "%matplotlib inline\n",
    "from sklearn import metrics\n",
    "\n",
    "# importing Classification models\n",
    "\n",
    "from sklearn.model_selection import train_test_split\n",
    "from sklearn.pipeline import make_pipeline\n",
    "from imblearn.pipeline import make_pipeline as imbalanced_make_pipeline\n",
    "from imblearn.over_sampling import SMOTE\n",
    "from imblearn.under_sampling import NearMiss\n",
    "from imblearn.metrics import classification_report_imbalanced\n",
    "from sklearn.metrics import precision_score, recall_score, f1_score, roc_auc_score, accuracy_score, classification_report\n",
    "from collections import Counter\n",
    "from sklearn.model_selection import KFold, StratifiedKFold\n",
    "from statsmodels.tools import add_constant as add_constant\n",
    "\n",
    "import warnings\n",
    "warnings.filterwarnings('ignore')\n",
    "import statsmodels.api as sm\n",
    "from sklearn.linear_model import LogisticRegression\n",
    "from sklearn.metrics import confusion_matrix\n",
    "from sklearn.preprocessing import binarize\n",
    "from sklearn.metrics import roc_curve"
   ]
  },
  {
   "cell_type": "code",
   "execution_count": 3,
   "metadata": {},
   "outputs": [],
   "source": [
    "ibm=pd.read_csv('WA_Fn-UseC_-HR-Employee-Attrition.csv')"
   ]
  },
  {
   "cell_type": "code",
   "execution_count": 4,
   "metadata": {},
   "outputs": [
    {
     "name": "stdout",
     "output_type": "stream",
     "text": [
      "<class 'pandas.core.frame.DataFrame'>\n",
      "RangeIndex: 1470 entries, 0 to 1469\n",
      "Data columns (total 35 columns):\n",
      "Age                         1470 non-null int64\n",
      "Attrition                   1470 non-null object\n",
      "BusinessTravel              1470 non-null object\n",
      "DailyRate                   1470 non-null int64\n",
      "Department                  1470 non-null object\n",
      "DistanceFromHome            1470 non-null int64\n",
      "Education                   1470 non-null int64\n",
      "EducationField              1470 non-null object\n",
      "EmployeeCount               1470 non-null int64\n",
      "EmployeeNumber              1470 non-null int64\n",
      "EnvironmentSatisfaction     1470 non-null int64\n",
      "Gender                      1470 non-null object\n",
      "HourlyRate                  1470 non-null int64\n",
      "JobInvolvement              1470 non-null int64\n",
      "JobLevel                    1470 non-null int64\n",
      "JobRole                     1470 non-null object\n",
      "JobSatisfaction             1470 non-null int64\n",
      "MaritalStatus               1470 non-null object\n",
      "MonthlyIncome               1470 non-null int64\n",
      "MonthlyRate                 1470 non-null int64\n",
      "NumCompaniesWorked          1470 non-null int64\n",
      "Over18                      1470 non-null object\n",
      "OverTime                    1470 non-null object\n",
      "PercentSalaryHike           1470 non-null int64\n",
      "PerformanceRating           1470 non-null int64\n",
      "RelationshipSatisfaction    1470 non-null int64\n",
      "StandardHours               1470 non-null int64\n",
      "StockOptionLevel            1470 non-null int64\n",
      "TotalWorkingYears           1470 non-null int64\n",
      "TrainingTimesLastYear       1470 non-null int64\n",
      "WorkLifeBalance             1470 non-null int64\n",
      "YearsAtCompany              1470 non-null int64\n",
      "YearsInCurrentRole          1470 non-null int64\n",
      "YearsSinceLastPromotion     1470 non-null int64\n",
      "YearsWithCurrManager        1470 non-null int64\n",
      "dtypes: int64(26), object(9)\n",
      "memory usage: 402.0+ KB\n"
     ]
    }
   ],
   "source": [
    "ibm.info()"
   ]
  },
  {
   "cell_type": "code",
   "execution_count": 5,
   "metadata": {},
   "outputs": [
    {
     "data": {
      "text/html": [
       "<div>\n",
       "<style scoped>\n",
       "    .dataframe tbody tr th:only-of-type {\n",
       "        vertical-align: middle;\n",
       "    }\n",
       "\n",
       "    .dataframe tbody tr th {\n",
       "        vertical-align: top;\n",
       "    }\n",
       "\n",
       "    .dataframe thead th {\n",
       "        text-align: right;\n",
       "    }\n",
       "</style>\n",
       "<table border=\"1\" class=\"dataframe\">\n",
       "  <thead>\n",
       "    <tr style=\"text-align: right;\">\n",
       "      <th></th>\n",
       "      <th>Age</th>\n",
       "      <th>Attrition</th>\n",
       "      <th>BusinessTravel</th>\n",
       "      <th>DailyRate</th>\n",
       "      <th>Department</th>\n",
       "      <th>DistanceFromHome</th>\n",
       "      <th>Education</th>\n",
       "      <th>EducationField</th>\n",
       "      <th>EmployeeCount</th>\n",
       "      <th>EmployeeNumber</th>\n",
       "      <th>...</th>\n",
       "      <th>RelationshipSatisfaction</th>\n",
       "      <th>StandardHours</th>\n",
       "      <th>StockOptionLevel</th>\n",
       "      <th>TotalWorkingYears</th>\n",
       "      <th>TrainingTimesLastYear</th>\n",
       "      <th>WorkLifeBalance</th>\n",
       "      <th>YearsAtCompany</th>\n",
       "      <th>YearsInCurrentRole</th>\n",
       "      <th>YearsSinceLastPromotion</th>\n",
       "      <th>YearsWithCurrManager</th>\n",
       "    </tr>\n",
       "  </thead>\n",
       "  <tbody>\n",
       "    <tr>\n",
       "      <th>0</th>\n",
       "      <td>41</td>\n",
       "      <td>Yes</td>\n",
       "      <td>Travel_Rarely</td>\n",
       "      <td>1102</td>\n",
       "      <td>Sales</td>\n",
       "      <td>1</td>\n",
       "      <td>2</td>\n",
       "      <td>Life Sciences</td>\n",
       "      <td>1</td>\n",
       "      <td>1</td>\n",
       "      <td>...</td>\n",
       "      <td>1</td>\n",
       "      <td>80</td>\n",
       "      <td>0</td>\n",
       "      <td>8</td>\n",
       "      <td>0</td>\n",
       "      <td>1</td>\n",
       "      <td>6</td>\n",
       "      <td>4</td>\n",
       "      <td>0</td>\n",
       "      <td>5</td>\n",
       "    </tr>\n",
       "    <tr>\n",
       "      <th>1</th>\n",
       "      <td>49</td>\n",
       "      <td>No</td>\n",
       "      <td>Travel_Frequently</td>\n",
       "      <td>279</td>\n",
       "      <td>Research &amp; Development</td>\n",
       "      <td>8</td>\n",
       "      <td>1</td>\n",
       "      <td>Life Sciences</td>\n",
       "      <td>1</td>\n",
       "      <td>2</td>\n",
       "      <td>...</td>\n",
       "      <td>4</td>\n",
       "      <td>80</td>\n",
       "      <td>1</td>\n",
       "      <td>10</td>\n",
       "      <td>3</td>\n",
       "      <td>3</td>\n",
       "      <td>10</td>\n",
       "      <td>7</td>\n",
       "      <td>1</td>\n",
       "      <td>7</td>\n",
       "    </tr>\n",
       "    <tr>\n",
       "      <th>2</th>\n",
       "      <td>37</td>\n",
       "      <td>Yes</td>\n",
       "      <td>Travel_Rarely</td>\n",
       "      <td>1373</td>\n",
       "      <td>Research &amp; Development</td>\n",
       "      <td>2</td>\n",
       "      <td>2</td>\n",
       "      <td>Other</td>\n",
       "      <td>1</td>\n",
       "      <td>4</td>\n",
       "      <td>...</td>\n",
       "      <td>2</td>\n",
       "      <td>80</td>\n",
       "      <td>0</td>\n",
       "      <td>7</td>\n",
       "      <td>3</td>\n",
       "      <td>3</td>\n",
       "      <td>0</td>\n",
       "      <td>0</td>\n",
       "      <td>0</td>\n",
       "      <td>0</td>\n",
       "    </tr>\n",
       "    <tr>\n",
       "      <th>3</th>\n",
       "      <td>33</td>\n",
       "      <td>No</td>\n",
       "      <td>Travel_Frequently</td>\n",
       "      <td>1392</td>\n",
       "      <td>Research &amp; Development</td>\n",
       "      <td>3</td>\n",
       "      <td>4</td>\n",
       "      <td>Life Sciences</td>\n",
       "      <td>1</td>\n",
       "      <td>5</td>\n",
       "      <td>...</td>\n",
       "      <td>3</td>\n",
       "      <td>80</td>\n",
       "      <td>0</td>\n",
       "      <td>8</td>\n",
       "      <td>3</td>\n",
       "      <td>3</td>\n",
       "      <td>8</td>\n",
       "      <td>7</td>\n",
       "      <td>3</td>\n",
       "      <td>0</td>\n",
       "    </tr>\n",
       "    <tr>\n",
       "      <th>4</th>\n",
       "      <td>27</td>\n",
       "      <td>No</td>\n",
       "      <td>Travel_Rarely</td>\n",
       "      <td>591</td>\n",
       "      <td>Research &amp; Development</td>\n",
       "      <td>2</td>\n",
       "      <td>1</td>\n",
       "      <td>Medical</td>\n",
       "      <td>1</td>\n",
       "      <td>7</td>\n",
       "      <td>...</td>\n",
       "      <td>4</td>\n",
       "      <td>80</td>\n",
       "      <td>1</td>\n",
       "      <td>6</td>\n",
       "      <td>3</td>\n",
       "      <td>3</td>\n",
       "      <td>2</td>\n",
       "      <td>2</td>\n",
       "      <td>2</td>\n",
       "      <td>2</td>\n",
       "    </tr>\n",
       "  </tbody>\n",
       "</table>\n",
       "<p>5 rows × 35 columns</p>\n",
       "</div>"
      ],
      "text/plain": [
       "   Age Attrition     BusinessTravel  DailyRate              Department  \\\n",
       "0   41       Yes      Travel_Rarely       1102                   Sales   \n",
       "1   49        No  Travel_Frequently        279  Research & Development   \n",
       "2   37       Yes      Travel_Rarely       1373  Research & Development   \n",
       "3   33        No  Travel_Frequently       1392  Research & Development   \n",
       "4   27        No      Travel_Rarely        591  Research & Development   \n",
       "\n",
       "   DistanceFromHome  Education EducationField  EmployeeCount  EmployeeNumber  \\\n",
       "0                 1          2  Life Sciences              1               1   \n",
       "1                 8          1  Life Sciences              1               2   \n",
       "2                 2          2          Other              1               4   \n",
       "3                 3          4  Life Sciences              1               5   \n",
       "4                 2          1        Medical              1               7   \n",
       "\n",
       "   ...  RelationshipSatisfaction StandardHours  StockOptionLevel  \\\n",
       "0  ...                         1            80                 0   \n",
       "1  ...                         4            80                 1   \n",
       "2  ...                         2            80                 0   \n",
       "3  ...                         3            80                 0   \n",
       "4  ...                         4            80                 1   \n",
       "\n",
       "   TotalWorkingYears  TrainingTimesLastYear WorkLifeBalance  YearsAtCompany  \\\n",
       "0                  8                      0               1               6   \n",
       "1                 10                      3               3              10   \n",
       "2                  7                      3               3               0   \n",
       "3                  8                      3               3               8   \n",
       "4                  6                      3               3               2   \n",
       "\n",
       "  YearsInCurrentRole  YearsSinceLastPromotion  YearsWithCurrManager  \n",
       "0                  4                        0                     5  \n",
       "1                  7                        1                     7  \n",
       "2                  0                        0                     0  \n",
       "3                  7                        3                     0  \n",
       "4                  2                        2                     2  \n",
       "\n",
       "[5 rows x 35 columns]"
      ]
     },
     "execution_count": 5,
     "metadata": {},
     "output_type": "execute_result"
    }
   ],
   "source": [
    "ibm.head()"
   ]
  },
  {
   "cell_type": "code",
   "execution_count": 6,
   "metadata": {},
   "outputs": [
    {
     "data": {
      "text/plain": [
       "No     1233\n",
       "Yes     237\n",
       "Name: Attrition, dtype: int64"
      ]
     },
     "execution_count": 6,
     "metadata": {},
     "output_type": "execute_result"
    }
   ],
   "source": [
    "ibm.Attrition.value_counts()"
   ]
  },
  {
   "cell_type": "code",
   "execution_count": 7,
   "metadata": {},
   "outputs": [
    {
     "data": {
      "text/plain": [
       "count    1470.000000\n",
       "mean       36.923810\n",
       "std         9.135373\n",
       "min        18.000000\n",
       "25%        30.000000\n",
       "50%        36.000000\n",
       "75%        43.000000\n",
       "max        60.000000\n",
       "Name: Age, dtype: float64"
      ]
     },
     "execution_count": 7,
     "metadata": {},
     "output_type": "execute_result"
    }
   ],
   "source": [
    "ibm.Age.describe()"
   ]
  },
  {
   "cell_type": "markdown",
   "metadata": {},
   "source": [
    "#### Single attribute visualization"
   ]
  },
  {
   "cell_type": "code",
   "execution_count": 8,
   "metadata": {
    "scrolled": true
   },
   "outputs": [
    {
     "data": {
      "text/plain": [
       "<matplotlib.axes._subplots.AxesSubplot at 0x1b9074077f0>"
      ]
     },
     "execution_count": 8,
     "metadata": {},
     "output_type": "execute_result"
    },
    {
     "data": {
      "image/png": "[encoded data removed]",
      "text/plain": [
       "<Figure size 432x288 with 1 Axes>"
      ]
     },
     "metadata": {
      "needs_background": "light"
     },
     "output_type": "display_data"
    }
   ],
   "source": [
    "sns.distplot(ibm.Age)"
   ]
  },
  {
   "cell_type": "code",
   "execution_count": 9,
   "metadata": {
    "scrolled": false
   },
   "outputs": [
    {
     "data": {
      "text/plain": [
       "17"
      ]
     },
     "execution_count": 9,
     "metadata": {},
     "output_type": "execute_result"
    }
   ],
   "source": [
    "ibm.Age.describe()\n",
    "\n",
    "ibm[ibm['Age']< 20]['Age'].count()"
   ]
  },
  {
   "cell_type": "code",
   "execution_count": 10,
   "metadata": {},
   "outputs": [
    {
     "name": "stdout",
     "output_type": "stream",
     "text": [
      "Attrition rate  below age 20 is  58.82352941176471\n",
      "Attrition rate of age between 20 and 30 is  5.1020408163265305\n",
      "Attrition rate of age between 30 and 40 is  14.23487544483986\n",
      "Attrition rate of age between 40 and 50 is  9.931506849315069\n",
      "Attrition rate of age between 50 and 60 is  13.043478260869565\n",
      "Attrition rate of age above 60 is  nan\n"
     ]
    }
   ],
   "source": [
    "print('Attrition rate  below age 20 is ',(ibm[(ibm['Age']< 20) \n",
    "                                                             & (ibm['Attrition']=='Yes')]['Age'].count() \n",
    "                                                         / ibm[ibm['Age']< 20]['Age'].count()) * 100)\n",
    "\n",
    "print('Attrition rate of age between 20 and 30 is ',(ibm[(ibm['Age']> 20) \n",
    "                                                            & (ibm['Age']<30)\n",
    "                                                             & (ibm['Attrition']=='Yes')]['Age'].count() \n",
    "                                                         / ibm['Age'].count()) * 100)\n",
    "\n",
    "print('Attrition rate of age between 30 and 40 is ',(ibm[(ibm['Age']> 30) \n",
    "                                                            & (ibm['Age']<40)\n",
    "                                                             & (ibm['Attrition']=='Yes')]['Age'].count() \n",
    "                                                         / ibm[(ibm['Age']> 30) \n",
    "                                                            & (ibm['Age']<40)]['Age'].count()) * 100)\n",
    "\n",
    "print('Attrition rate of age between 40 and 50 is ',(ibm[(ibm['Age']> 40) \n",
    "                                                            & (ibm['Age']<50)\n",
    "                                                             & (ibm['Attrition']=='Yes')]['Age'].count() \n",
    "                                                         / ibm[(ibm['Age']> 40) \n",
    "                                                            & (ibm['Age']<50)]['Age'].count()) * 100)\n",
    "print('Attrition rate of age between 50 and 60 is ',(ibm[(ibm['Age']> 50) \n",
    "                                                            & (ibm['Age']<60)\n",
    "                                                             & (ibm['Attrition']=='Yes')]['Age'].count() \n",
    "                                                         / ibm[(ibm['Age']> 50) \n",
    "                                                            & (ibm['Age']<60)]['Age'].count()) * 100)\n",
    "\n",
    "print('Attrition rate of age above 60 is ',(ibm[(ibm['Age']> 60) \n",
    "                                                            \n",
    "                                                             & (ibm['Attrition']=='Yes')]['Age'].count() \n",
    "                                                         / ibm[ibm['Age']> 60]['Age'].count()) * 100)\n"
   ]
  },
  {
   "cell_type": "markdown",
   "metadata": {},
   "source": [
    "#### from the graph, we can see that the age is overall distributed from 18 to 60 . \n",
    "\n",
    "#### and there is not much skewness\n",
    "\n",
    "#### As the age increases, the number of people working is also decreasing."
   ]
  },
  {
   "cell_type": "code",
   "execution_count": 11,
   "metadata": {},
   "outputs": [
    {
     "data": {
      "text/plain": [
       "Index(['Age', 'Attrition', 'BusinessTravel', 'DailyRate', 'Department',\n",
       "       'DistanceFromHome', 'Education', 'EducationField', 'EmployeeCount',\n",
       "       'EmployeeNumber', 'EnvironmentSatisfaction', 'Gender', 'HourlyRate',\n",
       "       'JobInvolvement', 'JobLevel', 'JobRole', 'JobSatisfaction',\n",
       "       'MaritalStatus', 'MonthlyIncome', 'MonthlyRate', 'NumCompaniesWorked',\n",
       "       'Over18', 'OverTime', 'PercentSalaryHike', 'PerformanceRating',\n",
       "       'RelationshipSatisfaction', 'StandardHours', 'StockOptionLevel',\n",
       "       'TotalWorkingYears', 'TrainingTimesLastYear', 'WorkLifeBalance',\n",
       "       'YearsAtCompany', 'YearsInCurrentRole', 'YearsSinceLastPromotion',\n",
       "       'YearsWithCurrManager'],\n",
       "      dtype='object')"
      ]
     },
     "execution_count": 11,
     "metadata": {},
     "output_type": "execute_result"
    }
   ],
   "source": [
    "ibm.columns"
   ]
  },
  {
   "cell_type": "code",
   "execution_count": 12,
   "metadata": {},
   "outputs": [
    {
     "data": {
      "text/plain": [
       "Travel_Rarely        1043\n",
       "Travel_Frequently     277\n",
       "Non-Travel            150\n",
       "Name: BusinessTravel, dtype: int64"
      ]
     },
     "execution_count": 12,
     "metadata": {},
     "output_type": "execute_result"
    }
   ],
   "source": [
    "ibm.BusinessTravel.value_counts()"
   ]
  },
  {
   "cell_type": "code",
   "execution_count": 13,
   "metadata": {
    "scrolled": true
   },
   "outputs": [
    {
     "data": {
      "text/plain": [
       "<matplotlib.axes._subplots.AxesSubplot at 0x1b907b82828>"
      ]
     },
     "execution_count": 13,
     "metadata": {},
     "output_type": "execute_result"
    },
    {
     "data": {
      "image/png": "[encoded data removed]",
      "text/plain": [
       "<Figure size 432x288 with 1 Axes>"
      ]
     },
     "metadata": {
      "needs_background": "light"
     },
     "output_type": "display_data"
    }
   ],
   "source": [
    "sns.countplot(ibm.BusinessTravel,hue=ibm.Attrition)"
   ]
  },
  {
   "cell_type": "code",
   "execution_count": 14,
   "metadata": {
    "scrolled": true
   },
   "outputs": [
    {
     "data": {
      "text/plain": [
       "array(['Travel_Rarely', 'Travel_Frequently', 'Non-Travel'], dtype=object)"
      ]
     },
     "execution_count": 14,
     "metadata": {},
     "output_type": "execute_result"
    }
   ],
   "source": [
    "bt=ibm.BusinessTravel.unique()\n",
    "bt"
   ]
  },
  {
   "cell_type": "code",
   "execution_count": 15,
   "metadata": {},
   "outputs": [
    {
     "name": "stdout",
     "output_type": "stream",
     "text": [
      "Percentage of attrition rate w.r.t BusinessTravel Travel_Rarely is  14.956855225311601\n",
      "Percentage of attrition rate w.r.t BusinessTravel Travel_Frequently is  24.90974729241877\n",
      "Percentage of attrition rate w.r.t BusinessTravel Non-Travel is  8.0\n"
     ]
    }
   ],
   "source": [
    "for i in bt:\n",
    "    \n",
    "\n",
    "    print('Percentage of attrition rate w.r.t BusinessTravel {} is '.format(i),(ibm[(ibm['Attrition']=='Yes') & \n",
    "         (ibm['BusinessTravel']==i)]['BusinessTravel'].count()\n",
    "     /\n",
    "     ibm[ibm['BusinessTravel']==i]['BusinessTravel'].count()) * 100)"
   ]
  },
  {
   "cell_type": "markdown",
   "metadata": {},
   "source": [
    "#### from the value counts and count plot, we can see that ratio of people travelling rarely is more than that of the people who travel mostly\n",
    "### and the people who travel frequently for business is also very less\n",
    "\n",
    "##### --- need to check for the age groups among these BusinessTravel categories\n",
    "\n",
    "#### attrition rate is more in travelled frequently group"
   ]
  },
  {
   "cell_type": "code",
   "execution_count": 16,
   "metadata": {},
   "outputs": [
    {
     "data": {
      "text/plain": [
       "count    1470.000000\n",
       "mean      802.485714\n",
       "std       403.509100\n",
       "min       102.000000\n",
       "25%       465.000000\n",
       "50%       802.000000\n",
       "75%      1157.000000\n",
       "max      1499.000000\n",
       "Name: DailyRate, dtype: float64"
      ]
     },
     "execution_count": 16,
     "metadata": {},
     "output_type": "execute_result"
    }
   ],
   "source": [
    "ibm.DailyRate.describe()"
   ]
  },
  {
   "cell_type": "code",
   "execution_count": 17,
   "metadata": {},
   "outputs": [
    {
     "data": {
      "text/plain": [
       "<matplotlib.axes._subplots.AxesSubplot at 0x1b907c18f98>"
      ]
     },
     "execution_count": 17,
     "metadata": {},
     "output_type": "execute_result"
    },
    {
     "data": {
      "image/png": "[encoded data removed]",
      "text/plain": [
       "<Figure size 432x288 with 1 Axes>"
      ]
     },
     "metadata": {
      "needs_background": "light"
     },
     "output_type": "display_data"
    }
   ],
   "source": [
    "sns.distplot(ibm.DailyRate)"
   ]
  },
  {
   "cell_type": "code",
   "execution_count": 18,
   "metadata": {},
   "outputs": [
    {
     "data": {
      "text/plain": [
       "No     1233\n",
       "Yes     237\n",
       "Name: Attrition, dtype: int64"
      ]
     },
     "execution_count": 18,
     "metadata": {},
     "output_type": "execute_result"
    }
   ],
   "source": [
    "ibm.Attrition.value_counts()"
   ]
  },
  {
   "cell_type": "markdown",
   "metadata": {},
   "source": [
    "#### The attrition rate for yes and no is in the ratio 237:1233. That means most people are not changing jobs from ibm.\n",
    "\n",
    "#### we should check on the other factors affecting this attrition rate.\n",
    "\n",
    "#### In our dataset, Attrition rate is the dependant variable."
   ]
  },
  {
   "cell_type": "code",
   "execution_count": 19,
   "metadata": {},
   "outputs": [
    {
     "data": {
      "text/plain": [
       "count                       1470\n",
       "unique                         3\n",
       "top       Research & Development\n",
       "freq                         961\n",
       "Name: Department, dtype: object"
      ]
     },
     "execution_count": 19,
     "metadata": {},
     "output_type": "execute_result"
    }
   ],
   "source": [
    "ibm.Department.describe()"
   ]
  },
  {
   "cell_type": "code",
   "execution_count": 20,
   "metadata": {
    "scrolled": true
   },
   "outputs": [
    {
     "data": {
      "text/plain": [
       "array(['Sales', 'Research & Development', 'Human Resources'], dtype=object)"
      ]
     },
     "execution_count": 20,
     "metadata": {},
     "output_type": "execute_result"
    },
    {
     "data": {
      "image/png": "[encoded data removed]",
      "text/plain": [
       "<Figure size 432x288 with 1 Axes>"
      ]
     },
     "metadata": {
      "needs_background": "light"
     },
     "output_type": "display_data"
    }
   ],
   "source": [
    "sns.countplot(ibm.Department,hue=ibm.Attrition)\n",
    "\n",
    "dept=ibm.Department.unique()\n",
    "dept"
   ]
  },
  {
   "cell_type": "code",
   "execution_count": 21,
   "metadata": {},
   "outputs": [
    {
     "name": "stdout",
     "output_type": "stream",
     "text": [
      "Percentage of attrition rate w.r.t Department Sales is  20.62780269058296\n",
      "Percentage of attrition rate w.r.t Department Research & Development is  13.839750260145681\n",
      "Percentage of attrition rate w.r.t Department Human Resources is  19.047619047619047\n"
     ]
    }
   ],
   "source": [
    "for i in dept:\n",
    "    \n",
    "\n",
    "    print('Percentage of attrition rate w.r.t Department {} is '.format(i),(ibm[(ibm['Attrition']=='Yes') & \n",
    "         (ibm['Department']==i)]['Department'].count()\n",
    "     /\n",
    "     ibm[ibm['Department']==i]['Department'].count()) * 100)"
   ]
  },
  {
   "cell_type": "markdown",
   "metadata": {},
   "source": [
    "#### From the percentage ration attrition rate is more in sales than R&D and HR"
   ]
  },
  {
   "cell_type": "code",
   "execution_count": 22,
   "metadata": {},
   "outputs": [
    {
     "data": {
      "text/plain": [
       "count    1470.000000\n",
       "mean        9.192517\n",
       "std         8.106864\n",
       "min         1.000000\n",
       "25%         2.000000\n",
       "50%         7.000000\n",
       "75%        14.000000\n",
       "max        29.000000\n",
       "Name: DistanceFromHome, dtype: float64"
      ]
     },
     "execution_count": 22,
     "metadata": {},
     "output_type": "execute_result"
    }
   ],
   "source": [
    "ibm.DistanceFromHome.describe()"
   ]
  },
  {
   "cell_type": "code",
   "execution_count": 23,
   "metadata": {},
   "outputs": [
    {
     "data": {
      "text/plain": [
       "<matplotlib.axes._subplots.AxesSubplot at 0x1b907cf5c18>"
      ]
     },
     "execution_count": 23,
     "metadata": {},
     "output_type": "execute_result"
    },
    {
     "data": {
      "image/png": "[encoded data removed]",
      "text/plain": [
       "<Figure size 432x288 with 1 Axes>"
      ]
     },
     "metadata": {
      "needs_background": "light"
     },
     "output_type": "display_data"
    }
   ],
   "source": [
    "sns.distplot(ibm.DistanceFromHome)"
   ]
  },
  {
   "cell_type": "markdown",
   "metadata": {},
   "source": [
    "#### from the plot above, the lowest distance from their home to workplace is 1 km and the farthest is 29kms.\n",
    "#### 75% of the people are within 14 kms distance from the work place.\n",
    "#### we have to find out the attrition rate of the remaining people and can tend to predict Attrition."
   ]
  },
  {
   "cell_type": "code",
   "execution_count": 24,
   "metadata": {},
   "outputs": [
    {
     "data": {
      "text/plain": [
       "array([2, 1, 4, 3, 5], dtype=int64)"
      ]
     },
     "execution_count": 24,
     "metadata": {},
     "output_type": "execute_result"
    }
   ],
   "source": [
    "edu=ibm.Education.unique()\n",
    "edu"
   ]
  },
  {
   "cell_type": "code",
   "execution_count": 25,
   "metadata": {},
   "outputs": [
    {
     "name": "stdout",
     "output_type": "stream",
     "text": [
      "Percentage of attrition rate w.r.t Education level 1 is  18.235294117647058\n",
      "Percentage of attrition rate w.r.t Education level 2 is  15.602836879432624\n",
      "Percentage of attrition rate w.r.t Education level 3 is  17.307692307692307\n",
      "Percentage of attrition rate w.r.t Education level 4 is  14.572864321608039\n",
      "Percentage of attrition rate w.r.t Education level 5 is  10.416666666666668\n"
     ]
    }
   ],
   "source": [
    "for i in range(1,6):\n",
    "    \n",
    "\n",
    "    print('Percentage of attrition rate w.r.t Education level {} is '.format(i),(ibm[(ibm['Attrition']=='Yes') & \n",
    "         (ibm['Education']==i)]['Education'].count()\n",
    "     /\n",
    "     ibm[ibm['Education']==i]['Education'].count()) * 100)"
   ]
  },
  {
   "cell_type": "markdown",
   "metadata": {},
   "source": [
    "#### There are 5 education levels. and level 3 is having highest count of people.\n"
   ]
  },
  {
   "cell_type": "code",
   "execution_count": 26,
   "metadata": {},
   "outputs": [
    {
     "data": {
      "text/plain": [
       "array(['Life Sciences', 'Other', 'Medical', 'Marketing',\n",
       "       'Technical Degree', 'Human Resources'], dtype=object)"
      ]
     },
     "execution_count": 26,
     "metadata": {},
     "output_type": "execute_result"
    }
   ],
   "source": [
    "edu_f=ibm.EducationField.unique()\n",
    "edu_f"
   ]
  },
  {
   "cell_type": "code",
   "execution_count": 27,
   "metadata": {},
   "outputs": [
    {
     "name": "stdout",
     "output_type": "stream",
     "text": [
      "Percentage of attrition rate w.r.t Education Field - Life Sciences is  14.686468646864686\n",
      "Percentage of attrition rate w.r.t Education Field - Other is  13.414634146341465\n",
      "Percentage of attrition rate w.r.t Education Field - Medical is  13.577586206896552\n",
      "Percentage of attrition rate w.r.t Education Field - Marketing is  22.0125786163522\n",
      "Percentage of attrition rate w.r.t Education Field - Technical Degree is  24.242424242424242\n",
      "Percentage of attrition rate w.r.t Education Field - Human Resources is  25.925925925925924\n"
     ]
    }
   ],
   "source": [
    "for i in edu_f:\n",
    "    \n",
    "\n",
    "    print('Percentage of attrition rate w.r.t Education Field - {} is '.format(i),(ibm[(ibm['Attrition']=='Yes') & \n",
    "         (ibm['EducationField']==i)]['EducationField'].count()\n",
    "     /\n",
    "     ibm[ibm['EducationField']==i]['EducationField'].count()) * 100)"
   ]
  },
  {
   "cell_type": "code",
   "execution_count": 28,
   "metadata": {},
   "outputs": [
    {
     "data": {
      "text/plain": [
       "<matplotlib.axes._subplots.AxesSubplot at 0x1b907d95da0>"
      ]
     },
     "execution_count": 28,
     "metadata": {},
     "output_type": "execute_result"
    },
    {
     "data": {
      "image/png": "[encoded data removed]",
      "text/plain": [
       "<Figure size 432x288 with 1 Axes>"
      ]
     },
     "metadata": {
      "needs_background": "light"
     },
     "output_type": "display_data"
    }
   ],
   "source": [
    "sns.countplot(ibm.EducationField,hue=ibm.Attrition)"
   ]
  },
  {
   "cell_type": "markdown",
   "metadata": {},
   "source": [
    "#### There are 5 Education levels and the attrition rate is more in Life sciences field. There is minimum attrition in HR field"
   ]
  },
  {
   "cell_type": "code",
   "execution_count": 29,
   "metadata": {
    "scrolled": true
   },
   "outputs": [
    {
     "data": {
      "text/plain": [
       "3    453\n",
       "4    446\n",
       "2    287\n",
       "1    284\n",
       "Name: EnvironmentSatisfaction, dtype: int64"
      ]
     },
     "execution_count": 29,
     "metadata": {},
     "output_type": "execute_result"
    }
   ],
   "source": [
    "ibm.EnvironmentSatisfaction.value_counts()"
   ]
  },
  {
   "cell_type": "code",
   "execution_count": 30,
   "metadata": {},
   "outputs": [
    {
     "name": "stdout",
     "output_type": "stream",
     "text": [
      "Percentage of attrition rate w.r.t Environment Satisfaction level - 1 is  25.352112676056336\n",
      "Percentage of attrition rate w.r.t Environment Satisfaction level - 2 is  14.982578397212542\n",
      "Percentage of attrition rate w.r.t Environment Satisfaction level - 3 is  13.686534216335541\n",
      "Percentage of attrition rate w.r.t Environment Satisfaction level - 4 is  13.452914798206278\n"
     ]
    }
   ],
   "source": [
    "for i in range(1,5):\n",
    "    \n",
    "\n",
    "    print('Percentage of attrition rate w.r.t Environment Satisfaction level - {} is '.format(i),(ibm[(ibm['Attrition']=='Yes') & \n",
    "         (ibm['EnvironmentSatisfaction']==i)]['EnvironmentSatisfaction'].count()\n",
    "     /\n",
    "     ibm[ibm['EnvironmentSatisfaction']==i]['EnvironmentSatisfaction'].count()) * 100)"
   ]
  },
  {
   "cell_type": "code",
   "execution_count": 31,
   "metadata": {
    "scrolled": true
   },
   "outputs": [
    {
     "data": {
      "text/plain": [
       "<matplotlib.axes._subplots.AxesSubplot at 0x1b907e15cc0>"
      ]
     },
     "execution_count": 31,
     "metadata": {},
     "output_type": "execute_result"
    },
    {
     "data": {
      "image/png": "[encoded data removed]",
      "text/plain": [
       "<Figure size 432x288 with 1 Axes>"
      ]
     },
     "metadata": {
      "needs_background": "light"
     },
     "output_type": "display_data"
    }
   ],
   "source": [
    "sns.countplot(ibm.EnvironmentSatisfaction,hue=ibm.Attrition)"
   ]
  },
  {
   "cell_type": "markdown",
   "metadata": {},
   "source": [
    "#### There are 4 Environment satisfaction levels 1,2,3,4 1 being low and 4 being high. \n",
    "#### from the above countplot, we can see that number of employees are more in the 3 and 4 satisfation group and less in 1 and 2 groups\n",
    "#### the attrition rate is more in satisfaction level 1."
   ]
  },
  {
   "cell_type": "code",
   "execution_count": 32,
   "metadata": {},
   "outputs": [
    {
     "data": {
      "text/plain": [
       "3    868\n",
       "2    375\n",
       "4    144\n",
       "1     83\n",
       "Name: JobInvolvement, dtype: int64"
      ]
     },
     "execution_count": 32,
     "metadata": {},
     "output_type": "execute_result"
    }
   ],
   "source": [
    "ibm.JobInvolvement.value_counts()"
   ]
  },
  {
   "cell_type": "code",
   "execution_count": 33,
   "metadata": {},
   "outputs": [
    {
     "name": "stdout",
     "output_type": "stream",
     "text": [
      "Percentage of attrition rate for Job Involvement level 1 is  33.734939759036145\n",
      "Percentage of attrition rate for Job Involvement level 2 is  18.933333333333334\n",
      "Percentage of attrition rate for Job Involvement level 3 is  14.400921658986174\n",
      "Percentage of attrition rate for Job Involvement level 4 is  9.027777777777777\n"
     ]
    }
   ],
   "source": [
    "for i in range(1,5):\n",
    "    \n",
    "\n",
    "    print('Percentage of attrition rate for Job Involvement level {} is '.format(i),(ibm[(ibm['Attrition']=='Yes') & \n",
    "         (ibm['JobInvolvement']==i)]['JobInvolvement'].count()\n",
    "     /\n",
    "     ibm[ibm['JobInvolvement']==i]['JobInvolvement'].count()) * 100)"
   ]
  },
  {
   "cell_type": "code",
   "execution_count": 34,
   "metadata": {
    "scrolled": true
   },
   "outputs": [
    {
     "data": {
      "text/plain": [
       "<matplotlib.axes._subplots.AxesSubplot at 0x1b908e68860>"
      ]
     },
     "execution_count": 34,
     "metadata": {},
     "output_type": "execute_result"
    },
    {
     "data": {
      "image/png": "[encoded data removed]",
      "text/plain": [
       "<Figure size 432x288 with 1 Axes>"
      ]
     },
     "metadata": {
      "needs_background": "light"
     },
     "output_type": "display_data"
    }
   ],
   "source": [
    "sns.countplot(ibm.JobInvolvement, hue=ibm.Attrition)"
   ]
  },
  {
   "cell_type": "code",
   "execution_count": 35,
   "metadata": {},
   "outputs": [
    {
     "data": {
      "text/plain": [
       "4    459\n",
       "3    442\n",
       "1    289\n",
       "2    280\n",
       "Name: JobSatisfaction, dtype: int64"
      ]
     },
     "execution_count": 35,
     "metadata": {},
     "output_type": "execute_result"
    }
   ],
   "source": [
    "ibm.JobSatisfaction.value_counts()"
   ]
  },
  {
   "cell_type": "code",
   "execution_count": 36,
   "metadata": {
    "scrolled": false
   },
   "outputs": [
    {
     "data": {
      "text/plain": [
       "<matplotlib.axes._subplots.AxesSubplot at 0x1b908eb8f28>"
      ]
     },
     "execution_count": 36,
     "metadata": {},
     "output_type": "execute_result"
    },
    {
     "data": {
      "image/png": "[encoded data removed]",
      "text/plain": [
       "<Figure size 432x288 with 1 Axes>"
      ]
     },
     "metadata": {
      "needs_background": "light"
     },
     "output_type": "display_data"
    }
   ],
   "source": [
    "sns.countplot(ibm.JobSatisfaction,hue=ibm.Attrition)"
   ]
  },
  {
   "cell_type": "code",
   "execution_count": 37,
   "metadata": {},
   "outputs": [
    {
     "data": {
      "text/plain": [
       "3    73\n",
       "1    66\n",
       "4    52\n",
       "2    46\n",
       "Name: JobSatisfaction, dtype: int64"
      ]
     },
     "execution_count": 37,
     "metadata": {},
     "output_type": "execute_result"
    }
   ],
   "source": [
    "ibm[ibm['Attrition']=='Yes']['JobSatisfaction'].value_counts()"
   ]
  },
  {
   "cell_type": "code",
   "execution_count": 38,
   "metadata": {},
   "outputs": [
    {
     "name": "stdout",
     "output_type": "stream",
     "text": [
      "Percentage of attrition rate for Job Satisfaction level 1 is  22.837370242214533\n",
      "Percentage of attrition rate for Job Satisfaction level 2 is  16.428571428571427\n",
      "Percentage of attrition rate for Job Satisfaction level 3 is  16.515837104072396\n",
      "Percentage of attrition rate for Job Satisfaction level 4 is  11.328976034858387\n"
     ]
    }
   ],
   "source": [
    "for i in range(1,5):\n",
    "    \n",
    "\n",
    "    print('Percentage of attrition rate for Job Satisfaction level {} is '.format(i),(ibm[(ibm['Attrition']=='Yes') & \n",
    "         (ibm['JobSatisfaction']==i)]['JobSatisfaction'].count()\n",
    "     /\n",
    "     ibm[ibm['JobSatisfaction']==i]['JobSatisfaction'].count()) * 100)"
   ]
  },
  {
   "cell_type": "markdown",
   "metadata": {},
   "source": [
    "#### There are 4 job satisfaction levels 1,2,3,4 1 being low and 4 being high. Similar to environment satisfaction , employee count is more in levels 3 and 4 rather than 1 and 2\n",
    "#### the attrition rate is more in level 1 than others"
   ]
  },
  {
   "cell_type": "code",
   "execution_count": 39,
   "metadata": {},
   "outputs": [
    {
     "data": {
      "text/plain": [
       "array(['Sales Executive', 'Research Scientist', 'Laboratory Technician',\n",
       "       'Manufacturing Director', 'Healthcare Representative', 'Manager',\n",
       "       'Sales Representative', 'Research Director', 'Human Resources'],\n",
       "      dtype=object)"
      ]
     },
     "execution_count": 39,
     "metadata": {},
     "output_type": "execute_result"
    }
   ],
   "source": [
    "job_role=ibm.JobRole.unique()\n",
    "job_role"
   ]
  },
  {
   "cell_type": "code",
   "execution_count": 40,
   "metadata": {},
   "outputs": [
    {
     "name": "stdout",
     "output_type": "stream",
     "text": [
      "Percentage of attrition rate for Job role Sales Executive is  17.484662576687114\n",
      "Percentage of attrition rate for Job role Research Scientist is  16.095890410958905\n",
      "Percentage of attrition rate for Job role Laboratory Technician is  23.93822393822394\n",
      "Percentage of attrition rate for Job role Manufacturing Director is  6.896551724137931\n",
      "Percentage of attrition rate for Job role Healthcare Representative is  6.870229007633588\n",
      "Percentage of attrition rate for Job role Manager is  4.901960784313726\n",
      "Percentage of attrition rate for Job role Sales Representative is  39.75903614457831\n",
      "Percentage of attrition rate for Job role Research Director is  2.5\n",
      "Percentage of attrition rate for Job role Human Resources is  23.076923076923077\n"
     ]
    }
   ],
   "source": [
    "for i in job_role:\n",
    "    \n",
    "\n",
    "    print('Percentage of attrition rate for Job role {} is '.format(i),(ibm[(ibm['Attrition']=='Yes') & \n",
    "         (ibm['JobRole']==i)]['JobRole'].count()\n",
    "     /\n",
    "     ibm[ibm['JobRole']==i]['JobRole'].count()) * 100)"
   ]
  },
  {
   "cell_type": "code",
   "execution_count": 41,
   "metadata": {
    "scrolled": true
   },
   "outputs": [
    {
     "data": {
      "text/plain": [
       "<matplotlib.axes._subplots.AxesSubplot at 0x1b908f29b00>"
      ]
     },
     "execution_count": 41,
     "metadata": {},
     "output_type": "execute_result"
    },
    {
     "data": {
      "image/png": "[encoded data removed]",
      "text/plain": [
       "<Figure size 1440x360 with 1 Axes>"
      ]
     },
     "metadata": {
      "needs_background": "light"
     },
     "output_type": "display_data"
    }
   ],
   "source": [
    "plt.figure(figsize= (20, 5))\n",
    "sns.countplot(ibm.JobRole,hue=ibm.Attrition)"
   ]
  },
  {
   "cell_type": "code",
   "execution_count": 42,
   "metadata": {},
   "outputs": [
    {
     "data": {
      "text/plain": [
       "1    543\n",
       "2    534\n",
       "3    218\n",
       "4    106\n",
       "5     69\n",
       "Name: JobLevel, dtype: int64"
      ]
     },
     "execution_count": 42,
     "metadata": {},
     "output_type": "execute_result"
    }
   ],
   "source": [
    "ibm.JobLevel.value_counts()\n"
   ]
  },
  {
   "cell_type": "code",
   "execution_count": 43,
   "metadata": {
    "scrolled": true
   },
   "outputs": [
    {
     "data": {
      "text/plain": [
       "<matplotlib.axes._subplots.AxesSubplot at 0x1b907e65390>"
      ]
     },
     "execution_count": 43,
     "metadata": {},
     "output_type": "execute_result"
    },
    {
     "data": {
      "image/png": "[encoded data removed]",
      "text/plain": [
       "<Figure size 720x360 with 1 Axes>"
      ]
     },
     "metadata": {
      "needs_background": "light"
     },
     "output_type": "display_data"
    }
   ],
   "source": [
    "plt.figure(figsize= (10, 5))\n",
    "sns.countplot(ibm.JobLevel,hue=ibm.Attrition)"
   ]
  },
  {
   "cell_type": "code",
   "execution_count": 44,
   "metadata": {},
   "outputs": [
    {
     "name": "stdout",
     "output_type": "stream",
     "text": [
      "Percentage of attrition rate for Job Level 1 is  26.335174953959484\n",
      "Percentage of attrition rate for Job Level 2 is  9.737827715355806\n",
      "Percentage of attrition rate for Job Level 3 is  14.678899082568808\n",
      "Percentage of attrition rate for Job Level 4 is  4.716981132075472\n",
      "Percentage of attrition rate for Job Level 5 is  7.246376811594203\n"
     ]
    }
   ],
   "source": [
    "for i in range(1,6):\n",
    "    \n",
    "\n",
    "    print('Percentage of attrition rate for Job Level {} is '.format(i),(ibm[(ibm['Attrition']=='Yes') & \n",
    "         (ibm['JobLevel']==i)]['JobLevel'].count()\n",
    "     /\n",
    "     ibm[ibm['JobLevel']==i]['JobLevel'].count()) * 100)"
   ]
  },
  {
   "cell_type": "code",
   "execution_count": 45,
   "metadata": {},
   "outputs": [
    {
     "data": {
      "text/plain": [
       "Married     673\n",
       "Single      470\n",
       "Divorced    327\n",
       "Name: MaritalStatus, dtype: int64"
      ]
     },
     "execution_count": 45,
     "metadata": {},
     "output_type": "execute_result"
    }
   ],
   "source": [
    "ibm.MaritalStatus.value_counts()"
   ]
  },
  {
   "cell_type": "code",
   "execution_count": 46,
   "metadata": {},
   "outputs": [
    {
     "data": {
      "text/plain": [
       "<matplotlib.axes._subplots.AxesSubplot at 0x1b908ff3898>"
      ]
     },
     "execution_count": 46,
     "metadata": {},
     "output_type": "execute_result"
    },
    {
     "data": {
      "image/png": "[encoded data removed]",
      "text/plain": [
       "<Figure size 432x288 with 1 Axes>"
      ]
     },
     "metadata": {
      "needs_background": "light"
     },
     "output_type": "display_data"
    }
   ],
   "source": [
    "sns.countplot(ibm.MaritalStatus,hue=ibm.Gender)"
   ]
  },
  {
   "cell_type": "code",
   "execution_count": 47,
   "metadata": {
    "scrolled": false
   },
   "outputs": [
    {
     "data": {
      "image/png": "[encoded data removed]",
      "text/plain": [
       "<Figure size 432x288 with 1 Axes>"
      ]
     },
     "metadata": {
      "needs_background": "light"
     },
     "output_type": "display_data"
    }
   ],
   "source": [
    "sns.countplot(ibm.MaritalStatus,hue=ibm.Attrition)\n",
    "ms=ibm.MaritalStatus.unique()"
   ]
  },
  {
   "cell_type": "code",
   "execution_count": 48,
   "metadata": {},
   "outputs": [
    {
     "name": "stdout",
     "output_type": "stream",
     "text": [
      "Percentage of attrition rate w.r.t Marital Status Single is  25.53191489361702\n",
      "Percentage of attrition rate w.r.t Marital Status Married is  12.481426448736999\n",
      "Percentage of attrition rate w.r.t Marital Status Divorced is  10.091743119266056\n"
     ]
    }
   ],
   "source": [
    "for i in ms:\n",
    "    \n",
    "\n",
    "    print('Percentage of attrition rate w.r.t Marital Status {} is '.format(i),(ibm[(ibm['Attrition']=='Yes') & \n",
    "         (ibm['MaritalStatus']==i)]['MaritalStatus'].count()\n",
    "     /\n",
    "     ibm[ibm['MaritalStatus']==i]['MaritalStatus'].count()) * 100)"
   ]
  },
  {
   "cell_type": "code",
   "execution_count": 49,
   "metadata": {},
   "outputs": [],
   "source": [
    "#### from the above, it is clear that unmarried people tend to move from IBM than married and divorced people.\n"
   ]
  },
  {
   "cell_type": "code",
   "execution_count": 50,
   "metadata": {
    "scrolled": true
   },
   "outputs": [
    {
     "data": {
      "text/plain": [
       "Male      882\n",
       "Female    588\n",
       "Name: Gender, dtype: int64"
      ]
     },
     "execution_count": 50,
     "metadata": {},
     "output_type": "execute_result"
    }
   ],
   "source": [
    "ibm.Gender.value_counts()"
   ]
  },
  {
   "cell_type": "code",
   "execution_count": 51,
   "metadata": {
    "scrolled": true
   },
   "outputs": [
    {
     "data": {
      "image/png": "[encoded data removed]",
      "text/plain": [
       "<Figure size 432x288 with 1 Axes>"
      ]
     },
     "metadata": {
      "needs_background": "light"
     },
     "output_type": "display_data"
    }
   ],
   "source": [
    "sns.countplot(ibm.Gender,hue=ibm.Attrition)\n",
    "gs=ibm.Gender.unique()"
   ]
  },
  {
   "cell_type": "code",
   "execution_count": 52,
   "metadata": {},
   "outputs": [
    {
     "name": "stdout",
     "output_type": "stream",
     "text": [
      "Percentage of attrition rate w.r.t Gender- Female is  14.795918367346939\n",
      "Percentage of attrition rate w.r.t Gender- Male is  17.006802721088434\n"
     ]
    }
   ],
   "source": [
    "for i in gs:\n",
    "    \n",
    "\n",
    "    print('Percentage of attrition rate w.r.t Gender- {} is '.format(i),(ibm[(ibm['Attrition']=='Yes') & \n",
    "         (ibm['Gender']==i)]['Gender'].count()\n",
    "     /\n",
    "     ibm[ibm['Gender']==i]['Gender'].count()) * 100)"
   ]
  },
  {
   "cell_type": "code",
   "execution_count": 53,
   "metadata": {},
   "outputs": [
    {
     "data": {
      "text/plain": [
       "count     1470.000000\n",
       "mean      6502.931293\n",
       "std       4707.956783\n",
       "min       1009.000000\n",
       "25%       2911.000000\n",
       "50%       4919.000000\n",
       "75%       8379.000000\n",
       "max      19999.000000\n",
       "Name: MonthlyIncome, dtype: float64"
      ]
     },
     "execution_count": 53,
     "metadata": {},
     "output_type": "execute_result"
    }
   ],
   "source": [
    "ibm.MonthlyIncome.describe()"
   ]
  },
  {
   "cell_type": "code",
   "execution_count": 54,
   "metadata": {
    "scrolled": true
   },
   "outputs": [
    {
     "data": {
      "text/plain": [
       "<matplotlib.axes._subplots.AxesSubplot at 0x1b907c47da0>"
      ]
     },
     "execution_count": 54,
     "metadata": {},
     "output_type": "execute_result"
    },
    {
     "data": {
      "image/png": "[encoded data removed]",
      "text/plain": [
       "<Figure size 432x288 with 1 Axes>"
      ]
     },
     "metadata": {
      "needs_background": "light"
     },
     "output_type": "display_data"
    }
   ],
   "source": [
    "sns.distplot(ibm.MonthlyIncome)"
   ]
  },
  {
   "cell_type": "code",
   "execution_count": 55,
   "metadata": {},
   "outputs": [
    {
     "name": "stdout",
     "output_type": "stream",
     "text": [
      "Attrition rate of monthly Income below 5000 is  21.762349799732977\n",
      "Attrition rate of monthly Income between 5000 and 10000 is  11.136363636363637\n",
      "Attrition rate of monthly Income between 10000 and 15000 is  13.513513513513514\n",
      "Attrition rate of monthly Income between 15000 and 20000 is  3.7593984962406015\n",
      "Attrition rate of monthly Income above 20000 is  nan\n"
     ]
    }
   ],
   "source": [
    "print('Attrition rate of monthly Income below 5000 is ',(ibm[(ibm['MonthlyIncome']< 5000) \n",
    "                                                             & (ibm['Attrition']=='Yes')]['MonthlyIncome'].count() \n",
    "                                                         / ibm[(ibm['MonthlyIncome']< 5000)]['MonthlyIncome'].count()) * 100)\n",
    "\n",
    "print('Attrition rate of monthly Income between 5000 and 10000 is ',(ibm[(ibm['MonthlyIncome']> 5000) \n",
    "                                                            & (ibm['MonthlyIncome']<10000)\n",
    "                                                             & (ibm['Attrition']=='Yes')]['MonthlyIncome'].count() \n",
    "                                                         / ibm[(ibm['MonthlyIncome']> 5000) \n",
    "                                                            & (ibm['MonthlyIncome']<10000)]['MonthlyIncome'].count()) * 100)\n",
    "\n",
    "print('Attrition rate of monthly Income between 10000 and 15000 is ',(ibm[(ibm['MonthlyIncome']> 10000) \n",
    "                                                            & (ibm['MonthlyIncome']<15000)\n",
    "                                                             & (ibm['Attrition']=='Yes')]['MonthlyIncome'].count() \n",
    "                                                         / ibm[(ibm['MonthlyIncome']> 10000) \n",
    "                                                            & (ibm['MonthlyIncome']<15000)]['MonthlyIncome'].count()) * 100)\n",
    "\n",
    "print('Attrition rate of monthly Income between 15000 and 20000 is ',(ibm[(ibm['MonthlyIncome']> 15000) \n",
    "                                                            & (ibm['MonthlyIncome']<20000)\n",
    "                                                             & (ibm['Attrition']=='Yes')]['MonthlyIncome'].count() \n",
    "                                                         / ibm[(ibm['MonthlyIncome']> 15000) \n",
    "                                                            & (ibm['MonthlyIncome']<20000)]['MonthlyIncome'].count()) * 100)\n",
    "\n",
    "print('Attrition rate of monthly Income above 20000 is ',(ibm[(ibm['MonthlyIncome']> 20000) \n",
    "                                                            \n",
    "                                                             & (ibm['Attrition']=='Yes')]['MonthlyIncome'].count() \n",
    "                                                         / ibm[(ibm['MonthlyIncome']> 20000)]['MonthlyIncome'].count()) * 100)\n"
   ]
  },
  {
   "cell_type": "code",
   "execution_count": 56,
   "metadata": {},
   "outputs": [
    {
     "data": {
      "text/plain": [
       "count     1470.000000\n",
       "mean     14313.103401\n",
       "std       7117.786044\n",
       "min       2094.000000\n",
       "25%       8047.000000\n",
       "50%      14235.500000\n",
       "75%      20461.500000\n",
       "max      26999.000000\n",
       "Name: MonthlyRate, dtype: float64"
      ]
     },
     "execution_count": 56,
     "metadata": {},
     "output_type": "execute_result"
    }
   ],
   "source": [
    "ibm.MonthlyRate.describe()"
   ]
  },
  {
   "cell_type": "code",
   "execution_count": 57,
   "metadata": {
    "scrolled": true
   },
   "outputs": [
    {
     "data": {
      "text/plain": [
       "<matplotlib.axes._subplots.AxesSubplot at 0x1b90907af60>"
      ]
     },
     "execution_count": 57,
     "metadata": {},
     "output_type": "execute_result"
    },
    {
     "data": {
      "image/png": "[encoded data removed]",
      "text/plain": [
       "<Figure size 432x288 with 1 Axes>"
      ]
     },
     "metadata": {
      "needs_background": "light"
     },
     "output_type": "display_data"
    }
   ],
   "source": [
    "sns.distplot(ibm.MonthlyRate)"
   ]
  },
  {
   "cell_type": "code",
   "execution_count": 58,
   "metadata": {},
   "outputs": [
    {
     "name": "stdout",
     "output_type": "stream",
     "text": [
      "Attrition rate of Monthly rate below 5000 is  17.543859649122805\n",
      "Attrition rate of MonthlyRate between 5000 and 10000 is  13.291139240506327\n",
      "Attrition rate of MonthlyRate between 10000 and 15000 is  18.53146853146853\n",
      "Attrition rate of MonthlyRate between 15000 and 20000 is  14.76510067114094\n",
      "Attrition rate of MonthlyRate between 20000 and 25000 is  15.894039735099339\n",
      "Attrition rate of MonthlyRate above 25000 is  20.833333333333336\n"
     ]
    }
   ],
   "source": [
    "print('Attrition rate of Monthly rate below 5000 is ',(ibm[(ibm['MonthlyRate']< 5000) \n",
    "                                                             & (ibm['Attrition']=='Yes')]['MonthlyRate'].count() \n",
    "                                                         / ibm[(ibm['MonthlyRate']< 5000) ]['MonthlyRate'].count()) * 100)\n",
    "\n",
    "print('Attrition rate of MonthlyRate between 5000 and 10000 is ',(ibm[(ibm['MonthlyRate']> 5000) \n",
    "                                                            & (ibm['MonthlyRate']<10000)\n",
    "                                                             & (ibm['Attrition']=='Yes')]['MonthlyRate'].count() \n",
    "                                                         / ibm[(ibm['MonthlyRate']> 5000) \n",
    "                                                            & (ibm['MonthlyRate']<10000)]['MonthlyRate'].count()) * 100)\n",
    "\n",
    "print('Attrition rate of MonthlyRate between 10000 and 15000 is ',(ibm[(ibm['MonthlyRate']> 10000) \n",
    "                                                            & (ibm['MonthlyRate']<15000)\n",
    "                                                             & (ibm['Attrition']=='Yes')]['MonthlyRate'].count() \n",
    "                                                         / ibm[(ibm['MonthlyRate']> 10000) \n",
    "                                                            & (ibm['MonthlyRate']<15000)]['MonthlyRate'].count()) * 100)\n",
    "\n",
    "print('Attrition rate of MonthlyRate between 15000 and 20000 is ',(ibm[(ibm['MonthlyRate']> 15000) \n",
    "                                                            & (ibm['MonthlyRate']<20000)\n",
    "                                                             & (ibm['Attrition']=='Yes')]['MonthlyRate'].count() \n",
    "                                                         / ibm[(ibm['MonthlyRate']> 15000) \n",
    "                                                            & (ibm['MonthlyRate']<20000)]['MonthlyRate'].count()) * 100)\n",
    "\n",
    "print('Attrition rate of MonthlyRate between 20000 and 25000 is ',(ibm[(ibm['MonthlyRate']> 20000) \n",
    "                                                             & (ibm['MonthlyRate']<25000)\n",
    "                                                             & (ibm['Attrition']=='Yes')]['MonthlyRate'].count() \n",
    "                                                         / ibm[(ibm['MonthlyRate']> 20000) \n",
    "                                                             & (ibm['MonthlyRate']<25000)]['MonthlyRate'].count()) * 100)\n",
    "\n",
    "\n",
    "print('Attrition rate of MonthlyRate above 25000 is ',(ibm[(ibm['MonthlyRate']> 25000) \n",
    "                                                             \n",
    "                                                             & (ibm['Attrition']=='Yes')]['MonthlyRate'].count() \n",
    "                                                         / ibm[(ibm['MonthlyRate']> 25000)]['MonthlyRate'].count()) * 100)\n"
   ]
  },
  {
   "cell_type": "code",
   "execution_count": 59,
   "metadata": {},
   "outputs": [
    {
     "data": {
      "text/plain": [
       "1    521\n",
       "0    197\n",
       "3    159\n",
       "2    146\n",
       "4    139\n",
       "7     74\n",
       "6     70\n",
       "5     63\n",
       "9     52\n",
       "8     49\n",
       "Name: NumCompaniesWorked, dtype: int64"
      ]
     },
     "execution_count": 59,
     "metadata": {},
     "output_type": "execute_result"
    }
   ],
   "source": [
    "ibm.NumCompaniesWorked.value_counts()"
   ]
  },
  {
   "cell_type": "code",
   "execution_count": 60,
   "metadata": {
    "scrolled": true
   },
   "outputs": [
    {
     "data": {
      "text/plain": [
       "<matplotlib.axes._subplots.AxesSubplot at 0x1b9090e2a58>"
      ]
     },
     "execution_count": 60,
     "metadata": {},
     "output_type": "execute_result"
    },
    {
     "data": {
      "image/png": "[encoded data removed]",
      "text/plain": [
       "<Figure size 432x288 with 1 Axes>"
      ]
     },
     "metadata": {
      "needs_background": "light"
     },
     "output_type": "display_data"
    }
   ],
   "source": [
    "sns.countplot(ibm.NumCompaniesWorked,hue=ibm.Attrition)"
   ]
  },
  {
   "cell_type": "code",
   "execution_count": 61,
   "metadata": {},
   "outputs": [
    {
     "name": "stdout",
     "output_type": "stream",
     "text": [
      "Percentage of attrition rate w.r.t Number of Companies worked of count 0 is  11.6751269035533\n",
      "Percentage of attrition rate w.r.t Number of Companies worked of count 1 is  18.809980806142036\n",
      "Percentage of attrition rate w.r.t Number of Companies worked of count 2 is  10.95890410958904\n",
      "Percentage of attrition rate w.r.t Number of Companies worked of count 3 is  10.062893081761008\n",
      "Percentage of attrition rate w.r.t Number of Companies worked of count 4 is  12.23021582733813\n",
      "Percentage of attrition rate w.r.t Number of Companies worked of count 5 is  25.396825396825395\n",
      "Percentage of attrition rate w.r.t Number of Companies worked of count 6 is  22.857142857142858\n",
      "Percentage of attrition rate w.r.t Number of Companies worked of count 7 is  22.972972972972975\n",
      "Percentage of attrition rate w.r.t Number of Companies worked of count 8 is  12.244897959183673\n",
      "Percentage of attrition rate w.r.t Number of Companies worked of count 9 is  23.076923076923077\n"
     ]
    }
   ],
   "source": [
    "for i in range(0,10):\n",
    "    \n",
    "\n",
    "    print('Percentage of attrition rate w.r.t Number of Companies worked of count {} is '.format(i),(ibm[(ibm['Attrition']=='Yes') & \n",
    "         (ibm['NumCompaniesWorked']==i)]['NumCompaniesWorked'].count()\n",
    "     /\n",
    "     ibm[ibm['NumCompaniesWorked']==i]['NumCompaniesWorked'].count()) * 100)"
   ]
  },
  {
   "cell_type": "markdown",
   "metadata": {},
   "source": [
    "#### Attrition rate is more among the people who hav worked in more than 5 companies earlier"
   ]
  },
  {
   "cell_type": "code",
   "execution_count": 62,
   "metadata": {},
   "outputs": [
    {
     "data": {
      "text/plain": [
       "No     1054\n",
       "Yes     416\n",
       "Name: OverTime, dtype: int64"
      ]
     },
     "execution_count": 62,
     "metadata": {},
     "output_type": "execute_result"
    }
   ],
   "source": [
    "ibm.OverTime.value_counts()"
   ]
  },
  {
   "cell_type": "code",
   "execution_count": 63,
   "metadata": {},
   "outputs": [
    {
     "data": {
      "text/plain": [
       "count     1470\n",
       "unique       2\n",
       "top         No\n",
       "freq      1054\n",
       "Name: OverTime, dtype: object"
      ]
     },
     "execution_count": 63,
     "metadata": {},
     "output_type": "execute_result"
    }
   ],
   "source": [
    "ibm.OverTime.describe()"
   ]
  },
  {
   "cell_type": "code",
   "execution_count": 64,
   "metadata": {
    "scrolled": false
   },
   "outputs": [
    {
     "data": {
      "text/plain": [
       "<matplotlib.axes._subplots.AxesSubplot at 0x1b9093a67b8>"
      ]
     },
     "execution_count": 64,
     "metadata": {},
     "output_type": "execute_result"
    },
    {
     "data": {
      "image/png": "[encoded data removed]",
      "text/plain": [
       "<Figure size 432x288 with 1 Axes>"
      ]
     },
     "metadata": {
      "needs_background": "light"
     },
     "output_type": "display_data"
    }
   ],
   "source": [
    "sns.countplot(ibm.OverTime,hue=ibm.Attrition)"
   ]
  },
  {
   "cell_type": "code",
   "execution_count": 65,
   "metadata": {},
   "outputs": [
    {
     "name": "stdout",
     "output_type": "stream",
     "text": [
      "Percentage of attrition rate w.r.t if they have done Overtime is  8.639455782312925\n",
      "Percentage of attrition rate w.r.t if they have not done Overtime is  7.482993197278912\n"
     ]
    }
   ],
   "source": [
    "print('Percentage of attrition rate w.r.t if they have done Overtime is ',(ibm[(ibm['Attrition']=='Yes') & \n",
    "         (ibm['OverTime']=='Yes')]['NumCompaniesWorked'].count()\n",
    "     /\n",
    "     ibm['OverTime'].count()) * 100)\n",
    "\n",
    "print('Percentage of attrition rate w.r.t if they have not done Overtime is ',(ibm[(ibm['Attrition']=='Yes') & \n",
    "         (ibm['OverTime']=='No')]['NumCompaniesWorked'].count()\n",
    "     /\n",
    "     ibm['OverTime'].count()) * 100)\n"
   ]
  },
  {
   "cell_type": "markdown",
   "metadata": {},
   "source": [
    "#### Attriton rate is more if the employee has done over time"
   ]
  },
  {
   "cell_type": "code",
   "execution_count": 66,
   "metadata": {},
   "outputs": [
    {
     "data": {
      "text/plain": [
       "count    1470.000000\n",
       "mean       15.209524\n",
       "std         3.659938\n",
       "min        11.000000\n",
       "25%        12.000000\n",
       "50%        14.000000\n",
       "75%        18.000000\n",
       "max        25.000000\n",
       "Name: PercentSalaryHike, dtype: float64"
      ]
     },
     "execution_count": 66,
     "metadata": {},
     "output_type": "execute_result"
    }
   ],
   "source": [
    "ibm.PercentSalaryHike.describe()"
   ]
  },
  {
   "cell_type": "code",
   "execution_count": 67,
   "metadata": {
    "scrolled": true
   },
   "outputs": [
    {
     "data": {
      "text/plain": [
       "<matplotlib.axes._subplots.AxesSubplot at 0x1b9093ffb00>"
      ]
     },
     "execution_count": 67,
     "metadata": {},
     "output_type": "execute_result"
    },
    {
     "data": {
      "image/png": "[encoded data removed]",
      "text/plain": [
       "<Figure size 432x288 with 1 Axes>"
      ]
     },
     "metadata": {
      "needs_background": "light"
     },
     "output_type": "display_data"
    }
   ],
   "source": [
    "sns.distplot(ibm.PercentSalaryHike)"
   ]
  },
  {
   "cell_type": "code",
   "execution_count": 68,
   "metadata": {},
   "outputs": [
    {
     "name": "stdout",
     "output_type": "stream",
     "text": [
      "Attrition rate for Percentage Salary hike less than 10 % is  nan\n",
      "Attrition rate for Percentage Salary hike between 10 % to 15 % is  8.979591836734693\n",
      "Attrition rate for Percentage Salary hike between 15 % to 20 % is  6.112469437652812\n",
      "Attrition rate for Percentage Salary hike between 20 % to 25 % is  18.954248366013072\n",
      "Attrition rate for Percentage Salary hike above 25 % is  nan\n"
     ]
    }
   ],
   "source": [
    "print('Attrition rate for Percentage Salary hike less than 10 % is ',\n",
    "     (ibm[(ibm['Attrition']=='Yes') & (ibm['PercentSalaryHike']< 10)]['PercentSalaryHike'].count()\n",
    "     /\n",
    "     ibm[ibm['PercentSalaryHike']< 10]['PercentSalaryHike'].count())*100)\n",
    "\n",
    "\n",
    "print('Attrition rate for Percentage Salary hike between 10 % to 15 % is ',\n",
    "     (ibm[(ibm['Attrition']=='Yes') & (ibm['PercentSalaryHike']> 10)\n",
    "          & (ibm['PercentSalaryHike']< 15)]['PercentSalaryHike'].count()\n",
    "     /\n",
    "     ibm['PercentSalaryHike'].count())*100)\n",
    "\n",
    "print('Attrition rate for Percentage Salary hike between 15 % to 20 % is ',\n",
    "     (ibm[(ibm['Attrition']=='Yes') & (ibm['PercentSalaryHike']> 15)\n",
    "          & (ibm['PercentSalaryHike']< 20)]['PercentSalaryHike'].count()\n",
    "     /\n",
    "     ibm[(ibm['PercentSalaryHike']> 10)\n",
    "          & (ibm['PercentSalaryHike']< 15)]['PercentSalaryHike'].count())*100)\n",
    "\n",
    "\n",
    "print('Attrition rate for Percentage Salary hike between 20 % to 25 % is ',\n",
    "     (ibm[(ibm['Attrition']=='Yes') & (ibm['PercentSalaryHike']> 20)\n",
    "          & (ibm['PercentSalaryHike']< 25)]['PercentSalaryHike'].count()\n",
    "     /\n",
    "     ibm[(ibm['PercentSalaryHike']> 20)\n",
    "          & (ibm['PercentSalaryHike']< 25)]['PercentSalaryHike'].count())*100)\n",
    "\n",
    "print('Attrition rate for Percentage Salary hike above 25 % is ',\n",
    "     (ibm[(ibm['Attrition']=='Yes') \n",
    "          & (ibm['PercentSalaryHike']> 25)]['PercentSalaryHike'].count()\n",
    "     /\n",
    "     ibm[(ibm['PercentSalaryHike']> 25)]['PercentSalaryHike'].count())*100)"
   ]
  },
  {
   "cell_type": "code",
   "execution_count": 69,
   "metadata": {},
   "outputs": [
    {
     "data": {
      "text/plain": [
       "3    1244\n",
       "4     226\n",
       "Name: PerformanceRating, dtype: int64"
      ]
     },
     "execution_count": 69,
     "metadata": {},
     "output_type": "execute_result"
    }
   ],
   "source": [
    "ibm.PerformanceRating.value_counts()"
   ]
  },
  {
   "cell_type": "code",
   "execution_count": 70,
   "metadata": {},
   "outputs": [
    {
     "data": {
      "text/plain": [
       "<matplotlib.axes._subplots.AxesSubplot at 0x1b909495320>"
      ]
     },
     "execution_count": 70,
     "metadata": {},
     "output_type": "execute_result"
    },
    {
     "data": {
      "image/png": "[encoded data removed]",
      "text/plain": [
       "<Figure size 432x288 with 1 Axes>"
      ]
     },
     "metadata": {
      "needs_background": "light"
     },
     "output_type": "display_data"
    }
   ],
   "source": [
    "sns.countplot(ibm.PerformanceRating,hue=ibm.Attrition)"
   ]
  },
  {
   "cell_type": "code",
   "execution_count": 71,
   "metadata": {},
   "outputs": [
    {
     "name": "stdout",
     "output_type": "stream",
     "text": [
      "Unique Performance Ratings are [3 4]\n",
      "Percentage of attrition rate w.r.t Performance Rating 3 is  16.077170418006432\n",
      "Percentage of attrition rate w.r.t Performance Rating 4 is  16.371681415929203\n"
     ]
    }
   ],
   "source": [
    "print('Unique Performance Ratings are',ibm.PerformanceRating.unique())\n",
    "  \n",
    "for i in range(3,5):\n",
    "    \n",
    "\n",
    "    print('Percentage of attrition rate w.r.t Performance Rating {} is '.format(i),(ibm[(ibm['Attrition']=='Yes') & \n",
    "         (ibm['PerformanceRating']==i)]['PerformanceRating'].count()\n",
    "     /\n",
    "     ibm[ibm['PerformanceRating']==i]['PerformanceRating'].count()) * 100)"
   ]
  },
  {
   "cell_type": "code",
   "execution_count": 72,
   "metadata": {},
   "outputs": [
    {
     "data": {
      "text/plain": [
       "count    1470.000000\n",
       "mean        2.712245\n",
       "std         1.081209\n",
       "min         1.000000\n",
       "25%         2.000000\n",
       "50%         3.000000\n",
       "75%         4.000000\n",
       "max         4.000000\n",
       "Name: RelationshipSatisfaction, dtype: float64"
      ]
     },
     "execution_count": 72,
     "metadata": {},
     "output_type": "execute_result"
    }
   ],
   "source": [
    "ibm.RelationshipSatisfaction.describe()"
   ]
  },
  {
   "cell_type": "code",
   "execution_count": 73,
   "metadata": {},
   "outputs": [
    {
     "data": {
      "text/plain": [
       "3    459\n",
       "4    432\n",
       "2    303\n",
       "1    276\n",
       "Name: RelationshipSatisfaction, dtype: int64"
      ]
     },
     "execution_count": 73,
     "metadata": {},
     "output_type": "execute_result"
    }
   ],
   "source": [
    "ibm.RelationshipSatisfaction.value_counts()"
   ]
  },
  {
   "cell_type": "code",
   "execution_count": 74,
   "metadata": {
    "scrolled": true
   },
   "outputs": [
    {
     "data": {
      "text/plain": [
       "<matplotlib.axes._subplots.AxesSubplot at 0x1b9094e2e48>"
      ]
     },
     "execution_count": 74,
     "metadata": {},
     "output_type": "execute_result"
    },
    {
     "data": {
      "image/png": "[encoded data removed]",
      "text/plain": [
       "<Figure size 432x288 with 1 Axes>"
      ]
     },
     "metadata": {
      "needs_background": "light"
     },
     "output_type": "display_data"
    }
   ],
   "source": [
    "sns.countplot(ibm.RelationshipSatisfaction,hue=ibm.Attrition)"
   ]
  },
  {
   "cell_type": "code",
   "execution_count": 75,
   "metadata": {},
   "outputs": [
    {
     "name": "stdout",
     "output_type": "stream",
     "text": [
      "Percentage of attrition rate w.r.t Relationship Satisfaction 1 is  20.652173913043477\n",
      "Percentage of attrition rate w.r.t Relationship Satisfaction 2 is  14.85148514851485\n",
      "Percentage of attrition rate w.r.t Relationship Satisfaction 3 is  15.468409586056644\n",
      "Percentage of attrition rate w.r.t Relationship Satisfaction 4 is  14.814814814814813\n"
     ]
    }
   ],
   "source": [
    "  \n",
    "for i in range(1,5):\n",
    "    \n",
    "\n",
    "    print('Percentage of attrition rate w.r.t Relationship Satisfaction {} is '.format(i),(ibm[(ibm['Attrition']=='Yes') & \n",
    "         (ibm['RelationshipSatisfaction']==i)]['RelationshipSatisfaction'].count()\n",
    "     /\n",
    "     ibm[ibm['RelationshipSatisfaction']==i]['RelationshipSatisfaction'].count()) * 100)"
   ]
  },
  {
   "cell_type": "markdown",
   "metadata": {},
   "source": [
    "#### Attrition rate is more if relationship satisfaction is less and is low if employes ahve highes relationship satisfaction"
   ]
  },
  {
   "cell_type": "code",
   "execution_count": 76,
   "metadata": {},
   "outputs": [
    {
     "data": {
      "text/plain": [
       "0    631\n",
       "1    596\n",
       "2    158\n",
       "3     85\n",
       "Name: StockOptionLevel, dtype: int64"
      ]
     },
     "execution_count": 76,
     "metadata": {},
     "output_type": "execute_result"
    }
   ],
   "source": [
    "ibm.StockOptionLevel.value_counts()"
   ]
  },
  {
   "cell_type": "code",
   "execution_count": 77,
   "metadata": {},
   "outputs": [
    {
     "data": {
      "text/plain": [
       "<matplotlib.axes._subplots.AxesSubplot at 0x1b90955ac50>"
      ]
     },
     "execution_count": 77,
     "metadata": {},
     "output_type": "execute_result"
    },
    {
     "data": {
      "image/png": "[encoded data removed]",
      "text/plain": [
       "<Figure size 432x288 with 1 Axes>"
      ]
     },
     "metadata": {
      "needs_background": "light"
     },
     "output_type": "display_data"
    }
   ],
   "source": [
    "sns.countplot(ibm.StockOptionLevel,hue=ibm.Attrition)"
   ]
  },
  {
   "cell_type": "code",
   "execution_count": 78,
   "metadata": {},
   "outputs": [
    {
     "name": "stdout",
     "output_type": "stream",
     "text": [
      "Percentage of attrition rate w.r.t Stock Option Level 0 is  24.405705229793977\n",
      "Percentage of attrition rate w.r.t Stock Option Level 1 is  9.395973154362416\n",
      "Percentage of attrition rate w.r.t Stock Option Level 2 is  7.59493670886076\n",
      "Percentage of attrition rate w.r.t Stock Option Level 3 is  17.647058823529413\n"
     ]
    }
   ],
   "source": [
    "  \n",
    "for i in range(0,4):\n",
    "    \n",
    "\n",
    "    print('Percentage of attrition rate w.r.t Stock Option Level {} is '.format(i),(ibm[(ibm['Attrition']=='Yes') & \n",
    "         (ibm['StockOptionLevel']==i)]['StockOptionLevel'].count()\n",
    "     /\n",
    "     ibm[ibm['StockOptionLevel']==i]['StockOptionLevel'].count()) * 100)"
   ]
  },
  {
   "cell_type": "markdown",
   "metadata": {},
   "source": [
    "#### Attrition rate is more when the stock option is very low as well as very high"
   ]
  },
  {
   "cell_type": "code",
   "execution_count": 79,
   "metadata": {},
   "outputs": [
    {
     "data": {
      "text/plain": [
       "count    1470.000000\n",
       "mean       11.279592\n",
       "std         7.780782\n",
       "min         0.000000\n",
       "25%         6.000000\n",
       "50%        10.000000\n",
       "75%        15.000000\n",
       "max        40.000000\n",
       "Name: TotalWorkingYears, dtype: float64"
      ]
     },
     "execution_count": 79,
     "metadata": {},
     "output_type": "execute_result"
    }
   ],
   "source": [
    "ibm.TotalWorkingYears.describe()"
   ]
  },
  {
   "cell_type": "code",
   "execution_count": 80,
   "metadata": {
    "scrolled": true
   },
   "outputs": [
    {
     "data": {
      "text/plain": [
       "<matplotlib.axes._subplots.AxesSubplot at 0x1b9095c4be0>"
      ]
     },
     "execution_count": 80,
     "metadata": {},
     "output_type": "execute_result"
    },
    {
     "data": {
      "image/png": "[encoded data removed]",
      "text/plain": [
       "<Figure size 432x288 with 1 Axes>"
      ]
     },
     "metadata": {
      "needs_background": "light"
     },
     "output_type": "display_data"
    }
   ],
   "source": [
    "sns.distplot(ibm.TotalWorkingYears)"
   ]
  },
  {
   "cell_type": "code",
   "execution_count": 81,
   "metadata": {},
   "outputs": [
    {
     "name": "stdout",
     "output_type": "stream",
     "text": [
      "Attrition rate for Total Working Hours less than 10  is  21.7753120665742\n",
      "Attrition rate for Percentage Salary hike between 10 % to 20 % is  11.935483870967742\n",
      "Attrition rate for Percentage Salary hike between 20 % to 30 % is  7.142857142857142\n",
      "Attrition rate for Percentage Salary hike between 30 % to 40 % is  6.8181818181818175\n",
      "Attrition rate for Percentage Salary hike above 40 % is  nan\n"
     ]
    }
   ],
   "source": [
    "print('Attrition rate for Total Working Hours less than 10  is ',\n",
    "     (ibm[(ibm['Attrition']=='Yes') & (ibm['TotalWorkingYears']< 10)]['TotalWorkingYears'].count()\n",
    "     /\n",
    "     ibm[(ibm['TotalWorkingYears']< 10)]['TotalWorkingYears'].count())*100)\n",
    "\n",
    "\n",
    "print('Attrition rate for Percentage Salary hike between 10 % to 20 % is ',\n",
    "     (ibm[(ibm['Attrition']=='Yes') & (ibm['TotalWorkingYears']> 10)\n",
    "          & (ibm['TotalWorkingYears']< 20)]['TotalWorkingYears'].count()\n",
    "     /\n",
    "     ibm[(ibm['TotalWorkingYears']> 10)\n",
    "          & (ibm['TotalWorkingYears']< 20)]['TotalWorkingYears'].count())*100)\n",
    "\n",
    "print('Attrition rate for Percentage Salary hike between 20 % to 30 % is ',\n",
    "     (ibm[(ibm['Attrition']=='Yes') & (ibm['TotalWorkingYears']> 20)\n",
    "          & (ibm['TotalWorkingYears']< 30)]['TotalWorkingYears'].count()\n",
    "     /\n",
    "     ibm[(ibm['TotalWorkingYears']> 20)\n",
    "          & (ibm['TotalWorkingYears']< 30)]['TotalWorkingYears'].count())*100)\n",
    "\n",
    "\n",
    "print('Attrition rate for Percentage Salary hike between 30 % to 40 % is ',\n",
    "     (ibm[(ibm['Attrition']=='Yes') & (ibm['TotalWorkingYears']> 30)\n",
    "          & (ibm['TotalWorkingYears']< 40)]['TotalWorkingYears'].count()\n",
    "     /\n",
    "     ibm[(ibm['TotalWorkingYears']> 30)\n",
    "          & (ibm['TotalWorkingYears']< 40)]['TotalWorkingYears'].count())*100)\n",
    "\n",
    "print('Attrition rate for Percentage Salary hike above 40 % is ',\n",
    "     (ibm[(ibm['Attrition']=='Yes') \n",
    "          & (ibm['TotalWorkingYears']> 40)]['TotalWorkingYears'].count()\n",
    "     /\n",
    "     ibm[(ibm['TotalWorkingYears']> 40)]['TotalWorkingYears'].count())*100)"
   ]
  },
  {
   "cell_type": "markdown",
   "metadata": {},
   "source": [
    "#### Attrition rate is more if the total working hours is less than 10 "
   ]
  },
  {
   "cell_type": "code",
   "execution_count": 82,
   "metadata": {},
   "outputs": [
    {
     "data": {
      "text/plain": [
       "2    547\n",
       "3    491\n",
       "4    123\n",
       "5    119\n",
       "1     71\n",
       "6     65\n",
       "0     54\n",
       "Name: TrainingTimesLastYear, dtype: int64"
      ]
     },
     "execution_count": 82,
     "metadata": {},
     "output_type": "execute_result"
    }
   ],
   "source": [
    "ibm.TrainingTimesLastYear.value_counts()"
   ]
  },
  {
   "cell_type": "code",
   "execution_count": 83,
   "metadata": {
    "scrolled": true
   },
   "outputs": [
    {
     "data": {
      "text/plain": [
       "<matplotlib.axes._subplots.AxesSubplot at 0x1b909621c50>"
      ]
     },
     "execution_count": 83,
     "metadata": {},
     "output_type": "execute_result"
    },
    {
     "data": {
      "image/png": "[encoded data removed]",
      "text/plain": [
       "<Figure size 432x288 with 1 Axes>"
      ]
     },
     "metadata": {
      "needs_background": "light"
     },
     "output_type": "display_data"
    }
   ],
   "source": [
    "sns.countplot(ibm.TrainingTimesLastYear,hue=ibm.Attrition)"
   ]
  },
  {
   "cell_type": "code",
   "execution_count": 84,
   "metadata": {},
   "outputs": [
    {
     "name": "stdout",
     "output_type": "stream",
     "text": [
      "Percentage of attrition rate w.r.t TrainingTimesLastYear of  0 months is  27.77777777777778\n",
      "Percentage of attrition rate w.r.t TrainingTimesLastYear of  1 months is  12.676056338028168\n",
      "Percentage of attrition rate w.r.t TrainingTimesLastYear of  2 months is  17.915904936014627\n",
      "Percentage of attrition rate w.r.t TrainingTimesLastYear of  3 months is  14.052953156822811\n",
      "Percentage of attrition rate w.r.t TrainingTimesLastYear of  4 months is  21.138211382113823\n",
      "Percentage of attrition rate w.r.t TrainingTimesLastYear of  5 months is  11.76470588235294\n",
      "Percentage of attrition rate w.r.t TrainingTimesLastYear of  6 months is  9.230769230769232\n"
     ]
    }
   ],
   "source": [
    "  \n",
    "for i in range(0,7):\n",
    "    \n",
    "\n",
    "    print('Percentage of attrition rate w.r.t TrainingTimesLastYear of  {} months is '.format(i),(ibm[(ibm['Attrition']=='Yes') & \n",
    "         (ibm['TrainingTimesLastYear']==i)]['TrainingTimesLastYear'].count()\n",
    "     /\n",
    "     ibm[ibm['TrainingTimesLastYear']==i]['TrainingTimesLastYear'].count()) * 100)"
   ]
  },
  {
   "cell_type": "markdown",
   "metadata": {},
   "source": [
    "#### Attrition rate is more when there is no training period before working in projects"
   ]
  },
  {
   "cell_type": "code",
   "execution_count": 85,
   "metadata": {},
   "outputs": [
    {
     "data": {
      "text/plain": [
       "3    893\n",
       "2    344\n",
       "4    153\n",
       "1     80\n",
       "Name: WorkLifeBalance, dtype: int64"
      ]
     },
     "execution_count": 85,
     "metadata": {},
     "output_type": "execute_result"
    }
   ],
   "source": [
    "ibm.WorkLifeBalance.value_counts()"
   ]
  },
  {
   "cell_type": "code",
   "execution_count": 86,
   "metadata": {},
   "outputs": [
    {
     "data": {
      "text/plain": [
       "<matplotlib.axes._subplots.AxesSubplot at 0x1b9096c86d8>"
      ]
     },
     "execution_count": 86,
     "metadata": {},
     "output_type": "execute_result"
    },
    {
     "data": {
      "image/png": "[encoded data removed]",
      "text/plain": [
       "<Figure size 432x288 with 1 Axes>"
      ]
     },
     "metadata": {
      "needs_background": "light"
     },
     "output_type": "display_data"
    }
   ],
   "source": [
    "sns.countplot(ibm.WorkLifeBalance,hue=ibm.Attrition)"
   ]
  },
  {
   "cell_type": "code",
   "execution_count": 87,
   "metadata": {},
   "outputs": [
    {
     "name": "stdout",
     "output_type": "stream",
     "text": [
      "Percentage of attrition rate w.r.t Work life balance of 1 is  31.25\n",
      "Percentage of attrition rate w.r.t Work life balance of 2 is  16.86046511627907\n",
      "Percentage of attrition rate w.r.t Work life balance of 3 is  14.221724524076148\n",
      "Percentage of attrition rate w.r.t Work life balance of 4 is  17.647058823529413\n"
     ]
    }
   ],
   "source": [
    "  \n",
    "for i in range(1,5):\n",
    "    \n",
    "\n",
    "    print('Percentage of attrition rate w.r.t Work life balance of {} is '.format(i),(ibm[(ibm['Attrition']=='Yes') \n",
    "        &(ibm['WorkLifeBalance']==i)]['WorkLifeBalance'].count()\n",
    "     /\n",
    "     ibm[ibm['WorkLifeBalance']==i]['WorkLifeBalance'].count()) * 100)"
   ]
  },
  {
   "cell_type": "markdown",
   "metadata": {},
   "source": [
    "#### Work life balance has for levels 1 being least and 4 being highest. \n",
    "#### If the Work life balance is least then people tend to move out. ie, attrition rate is more"
   ]
  },
  {
   "cell_type": "code",
   "execution_count": 88,
   "metadata": {},
   "outputs": [
    {
     "data": {
      "text/plain": [
       "count    1470.000000\n",
       "mean        7.008163\n",
       "std         6.126525\n",
       "min         0.000000\n",
       "25%         3.000000\n",
       "50%         5.000000\n",
       "75%         9.000000\n",
       "max        40.000000\n",
       "Name: YearsAtCompany, dtype: float64"
      ]
     },
     "execution_count": 88,
     "metadata": {},
     "output_type": "execute_result"
    }
   ],
   "source": [
    "ibm.YearsAtCompany.describe()"
   ]
  },
  {
   "cell_type": "code",
   "execution_count": 89,
   "metadata": {
    "scrolled": true
   },
   "outputs": [
    {
     "data": {
      "text/plain": [
       "<matplotlib.axes._subplots.AxesSubplot at 0x1b909753390>"
      ]
     },
     "execution_count": 89,
     "metadata": {},
     "output_type": "execute_result"
    },
    {
     "data": {
      "image/png": "[encoded data removed]",
      "text/plain": [
       "<Figure size 432x288 with 1 Axes>"
      ]
     },
     "metadata": {
      "needs_background": "light"
     },
     "output_type": "display_data"
    }
   ],
   "source": [
    "sns.distplot(ibm.YearsAtCompany)"
   ]
  },
  {
   "cell_type": "code",
   "execution_count": 90,
   "metadata": {},
   "outputs": [
    {
     "name": "stdout",
     "output_type": "stream",
     "text": [
      "Attrition rate for working years within less than 10 years in same company  is  18.02536231884058\n",
      "Attrition rate for working years between 10 and 20 years in same company  is  7.18954248366013\n",
      "Attrition rate for working years between  20 and 30 years in same company  is   8.16326530612245\n",
      "Attrition rate for working years between 30  and 40 years in same company  is   20.0\n",
      "Attrition rate for working years within greater than 40 years in same company  is  nan\n"
     ]
    }
   ],
   "source": [
    "print('Attrition rate for working years within less than 10 years in same company  is ',\n",
    "     (ibm[(ibm['Attrition']=='Yes') & (ibm['YearsAtCompany']< 10)]['YearsAtCompany'].count()\n",
    "     /\n",
    "     ibm[(ibm['YearsAtCompany']< 10)]['YearsAtCompany'].count())*100)\n",
    "\n",
    "\n",
    "print('Attrition rate for working years between 10 and 20 years in same company  is ',\n",
    "     (ibm[(ibm['Attrition']=='Yes') & (ibm['YearsAtCompany']> 10)\n",
    "          & (ibm['YearsAtCompany']< 20)]['YearsAtCompany'].count()\n",
    "     /\n",
    "     ibm[(ibm['YearsAtCompany']> 10)\n",
    "          & (ibm['YearsAtCompany']< 20)]['YearsAtCompany'].count())*100)\n",
    "\n",
    "print('Attrition rate for working years between  20 and 30 years in same company  is  ',\n",
    "     (ibm[(ibm['Attrition']=='Yes') & (ibm['YearsAtCompany']> 20)\n",
    "          & (ibm['YearsAtCompany']< 30)]['TotalWorkingYears'].count()\n",
    "     /\n",
    "     ibm[(ibm['YearsAtCompany']> 20)\n",
    "          & (ibm['YearsAtCompany']< 30)]['YearsAtCompany'].count())*100)\n",
    "\n",
    "\n",
    "print('Attrition rate for working years between 30  and 40 years in same company  is  ',\n",
    "     (ibm[(ibm['Attrition']=='Yes') & (ibm['YearsAtCompany']> 30)\n",
    "          & (ibm['YearsAtCompany']< 40)]['YearsAtCompany'].count()\n",
    "     /\n",
    "     ibm[(ibm['YearsAtCompany']> 30)\n",
    "          & (ibm['YearsAtCompany']< 40)]['YearsAtCompany'].count())*100)\n",
    "\n",
    "print('Attrition rate for working years within greater than 40 years in same company  is ',\n",
    "     (ibm[(ibm['Attrition']=='Yes') \n",
    "          & (ibm['YearsAtCompany']> 40)]['YearsAtCompany'].count()\n",
    "     /\n",
    "     ibm[(ibm['YearsAtCompany']> 40)]['YearsAtCompany'].count())*100)"
   ]
  },
  {
   "cell_type": "code",
   "execution_count": 91,
   "metadata": {
    "scrolled": true
   },
   "outputs": [
    {
     "data": {
      "text/plain": [
       "count    1470.000000\n",
       "mean        4.229252\n",
       "std         3.623137\n",
       "min         0.000000\n",
       "25%         2.000000\n",
       "50%         3.000000\n",
       "75%         7.000000\n",
       "max        18.000000\n",
       "Name: YearsInCurrentRole, dtype: float64"
      ]
     },
     "execution_count": 91,
     "metadata": {},
     "output_type": "execute_result"
    }
   ],
   "source": [
    "ibm.YearsInCurrentRole.describe()"
   ]
  },
  {
   "cell_type": "code",
   "execution_count": 92,
   "metadata": {
    "scrolled": true
   },
   "outputs": [
    {
     "data": {
      "text/plain": [
       "<matplotlib.axes._subplots.AxesSubplot at 0x1b9097f3550>"
      ]
     },
     "execution_count": 92,
     "metadata": {},
     "output_type": "execute_result"
    },
    {
     "data": {
      "image/png": "[encoded data removed]",
      "text/plain": [
       "<Figure size 432x288 with 1 Axes>"
      ]
     },
     "metadata": {
      "needs_background": "light"
     },
     "output_type": "display_data"
    }
   ],
   "source": [
    "sns.distplot(ibm.YearsInCurrentRole)"
   ]
  },
  {
   "cell_type": "code",
   "execution_count": 93,
   "metadata": {
    "scrolled": true
   },
   "outputs": [
    {
     "name": "stdout",
     "output_type": "stream",
     "text": [
      "Attrition rate for working in current for less than 5 years  is  20.065789473684212\n",
      "Attrition rate for working in current role between 5 to 10 years in same company  is  11.08433734939759\n",
      "Attrition rate for working in current role between  10 and 15 years in same company  is   5.263157894736842\n",
      "Attrition rate for working in current role between 15  and 20 years in same company  is   0.0\n",
      "Attrition rate for working in current role greater than 20 years in same company  is  nan\n"
     ]
    }
   ],
   "source": [
    "print('Attrition rate for working in current for less than 5 years  is ',\n",
    "     (ibm[(ibm['Attrition']=='Yes') & (ibm['YearsInCurrentRole']< 5)]['YearsInCurrentRole'].count()\n",
    "     /\n",
    "     ibm[(ibm['YearsInCurrentRole']< 5)]['YearsInCurrentRole'].count())*100)\n",
    "\n",
    "\n",
    "print('Attrition rate for working in current role between 5 to 10 years in same company  is ',\n",
    "     (ibm[(ibm['Attrition']=='Yes') & (ibm['YearsInCurrentRole']> 5)\n",
    "          & (ibm['YearsInCurrentRole']< 10)]['YearsInCurrentRole'].count()\n",
    "     /\n",
    "     ibm[(ibm['YearsInCurrentRole']> 5)\n",
    "          & (ibm['YearsInCurrentRole']< 10)]['YearsInCurrentRole'].count())*100)\n",
    "\n",
    "print('Attrition rate for working in current role between  10 and 15 years in same company  is  ',\n",
    "     (ibm[(ibm['Attrition']=='Yes') & (ibm['YearsInCurrentRole']> 10)\n",
    "          & (ibm['YearsInCurrentRole']< 15)]['YearsInCurrentRole'].count()\n",
    "     /\n",
    "     ibm[(ibm['YearsInCurrentRole']> 10)\n",
    "          & (ibm['YearsInCurrentRole']< 15)]['YearsInCurrentRole'].count())*100)\n",
    "\n",
    "\n",
    "print('Attrition rate for working in current role between 15  and 20 years in same company  is  ',\n",
    "     (ibm[(ibm['Attrition']=='Yes') & (ibm['YearsInCurrentRole']> 15)\n",
    "          & (ibm['YearsInCurrentRole']< 20)]['YearsInCurrentRole'].count()\n",
    "     /\n",
    "     ibm[(ibm['YearsInCurrentRole']> 15)\n",
    "          & (ibm['YearsInCurrentRole']< 20)]['YearsInCurrentRole'].count())*100)\n",
    "\n",
    "print('Attrition rate for working in current role greater than 20 years in same company  is ',\n",
    "     (ibm[(ibm['Attrition']=='Yes') \n",
    "          & (ibm['YearsInCurrentRole']> 20)]['YearsInCurrentRole'].count()\n",
    "     /\n",
    "     ibm[(ibm['YearsInCurrentRole']> 20)]['YearsInCurrentRole'].count())*100)"
   ]
  },
  {
   "cell_type": "code",
   "execution_count": 94,
   "metadata": {},
   "outputs": [
    {
     "data": {
      "text/plain": [
       "2     372\n",
       "0     244\n",
       "7     222\n",
       "3     135\n",
       "4     104\n",
       "8      89\n",
       "9      67\n",
       "1      57\n",
       "6      37\n",
       "5      36\n",
       "10     29\n",
       "11     22\n",
       "13     14\n",
       "14     11\n",
       "12     10\n",
       "15      8\n",
       "16      7\n",
       "17      4\n",
       "18      2\n",
       "Name: YearsInCurrentRole, dtype: int64"
      ]
     },
     "execution_count": 94,
     "metadata": {},
     "output_type": "execute_result"
    }
   ],
   "source": [
    "ibm.YearsInCurrentRole.value_counts()"
   ]
  },
  {
   "cell_type": "code",
   "execution_count": 95,
   "metadata": {},
   "outputs": [
    {
     "data": {
      "text/plain": [
       "<matplotlib.axes._subplots.AxesSubplot at 0x1b909885c88>"
      ]
     },
     "execution_count": 95,
     "metadata": {},
     "output_type": "execute_result"
    },
    {
     "data": {
      "image/png": "[encoded data removed]",
      "text/plain": [
       "<Figure size 432x288 with 1 Axes>"
      ]
     },
     "metadata": {
      "needs_background": "light"
     },
     "output_type": "display_data"
    }
   ],
   "source": [
    "sns.countplot(ibm.YearsInCurrentRole,hue=ibm.Attrition)"
   ]
  },
  {
   "cell_type": "code",
   "execution_count": 96,
   "metadata": {},
   "outputs": [
    {
     "name": "stdout",
     "output_type": "stream",
     "text": [
      "Percentage of attrition rate for working in current role for 0 years  is  29.918032786885245\n",
      "Percentage of attrition rate for working in current role for 1 years  is  19.298245614035086\n",
      "Percentage of attrition rate for working in current role for 2 years  is  18.27956989247312\n",
      "Percentage of attrition rate for working in current role for 3 years  is  11.851851851851853\n",
      "Percentage of attrition rate for working in current role for 4 years  is  14.423076923076922\n",
      "Percentage of attrition rate for working in current role for 5 years  is  2.7777777777777777\n",
      "Percentage of attrition rate for working in current role for 6 years  is  5.405405405405405\n",
      "Percentage of attrition rate for working in current role for 7 years  is  13.963963963963963\n",
      "Percentage of attrition rate for working in current role for 8 years  is  7.865168539325842\n",
      "Percentage of attrition rate for working in current role for 9 years  is  8.955223880597014\n",
      "Percentage of attrition rate for working in current role for 10 years  is  6.896551724137931\n",
      "Percentage of attrition rate for working in current role for 11 years  is  0.0\n",
      "Percentage of attrition rate for working in current role for 12 years  is  10.0\n",
      "Percentage of attrition rate for working in current role for 13 years  is  7.142857142857142\n",
      "Percentage of attrition rate for working in current role for 14 years  is  9.090909090909092\n",
      "Percentage of attrition rate for working in current role for 15 years  is  25.0\n",
      "Percentage of attrition rate for working in current role for 16 years  is  0.0\n",
      "Percentage of attrition rate for working in current role for 17 years  is  0.0\n",
      "Percentage of attrition rate for working in current role for 18 years  is  0.0\n"
     ]
    }
   ],
   "source": [
    "  \n",
    "for i in range(0,19):\n",
    "    \n",
    "\n",
    "    print('Percentage of attrition rate for working in current role for {} years  is '.format(i),(ibm[(ibm['Attrition']=='Yes') \n",
    "        &(ibm['YearsInCurrentRole']==i)]['YearsInCurrentRole'].count()\n",
    "     /\n",
    "     ibm[ibm['YearsInCurrentRole']==i]['YearsInCurrentRole'].count()) * 100)"
   ]
  },
  {
   "cell_type": "markdown",
   "metadata": {},
   "source": [
    "#### If the employee is in the same role for 5 and less years, he tends to move out of the company. i.e, the attrition rate is more\n",
    "#### we need to check about the level of role within 5 years and more than 20 years.\n",
    "#### if the role is less then they tend to move within 5 years else employee in high position naturally has high working years and wont move out of the company\n",
    "\n",
    "##### If we see the count of years, we can clearly see that within 2 years the attrition rate is more if they are in smae role\n"
   ]
  },
  {
   "cell_type": "code",
   "execution_count": 97,
   "metadata": {},
   "outputs": [
    {
     "data": {
      "text/plain": [
       "0     581\n",
       "1     357\n",
       "2     159\n",
       "7      76\n",
       "4      61\n",
       "3      52\n",
       "5      45\n",
       "6      32\n",
       "11     24\n",
       "8      18\n",
       "9      17\n",
       "15     13\n",
       "13     10\n",
       "12     10\n",
       "14      9\n",
       "10      6\n",
       "Name: YearsSinceLastPromotion, dtype: int64"
      ]
     },
     "execution_count": 97,
     "metadata": {},
     "output_type": "execute_result"
    }
   ],
   "source": [
    "ibm.YearsSinceLastPromotion.value_counts()"
   ]
  },
  {
   "cell_type": "code",
   "execution_count": 98,
   "metadata": {
    "scrolled": true
   },
   "outputs": [
    {
     "data": {
      "text/plain": [
       "<matplotlib.axes._subplots.AxesSubplot at 0x1b90995a470>"
      ]
     },
     "execution_count": 98,
     "metadata": {},
     "output_type": "execute_result"
    },
    {
     "data": {
      "image/png": "[encoded data removed]",
      "text/plain": [
       "<Figure size 432x288 with 1 Axes>"
      ]
     },
     "metadata": {
      "needs_background": "light"
     },
     "output_type": "display_data"
    }
   ],
   "source": [
    "sns.countplot(ibm.YearsSinceLastPromotion,hue=ibm.Attrition)"
   ]
  },
  {
   "cell_type": "code",
   "execution_count": 99,
   "metadata": {
    "scrolled": true
   },
   "outputs": [
    {
     "name": "stdout",
     "output_type": "stream",
     "text": [
      "Percentage of attrition rate for 0 years since last promotion  is  18.9328743545611\n",
      "Percentage of attrition rate for 1 years since last promotion  is  13.725490196078432\n",
      "Percentage of attrition rate for 2 years since last promotion  is  16.9811320754717\n",
      "Percentage of attrition rate for 3 years since last promotion  is  17.307692307692307\n",
      "Percentage of attrition rate for 4 years since last promotion  is  8.19672131147541\n",
      "Percentage of attrition rate for 5 years since last promotion  is  4.444444444444445\n",
      "Percentage of attrition rate for 6 years since last promotion  is  18.75\n",
      "Percentage of attrition rate for 7 years since last promotion  is  21.052631578947366\n",
      "Percentage of attrition rate for 8 years since last promotion  is  0.0\n",
      "Percentage of attrition rate for 9 years since last promotion  is  23.52941176470588\n",
      "Percentage of attrition rate for 10 years since last promotion  is  16.666666666666664\n",
      "Percentage of attrition rate for 11 years since last promotion  is  8.333333333333332\n",
      "Percentage of attrition rate for 12 years since last promotion  is  0.0\n",
      "Percentage of attrition rate for 13 years since last promotion  is  20.0\n",
      "Percentage of attrition rate for 14 years since last promotion  is  11.11111111111111\n",
      "Percentage of attrition rate for 15 years since last promotion  is  23.076923076923077\n"
     ]
    }
   ],
   "source": [
    "  \n",
    "for i in range(0,16):\n",
    "    \n",
    "\n",
    "    print('Percentage of attrition rate for {} years since last promotion  is '.format(i),(ibm[(ibm['Attrition']=='Yes') \n",
    "        &(ibm['YearsSinceLastPromotion']==i)]['YearsSinceLastPromotion'].count()\n",
    "     /\n",
    "     ibm[ibm['YearsSinceLastPromotion']==i]['YearsSinceLastPromotion'].count()) * 100)"
   ]
  },
  {
   "cell_type": "code",
   "execution_count": 100,
   "metadata": {},
   "outputs": [
    {
     "data": {
      "text/plain": [
       "2     344\n",
       "0     263\n",
       "7     216\n",
       "3     142\n",
       "8     107\n",
       "4      98\n",
       "1      76\n",
       "9      64\n",
       "5      31\n",
       "6      29\n",
       "10     27\n",
       "11     22\n",
       "12     18\n",
       "13     14\n",
       "17      7\n",
       "14      5\n",
       "15      5\n",
       "16      2\n",
       "Name: YearsWithCurrManager, dtype: int64"
      ]
     },
     "execution_count": 100,
     "metadata": {},
     "output_type": "execute_result"
    }
   ],
   "source": [
    "ibm.YearsWithCurrManager.value_counts()"
   ]
  },
  {
   "cell_type": "code",
   "execution_count": 101,
   "metadata": {},
   "outputs": [
    {
     "data": {
      "text/plain": [
       "<matplotlib.axes._subplots.AxesSubplot at 0x1b9099b0160>"
      ]
     },
     "execution_count": 101,
     "metadata": {},
     "output_type": "execute_result"
    },
    {
     "data": {
      "image/png": "[encoded data removed]",
      "text/plain": [
       "<Figure size 432x288 with 1 Axes>"
      ]
     },
     "metadata": {
      "needs_background": "light"
     },
     "output_type": "display_data"
    }
   ],
   "source": [
    "sns.countplot(ibm.YearsWithCurrManager,hue=ibm.Attrition)"
   ]
  },
  {
   "cell_type": "code",
   "execution_count": 102,
   "metadata": {},
   "outputs": [
    {
     "name": "stdout",
     "output_type": "stream",
     "text": [
      "Percentage of attrition rate for 0 years with same manager  is  32.31939163498099\n",
      "Percentage of attrition rate for 1 years with same manager  is  14.473684210526317\n",
      "Percentage of attrition rate for 2 years with same manager  is  14.534883720930234\n",
      "Percentage of attrition rate for 3 years with same manager  is  13.380281690140844\n",
      "Percentage of attrition rate for 4 years with same manager  is  11.224489795918368\n",
      "Percentage of attrition rate for 5 years with same manager  is  12.903225806451612\n",
      "Percentage of attrition rate for 6 years with same manager  is  13.793103448275861\n",
      "Percentage of attrition rate for 7 years with same manager  is  14.351851851851851\n",
      "Percentage of attrition rate for 8 years with same manager  is  9.345794392523365\n",
      "Percentage of attrition rate for 9 years with same manager  is  9.375\n",
      "Percentage of attrition rate for 10 years with same manager  is  11.11111111111111\n",
      "Percentage of attrition rate for 11 years with same manager  is  4.545454545454546\n",
      "Percentage of attrition rate for 12 years with same manager  is  0.0\n",
      "Percentage of attrition rate for 13 years with same manager  is  0.0\n",
      "Percentage of attrition rate for 14 years with same manager  is  40.0\n",
      "Percentage of attrition rate for 15 years with same manager  is  0.0\n",
      "Percentage of attrition rate for 16 years with same manager  is  0.0\n",
      "Percentage of attrition rate for 17 years with same manager  is  0.0\n"
     ]
    }
   ],
   "source": [
    "  \n",
    "for i in range(0,18):\n",
    "    \n",
    "\n",
    "    print('Percentage of attrition rate for {} years with same manager  is '.format(i),(ibm[(ibm['Attrition']=='Yes') \n",
    "        &(ibm['YearsWithCurrManager']==i)]['YearsWithCurrManager'].count()\n",
    "     /\n",
    "     ibm[ibm['YearsWithCurrManager']==i]['YearsWithCurrManager'].count()) * 100)"
   ]
  },
  {
   "cell_type": "markdown",
   "metadata": {},
   "source": [
    "#### since StandardHours is same for all the records, we can drop that column"
   ]
  },
  {
   "cell_type": "code",
   "execution_count": 103,
   "metadata": {},
   "outputs": [],
   "source": [
    "ibm.drop('StandardHours',axis=1,inplace=True)"
   ]
  },
  {
   "cell_type": "code",
   "execution_count": 104,
   "metadata": {},
   "outputs": [
    {
     "data": {
      "text/plain": [
       "1    1470\n",
       "Name: EmployeeCount, dtype: int64"
      ]
     },
     "execution_count": 104,
     "metadata": {},
     "output_type": "execute_result"
    }
   ],
   "source": [
    "ibm.EmployeeCount.value_counts()"
   ]
  },
  {
   "cell_type": "markdown",
   "metadata": {},
   "source": [
    "#### since EmployeeCount is irrelevant to the data set, we can drop that column as well"
   ]
  },
  {
   "cell_type": "code",
   "execution_count": 105,
   "metadata": {},
   "outputs": [],
   "source": [
    "ibm.drop('EmployeeCount',axis=1,inplace=True)"
   ]
  },
  {
   "cell_type": "code",
   "execution_count": 106,
   "metadata": {},
   "outputs": [
    {
     "data": {
      "text/plain": [
       "Y    1470\n",
       "Name: Over18, dtype: int64"
      ]
     },
     "execution_count": 106,
     "metadata": {},
     "output_type": "execute_result"
    }
   ],
   "source": [
    "ibm.Over18.value_counts()"
   ]
  },
  {
   "cell_type": "markdown",
   "metadata": {},
   "source": [
    "##### Since the Over18 feature has all same values ('Y'), We can drop this feature as it does not contribute to the dependant variable."
   ]
  },
  {
   "cell_type": "code",
   "execution_count": 107,
   "metadata": {},
   "outputs": [],
   "source": [
    "ibm.drop('Over18',axis=1,inplace=True)"
   ]
  },
  {
   "cell_type": "code",
   "execution_count": 108,
   "metadata": {},
   "outputs": [
    {
     "data": {
      "text/html": [
       "<div>\n",
       "<style scoped>\n",
       "    .dataframe tbody tr th:only-of-type {\n",
       "        vertical-align: middle;\n",
       "    }\n",
       "\n",
       "    .dataframe tbody tr th {\n",
       "        vertical-align: top;\n",
       "    }\n",
       "\n",
       "    .dataframe thead th {\n",
       "        text-align: right;\n",
       "    }\n",
       "</style>\n",
       "<table border=\"1\" class=\"dataframe\">\n",
       "  <thead>\n",
       "    <tr style=\"text-align: right;\">\n",
       "      <th></th>\n",
       "      <th>Age</th>\n",
       "      <th>DailyRate</th>\n",
       "      <th>DistanceFromHome</th>\n",
       "      <th>Education</th>\n",
       "      <th>EmployeeNumber</th>\n",
       "      <th>EnvironmentSatisfaction</th>\n",
       "      <th>HourlyRate</th>\n",
       "      <th>JobInvolvement</th>\n",
       "      <th>JobLevel</th>\n",
       "      <th>JobSatisfaction</th>\n",
       "      <th>...</th>\n",
       "      <th>PerformanceRating</th>\n",
       "      <th>RelationshipSatisfaction</th>\n",
       "      <th>StockOptionLevel</th>\n",
       "      <th>TotalWorkingYears</th>\n",
       "      <th>TrainingTimesLastYear</th>\n",
       "      <th>WorkLifeBalance</th>\n",
       "      <th>YearsAtCompany</th>\n",
       "      <th>YearsInCurrentRole</th>\n",
       "      <th>YearsSinceLastPromotion</th>\n",
       "      <th>YearsWithCurrManager</th>\n",
       "    </tr>\n",
       "  </thead>\n",
       "  <tbody>\n",
       "    <tr>\n",
       "      <th>Age</th>\n",
       "      <td>1.000000</td>\n",
       "      <td>0.010661</td>\n",
       "      <td>-0.001686</td>\n",
       "      <td>0.208034</td>\n",
       "      <td>-0.010145</td>\n",
       "      <td>0.010146</td>\n",
       "      <td>0.024287</td>\n",
       "      <td>0.029820</td>\n",
       "      <td>0.509604</td>\n",
       "      <td>-0.004892</td>\n",
       "      <td>...</td>\n",
       "      <td>0.001904</td>\n",
       "      <td>0.053535</td>\n",
       "      <td>0.037510</td>\n",
       "      <td>0.680381</td>\n",
       "      <td>-0.019621</td>\n",
       "      <td>-0.021490</td>\n",
       "      <td>0.311309</td>\n",
       "      <td>0.212901</td>\n",
       "      <td>0.216513</td>\n",
       "      <td>0.202089</td>\n",
       "    </tr>\n",
       "    <tr>\n",
       "      <th>DailyRate</th>\n",
       "      <td>0.010661</td>\n",
       "      <td>1.000000</td>\n",
       "      <td>-0.004985</td>\n",
       "      <td>-0.016806</td>\n",
       "      <td>-0.050990</td>\n",
       "      <td>0.018355</td>\n",
       "      <td>0.023381</td>\n",
       "      <td>0.046135</td>\n",
       "      <td>0.002966</td>\n",
       "      <td>0.030571</td>\n",
       "      <td>...</td>\n",
       "      <td>0.000473</td>\n",
       "      <td>0.007846</td>\n",
       "      <td>0.042143</td>\n",
       "      <td>0.014515</td>\n",
       "      <td>0.002453</td>\n",
       "      <td>-0.037848</td>\n",
       "      <td>-0.034055</td>\n",
       "      <td>0.009932</td>\n",
       "      <td>-0.033229</td>\n",
       "      <td>-0.026363</td>\n",
       "    </tr>\n",
       "    <tr>\n",
       "      <th>DistanceFromHome</th>\n",
       "      <td>-0.001686</td>\n",
       "      <td>-0.004985</td>\n",
       "      <td>1.000000</td>\n",
       "      <td>0.021042</td>\n",
       "      <td>0.032916</td>\n",
       "      <td>-0.016075</td>\n",
       "      <td>0.031131</td>\n",
       "      <td>0.008783</td>\n",
       "      <td>0.005303</td>\n",
       "      <td>-0.003669</td>\n",
       "      <td>...</td>\n",
       "      <td>0.027110</td>\n",
       "      <td>0.006557</td>\n",
       "      <td>0.044872</td>\n",
       "      <td>0.004628</td>\n",
       "      <td>-0.036942</td>\n",
       "      <td>-0.026556</td>\n",
       "      <td>0.009508</td>\n",
       "      <td>0.018845</td>\n",
       "      <td>0.010029</td>\n",
       "      <td>0.014406</td>\n",
       "    </tr>\n",
       "    <tr>\n",
       "      <th>Education</th>\n",
       "      <td>0.208034</td>\n",
       "      <td>-0.016806</td>\n",
       "      <td>0.021042</td>\n",
       "      <td>1.000000</td>\n",
       "      <td>0.042070</td>\n",
       "      <td>-0.027128</td>\n",
       "      <td>0.016775</td>\n",
       "      <td>0.042438</td>\n",
       "      <td>0.101589</td>\n",
       "      <td>-0.011296</td>\n",
       "      <td>...</td>\n",
       "      <td>-0.024539</td>\n",
       "      <td>-0.009118</td>\n",
       "      <td>0.018422</td>\n",
       "      <td>0.148280</td>\n",
       "      <td>-0.025100</td>\n",
       "      <td>0.009819</td>\n",
       "      <td>0.069114</td>\n",
       "      <td>0.060236</td>\n",
       "      <td>0.054254</td>\n",
       "      <td>0.069065</td>\n",
       "    </tr>\n",
       "    <tr>\n",
       "      <th>EmployeeNumber</th>\n",
       "      <td>-0.010145</td>\n",
       "      <td>-0.050990</td>\n",
       "      <td>0.032916</td>\n",
       "      <td>0.042070</td>\n",
       "      <td>1.000000</td>\n",
       "      <td>0.017621</td>\n",
       "      <td>0.035179</td>\n",
       "      <td>-0.006888</td>\n",
       "      <td>-0.018519</td>\n",
       "      <td>-0.046247</td>\n",
       "      <td>...</td>\n",
       "      <td>-0.020359</td>\n",
       "      <td>-0.069861</td>\n",
       "      <td>0.062227</td>\n",
       "      <td>-0.014365</td>\n",
       "      <td>0.023603</td>\n",
       "      <td>0.010309</td>\n",
       "      <td>-0.011240</td>\n",
       "      <td>-0.008416</td>\n",
       "      <td>-0.009019</td>\n",
       "      <td>-0.009197</td>\n",
       "    </tr>\n",
       "    <tr>\n",
       "      <th>EnvironmentSatisfaction</th>\n",
       "      <td>0.010146</td>\n",
       "      <td>0.018355</td>\n",
       "      <td>-0.016075</td>\n",
       "      <td>-0.027128</td>\n",
       "      <td>0.017621</td>\n",
       "      <td>1.000000</td>\n",
       "      <td>-0.049857</td>\n",
       "      <td>-0.008278</td>\n",
       "      <td>0.001212</td>\n",
       "      <td>-0.006784</td>\n",
       "      <td>...</td>\n",
       "      <td>-0.029548</td>\n",
       "      <td>0.007665</td>\n",
       "      <td>0.003432</td>\n",
       "      <td>-0.002693</td>\n",
       "      <td>-0.019359</td>\n",
       "      <td>0.027627</td>\n",
       "      <td>0.001458</td>\n",
       "      <td>0.018007</td>\n",
       "      <td>0.016194</td>\n",
       "      <td>-0.004999</td>\n",
       "    </tr>\n",
       "    <tr>\n",
       "      <th>HourlyRate</th>\n",
       "      <td>0.024287</td>\n",
       "      <td>0.023381</td>\n",
       "      <td>0.031131</td>\n",
       "      <td>0.016775</td>\n",
       "      <td>0.035179</td>\n",
       "      <td>-0.049857</td>\n",
       "      <td>1.000000</td>\n",
       "      <td>0.042861</td>\n",
       "      <td>-0.027853</td>\n",
       "      <td>-0.071335</td>\n",
       "      <td>...</td>\n",
       "      <td>-0.002172</td>\n",
       "      <td>0.001330</td>\n",
       "      <td>0.050263</td>\n",
       "      <td>-0.002334</td>\n",
       "      <td>-0.008548</td>\n",
       "      <td>-0.004607</td>\n",
       "      <td>-0.019582</td>\n",
       "      <td>-0.024106</td>\n",
       "      <td>-0.026716</td>\n",
       "      <td>-0.020123</td>\n",
       "    </tr>\n",
       "    <tr>\n",
       "      <th>JobInvolvement</th>\n",
       "      <td>0.029820</td>\n",
       "      <td>0.046135</td>\n",
       "      <td>0.008783</td>\n",
       "      <td>0.042438</td>\n",
       "      <td>-0.006888</td>\n",
       "      <td>-0.008278</td>\n",
       "      <td>0.042861</td>\n",
       "      <td>1.000000</td>\n",
       "      <td>-0.012630</td>\n",
       "      <td>-0.021476</td>\n",
       "      <td>...</td>\n",
       "      <td>-0.029071</td>\n",
       "      <td>0.034297</td>\n",
       "      <td>0.021523</td>\n",
       "      <td>-0.005533</td>\n",
       "      <td>-0.015338</td>\n",
       "      <td>-0.014617</td>\n",
       "      <td>-0.021355</td>\n",
       "      <td>0.008717</td>\n",
       "      <td>-0.024184</td>\n",
       "      <td>0.025976</td>\n",
       "    </tr>\n",
       "    <tr>\n",
       "      <th>JobLevel</th>\n",
       "      <td>0.509604</td>\n",
       "      <td>0.002966</td>\n",
       "      <td>0.005303</td>\n",
       "      <td>0.101589</td>\n",
       "      <td>-0.018519</td>\n",
       "      <td>0.001212</td>\n",
       "      <td>-0.027853</td>\n",
       "      <td>-0.012630</td>\n",
       "      <td>1.000000</td>\n",
       "      <td>-0.001944</td>\n",
       "      <td>...</td>\n",
       "      <td>-0.021222</td>\n",
       "      <td>0.021642</td>\n",
       "      <td>0.013984</td>\n",
       "      <td>0.782208</td>\n",
       "      <td>-0.018191</td>\n",
       "      <td>0.037818</td>\n",
       "      <td>0.534739</td>\n",
       "      <td>0.389447</td>\n",
       "      <td>0.353885</td>\n",
       "      <td>0.375281</td>\n",
       "    </tr>\n",
       "    <tr>\n",
       "      <th>JobSatisfaction</th>\n",
       "      <td>-0.004892</td>\n",
       "      <td>0.030571</td>\n",
       "      <td>-0.003669</td>\n",
       "      <td>-0.011296</td>\n",
       "      <td>-0.046247</td>\n",
       "      <td>-0.006784</td>\n",
       "      <td>-0.071335</td>\n",
       "      <td>-0.021476</td>\n",
       "      <td>-0.001944</td>\n",
       "      <td>1.000000</td>\n",
       "      <td>...</td>\n",
       "      <td>0.002297</td>\n",
       "      <td>-0.012454</td>\n",
       "      <td>0.010690</td>\n",
       "      <td>-0.020185</td>\n",
       "      <td>-0.005779</td>\n",
       "      <td>-0.019459</td>\n",
       "      <td>-0.003803</td>\n",
       "      <td>-0.002305</td>\n",
       "      <td>-0.018214</td>\n",
       "      <td>-0.027656</td>\n",
       "    </tr>\n",
       "    <tr>\n",
       "      <th>MonthlyIncome</th>\n",
       "      <td>0.497855</td>\n",
       "      <td>0.007707</td>\n",
       "      <td>-0.017014</td>\n",
       "      <td>0.094961</td>\n",
       "      <td>-0.014829</td>\n",
       "      <td>-0.006259</td>\n",
       "      <td>-0.015794</td>\n",
       "      <td>-0.015271</td>\n",
       "      <td>0.950300</td>\n",
       "      <td>-0.007157</td>\n",
       "      <td>...</td>\n",
       "      <td>-0.017120</td>\n",
       "      <td>0.025873</td>\n",
       "      <td>0.005408</td>\n",
       "      <td>0.772893</td>\n",
       "      <td>-0.021736</td>\n",
       "      <td>0.030683</td>\n",
       "      <td>0.514285</td>\n",
       "      <td>0.363818</td>\n",
       "      <td>0.344978</td>\n",
       "      <td>0.344079</td>\n",
       "    </tr>\n",
       "    <tr>\n",
       "      <th>MonthlyRate</th>\n",
       "      <td>0.028051</td>\n",
       "      <td>-0.032182</td>\n",
       "      <td>0.027473</td>\n",
       "      <td>-0.026084</td>\n",
       "      <td>0.012648</td>\n",
       "      <td>0.037600</td>\n",
       "      <td>-0.015297</td>\n",
       "      <td>-0.016322</td>\n",
       "      <td>0.039563</td>\n",
       "      <td>0.000644</td>\n",
       "      <td>...</td>\n",
       "      <td>-0.009811</td>\n",
       "      <td>-0.004085</td>\n",
       "      <td>-0.034323</td>\n",
       "      <td>0.026442</td>\n",
       "      <td>0.001467</td>\n",
       "      <td>0.007963</td>\n",
       "      <td>-0.023655</td>\n",
       "      <td>-0.012815</td>\n",
       "      <td>0.001567</td>\n",
       "      <td>-0.036746</td>\n",
       "    </tr>\n",
       "    <tr>\n",
       "      <th>NumCompaniesWorked</th>\n",
       "      <td>0.299635</td>\n",
       "      <td>0.038153</td>\n",
       "      <td>-0.029251</td>\n",
       "      <td>0.126317</td>\n",
       "      <td>-0.001251</td>\n",
       "      <td>0.012594</td>\n",
       "      <td>0.022157</td>\n",
       "      <td>0.015012</td>\n",
       "      <td>0.142501</td>\n",
       "      <td>-0.055699</td>\n",
       "      <td>...</td>\n",
       "      <td>-0.014095</td>\n",
       "      <td>0.052733</td>\n",
       "      <td>0.030075</td>\n",
       "      <td>0.237639</td>\n",
       "      <td>-0.066054</td>\n",
       "      <td>-0.008366</td>\n",
       "      <td>-0.118421</td>\n",
       "      <td>-0.090754</td>\n",
       "      <td>-0.036814</td>\n",
       "      <td>-0.110319</td>\n",
       "    </tr>\n",
       "    <tr>\n",
       "      <th>PercentSalaryHike</th>\n",
       "      <td>0.003634</td>\n",
       "      <td>0.022704</td>\n",
       "      <td>0.040235</td>\n",
       "      <td>-0.011111</td>\n",
       "      <td>-0.012944</td>\n",
       "      <td>-0.031701</td>\n",
       "      <td>-0.009062</td>\n",
       "      <td>-0.017205</td>\n",
       "      <td>-0.034730</td>\n",
       "      <td>0.020002</td>\n",
       "      <td>...</td>\n",
       "      <td>0.773550</td>\n",
       "      <td>-0.040490</td>\n",
       "      <td>0.007528</td>\n",
       "      <td>-0.020608</td>\n",
       "      <td>-0.005221</td>\n",
       "      <td>-0.003280</td>\n",
       "      <td>-0.035991</td>\n",
       "      <td>-0.001520</td>\n",
       "      <td>-0.022154</td>\n",
       "      <td>-0.011985</td>\n",
       "    </tr>\n",
       "    <tr>\n",
       "      <th>PerformanceRating</th>\n",
       "      <td>0.001904</td>\n",
       "      <td>0.000473</td>\n",
       "      <td>0.027110</td>\n",
       "      <td>-0.024539</td>\n",
       "      <td>-0.020359</td>\n",
       "      <td>-0.029548</td>\n",
       "      <td>-0.002172</td>\n",
       "      <td>-0.029071</td>\n",
       "      <td>-0.021222</td>\n",
       "      <td>0.002297</td>\n",
       "      <td>...</td>\n",
       "      <td>1.000000</td>\n",
       "      <td>-0.031351</td>\n",
       "      <td>0.003506</td>\n",
       "      <td>0.006744</td>\n",
       "      <td>-0.015579</td>\n",
       "      <td>0.002572</td>\n",
       "      <td>0.003435</td>\n",
       "      <td>0.034986</td>\n",
       "      <td>0.017896</td>\n",
       "      <td>0.022827</td>\n",
       "    </tr>\n",
       "    <tr>\n",
       "      <th>RelationshipSatisfaction</th>\n",
       "      <td>0.053535</td>\n",
       "      <td>0.007846</td>\n",
       "      <td>0.006557</td>\n",
       "      <td>-0.009118</td>\n",
       "      <td>-0.069861</td>\n",
       "      <td>0.007665</td>\n",
       "      <td>0.001330</td>\n",
       "      <td>0.034297</td>\n",
       "      <td>0.021642</td>\n",
       "      <td>-0.012454</td>\n",
       "      <td>...</td>\n",
       "      <td>-0.031351</td>\n",
       "      <td>1.000000</td>\n",
       "      <td>-0.045952</td>\n",
       "      <td>0.024054</td>\n",
       "      <td>0.002497</td>\n",
       "      <td>0.019604</td>\n",
       "      <td>0.019367</td>\n",
       "      <td>-0.015123</td>\n",
       "      <td>0.033493</td>\n",
       "      <td>-0.000867</td>\n",
       "    </tr>\n",
       "    <tr>\n",
       "      <th>StockOptionLevel</th>\n",
       "      <td>0.037510</td>\n",
       "      <td>0.042143</td>\n",
       "      <td>0.044872</td>\n",
       "      <td>0.018422</td>\n",
       "      <td>0.062227</td>\n",
       "      <td>0.003432</td>\n",
       "      <td>0.050263</td>\n",
       "      <td>0.021523</td>\n",
       "      <td>0.013984</td>\n",
       "      <td>0.010690</td>\n",
       "      <td>...</td>\n",
       "      <td>0.003506</td>\n",
       "      <td>-0.045952</td>\n",
       "      <td>1.000000</td>\n",
       "      <td>0.010136</td>\n",
       "      <td>0.011274</td>\n",
       "      <td>0.004129</td>\n",
       "      <td>0.015058</td>\n",
       "      <td>0.050818</td>\n",
       "      <td>0.014352</td>\n",
       "      <td>0.024698</td>\n",
       "    </tr>\n",
       "    <tr>\n",
       "      <th>TotalWorkingYears</th>\n",
       "      <td>0.680381</td>\n",
       "      <td>0.014515</td>\n",
       "      <td>0.004628</td>\n",
       "      <td>0.148280</td>\n",
       "      <td>-0.014365</td>\n",
       "      <td>-0.002693</td>\n",
       "      <td>-0.002334</td>\n",
       "      <td>-0.005533</td>\n",
       "      <td>0.782208</td>\n",
       "      <td>-0.020185</td>\n",
       "      <td>...</td>\n",
       "      <td>0.006744</td>\n",
       "      <td>0.024054</td>\n",
       "      <td>0.010136</td>\n",
       "      <td>1.000000</td>\n",
       "      <td>-0.035662</td>\n",
       "      <td>0.001008</td>\n",
       "      <td>0.628133</td>\n",
       "      <td>0.460365</td>\n",
       "      <td>0.404858</td>\n",
       "      <td>0.459188</td>\n",
       "    </tr>\n",
       "    <tr>\n",
       "      <th>TrainingTimesLastYear</th>\n",
       "      <td>-0.019621</td>\n",
       "      <td>0.002453</td>\n",
       "      <td>-0.036942</td>\n",
       "      <td>-0.025100</td>\n",
       "      <td>0.023603</td>\n",
       "      <td>-0.019359</td>\n",
       "      <td>-0.008548</td>\n",
       "      <td>-0.015338</td>\n",
       "      <td>-0.018191</td>\n",
       "      <td>-0.005779</td>\n",
       "      <td>...</td>\n",
       "      <td>-0.015579</td>\n",
       "      <td>0.002497</td>\n",
       "      <td>0.011274</td>\n",
       "      <td>-0.035662</td>\n",
       "      <td>1.000000</td>\n",
       "      <td>0.028072</td>\n",
       "      <td>0.003569</td>\n",
       "      <td>-0.005738</td>\n",
       "      <td>-0.002067</td>\n",
       "      <td>-0.004096</td>\n",
       "    </tr>\n",
       "    <tr>\n",
       "      <th>WorkLifeBalance</th>\n",
       "      <td>-0.021490</td>\n",
       "      <td>-0.037848</td>\n",
       "      <td>-0.026556</td>\n",
       "      <td>0.009819</td>\n",
       "      <td>0.010309</td>\n",
       "      <td>0.027627</td>\n",
       "      <td>-0.004607</td>\n",
       "      <td>-0.014617</td>\n",
       "      <td>0.037818</td>\n",
       "      <td>-0.019459</td>\n",
       "      <td>...</td>\n",
       "      <td>0.002572</td>\n",
       "      <td>0.019604</td>\n",
       "      <td>0.004129</td>\n",
       "      <td>0.001008</td>\n",
       "      <td>0.028072</td>\n",
       "      <td>1.000000</td>\n",
       "      <td>0.012089</td>\n",
       "      <td>0.049856</td>\n",
       "      <td>0.008941</td>\n",
       "      <td>0.002759</td>\n",
       "    </tr>\n",
       "    <tr>\n",
       "      <th>YearsAtCompany</th>\n",
       "      <td>0.311309</td>\n",
       "      <td>-0.034055</td>\n",
       "      <td>0.009508</td>\n",
       "      <td>0.069114</td>\n",
       "      <td>-0.011240</td>\n",
       "      <td>0.001458</td>\n",
       "      <td>-0.019582</td>\n",
       "      <td>-0.021355</td>\n",
       "      <td>0.534739</td>\n",
       "      <td>-0.003803</td>\n",
       "      <td>...</td>\n",
       "      <td>0.003435</td>\n",
       "      <td>0.019367</td>\n",
       "      <td>0.015058</td>\n",
       "      <td>0.628133</td>\n",
       "      <td>0.003569</td>\n",
       "      <td>0.012089</td>\n",
       "      <td>1.000000</td>\n",
       "      <td>0.758754</td>\n",
       "      <td>0.618409</td>\n",
       "      <td>0.769212</td>\n",
       "    </tr>\n",
       "    <tr>\n",
       "      <th>YearsInCurrentRole</th>\n",
       "      <td>0.212901</td>\n",
       "      <td>0.009932</td>\n",
       "      <td>0.018845</td>\n",
       "      <td>0.060236</td>\n",
       "      <td>-0.008416</td>\n",
       "      <td>0.018007</td>\n",
       "      <td>-0.024106</td>\n",
       "      <td>0.008717</td>\n",
       "      <td>0.389447</td>\n",
       "      <td>-0.002305</td>\n",
       "      <td>...</td>\n",
       "      <td>0.034986</td>\n",
       "      <td>-0.015123</td>\n",
       "      <td>0.050818</td>\n",
       "      <td>0.460365</td>\n",
       "      <td>-0.005738</td>\n",
       "      <td>0.049856</td>\n",
       "      <td>0.758754</td>\n",
       "      <td>1.000000</td>\n",
       "      <td>0.548056</td>\n",
       "      <td>0.714365</td>\n",
       "    </tr>\n",
       "    <tr>\n",
       "      <th>YearsSinceLastPromotion</th>\n",
       "      <td>0.216513</td>\n",
       "      <td>-0.033229</td>\n",
       "      <td>0.010029</td>\n",
       "      <td>0.054254</td>\n",
       "      <td>-0.009019</td>\n",
       "      <td>0.016194</td>\n",
       "      <td>-0.026716</td>\n",
       "      <td>-0.024184</td>\n",
       "      <td>0.353885</td>\n",
       "      <td>-0.018214</td>\n",
       "      <td>...</td>\n",
       "      <td>0.017896</td>\n",
       "      <td>0.033493</td>\n",
       "      <td>0.014352</td>\n",
       "      <td>0.404858</td>\n",
       "      <td>-0.002067</td>\n",
       "      <td>0.008941</td>\n",
       "      <td>0.618409</td>\n",
       "      <td>0.548056</td>\n",
       "      <td>1.000000</td>\n",
       "      <td>0.510224</td>\n",
       "    </tr>\n",
       "    <tr>\n",
       "      <th>YearsWithCurrManager</th>\n",
       "      <td>0.202089</td>\n",
       "      <td>-0.026363</td>\n",
       "      <td>0.014406</td>\n",
       "      <td>0.069065</td>\n",
       "      <td>-0.009197</td>\n",
       "      <td>-0.004999</td>\n",
       "      <td>-0.020123</td>\n",
       "      <td>0.025976</td>\n",
       "      <td>0.375281</td>\n",
       "      <td>-0.027656</td>\n",
       "      <td>...</td>\n",
       "      <td>0.022827</td>\n",
       "      <td>-0.000867</td>\n",
       "      <td>0.024698</td>\n",
       "      <td>0.459188</td>\n",
       "      <td>-0.004096</td>\n",
       "      <td>0.002759</td>\n",
       "      <td>0.769212</td>\n",
       "      <td>0.714365</td>\n",
       "      <td>0.510224</td>\n",
       "      <td>1.000000</td>\n",
       "    </tr>\n",
       "  </tbody>\n",
       "</table>\n",
       "<p>24 rows × 24 columns</p>\n",
       "</div>"
      ],
      "text/plain": [
       "                               Age  DailyRate  DistanceFromHome  Education  \\\n",
       "Age                       1.000000   0.010661         -0.001686   0.208034   \n",
       "DailyRate                 0.010661   1.000000         -0.004985  -0.016806   \n",
       "DistanceFromHome         -0.001686  -0.004985          1.000000   0.021042   \n",
       "Education                 0.208034  -0.016806          0.021042   1.000000   \n",
       "EmployeeNumber           -0.010145  -0.050990          0.032916   0.042070   \n",
       "EnvironmentSatisfaction   0.010146   0.018355         -0.016075  -0.027128   \n",
       "HourlyRate                0.024287   0.023381          0.031131   0.016775   \n",
       "JobInvolvement            0.029820   0.046135          0.008783   0.042438   \n",
       "JobLevel                  0.509604   0.002966          0.005303   0.101589   \n",
       "JobSatisfaction          -0.004892   0.030571         -0.003669  -0.011296   \n",
       "MonthlyIncome             0.497855   0.007707         -0.017014   0.094961   \n",
       "MonthlyRate               0.028051  -0.032182          0.027473  -0.026084   \n",
       "NumCompaniesWorked        0.299635   0.038153         -0.029251   0.126317   \n",
       "PercentSalaryHike         0.003634   0.022704          0.040235  -0.011111   \n",
       "PerformanceRating         0.001904   0.000473          0.027110  -0.024539   \n",
       "RelationshipSatisfaction  0.053535   0.007846          0.006557  -0.009118   \n",
       "StockOptionLevel          0.037510   0.042143          0.044872   0.018422   \n",
       "TotalWorkingYears         0.680381   0.014515          0.004628   0.148280   \n",
       "TrainingTimesLastYear    -0.019621   0.002453         -0.036942  -0.025100   \n",
       "WorkLifeBalance          -0.021490  -0.037848         -0.026556   0.009819   \n",
       "YearsAtCompany            0.311309  -0.034055          0.009508   0.069114   \n",
       "YearsInCurrentRole        0.212901   0.009932          0.018845   0.060236   \n",
       "YearsSinceLastPromotion   0.216513  -0.033229          0.010029   0.054254   \n",
       "YearsWithCurrManager      0.202089  -0.026363          0.014406   0.069065   \n",
       "\n",
       "                          EmployeeNumber  EnvironmentSatisfaction  HourlyRate  \\\n",
       "Age                            -0.010145                 0.010146    0.024287   \n",
       "DailyRate                      -0.050990                 0.018355    0.023381   \n",
       "DistanceFromHome                0.032916                -0.016075    0.031131   \n",
       "Education                       0.042070                -0.027128    0.016775   \n",
       "EmployeeNumber                  1.000000                 0.017621    0.035179   \n",
       "EnvironmentSatisfaction         0.017621                 1.000000   -0.049857   \n",
       "HourlyRate                      0.035179                -0.049857    1.000000   \n",
       "JobInvolvement                 -0.006888                -0.008278    0.042861   \n",
       "JobLevel                       -0.018519                 0.001212   -0.027853   \n",
       "JobSatisfaction                -0.046247                -0.006784   -0.071335   \n",
       "MonthlyIncome                  -0.014829                -0.006259   -0.015794   \n",
       "MonthlyRate                     0.012648                 0.037600   -0.015297   \n",
       "NumCompaniesWorked             -0.001251                 0.012594    0.022157   \n",
       "PercentSalaryHike              -0.012944                -0.031701   -0.009062   \n",
       "PerformanceRating              -0.020359                -0.029548   -0.002172   \n",
       "RelationshipSatisfaction       -0.069861                 0.007665    0.001330   \n",
       "StockOptionLevel                0.062227                 0.003432    0.050263   \n",
       "TotalWorkingYears              -0.014365                -0.002693   -0.002334   \n",
       "TrainingTimesLastYear           0.023603                -0.019359   -0.008548   \n",
       "WorkLifeBalance                 0.010309                 0.027627   -0.004607   \n",
       "YearsAtCompany                 -0.011240                 0.001458   -0.019582   \n",
       "YearsInCurrentRole             -0.008416                 0.018007   -0.024106   \n",
       "YearsSinceLastPromotion        -0.009019                 0.016194   -0.026716   \n",
       "YearsWithCurrManager           -0.009197                -0.004999   -0.020123   \n",
       "\n",
       "                          JobInvolvement  JobLevel  JobSatisfaction  ...  \\\n",
       "Age                             0.029820  0.509604        -0.004892  ...   \n",
       "DailyRate                       0.046135  0.002966         0.030571  ...   \n",
       "DistanceFromHome                0.008783  0.005303        -0.003669  ...   \n",
       "Education                       0.042438  0.101589        -0.011296  ...   \n",
       "EmployeeNumber                 -0.006888 -0.018519        -0.046247  ...   \n",
       "EnvironmentSatisfaction        -0.008278  0.001212        -0.006784  ...   \n",
       "HourlyRate                      0.042861 -0.027853        -0.071335  ...   \n",
       "JobInvolvement                  1.000000 -0.012630        -0.021476  ...   \n",
       "JobLevel                       -0.012630  1.000000        -0.001944  ...   \n",
       "JobSatisfaction                -0.021476 -0.001944         1.000000  ...   \n",
       "MonthlyIncome                  -0.015271  0.950300        -0.007157  ...   \n",
       "MonthlyRate                    -0.016322  0.039563         0.000644  ...   \n",
       "NumCompaniesWorked              0.015012  0.142501        -0.055699  ...   \n",
       "PercentSalaryHike              -0.017205 -0.034730         0.020002  ...   \n",
       "PerformanceRating              -0.029071 -0.021222         0.002297  ...   \n",
       "RelationshipSatisfaction        0.034297  0.021642        -0.012454  ...   \n",
       "StockOptionLevel                0.021523  0.013984         0.010690  ...   \n",
       "TotalWorkingYears              -0.005533  0.782208        -0.020185  ...   \n",
       "TrainingTimesLastYear          -0.015338 -0.018191        -0.005779  ...   \n",
       "WorkLifeBalance                -0.014617  0.037818        -0.019459  ...   \n",
       "YearsAtCompany                 -0.021355  0.534739        -0.003803  ...   \n",
       "YearsInCurrentRole              0.008717  0.389447        -0.002305  ...   \n",
       "YearsSinceLastPromotion        -0.024184  0.353885        -0.018214  ...   \n",
       "YearsWithCurrManager            0.025976  0.375281        -0.027656  ...   \n",
       "\n",
       "                          PerformanceRating  RelationshipSatisfaction  \\\n",
       "Age                                0.001904                  0.053535   \n",
       "DailyRate                          0.000473                  0.007846   \n",
       "DistanceFromHome                   0.027110                  0.006557   \n",
       "Education                         -0.024539                 -0.009118   \n",
       "EmployeeNumber                    -0.020359                 -0.069861   \n",
       "EnvironmentSatisfaction           -0.029548                  0.007665   \n",
       "HourlyRate                        -0.002172                  0.001330   \n",
       "JobInvolvement                    -0.029071                  0.034297   \n",
       "JobLevel                          -0.021222                  0.021642   \n",
       "JobSatisfaction                    0.002297                 -0.012454   \n",
       "MonthlyIncome                     -0.017120                  0.025873   \n",
       "MonthlyRate                       -0.009811                 -0.004085   \n",
       "NumCompaniesWorked                -0.014095                  0.052733   \n",
       "PercentSalaryHike                  0.773550                 -0.040490   \n",
       "PerformanceRating                  1.000000                 -0.031351   \n",
       "RelationshipSatisfaction          -0.031351                  1.000000   \n",
       "StockOptionLevel                   0.003506                 -0.045952   \n",
       "TotalWorkingYears                  0.006744                  0.024054   \n",
       "TrainingTimesLastYear             -0.015579                  0.002497   \n",
       "WorkLifeBalance                    0.002572                  0.019604   \n",
       "YearsAtCompany                     0.003435                  0.019367   \n",
       "YearsInCurrentRole                 0.034986                 -0.015123   \n",
       "YearsSinceLastPromotion            0.017896                  0.033493   \n",
       "YearsWithCurrManager               0.022827                 -0.000867   \n",
       "\n",
       "                          StockOptionLevel  TotalWorkingYears  \\\n",
       "Age                               0.037510           0.680381   \n",
       "DailyRate                         0.042143           0.014515   \n",
       "DistanceFromHome                  0.044872           0.004628   \n",
       "Education                         0.018422           0.148280   \n",
       "EmployeeNumber                    0.062227          -0.014365   \n",
       "EnvironmentSatisfaction           0.003432          -0.002693   \n",
       "HourlyRate                        0.050263          -0.002334   \n",
       "JobInvolvement                    0.021523          -0.005533   \n",
       "JobLevel                          0.013984           0.782208   \n",
       "JobSatisfaction                   0.010690          -0.020185   \n",
       "MonthlyIncome                     0.005408           0.772893   \n",
       "MonthlyRate                      -0.034323           0.026442   \n",
       "NumCompaniesWorked                0.030075           0.237639   \n",
       "PercentSalaryHike                 0.007528          -0.020608   \n",
       "PerformanceRating                 0.003506           0.006744   \n",
       "RelationshipSatisfaction         -0.045952           0.024054   \n",
       "StockOptionLevel                  1.000000           0.010136   \n",
       "TotalWorkingYears                 0.010136           1.000000   \n",
       "TrainingTimesLastYear             0.011274          -0.035662   \n",
       "WorkLifeBalance                   0.004129           0.001008   \n",
       "YearsAtCompany                    0.015058           0.628133   \n",
       "YearsInCurrentRole                0.050818           0.460365   \n",
       "YearsSinceLastPromotion           0.014352           0.404858   \n",
       "YearsWithCurrManager              0.024698           0.459188   \n",
       "\n",
       "                          TrainingTimesLastYear  WorkLifeBalance  \\\n",
       "Age                                   -0.019621        -0.021490   \n",
       "DailyRate                              0.002453        -0.037848   \n",
       "DistanceFromHome                      -0.036942        -0.026556   \n",
       "Education                             -0.025100         0.009819   \n",
       "EmployeeNumber                         0.023603         0.010309   \n",
       "EnvironmentSatisfaction               -0.019359         0.027627   \n",
       "HourlyRate                            -0.008548        -0.004607   \n",
       "JobInvolvement                        -0.015338        -0.014617   \n",
       "JobLevel                              -0.018191         0.037818   \n",
       "JobSatisfaction                       -0.005779        -0.019459   \n",
       "MonthlyIncome                         -0.021736         0.030683   \n",
       "MonthlyRate                            0.001467         0.007963   \n",
       "NumCompaniesWorked                    -0.066054        -0.008366   \n",
       "PercentSalaryHike                     -0.005221        -0.003280   \n",
       "PerformanceRating                     -0.015579         0.002572   \n",
       "RelationshipSatisfaction               0.002497         0.019604   \n",
       "StockOptionLevel                       0.011274         0.004129   \n",
       "TotalWorkingYears                     -0.035662         0.001008   \n",
       "TrainingTimesLastYear                  1.000000         0.028072   \n",
       "WorkLifeBalance                        0.028072         1.000000   \n",
       "YearsAtCompany                         0.003569         0.012089   \n",
       "YearsInCurrentRole                    -0.005738         0.049856   \n",
       "YearsSinceLastPromotion               -0.002067         0.008941   \n",
       "YearsWithCurrManager                  -0.004096         0.002759   \n",
       "\n",
       "                          YearsAtCompany  YearsInCurrentRole  \\\n",
       "Age                             0.311309            0.212901   \n",
       "DailyRate                      -0.034055            0.009932   \n",
       "DistanceFromHome                0.009508            0.018845   \n",
       "Education                       0.069114            0.060236   \n",
       "EmployeeNumber                 -0.011240           -0.008416   \n",
       "EnvironmentSatisfaction         0.001458            0.018007   \n",
       "HourlyRate                     -0.019582           -0.024106   \n",
       "JobInvolvement                 -0.021355            0.008717   \n",
       "JobLevel                        0.534739            0.389447   \n",
       "JobSatisfaction                -0.003803           -0.002305   \n",
       "MonthlyIncome                   0.514285            0.363818   \n",
       "MonthlyRate                    -0.023655           -0.012815   \n",
       "NumCompaniesWorked             -0.118421           -0.090754   \n",
       "PercentSalaryHike              -0.035991           -0.001520   \n",
       "PerformanceRating               0.003435            0.034986   \n",
       "RelationshipSatisfaction        0.019367           -0.015123   \n",
       "StockOptionLevel                0.015058            0.050818   \n",
       "TotalWorkingYears               0.628133            0.460365   \n",
       "TrainingTimesLastYear           0.003569           -0.005738   \n",
       "WorkLifeBalance                 0.012089            0.049856   \n",
       "YearsAtCompany                  1.000000            0.758754   \n",
       "YearsInCurrentRole              0.758754            1.000000   \n",
       "YearsSinceLastPromotion         0.618409            0.548056   \n",
       "YearsWithCurrManager            0.769212            0.714365   \n",
       "\n",
       "                          YearsSinceLastPromotion  YearsWithCurrManager  \n",
       "Age                                      0.216513              0.202089  \n",
       "DailyRate                               -0.033229             -0.026363  \n",
       "DistanceFromHome                         0.010029              0.014406  \n",
       "Education                                0.054254              0.069065  \n",
       "EmployeeNumber                          -0.009019             -0.009197  \n",
       "EnvironmentSatisfaction                  0.016194             -0.004999  \n",
       "HourlyRate                              -0.026716             -0.020123  \n",
       "JobInvolvement                          -0.024184              0.025976  \n",
       "JobLevel                                 0.353885              0.375281  \n",
       "JobSatisfaction                         -0.018214             -0.027656  \n",
       "MonthlyIncome                            0.344978              0.344079  \n",
       "MonthlyRate                              0.001567             -0.036746  \n",
       "NumCompaniesWorked                      -0.036814             -0.110319  \n",
       "PercentSalaryHike                       -0.022154             -0.011985  \n",
       "PerformanceRating                        0.017896              0.022827  \n",
       "RelationshipSatisfaction                 0.033493             -0.000867  \n",
       "StockOptionLevel                         0.014352              0.024698  \n",
       "TotalWorkingYears                        0.404858              0.459188  \n",
       "TrainingTimesLastYear                   -0.002067             -0.004096  \n",
       "WorkLifeBalance                          0.008941              0.002759  \n",
       "YearsAtCompany                           0.618409              0.769212  \n",
       "YearsInCurrentRole                       0.548056              0.714365  \n",
       "YearsSinceLastPromotion                  1.000000              0.510224  \n",
       "YearsWithCurrManager                     0.510224              1.000000  \n",
       "\n",
       "[24 rows x 24 columns]"
      ]
     },
     "execution_count": 108,
     "metadata": {},
     "output_type": "execute_result"
    }
   ],
   "source": [
    "ibm.corr()"
   ]
  },
  {
   "cell_type": "code",
   "execution_count": 109,
   "metadata": {},
   "outputs": [
    {
     "data": {
      "text/plain": [
       "<matplotlib.axes._subplots.AxesSubplot at 0x1b90aa897f0>"
      ]
     },
     "execution_count": 109,
     "metadata": {},
     "output_type": "execute_result"
    },
    {
     "data": {
      "image/png": "[encoded data removed]",
      "text/plain": [
       "<Figure size 1080x720 with 2 Axes>"
      ]
     },
     "metadata": {
      "needs_background": "light"
     },
     "output_type": "display_data"
    }
   ],
   "source": [
    "plt.figure(figsize = (15,10))\n",
    "sns.heatmap(ibm.corr())"
   ]
  },
  {
   "cell_type": "code",
   "execution_count": 110,
   "metadata": {
    "scrolled": true
   },
   "outputs": [
    {
     "name": "stdout",
     "output_type": "stream",
     "text": [
      "<class 'pandas.core.frame.DataFrame'>\n",
      "RangeIndex: 1470 entries, 0 to 1469\n",
      "Data columns (total 32 columns):\n",
      "Age                         1470 non-null int64\n",
      "Attrition                   1470 non-null object\n",
      "BusinessTravel              1470 non-null object\n",
      "DailyRate                   1470 non-null int64\n",
      "Department                  1470 non-null object\n",
      "DistanceFromHome            1470 non-null int64\n",
      "Education                   1470 non-null int64\n",
      "EducationField              1470 non-null object\n",
      "EmployeeNumber              1470 non-null int64\n",
      "EnvironmentSatisfaction     1470 non-null int64\n",
      "Gender                      1470 non-null object\n",
      "HourlyRate                  1470 non-null int64\n",
      "JobInvolvement              1470 non-null int64\n",
      "JobLevel                    1470 non-null int64\n",
      "JobRole                     1470 non-null object\n",
      "JobSatisfaction             1470 non-null int64\n",
      "MaritalStatus               1470 non-null object\n",
      "MonthlyIncome               1470 non-null int64\n",
      "MonthlyRate                 1470 non-null int64\n",
      "NumCompaniesWorked          1470 non-null int64\n",
      "OverTime                    1470 non-null object\n",
      "PercentSalaryHike           1470 non-null int64\n",
      "PerformanceRating           1470 non-null int64\n",
      "RelationshipSatisfaction    1470 non-null int64\n",
      "StockOptionLevel            1470 non-null int64\n",
      "TotalWorkingYears           1470 non-null int64\n",
      "TrainingTimesLastYear       1470 non-null int64\n",
      "WorkLifeBalance             1470 non-null int64\n",
      "YearsAtCompany              1470 non-null int64\n",
      "YearsInCurrentRole          1470 non-null int64\n",
      "YearsSinceLastPromotion     1470 non-null int64\n",
      "YearsWithCurrManager        1470 non-null int64\n",
      "dtypes: int64(24), object(8)\n",
      "memory usage: 367.6+ KB\n"
     ]
    }
   ],
   "source": [
    "ibm.info()"
   ]
  },
  {
   "cell_type": "markdown",
   "metadata": {},
   "source": [
    "##### We are trying to change all the categorical values into Numerical Values."
   ]
  },
  {
   "cell_type": "markdown",
   "metadata": {},
   "source": [
    "##### Attrition"
   ]
  },
  {
   "cell_type": "code",
   "execution_count": 111,
   "metadata": {
    "scrolled": true
   },
   "outputs": [
    {
     "data": {
      "text/plain": [
       "0    1\n",
       "1    0\n",
       "Name: Attrition, dtype: int64"
      ]
     },
     "execution_count": 111,
     "metadata": {},
     "output_type": "execute_result"
    }
   ],
   "source": [
    "\n",
    "def Attr(x):\n",
    "    if( x == 'Yes'):\n",
    "        return 1\n",
    "    else:\n",
    "        return 0\n",
    "\n",
    "\n",
    "ibm['Attrition']=ibm['Attrition'].apply(Attr)\n",
    "\n",
    "ibm.Attrition.head(2)"
   ]
  },
  {
   "cell_type": "markdown",
   "metadata": {},
   "source": [
    "##### Business Travel"
   ]
  },
  {
   "cell_type": "code",
   "execution_count": 112,
   "metadata": {},
   "outputs": [
    {
     "data": {
      "text/plain": [
       "array(['Travel_Rarely', 'Travel_Frequently', 'Non-Travel'], dtype=object)"
      ]
     },
     "execution_count": 112,
     "metadata": {},
     "output_type": "execute_result"
    }
   ],
   "source": [
    "ibm.BusinessTravel.unique()"
   ]
  },
  {
   "cell_type": "code",
   "execution_count": 113,
   "metadata": {},
   "outputs": [
    {
     "data": {
      "text/plain": [
       "array([2, 3, 1], dtype=int64)"
      ]
     },
     "execution_count": 113,
     "metadata": {},
     "output_type": "execute_result"
    }
   ],
   "source": [
    "def BussTra(x):\n",
    "    if ( x == 'Non-Travel'):\n",
    "        return 1\n",
    "    elif( x == 'Travel_Rarely'):\n",
    "        return 2\n",
    "    else :\n",
    "        return 3\n",
    "ibm['BusinessTravel']=ibm['BusinessTravel'].apply(BussTra)\n",
    "ibm.BusinessTravel.unique()\n",
    "\n",
    "#BussTra('Travel_Frequently')"
   ]
  },
  {
   "cell_type": "markdown",
   "metadata": {},
   "source": [
    "##### Department"
   ]
  },
  {
   "cell_type": "code",
   "execution_count": 114,
   "metadata": {},
   "outputs": [
    {
     "data": {
      "text/plain": [
       "array(['Sales', 'Research & Development', 'Human Resources'], dtype=object)"
      ]
     },
     "execution_count": 114,
     "metadata": {},
     "output_type": "execute_result"
    }
   ],
   "source": [
    "ibm.Department.unique()"
   ]
  },
  {
   "cell_type": "code",
   "execution_count": 115,
   "metadata": {},
   "outputs": [
    {
     "data": {
      "text/plain": [
       "array([1, 2, 3], dtype=int64)"
      ]
     },
     "execution_count": 115,
     "metadata": {},
     "output_type": "execute_result"
    }
   ],
   "source": [
    "def Dept(x):\n",
    "    if (x == 'Sales'):\n",
    "        return 1\n",
    "    elif ( x == 'Research & Development'):\n",
    "        return 2\n",
    "    else :\n",
    "        return 3\n",
    "ibm['Department']=ibm['Department'].apply(Dept)\n",
    "ibm.Department.unique()"
   ]
  },
  {
   "cell_type": "markdown",
   "metadata": {},
   "source": [
    "##### EducationField"
   ]
  },
  {
   "cell_type": "code",
   "execution_count": 116,
   "metadata": {},
   "outputs": [
    {
     "data": {
      "text/plain": [
       "Life Sciences       606\n",
       "Medical             464\n",
       "Marketing           159\n",
       "Technical Degree    132\n",
       "Other                82\n",
       "Human Resources      27\n",
       "Name: EducationField, dtype: int64"
      ]
     },
     "execution_count": 116,
     "metadata": {},
     "output_type": "execute_result"
    }
   ],
   "source": [
    "ibm.EducationField.value_counts()"
   ]
  },
  {
   "cell_type": "code",
   "execution_count": 117,
   "metadata": {},
   "outputs": [
    {
     "data": {
      "text/plain": [
       "2    606\n",
       "3    464\n",
       "4    159\n",
       "5    132\n",
       "6     82\n",
       "1     27\n",
       "Name: EducationField, dtype: int64"
      ]
     },
     "execution_count": 117,
     "metadata": {},
     "output_type": "execute_result"
    }
   ],
   "source": [
    "def EduFld(x):\n",
    "    if ( x == 'Human Resources'):\n",
    "        return 1\n",
    "    elif(x=='Life Sciences'):\n",
    "        return 2\n",
    "    elif(x=='Medical'):\n",
    "        return 3\n",
    "    elif(x=='Marketing'):\n",
    "        return 4\n",
    "    elif (x=='Technical Degree'):\n",
    "        return 5\n",
    "    else:\n",
    "        return 6\n",
    "ibm['EducationField']=ibm['EducationField'].apply(EduFld)\n",
    "ibm.EducationField.value_counts()      "
   ]
  },
  {
   "cell_type": "markdown",
   "metadata": {},
   "source": [
    "##### Gender"
   ]
  },
  {
   "cell_type": "code",
   "execution_count": 118,
   "metadata": {},
   "outputs": [
    {
     "data": {
      "text/plain": [
       "Male      882\n",
       "Female    588\n",
       "Name: Gender, dtype: int64"
      ]
     },
     "execution_count": 118,
     "metadata": {},
     "output_type": "execute_result"
    }
   ],
   "source": [
    "ibm.Gender.value_counts()"
   ]
  },
  {
   "cell_type": "code",
   "execution_count": 119,
   "metadata": {},
   "outputs": [
    {
     "data": {
      "text/plain": [
       "1    882\n",
       "2    588\n",
       "Name: Gender, dtype: int64"
      ]
     },
     "execution_count": 119,
     "metadata": {},
     "output_type": "execute_result"
    }
   ],
   "source": [
    "def Gen(x):\n",
    "    if (x== 'Male'):\n",
    "        return 1\n",
    "    else:\n",
    "        return 2\n",
    "ibm['Gender']=ibm['Gender'].apply(Gen)\n",
    "ibm.Gender.value_counts()"
   ]
  },
  {
   "cell_type": "markdown",
   "metadata": {},
   "source": [
    "##### JobRole"
   ]
  },
  {
   "cell_type": "code",
   "execution_count": 120,
   "metadata": {},
   "outputs": [
    {
     "data": {
      "text/plain": [
       "Sales Executive              326\n",
       "Research Scientist           292\n",
       "Laboratory Technician        259\n",
       "Manufacturing Director       145\n",
       "Healthcare Representative    131\n",
       "Manager                      102\n",
       "Sales Representative          83\n",
       "Research Director             80\n",
       "Human Resources               52\n",
       "Name: JobRole, dtype: int64"
      ]
     },
     "execution_count": 120,
     "metadata": {},
     "output_type": "execute_result"
    }
   ],
   "source": [
    "ibm.JobRole.value_counts()"
   ]
  },
  {
   "cell_type": "code",
   "execution_count": 121,
   "metadata": {},
   "outputs": [
    {
     "data": {
      "text/plain": [
       "1    326\n",
       "2    292\n",
       "3    259\n",
       "4    145\n",
       "5    131\n",
       "6    102\n",
       "7     83\n",
       "8     80\n",
       "9     52\n",
       "Name: JobRole, dtype: int64"
      ]
     },
     "execution_count": 121,
     "metadata": {},
     "output_type": "execute_result"
    }
   ],
   "source": [
    "def jobRole(x):\n",
    "    if ( x == 'Sales Executive'):\n",
    "        return 1\n",
    "    elif(x=='Research Scientist'):\n",
    "        return 2\n",
    "    elif (x=='Laboratory Technician'):\n",
    "        return 3\n",
    "    elif (x =='Manufacturing Director'):\n",
    "        return 4\n",
    "    elif(x == 'Healthcare Representative'):\n",
    "        return 5\n",
    "    elif (x =='Manager'):\n",
    "        return 6\n",
    "    elif( x == 'Sales Representative'):\n",
    "        return 7\n",
    "    elif ( x == 'Research Director'):\n",
    "        return 8\n",
    "    else:\n",
    "        return 9\n",
    "ibm['JobRole']=ibm['JobRole'].apply(jobRole)\n",
    "ibm.JobRole.value_counts()"
   ]
  },
  {
   "cell_type": "markdown",
   "metadata": {},
   "source": [
    "##### MaritalStatus"
   ]
  },
  {
   "cell_type": "code",
   "execution_count": 122,
   "metadata": {},
   "outputs": [
    {
     "data": {
      "text/plain": [
       "Married     673\n",
       "Single      470\n",
       "Divorced    327\n",
       "Name: MaritalStatus, dtype: int64"
      ]
     },
     "execution_count": 122,
     "metadata": {},
     "output_type": "execute_result"
    }
   ],
   "source": [
    "ibm['MaritalStatus'].value_counts()"
   ]
  },
  {
   "cell_type": "code",
   "execution_count": 123,
   "metadata": {
    "scrolled": true
   },
   "outputs": [
    {
     "data": {
      "text/plain": [
       "2    673\n",
       "1    470\n",
       "3    327\n",
       "Name: MaritalStatus, dtype: int64"
      ]
     },
     "execution_count": 123,
     "metadata": {},
     "output_type": "execute_result"
    }
   ],
   "source": [
    "def mrg(x):\n",
    "    if (x == 'Married'):\n",
    "        return 2\n",
    "    elif ( x == 'Single'):\n",
    "        return 1\n",
    "    else:\n",
    "        return 3\n",
    "\n",
    "ibm['MaritalStatus']=ibm['MaritalStatus'].apply(mrg)\n",
    "ibm['MaritalStatus'].value_counts()"
   ]
  },
  {
   "cell_type": "markdown",
   "metadata": {},
   "source": [
    "##### OverTime"
   ]
  },
  {
   "cell_type": "code",
   "execution_count": 124,
   "metadata": {},
   "outputs": [
    {
     "data": {
      "text/plain": [
       "No     1054\n",
       "Yes     416\n",
       "Name: OverTime, dtype: int64"
      ]
     },
     "execution_count": 124,
     "metadata": {},
     "output_type": "execute_result"
    }
   ],
   "source": [
    "ibm.OverTime.value_counts()"
   ]
  },
  {
   "cell_type": "markdown",
   "metadata": {},
   "source": [
    "#### Since Attrition and Overtime has same categories (yes and no), we are reusing the same function"
   ]
  },
  {
   "cell_type": "code",
   "execution_count": 125,
   "metadata": {},
   "outputs": [
    {
     "data": {
      "text/plain": [
       "0    1054\n",
       "1     416\n",
       "Name: OverTime, dtype: int64"
      ]
     },
     "execution_count": 125,
     "metadata": {},
     "output_type": "execute_result"
    }
   ],
   "source": [
    "ibm['OverTime']=ibm['OverTime'].apply(Attr)\n",
    "ibm.OverTime.value_counts()"
   ]
  },
  {
   "cell_type": "markdown",
   "metadata": {},
   "source": [
    "### We have converted all the categorical values into Numerical values"
   ]
  },
  {
   "cell_type": "markdown",
   "metadata": {},
   "source": [
    "### Before Feature selection"
   ]
  },
  {
   "cell_type": "code",
   "execution_count": 126,
   "metadata": {
    "scrolled": true
   },
   "outputs": [
    {
     "data": {
      "text/html": [
       "<div>\n",
       "<style scoped>\n",
       "    .dataframe tbody tr th:only-of-type {\n",
       "        vertical-align: middle;\n",
       "    }\n",
       "\n",
       "    .dataframe tbody tr th {\n",
       "        vertical-align: top;\n",
       "    }\n",
       "\n",
       "    .dataframe thead th {\n",
       "        text-align: right;\n",
       "    }\n",
       "</style>\n",
       "<table border=\"1\" class=\"dataframe\">\n",
       "  <thead>\n",
       "    <tr style=\"text-align: right;\">\n",
       "      <th></th>\n",
       "      <th>const</th>\n",
       "      <th>Age</th>\n",
       "      <th>Attrition</th>\n",
       "      <th>BusinessTravel</th>\n",
       "      <th>DailyRate</th>\n",
       "      <th>Department</th>\n",
       "      <th>DistanceFromHome</th>\n",
       "      <th>Education</th>\n",
       "      <th>EducationField</th>\n",
       "      <th>EmployeeNumber</th>\n",
       "      <th>...</th>\n",
       "      <th>PerformanceRating</th>\n",
       "      <th>RelationshipSatisfaction</th>\n",
       "      <th>StockOptionLevel</th>\n",
       "      <th>TotalWorkingYears</th>\n",
       "      <th>TrainingTimesLastYear</th>\n",
       "      <th>WorkLifeBalance</th>\n",
       "      <th>YearsAtCompany</th>\n",
       "      <th>YearsInCurrentRole</th>\n",
       "      <th>YearsSinceLastPromotion</th>\n",
       "      <th>YearsWithCurrManager</th>\n",
       "    </tr>\n",
       "  </thead>\n",
       "  <tbody>\n",
       "    <tr>\n",
       "      <th>0</th>\n",
       "      <td>1.0</td>\n",
       "      <td>41</td>\n",
       "      <td>1</td>\n",
       "      <td>2</td>\n",
       "      <td>1102</td>\n",
       "      <td>1</td>\n",
       "      <td>1</td>\n",
       "      <td>2</td>\n",
       "      <td>2</td>\n",
       "      <td>1</td>\n",
       "      <td>...</td>\n",
       "      <td>3</td>\n",
       "      <td>1</td>\n",
       "      <td>0</td>\n",
       "      <td>8</td>\n",
       "      <td>0</td>\n",
       "      <td>1</td>\n",
       "      <td>6</td>\n",
       "      <td>4</td>\n",
       "      <td>0</td>\n",
       "      <td>5</td>\n",
       "    </tr>\n",
       "    <tr>\n",
       "      <th>1</th>\n",
       "      <td>1.0</td>\n",
       "      <td>49</td>\n",
       "      <td>0</td>\n",
       "      <td>3</td>\n",
       "      <td>279</td>\n",
       "      <td>2</td>\n",
       "      <td>8</td>\n",
       "      <td>1</td>\n",
       "      <td>2</td>\n",
       "      <td>2</td>\n",
       "      <td>...</td>\n",
       "      <td>4</td>\n",
       "      <td>4</td>\n",
       "      <td>1</td>\n",
       "      <td>10</td>\n",
       "      <td>3</td>\n",
       "      <td>3</td>\n",
       "      <td>10</td>\n",
       "      <td>7</td>\n",
       "      <td>1</td>\n",
       "      <td>7</td>\n",
       "    </tr>\n",
       "    <tr>\n",
       "      <th>2</th>\n",
       "      <td>1.0</td>\n",
       "      <td>37</td>\n",
       "      <td>1</td>\n",
       "      <td>2</td>\n",
       "      <td>1373</td>\n",
       "      <td>2</td>\n",
       "      <td>2</td>\n",
       "      <td>2</td>\n",
       "      <td>6</td>\n",
       "      <td>4</td>\n",
       "      <td>...</td>\n",
       "      <td>3</td>\n",
       "      <td>2</td>\n",
       "      <td>0</td>\n",
       "      <td>7</td>\n",
       "      <td>3</td>\n",
       "      <td>3</td>\n",
       "      <td>0</td>\n",
       "      <td>0</td>\n",
       "      <td>0</td>\n",
       "      <td>0</td>\n",
       "    </tr>\n",
       "    <tr>\n",
       "      <th>3</th>\n",
       "      <td>1.0</td>\n",
       "      <td>33</td>\n",
       "      <td>0</td>\n",
       "      <td>3</td>\n",
       "      <td>1392</td>\n",
       "      <td>2</td>\n",
       "      <td>3</td>\n",
       "      <td>4</td>\n",
       "      <td>2</td>\n",
       "      <td>5</td>\n",
       "      <td>...</td>\n",
       "      <td>3</td>\n",
       "      <td>3</td>\n",
       "      <td>0</td>\n",
       "      <td>8</td>\n",
       "      <td>3</td>\n",
       "      <td>3</td>\n",
       "      <td>8</td>\n",
       "      <td>7</td>\n",
       "      <td>3</td>\n",
       "      <td>0</td>\n",
       "    </tr>\n",
       "    <tr>\n",
       "      <th>4</th>\n",
       "      <td>1.0</td>\n",
       "      <td>27</td>\n",
       "      <td>0</td>\n",
       "      <td>2</td>\n",
       "      <td>591</td>\n",
       "      <td>2</td>\n",
       "      <td>2</td>\n",
       "      <td>1</td>\n",
       "      <td>3</td>\n",
       "      <td>7</td>\n",
       "      <td>...</td>\n",
       "      <td>3</td>\n",
       "      <td>4</td>\n",
       "      <td>1</td>\n",
       "      <td>6</td>\n",
       "      <td>3</td>\n",
       "      <td>3</td>\n",
       "      <td>2</td>\n",
       "      <td>2</td>\n",
       "      <td>2</td>\n",
       "      <td>2</td>\n",
       "    </tr>\n",
       "  </tbody>\n",
       "</table>\n",
       "<p>5 rows × 33 columns</p>\n",
       "</div>"
      ],
      "text/plain": [
       "   const  Age  Attrition  BusinessTravel  DailyRate  Department  \\\n",
       "0    1.0   41          1               2       1102           1   \n",
       "1    1.0   49          0               3        279           2   \n",
       "2    1.0   37          1               2       1373           2   \n",
       "3    1.0   33          0               3       1392           2   \n",
       "4    1.0   27          0               2        591           2   \n",
       "\n",
       "   DistanceFromHome  Education  EducationField  EmployeeNumber  ...  \\\n",
       "0                 1          2               2               1  ...   \n",
       "1                 8          1               2               2  ...   \n",
       "2                 2          2               6               4  ...   \n",
       "3                 3          4               2               5  ...   \n",
       "4                 2          1               3               7  ...   \n",
       "\n",
       "   PerformanceRating  RelationshipSatisfaction  StockOptionLevel  \\\n",
       "0                  3                         1                 0   \n",
       "1                  4                         4                 1   \n",
       "2                  3                         2                 0   \n",
       "3                  3                         3                 0   \n",
       "4                  3                         4                 1   \n",
       "\n",
       "   TotalWorkingYears  TrainingTimesLastYear  WorkLifeBalance  YearsAtCompany  \\\n",
       "0                  8                      0                1               6   \n",
       "1                 10                      3                3              10   \n",
       "2                  7                      3                3               0   \n",
       "3                  8                      3                3               8   \n",
       "4                  6                      3                3               2   \n",
       "\n",
       "   YearsInCurrentRole  YearsSinceLastPromotion  YearsWithCurrManager  \n",
       "0                   4                        0                     5  \n",
       "1                   7                        1                     7  \n",
       "2                   0                        0                     0  \n",
       "3                   7                        3                     0  \n",
       "4                   2                        2                     2  \n",
       "\n",
       "[5 rows x 33 columns]"
      ]
     },
     "execution_count": 126,
     "metadata": {},
     "output_type": "execute_result"
    }
   ],
   "source": [
    "ibm_feature2=ibm.copy()\n",
    "ibm_constant1 = add_constant(ibm_feature2)\n",
    "ibm_constant1.head()"
   ]
  },
  {
   "cell_type": "markdown",
   "metadata": {},
   "source": [
    "### Logistic Regression"
   ]
  },
  {
   "cell_type": "code",
   "execution_count": 127,
   "metadata": {},
   "outputs": [],
   "source": [
    "x=ibm_constant1.drop('Attrition',axis=1)\n",
    "y=ibm_constant1['Attrition'].values\n",
    "from sklearn.model_selection import train_test_split\n",
    "x_train,x_test,y_train,y_test=train_test_split(x,y,test_size=.20,random_state=5)\n",
    "logreg=LogisticRegression()\n",
    "logreg.fit(x_train,y_train)\n",
    "y_pred=logreg.predict(x_test)\n",
    "y_pred1=logreg.predict(x_train)"
   ]
  },
  {
   "cell_type": "code",
   "execution_count": 128,
   "metadata": {},
   "outputs": [
    {
     "name": "stdout",
     "output_type": "stream",
     "text": [
      "\n",
      "Accuracy of the model using Logistic Regression without any imbalance data correction technique on test set is  0.8707482993197279\n",
      "-----------------------------------------------------------------------------------------------------------------------------\n",
      "\n",
      "Accuracy of the model using Logistic Regression without any imbalance data correction technique on train set is  0.8767006802721088\n",
      "-----------------------------------------------------------------------------------------------------------------------------\n",
      "\n",
      "F1 score using logistic regression without any imbalance data correction technique 0.42424242424242414\n",
      "-----------------------------------------------------------------------------------------------------------------------------\n",
      "\n",
      "Recall score using Logistic Regression without any imbalance data correction technique 0.2857142857142857\n",
      "-----------------------------------------------------------------------------------------------------------------------------\n",
      "\n",
      "Classification report using logistic regression without any imbalance data correction technique\n",
      "               precision    recall  f1-score   support\n",
      "\n",
      "           0       0.87      0.99      0.93       245\n",
      "           1       0.82      0.29      0.42        49\n",
      "\n",
      "   micro avg       0.87      0.87      0.87       294\n",
      "   macro avg       0.85      0.64      0.68       294\n",
      "weighted avg       0.87      0.87      0.84       294\n",
      "\n"
     ]
    }
   ],
   "source": [
    "import sklearn\n",
    "print('\\nAccuracy of the model using Logistic Regression without any imbalance data correction technique on test set is ' ,accuracy_score(y_test,y_pred))\n",
    "print('-----------------------------------------------------------------------------------------------------------------------------')\n",
    "print('\\nAccuracy of the model using Logistic Regression without any imbalance data correction technique on train set is ' ,accuracy_score(y_train,y_pred1))\n",
    "print('-----------------------------------------------------------------------------------------------------------------------------')\n",
    "print('\\nF1 score using logistic regression without any imbalance data correction technique',f1_score(y_test, y_pred))\n",
    "print('-----------------------------------------------------------------------------------------------------------------------------')\n",
    "print('\\nRecall score using Logistic Regression without any imbalance data correction technique',recall_score(y_test, y_pred))\n",
    "print('-----------------------------------------------------------------------------------------------------------------------------')\n",
    "print('\\nClassification report using logistic regression without any imbalance data correction technique\\n',classification_report(y_test, y_pred))"
   ]
  },
  {
   "cell_type": "markdown",
   "metadata": {},
   "source": [
    "#### Confusion Matrix"
   ]
  },
  {
   "cell_type": "code",
   "execution_count": 129,
   "metadata": {},
   "outputs": [
    {
     "data": {
      "text/plain": [
       "<matplotlib.axes._subplots.AxesSubplot at 0x1b90aa7aef0>"
      ]
     },
     "execution_count": 129,
     "metadata": {},
     "output_type": "execute_result"
    },
    {
     "data": {
      "image/png": "[encoded data removed]",
      "text/plain": [
       "<Figure size 576x360 with 2 Axes>"
      ]
     },
     "metadata": {
      "needs_background": "light"
     },
     "output_type": "display_data"
    }
   ],
   "source": [
    "\n",
    "cm=confusion_matrix(y_test,y_pred)\n",
    "conf_matrix=pd.DataFrame(data=cm,columns=['Predicted:0','Predicted:1'],index=['Actual:0','Actual:1'])\n",
    "plt.figure(figsize = (8,5))\n",
    "sns.heatmap(conf_matrix, annot=True,fmt='d',cmap=\"YlGnBu\")"
   ]
  },
  {
   "cell_type": "markdown",
   "metadata": {},
   "source": [
    "The confusion matrix shows 658+4 = 662 correct predictions and 88+1= 89 incorrect ones.\n",
    "\n",
    "**<font color=DarkBlue>True Positives:**  14<font>\n",
    "\n",
    "**<font color=DarkBlue>True Negatives:**  242<font>\n",
    "\n",
    "**<font color=DarkBlue>False Positives:** 3 (*Type I error*)<font>\n",
    "\n",
    "**<font color=DarkBlue>False Negatives:** 35 ( *Type II error*)<font>"
   ]
  },
  {
   "cell_type": "code",
   "execution_count": 130,
   "metadata": {},
   "outputs": [],
   "source": [
    "TN=cm[0,0]\n",
    "TP=cm[1,1]\n",
    "FN=cm[1,0]\n",
    "FP=cm[0,1]\n",
    "sensitivity=TP/float(TP+FN)\n",
    "specificity=TN/float(TN+FP)"
   ]
  },
  {
   "cell_type": "markdown",
   "metadata": {},
   "source": [
    "### <font color=CornflowerBlue>Model Evaluation - Statistics<font>"
   ]
  },
  {
   "cell_type": "code",
   "execution_count": 131,
   "metadata": {},
   "outputs": [
    {
     "name": "stdout",
     "output_type": "stream",
     "text": [
      "The acuuracy of the model = TP+TN / (TP+TN+FP+FN) =  0.8707482993197279 \n",
      "\n",
      " The Miss-classification = 1-Accuracy =  0.12925170068027214 \n",
      "\n",
      " Sensitivity or True Positive Rate = TP / (TP+FN) =  0.2857142857142857 \n",
      "\n",
      " Specificity or True Negative Rate = TN / (TN+FP) =  0.9877551020408163 \n",
      "\n",
      " Positive Predictive value = TP / (TP+FP) =  0.8235294117647058 \n",
      "\n",
      " Negative predictive Value = TN / (TN+FN) =  0.8736462093862816 \n",
      "\n",
      " Positive Likelihood Ratio = Sensitivity / (1-Specificity) =  23.333333333333265 \n",
      "\n",
      " Negative likelihood Ratio = (1-Sensitivity) / Specificity =  0.7231404958677686\n"
     ]
    }
   ],
   "source": [
    "print('The acuuracy of the model = TP+TN / (TP+TN+FP+FN) = ',(TP+TN)/float(TP+TN+FP+FN),'\\n\\n',\n",
    "\n",
    "'The Miss-classification = 1-Accuracy = ',1-((TP+TN)/float(TP+TN+FP+FN)),'\\n\\n',\n",
    "\n",
    "'Sensitivity or True Positive Rate = TP / (TP+FN) = ',TP/float(TP+FN),'\\n\\n',\n",
    "\n",
    "'Specificity or True Negative Rate = TN / (TN+FP) = ',TN/float(TN+FP),'\\n\\n',\n",
    "\n",
    "'Positive Predictive value = TP / (TP+FP) = ',TP/float(TP+FP),'\\n\\n',\n",
    "\n",
    "'Negative predictive Value = TN / (TN+FN) = ',TN/float(TN+FN),'\\n\\n',\n",
    "\n",
    "'Positive Likelihood Ratio = Sensitivity / (1-Specificity) = ',sensitivity/(1-specificity),'\\n\\n',\n",
    "\n",
    "'Negative likelihood Ratio = (1-Sensitivity) / Specificity = ',(1-sensitivity)/specificity)\n"
   ]
  },
  {
   "cell_type": "markdown",
   "metadata": {},
   "source": [
    "### Decision Tree"
   ]
  },
  {
   "cell_type": "code",
   "execution_count": 132,
   "metadata": {},
   "outputs": [],
   "source": [
    "import numpy as np\n",
    "import pandas as pd\n",
    "from sklearn.model_selection import train_test_split\n",
    "from sklearn.tree import DecisionTreeClassifier\n",
    "from sklearn import tree\n",
    "\n",
    "#metrics\n",
    "from statistics import mean\n",
    "from sklearn.metrics import accuracy_score \n",
    "from sklearn.metrics import explained_variance_score as evs\n",
    "import seaborn as sns\n",
    "import matplotlib.pyplot as plt\n",
    "from sklearn.metrics import classification_report\n",
    "from sklearn.preprocessing import LabelEncoder\n",
    "import os"
   ]
  },
  {
   "cell_type": "markdown",
   "metadata": {},
   "source": [
    "#### Gini Criterion"
   ]
  },
  {
   "cell_type": "code",
   "execution_count": 133,
   "metadata": {},
   "outputs": [
    {
     "name": "stdout",
     "output_type": "stream",
     "text": [
      "Accuracy Score using Decision Tree - gini on train set:  0.8596938775510204\n",
      "-----------------------------------------------------------------------------------------------------------------------------\n",
      "Accuracy Score using Decision Tree - gini on test set:  0.8469387755102041\n",
      "-----------------------------------------------------------------------------------------------------------------------------\n",
      "F1 score using Decision Tree - Gini without any technique 0.23728813559322035\n",
      "-----------------------------------------------------------------------------------------------------------------------------\n",
      "Recall score using Decision Tree - Gini without any technique 0.14285714285714285\n",
      "-----------------------------------------------------------------------------------------------------------------------------\n",
      "Classification Report for Decision tree - gini\n",
      "              precision    recall  f1-score   support\n",
      "\n",
      "           0       0.85      0.99      0.91       245\n",
      "           1       0.70      0.14      0.24        49\n",
      "\n",
      "   micro avg       0.85      0.85      0.85       294\n",
      "   macro avg       0.78      0.57      0.58       294\n",
      "weighted avg       0.83      0.85      0.80       294\n",
      "\n"
     ]
    }
   ],
   "source": [
    "giniDecisionTree = DecisionTreeClassifier(criterion='gini',random_state = 100,max_depth=3, min_samples_leaf=5)\n",
    "\n",
    "giniDecisionTree.fit(x_train, y_train)\n",
    "giniPred = giniDecisionTree.predict(x_test)\n",
    "giniPred1 = giniDecisionTree.predict(x_train)\n",
    "print('Accuracy Score using Decision Tree - gini on train set: ',accuracy_score(y_train, giniPred1))\n",
    "print('-----------------------------------------------------------------------------------------------------------------------------')\n",
    "print('Accuracy Score using Decision Tree - gini on test set: ',accuracy_score(y_test, giniPred))\n",
    "print('-----------------------------------------------------------------------------------------------------------------------------')\n",
    "\n",
    "print('F1 score using Decision Tree - Gini without any technique',f1_score(y_test, giniPred))\n",
    "print('-----------------------------------------------------------------------------------------------------------------------------')\n",
    "print('Recall score using Decision Tree - Gini without any technique',recall_score(y_test, giniPred))\n",
    "print('-----------------------------------------------------------------------------------------------------------------------------')\n",
    "print('Classification Report for Decision tree - gini')\n",
    "print(classification_report(y_test, giniPred))"
   ]
  },
  {
   "cell_type": "markdown",
   "metadata": {},
   "source": [
    "### Entropy Criterion"
   ]
  },
  {
   "cell_type": "code",
   "execution_count": 134,
   "metadata": {},
   "outputs": [
    {
     "name": "stdout",
     "output_type": "stream",
     "text": [
      "Accuracy Score using Decision tree - entropy on train set:  0.8596938775510204\n",
      "---------------------------------------------------------------------------------------------------------------\n",
      "\n",
      "Accuracy Score using Decision tree - entropy on test set :  0.8469387755102041\n",
      "---------------------------------------------------------------------------------------------------------------\n",
      "\n",
      "F1 score using Decision tree - Entropy without any technique 0.23728813559322035\n",
      "---------------------------------------------------------------------------------------------------------------\n",
      "\n",
      "Recall score using  Decision tree - Entropy without any technique 0.14285714285714285\n",
      "---------------------------------------------------------------------------------------------------------------\n",
      "Classification report using Decision tree - Entropy without any technique\n",
      "               precision    recall  f1-score   support\n",
      "\n",
      "           0       0.85      0.99      0.91       245\n",
      "           1       0.70      0.14      0.24        49\n",
      "\n",
      "   micro avg       0.85      0.85      0.85       294\n",
      "   macro avg       0.78      0.57      0.58       294\n",
      "weighted avg       0.83      0.85      0.80       294\n",
      "\n"
     ]
    }
   ],
   "source": [
    "entropyDecisionTree = DecisionTreeClassifier(criterion='entropy',random_state = 100,max_depth=3, min_samples_leaf=5)\n",
    "entropyDecisionTree.fit(x_train, y_train)\n",
    "entropyPred = entropyDecisionTree.predict(x_test)\n",
    "entropyPred1 = entropyDecisionTree.predict(x_train)\n",
    "print('Accuracy Score using Decision tree - entropy on train set: ',accuracy_score(y_train, entropyPred1))\n",
    "print('---------------------------------------------------------------------------------------------------------------')\n",
    "print('\\nAccuracy Score using Decision tree - entropy on test set : ',accuracy_score(y_test, entropyPred))\n",
    "print('---------------------------------------------------------------------------------------------------------------')\n",
    "\n",
    "print('\\nF1 score using Decision tree - Entropy without any technique',f1_score(y_test, entropyPred))\n",
    "print('---------------------------------------------------------------------------------------------------------------')\n",
    "print('\\nRecall score using  Decision tree - Entropy without any technique',recall_score(y_test, entropyPred))\n",
    "print('---------------------------------------------------------------------------------------------------------------')\n",
    "print('Classification report using Decision tree - Entropy without any technique\\n',classification_report(y_test, entropyPred))"
   ]
  },
  {
   "cell_type": "markdown",
   "metadata": {},
   "source": [
    "### Random Forest"
   ]
  },
  {
   "cell_type": "code",
   "execution_count": 135,
   "metadata": {},
   "outputs": [],
   "source": [
    "import numpy as np\n",
    "import pandas as pd\n",
    "import seaborn as sns\n",
    "import matplotlib.pyplot as plt\n",
    "from sklearn.metrics import roc_curve, auc\n",
    "from sklearn.metrics import confusion_matrix\n",
    "from sklearn.metrics import classification_report\n",
    "from sklearn.model_selection import KFold, cross_val_score\n",
    "from sklearn.model_selection import train_test_split, GridSearchCV\n",
    "from sklearn.ensemble import RandomForestClassifier \n",
    "import warnings\n",
    "warnings.filterwarnings(\"ignore\")"
   ]
  },
  {
   "cell_type": "code",
   "execution_count": 136,
   "metadata": {},
   "outputs": [],
   "source": [
    "fit_rf = RandomForestClassifier(random_state=42)"
   ]
  },
  {
   "cell_type": "code",
   "execution_count": 137,
   "metadata": {},
   "outputs": [
    {
     "name": "stdout",
     "output_type": "stream",
     "text": [
      "[[245   0]\n",
      " [ 39  10]]\n",
      "              precision    recall  f1-score   support\n",
      "\n",
      "           0       0.86      1.00      0.93       245\n",
      "           1       1.00      0.20      0.34        49\n",
      "\n",
      "   micro avg       0.87      0.87      0.87       294\n",
      "   macro avg       0.93      0.60      0.63       294\n",
      "weighted avg       0.89      0.87      0.83       294\n",
      "\n"
     ]
    }
   ],
   "source": [
    "from sklearn.ensemble import RandomForestClassifier\n",
    "trainedforest = RandomForestClassifier(n_estimators=700).fit(x_train,y_train)\n",
    "\n",
    "predictionforest = trainedforest.predict(x_test)\n",
    "predictionforest1 = trainedforest.predict(x_train)\n",
    "print(trainedforest.accuracy_)\n",
    "print(confusion_matrix(y_test,predictionforest))\n",
    "print(classification_report(y_test,predictionforest))"
   ]
  },
  {
   "cell_type": "code",
   "execution_count": 138,
   "metadata": {},
   "outputs": [
    {
     "data": {
      "text/plain": [
       "<matplotlib.axes._subplots.AxesSubplot at 0x1b90ac96f60>"
      ]
     },
     "execution_count": 138,
     "metadata": {},
     "output_type": "execute_result"
    },
    {
     "data": {
      "image/png": "[encoded data removed]",
      "text/plain": [
       "<Figure size 800x960 with 1 Axes>"
      ]
     },
     "metadata": {},
     "output_type": "display_data"
    }
   ],
   "source": [
    "from matplotlib.pyplot import figure\n",
    "figure(num=None, figsize=(10, 12), dpi=80, facecolor='w', edgecolor='k')\n",
    "\n",
    "feat_importances = pd.Series(trainedforest.feature_importances_, index= x.columns)\n",
    "feat_importances.nlargest(7).plot(kind='barh')"
   ]
  },
  {
   "cell_type": "code",
   "execution_count": 166,
   "metadata": {
    "scrolled": true
   },
   "outputs": [
    {
     "name": "stdout",
     "output_type": "stream",
     "text": [
      "Best Parameters using grid search: \n",
      " {'bootstrap': False, 'criterion': 'entropy', 'max_depth': 12, 'max_features': 'auto'}\n",
      "Time taken in grid search:  9.75\n"
     ]
    }
   ],
   "source": [
    "import time\n",
    "import random\n",
    "np.random.seed(42)\n",
    "start = time.time()\n",
    "\n",
    "param_dist = {'max_depth': [10,11,12],'bootstrap': [True, False],'max_features': ['auto', 'sqrt', 'log2', None],'criterion': ['gini', 'entropy']}\n",
    "\n",
    "cv_rf = GridSearchCV(fit_rf, cv = 10,param_grid=param_dist, n_jobs = 3)\n",
    "\n",
    "cv_rf.fit(x_train,y_train)\n",
    "print('Best Parameters using grid search: \\n', cv_rf.best_params_)\n",
    "end = time.time()\n",
    "print('Time taken in grid search: {0: .2f}'.format(end - start))"
   ]
  },
  {
   "cell_type": "code",
   "execution_count": 167,
   "metadata": {},
   "outputs": [
    {
     "name": "stdout",
     "output_type": "stream",
     "text": [
      "Accuracy on training set without any techniques : 1.00\n",
      "Accuracy on test set: 0.83\n"
     ]
    }
   ],
   "source": [
    "from sklearn.svm import SVC\n",
    "\n",
    "svc = SVC()\n",
    "svc.fit(x_train, y_train)\n",
    "\n",
    "print(\"Accuracy on training set without any techniques : {:.2f}\".format(svc.score(x_train, y_train)))\n",
    "print(\"Accuracy on test set: {:.2f}\".format(svc.score(x_test, y_test)))"
   ]
  },
  {
   "cell_type": "markdown",
   "metadata": {},
   "source": [
    "#### ------------------------------------------------------------------------------------------------------------------------------------------------------------------------------------------------------------------"
   ]
  },
  {
   "cell_type": "markdown",
   "metadata": {},
   "source": [
    "### Feature Selection - RFE method"
   ]
  },
  {
   "cell_type": "code",
   "execution_count": 168,
   "metadata": {
    "scrolled": true
   },
   "outputs": [
    {
     "name": "stdout",
     "output_type": "stream",
     "text": [
      "Using OLS model, features selected are \n",
      " ['Age', 'BusinessTravel', 'Department', 'DistanceFromHome', 'EnvironmentSatisfaction', 'Gender', 'JobInvolvement', 'JobLevel', 'JobRole', 'JobSatisfaction', 'MaritalStatus', 'NumCompaniesWorked', 'OverTime', 'RelationshipSatisfaction', 'WorkLifeBalance', 'YearsInCurrentRole', 'YearsSinceLastPromotion']\n"
     ]
    }
   ],
   "source": [
    "x=ibm.drop(['Attrition'],axis=1)\n",
    "y=ibm['Attrition'].values\n",
    "cols=list(x.columns)\n",
    "\n",
    "while(len(cols)>0):\n",
    "    p=[]\n",
    "    x1=x[cols]\n",
    "    x1=sm.add_constant(x1)\n",
    "    li=sm.OLS(y,x1).fit()\n",
    "    p=pd.Series(li.pvalues.values[1:],index=cols)\n",
    "    p_max=max(p) #max pval\n",
    "    feature_pmax=p.idxmax() # feature name of max pval\n",
    "    if(p_max>0.05):\n",
    "        cols.remove(feature_pmax)\n",
    "        \n",
    "    else:\n",
    "        break\n",
    "selected_cols=cols\n",
    "print('Using OLS model, features selected are \\n', selected_cols)"
   ]
  },
  {
   "cell_type": "code",
   "execution_count": 169,
   "metadata": {},
   "outputs": [
    {
     "data": {
      "text/html": [
       "<div>\n",
       "<style scoped>\n",
       "    .dataframe tbody tr th:only-of-type {\n",
       "        vertical-align: middle;\n",
       "    }\n",
       "\n",
       "    .dataframe tbody tr th {\n",
       "        vertical-align: top;\n",
       "    }\n",
       "\n",
       "    .dataframe thead th {\n",
       "        text-align: right;\n",
       "    }\n",
       "</style>\n",
       "<table border=\"1\" class=\"dataframe\">\n",
       "  <thead>\n",
       "    <tr style=\"text-align: right;\">\n",
       "      <th></th>\n",
       "      <th>Age</th>\n",
       "      <th>BusinessTravel</th>\n",
       "      <th>Department</th>\n",
       "      <th>DistanceFromHome</th>\n",
       "      <th>EnvironmentSatisfaction</th>\n",
       "      <th>Gender</th>\n",
       "      <th>JobInvolvement</th>\n",
       "      <th>JobLevel</th>\n",
       "      <th>JobRole</th>\n",
       "      <th>JobSatisfaction</th>\n",
       "      <th>MaritalStatus</th>\n",
       "      <th>NumCompaniesWorked</th>\n",
       "      <th>OverTime</th>\n",
       "      <th>RelationshipSatisfaction</th>\n",
       "      <th>WorkLifeBalance</th>\n",
       "      <th>YearsInCurrentRole</th>\n",
       "      <th>YearsSinceLastPromotion</th>\n",
       "    </tr>\n",
       "  </thead>\n",
       "  <tbody>\n",
       "    <tr>\n",
       "      <th>0</th>\n",
       "      <td>41</td>\n",
       "      <td>2</td>\n",
       "      <td>1</td>\n",
       "      <td>1</td>\n",
       "      <td>2</td>\n",
       "      <td>2</td>\n",
       "      <td>3</td>\n",
       "      <td>2</td>\n",
       "      <td>1</td>\n",
       "      <td>4</td>\n",
       "      <td>1</td>\n",
       "      <td>8</td>\n",
       "      <td>1</td>\n",
       "      <td>1</td>\n",
       "      <td>1</td>\n",
       "      <td>4</td>\n",
       "      <td>0</td>\n",
       "    </tr>\n",
       "    <tr>\n",
       "      <th>1</th>\n",
       "      <td>49</td>\n",
       "      <td>3</td>\n",
       "      <td>2</td>\n",
       "      <td>8</td>\n",
       "      <td>3</td>\n",
       "      <td>1</td>\n",
       "      <td>2</td>\n",
       "      <td>2</td>\n",
       "      <td>2</td>\n",
       "      <td>2</td>\n",
       "      <td>2</td>\n",
       "      <td>1</td>\n",
       "      <td>0</td>\n",
       "      <td>4</td>\n",
       "      <td>3</td>\n",
       "      <td>7</td>\n",
       "      <td>1</td>\n",
       "    </tr>\n",
       "  </tbody>\n",
       "</table>\n",
       "</div>"
      ],
      "text/plain": [
       "   Age  BusinessTravel  Department  DistanceFromHome  EnvironmentSatisfaction  \\\n",
       "0   41               2           1                 1                        2   \n",
       "1   49               3           2                 8                        3   \n",
       "\n",
       "   Gender  JobInvolvement  JobLevel  JobRole  JobSatisfaction  MaritalStatus  \\\n",
       "0       2               3         2        1                4              1   \n",
       "1       1               2         2        2                2              2   \n",
       "\n",
       "   NumCompaniesWorked  OverTime  RelationshipSatisfaction  WorkLifeBalance  \\\n",
       "0                   8         1                         1                1   \n",
       "1                   1         0                         4                3   \n",
       "\n",
       "   YearsInCurrentRole  YearsSinceLastPromotion  \n",
       "0                   4                        0  \n",
       "1                   7                        1  "
      ]
     },
     "execution_count": 169,
     "metadata": {},
     "output_type": "execute_result"
    }
   ],
   "source": [
    "ibm_feature1=ibm[selected_cols]\n",
    "ibm_feature1.head(2)"
   ]
  },
  {
   "cell_type": "code",
   "execution_count": 170,
   "metadata": {
    "scrolled": true
   },
   "outputs": [
    {
     "data": {
      "text/html": [
       "<div>\n",
       "<style scoped>\n",
       "    .dataframe tbody tr th:only-of-type {\n",
       "        vertical-align: middle;\n",
       "    }\n",
       "\n",
       "    .dataframe tbody tr th {\n",
       "        vertical-align: top;\n",
       "    }\n",
       "\n",
       "    .dataframe thead th {\n",
       "        text-align: right;\n",
       "    }\n",
       "</style>\n",
       "<table border=\"1\" class=\"dataframe\">\n",
       "  <thead>\n",
       "    <tr style=\"text-align: right;\">\n",
       "      <th></th>\n",
       "      <th>const</th>\n",
       "      <th>Age</th>\n",
       "      <th>BusinessTravel</th>\n",
       "      <th>Department</th>\n",
       "      <th>DistanceFromHome</th>\n",
       "      <th>EnvironmentSatisfaction</th>\n",
       "      <th>Gender</th>\n",
       "      <th>JobInvolvement</th>\n",
       "      <th>JobLevel</th>\n",
       "      <th>JobRole</th>\n",
       "      <th>JobSatisfaction</th>\n",
       "      <th>MaritalStatus</th>\n",
       "      <th>NumCompaniesWorked</th>\n",
       "      <th>OverTime</th>\n",
       "      <th>RelationshipSatisfaction</th>\n",
       "      <th>WorkLifeBalance</th>\n",
       "      <th>YearsInCurrentRole</th>\n",
       "      <th>YearsSinceLastPromotion</th>\n",
       "    </tr>\n",
       "  </thead>\n",
       "  <tbody>\n",
       "    <tr>\n",
       "      <th>0</th>\n",
       "      <td>1.0</td>\n",
       "      <td>41</td>\n",
       "      <td>2</td>\n",
       "      <td>1</td>\n",
       "      <td>1</td>\n",
       "      <td>2</td>\n",
       "      <td>2</td>\n",
       "      <td>3</td>\n",
       "      <td>2</td>\n",
       "      <td>1</td>\n",
       "      <td>4</td>\n",
       "      <td>1</td>\n",
       "      <td>8</td>\n",
       "      <td>1</td>\n",
       "      <td>1</td>\n",
       "      <td>1</td>\n",
       "      <td>4</td>\n",
       "      <td>0</td>\n",
       "    </tr>\n",
       "    <tr>\n",
       "      <th>1</th>\n",
       "      <td>1.0</td>\n",
       "      <td>49</td>\n",
       "      <td>3</td>\n",
       "      <td>2</td>\n",
       "      <td>8</td>\n",
       "      <td>3</td>\n",
       "      <td>1</td>\n",
       "      <td>2</td>\n",
       "      <td>2</td>\n",
       "      <td>2</td>\n",
       "      <td>2</td>\n",
       "      <td>2</td>\n",
       "      <td>1</td>\n",
       "      <td>0</td>\n",
       "      <td>4</td>\n",
       "      <td>3</td>\n",
       "      <td>7</td>\n",
       "      <td>1</td>\n",
       "    </tr>\n",
       "    <tr>\n",
       "      <th>2</th>\n",
       "      <td>1.0</td>\n",
       "      <td>37</td>\n",
       "      <td>2</td>\n",
       "      <td>2</td>\n",
       "      <td>2</td>\n",
       "      <td>4</td>\n",
       "      <td>1</td>\n",
       "      <td>2</td>\n",
       "      <td>1</td>\n",
       "      <td>3</td>\n",
       "      <td>3</td>\n",
       "      <td>1</td>\n",
       "      <td>6</td>\n",
       "      <td>1</td>\n",
       "      <td>2</td>\n",
       "      <td>3</td>\n",
       "      <td>0</td>\n",
       "      <td>0</td>\n",
       "    </tr>\n",
       "    <tr>\n",
       "      <th>3</th>\n",
       "      <td>1.0</td>\n",
       "      <td>33</td>\n",
       "      <td>3</td>\n",
       "      <td>2</td>\n",
       "      <td>3</td>\n",
       "      <td>4</td>\n",
       "      <td>2</td>\n",
       "      <td>3</td>\n",
       "      <td>1</td>\n",
       "      <td>2</td>\n",
       "      <td>3</td>\n",
       "      <td>2</td>\n",
       "      <td>1</td>\n",
       "      <td>1</td>\n",
       "      <td>3</td>\n",
       "      <td>3</td>\n",
       "      <td>7</td>\n",
       "      <td>3</td>\n",
       "    </tr>\n",
       "    <tr>\n",
       "      <th>4</th>\n",
       "      <td>1.0</td>\n",
       "      <td>27</td>\n",
       "      <td>2</td>\n",
       "      <td>2</td>\n",
       "      <td>2</td>\n",
       "      <td>1</td>\n",
       "      <td>1</td>\n",
       "      <td>3</td>\n",
       "      <td>1</td>\n",
       "      <td>3</td>\n",
       "      <td>2</td>\n",
       "      <td>2</td>\n",
       "      <td>9</td>\n",
       "      <td>0</td>\n",
       "      <td>4</td>\n",
       "      <td>3</td>\n",
       "      <td>2</td>\n",
       "      <td>2</td>\n",
       "    </tr>\n",
       "  </tbody>\n",
       "</table>\n",
       "</div>"
      ],
      "text/plain": [
       "   const  Age  BusinessTravel  Department  DistanceFromHome  \\\n",
       "0    1.0   41               2           1                 1   \n",
       "1    1.0   49               3           2                 8   \n",
       "2    1.0   37               2           2                 2   \n",
       "3    1.0   33               3           2                 3   \n",
       "4    1.0   27               2           2                 2   \n",
       "\n",
       "   EnvironmentSatisfaction  Gender  JobInvolvement  JobLevel  JobRole  \\\n",
       "0                        2       2               3         2        1   \n",
       "1                        3       1               2         2        2   \n",
       "2                        4       1               2         1        3   \n",
       "3                        4       2               3         1        2   \n",
       "4                        1       1               3         1        3   \n",
       "\n",
       "   JobSatisfaction  MaritalStatus  NumCompaniesWorked  OverTime  \\\n",
       "0                4              1                   8         1   \n",
       "1                2              2                   1         0   \n",
       "2                3              1                   6         1   \n",
       "3                3              2                   1         1   \n",
       "4                2              2                   9         0   \n",
       "\n",
       "   RelationshipSatisfaction  WorkLifeBalance  YearsInCurrentRole  \\\n",
       "0                         1                1                   4   \n",
       "1                         4                3                   7   \n",
       "2                         2                3                   0   \n",
       "3                         3                3                   7   \n",
       "4                         4                3                   2   \n",
       "\n",
       "   YearsSinceLastPromotion  \n",
       "0                        0  \n",
       "1                        1  \n",
       "2                        0  \n",
       "3                        3  \n",
       "4                        2  "
      ]
     },
     "execution_count": 170,
     "metadata": {},
     "output_type": "execute_result"
    }
   ],
   "source": [
    "\n",
    "ibm_constant = add_constant(ibm_feature1)\n",
    "ibm_constant.head()"
   ]
  },
  {
   "cell_type": "markdown",
   "metadata": {},
   "source": [
    "### Logistic Regression"
   ]
  },
  {
   "cell_type": "code",
   "execution_count": 171,
   "metadata": {},
   "outputs": [],
   "source": [
    "x=ibm_constant\n",
    "y=ibm['Attrition'].values\n",
    "from sklearn.model_selection import train_test_split\n",
    "x_train,x_test,y_train,y_test=train_test_split(x,y,test_size=.20,random_state=5)\n",
    "logreg=LogisticRegression()\n",
    "logreg.fit(x_train,y_train)\n",
    "y_pred=logreg.predict(x_test)\n",
    "y_pred1=logreg.predict(x_train)"
   ]
  },
  {
   "cell_type": "code",
   "execution_count": 172,
   "metadata": {},
   "outputs": [
    {
     "name": "stdout",
     "output_type": "stream",
     "text": [
      "\n",
      "Accuracy of the model using Logistic Regression without any imbalance data correction technique on test set is  0.8707482993197279\n",
      "-----------------------------------------------------------------------------------------------------------------------------\n",
      "\n",
      "Accuracy of the model using Logistic Regression without any imbalance data correction technique on train set is  0.8818027210884354\n",
      "-----------------------------------------------------------------------------------------------------------------------------\n",
      "\n",
      "F1 score using logistic regression without any imbalance data correction technique 0.4722222222222222\n",
      "-----------------------------------------------------------------------------------------------------------------------------\n",
      "\n",
      "Recall score using Logistic Regression without any imbalance data correction technique 0.3469387755102041\n",
      "-----------------------------------------------------------------------------------------------------------------------------\n",
      "\n",
      "Classification report using logistic regression without any imbalance data correction technique\n",
      "               precision    recall  f1-score   support\n",
      "\n",
      "           0       0.88      0.98      0.93       245\n",
      "           1       0.74      0.35      0.47        49\n",
      "\n",
      "   micro avg       0.87      0.87      0.87       294\n",
      "   macro avg       0.81      0.66      0.70       294\n",
      "weighted avg       0.86      0.87      0.85       294\n",
      "\n"
     ]
    }
   ],
   "source": [
    "import sklearn\n",
    "print('\\nAccuracy of the model using Logistic Regression without any imbalance data correction technique on test set is ' ,accuracy_score(y_test,y_pred))\n",
    "print('-----------------------------------------------------------------------------------------------------------------------------')\n",
    "print('\\nAccuracy of the model using Logistic Regression without any imbalance data correction technique on train set is ' ,accuracy_score(y_train,y_pred1))\n",
    "print('-----------------------------------------------------------------------------------------------------------------------------')\n",
    "print('\\nF1 score using logistic regression without any imbalance data correction technique',f1_score(y_test, y_pred))\n",
    "print('-----------------------------------------------------------------------------------------------------------------------------')\n",
    "print('\\nRecall score using Logistic Regression without any imbalance data correction technique',recall_score(y_test, y_pred))\n",
    "print('-----------------------------------------------------------------------------------------------------------------------------')\n",
    "print('\\nClassification report using logistic regression without any imbalance data correction technique\\n',classification_report(y_test, y_pred))"
   ]
  },
  {
   "cell_type": "markdown",
   "metadata": {},
   "source": [
    "#### Confusion Matrix"
   ]
  },
  {
   "cell_type": "code",
   "execution_count": 173,
   "metadata": {},
   "outputs": [
    {
     "data": {
      "text/plain": [
       "<matplotlib.axes._subplots.AxesSubplot at 0x1e1db38c438>"
      ]
     },
     "execution_count": 173,
     "metadata": {},
     "output_type": "execute_result"
    },
    {
     "data": {
      "image/png": "[encoded data removed]",
      "text/plain": [
       "<Figure size 576x360 with 2 Axes>"
      ]
     },
     "metadata": {
      "needs_background": "light"
     },
     "output_type": "display_data"
    }
   ],
   "source": [
    "\n",
    "cm=confusion_matrix(y_test,y_pred)\n",
    "conf_matrix=pd.DataFrame(data=cm,columns=['Predicted:0','Predicted:1'],index=['Actual:0','Actual:1'])\n",
    "plt.figure(figsize = (8,5))\n",
    "sns.heatmap(conf_matrix, annot=True,fmt='d',cmap=\"YlGnBu\")"
   ]
  },
  {
   "cell_type": "markdown",
   "metadata": {},
   "source": [
    "The confusion matrix shows 658+4 = 662 correct predictions and 88+1= 89 incorrect ones.\n",
    "\n",
    "**<font color=DarkBlue>True Positives:**  17<font>\n",
    "\n",
    "**<font color=DarkBlue>True Negatives:**  239<font>\n",
    "\n",
    "**<font color=DarkBlue>False Positives:** 6 (*Type I error*)<font>\n",
    "\n",
    "**<font color=DarkBlue>False Negatives:** 32 ( *Type II error*)<font>"
   ]
  },
  {
   "cell_type": "code",
   "execution_count": 174,
   "metadata": {},
   "outputs": [],
   "source": [
    "TN=cm[0,0]\n",
    "TP=cm[1,1]\n",
    "FN=cm[1,0]\n",
    "FP=cm[0,1]\n",
    "sensitivity=TP/float(TP+FN)\n",
    "specificity=TN/float(TN+FP)"
   ]
  },
  {
   "cell_type": "markdown",
   "metadata": {},
   "source": [
    "### <font color=CornflowerBlue>Model Evaluation - Statistics<font>"
   ]
  },
  {
   "cell_type": "code",
   "execution_count": 175,
   "metadata": {},
   "outputs": [
    {
     "name": "stdout",
     "output_type": "stream",
     "text": [
      "The acuuracy of the model = TP+TN / (TP+TN+FP+FN) =  0.8707482993197279 \n",
      "\n",
      " The Miss-classification = 1-Accuracy =  0.12925170068027214 \n",
      "\n",
      " Sensitivity or True Positive Rate = TP / (TP+FN) =  0.3469387755102041 \n",
      "\n",
      " Specificity or True Negative Rate = TN / (TN+FP) =  0.9755102040816327 \n",
      "\n",
      " Positive Predictive value = TP / (TP+FP) =  0.7391304347826086 \n",
      "\n",
      " Negative predictive Value = TN / (TN+FN) =  0.8819188191881919 \n",
      "\n",
      " Positive Likelihood Ratio = Sensitivity / (1-Specificity) =  14.16666666666669 \n",
      "\n",
      " Negative likelihood Ratio = (1-Sensitivity) / Specificity =  0.6694560669456068\n"
     ]
    }
   ],
   "source": [
    "print('The acuuracy of the model = TP+TN / (TP+TN+FP+FN) = ',(TP+TN)/float(TP+TN+FP+FN),'\\n\\n',\n",
    "\n",
    "'The Miss-classification = 1-Accuracy = ',1-((TP+TN)/float(TP+TN+FP+FN)),'\\n\\n',\n",
    "\n",
    "'Sensitivity or True Positive Rate = TP / (TP+FN) = ',TP/float(TP+FN),'\\n\\n',\n",
    "\n",
    "'Specificity or True Negative Rate = TN / (TN+FP) = ',TN/float(TN+FP),'\\n\\n',\n",
    "\n",
    "'Positive Predictive value = TP / (TP+FP) = ',TP/float(TP+FP),'\\n\\n',\n",
    "\n",
    "'Negative predictive Value = TN / (TN+FN) = ',TN/float(TN+FN),'\\n\\n',\n",
    "\n",
    "'Positive Likelihood Ratio = Sensitivity / (1-Specificity) = ',sensitivity/(1-specificity),'\\n\\n',\n",
    "\n",
    "'Negative likelihood Ratio = (1-Sensitivity) / Specificity = ',(1-sensitivity)/specificity)\n"
   ]
  },
  {
   "cell_type": "markdown",
   "metadata": {},
   "source": [
    "### Decision Tree"
   ]
  },
  {
   "cell_type": "code",
   "execution_count": 176,
   "metadata": {},
   "outputs": [],
   "source": [
    "import numpy as np\n",
    "import pandas as pd\n",
    "from sklearn.model_selection import train_test_split\n",
    "from sklearn.tree import DecisionTreeClassifier\n",
    "from sklearn import tree\n",
    "\n",
    "#metrics\n",
    "from statistics import mean\n",
    "from sklearn.metrics import accuracy_score \n",
    "from sklearn.metrics import explained_variance_score as evs\n",
    "import seaborn as sns\n",
    "import matplotlib.pyplot as plt\n",
    "from sklearn.metrics import classification_report\n",
    "from sklearn.preprocessing import LabelEncoder\n",
    "import os"
   ]
  },
  {
   "cell_type": "markdown",
   "metadata": {},
   "source": [
    "#### Gini Criterion"
   ]
  },
  {
   "cell_type": "code",
   "execution_count": 177,
   "metadata": {},
   "outputs": [
    {
     "name": "stdout",
     "output_type": "stream",
     "text": [
      "Accuracy Score using Decision Tree - gini on train set:  0.8571428571428571\n",
      "-----------------------------------------------------------------------------------------------------------------------------\n",
      "Accuracy Score using Decision Tree - gini on test set:  0.8605442176870748\n",
      "-----------------------------------------------------------------------------------------------------------------------------\n",
      "F1 score using Decision Tree - Gini without any technique 0.40579710144927533\n",
      "-----------------------------------------------------------------------------------------------------------------------------\n",
      "Recall score using Decision Tree - Gini without any technique 0.2857142857142857\n",
      "-----------------------------------------------------------------------------------------------------------------------------\n",
      "Classification Report for Decision tree - gini\n",
      "              precision    recall  f1-score   support\n",
      "\n",
      "           0       0.87      0.98      0.92       245\n",
      "           1       0.70      0.29      0.41        49\n",
      "\n",
      "   micro avg       0.86      0.86      0.86       294\n",
      "   macro avg       0.79      0.63      0.66       294\n",
      "weighted avg       0.84      0.86      0.84       294\n",
      "\n"
     ]
    }
   ],
   "source": [
    "giniDecisionTree = DecisionTreeClassifier(criterion='gini',random_state = 100,max_depth=3, min_samples_leaf=5)\n",
    "\n",
    "giniDecisionTree.fit(x_train, y_train)\n",
    "giniPred = giniDecisionTree.predict(x_test)\n",
    "giniPred1 = giniDecisionTree.predict(x_train)\n",
    "print('Accuracy Score using Decision Tree - gini on train set: ',accuracy_score(y_train, giniPred1))\n",
    "print('-----------------------------------------------------------------------------------------------------------------------------')\n",
    "print('Accuracy Score using Decision Tree - gini on test set: ',accuracy_score(y_test, giniPred))\n",
    "print('-----------------------------------------------------------------------------------------------------------------------------')\n",
    "\n",
    "print('F1 score using Decision Tree - Gini without any technique',f1_score(y_test, giniPred))\n",
    "print('-----------------------------------------------------------------------------------------------------------------------------')\n",
    "print('Recall score using Decision Tree - Gini without any technique',recall_score(y_test, giniPred))\n",
    "print('-----------------------------------------------------------------------------------------------------------------------------')\n",
    "print('Classification Report for Decision tree - gini')\n",
    "print(classification_report(y_test, giniPred))"
   ]
  },
  {
   "cell_type": "markdown",
   "metadata": {},
   "source": [
    "### Entropy Criterion"
   ]
  },
  {
   "cell_type": "code",
   "execution_count": 178,
   "metadata": {},
   "outputs": [
    {
     "name": "stdout",
     "output_type": "stream",
     "text": [
      "Accuracy Score using Decision tree - entropy on train set:  0.8520408163265306\n",
      "---------------------------------------------------------------------------------------------------------------\n",
      "\n",
      "Accuracy Score using Decision tree - entropy on test set :  0.8537414965986394\n",
      "---------------------------------------------------------------------------------------------------------------\n",
      "\n",
      "F1 score using Decision tree - Entropy without any technique 0.2456140350877193\n",
      "---------------------------------------------------------------------------------------------------------------\n",
      "\n",
      "Recall score using  Decision tree - Entropy without any technique 0.14285714285714285\n",
      "---------------------------------------------------------------------------------------------------------------\n",
      "Classification report using Decision tree - Entropy without any technique\n",
      "               precision    recall  f1-score   support\n",
      "\n",
      "           0       0.85      1.00      0.92       245\n",
      "           1       0.88      0.14      0.25        49\n",
      "\n",
      "   micro avg       0.85      0.85      0.85       294\n",
      "   macro avg       0.86      0.57      0.58       294\n",
      "weighted avg       0.86      0.85      0.81       294\n",
      "\n"
     ]
    }
   ],
   "source": [
    "entropyDecisionTree = DecisionTreeClassifier(criterion='entropy',random_state = 100,max_depth=3, min_samples_leaf=5)\n",
    "entropyDecisionTree.fit(x_train, y_train)\n",
    "entropyPred = entropyDecisionTree.predict(x_test)\n",
    "entropyPred1 = entropyDecisionTree.predict(x_train)\n",
    "print('Accuracy Score using Decision tree - entropy on train set: ',accuracy_score(y_train, entropyPred1))\n",
    "print('---------------------------------------------------------------------------------------------------------------')\n",
    "print('\\nAccuracy Score using Decision tree - entropy on test set : ',accuracy_score(y_test, entropyPred))\n",
    "print('---------------------------------------------------------------------------------------------------------------')\n",
    "\n",
    "print('\\nF1 score using Decision tree - Entropy without any technique',f1_score(y_test, entropyPred))\n",
    "print('---------------------------------------------------------------------------------------------------------------')\n",
    "print('\\nRecall score using  Decision tree - Entropy without any technique',recall_score(y_test, entropyPred))\n",
    "print('---------------------------------------------------------------------------------------------------------------')\n",
    "print('Classification report using Decision tree - Entropy without any technique\\n',classification_report(y_test, entropyPred))"
   ]
  },
  {
   "cell_type": "markdown",
   "metadata": {},
   "source": [
    "### Random Forest"
   ]
  },
  {
   "cell_type": "code",
   "execution_count": 179,
   "metadata": {},
   "outputs": [],
   "source": [
    "import numpy as np\n",
    "import pandas as pd\n",
    "import seaborn as sns\n",
    "import matplotlib.pyplot as plt\n",
    "from sklearn.metrics import roc_curve, auc\n",
    "from sklearn.metrics import confusion_matrix\n",
    "from sklearn.metrics import classification_report\n",
    "from sklearn.model_selection import KFold, cross_val_score\n",
    "from sklearn.model_selection import train_test_split, GridSearchCV\n",
    "from sklearn.ensemble import RandomForestClassifier \n",
    "import warnings\n",
    "warnings.filterwarnings(\"ignore\")"
   ]
  },
  {
   "cell_type": "code",
   "execution_count": 180,
   "metadata": {},
   "outputs": [],
   "source": [
    "fit_rf = RandomForestClassifier(random_state=42)"
   ]
  },
  {
   "cell_type": "code",
   "execution_count": 181,
   "metadata": {},
   "outputs": [
    {
     "name": "stdout",
     "output_type": "stream",
     "text": [
      "[[244   1]\n",
      " [ 35  14]]\n",
      "              precision    recall  f1-score   support\n",
      "\n",
      "           0       0.87      1.00      0.93       245\n",
      "           1       0.93      0.29      0.44        49\n",
      "\n",
      "   micro avg       0.88      0.88      0.88       294\n",
      "   macro avg       0.90      0.64      0.68       294\n",
      "weighted avg       0.88      0.88      0.85       294\n",
      "\n"
     ]
    }
   ],
   "source": [
    "from sklearn.ensemble import RandomForestClassifier\n",
    "trainedforest = RandomForestClassifier(n_estimators=700).fit(x_train,y_train)\n",
    "\n",
    "predictionforest = trainedforest.predict(x_test)\n",
    "print(confusion_matrix(y_test,predictionforest))\n",
    "print(classification_report(y_test,predictionforest))"
   ]
  },
  {
   "cell_type": "code",
   "execution_count": 182,
   "metadata": {},
   "outputs": [
    {
     "data": {
      "text/plain": [
       "<matplotlib.axes._subplots.AxesSubplot at 0x1e1dfc55160>"
      ]
     },
     "execution_count": 182,
     "metadata": {},
     "output_type": "execute_result"
    },
    {
     "data": {
      "image/png": "[encoded data removed]",
      "text/plain": [
       "<Figure size 800x960 with 1 Axes>"
      ]
     },
     "metadata": {},
     "output_type": "display_data"
    }
   ],
   "source": [
    "from matplotlib.pyplot import figure\n",
    "figure(num=None, figsize=(10, 12), dpi=80, facecolor='w', edgecolor='k')\n",
    "\n",
    "feat_importances = pd.Series(trainedforest.feature_importances_, index= x.columns)\n",
    "feat_importances.nlargest(7).plot(kind='barh')"
   ]
  },
  {
   "cell_type": "code",
   "execution_count": 183,
   "metadata": {
    "scrolled": false
   },
   "outputs": [
    {
     "name": "stdout",
     "output_type": "stream",
     "text": [
      "Best Parameters using grid search: \n",
      " {'bootstrap': False, 'criterion': 'entropy', 'max_depth': 12, 'max_features': 'auto'}\n",
      "Time taken in grid search:  5.18\n"
     ]
    }
   ],
   "source": [
    "import time\n",
    "import random\n",
    "np.random.seed(42)\n",
    "start = time.time()\n",
    "\n",
    "param_dist = {'max_depth': [10,11,12],'bootstrap': [True, False],'max_features': ['auto', 'sqrt', 'log2', None],'criterion': ['gini', 'entropy']}\n",
    "\n",
    "cv_rf = GridSearchCV(fit_rf, cv = 10,param_grid=param_dist, n_jobs = 3)\n",
    "\n",
    "cv_rf.fit(x_train,y_train)\n",
    "print('Best Parameters using grid search: \\n', cv_rf.best_params_)\n",
    "end = time.time()\n",
    "print('Time taken in grid search: {0: .2f}'.format(end - start))"
   ]
  },
  {
   "cell_type": "markdown",
   "metadata": {},
   "source": [
    "### SVC"
   ]
  },
  {
   "cell_type": "code",
   "execution_count": 185,
   "metadata": {},
   "outputs": [
    {
     "name": "stdout",
     "output_type": "stream",
     "text": [
      "Accuracy on training set without any techniques : 0.94\n",
      "Accuracy on test set: 0.83\n"
     ]
    }
   ],
   "source": [
    "from sklearn.svm import SVC\n",
    "\n",
    "svc = SVC()\n",
    "svc.fit(x_train, y_train)\n",
    "\n",
    "print(\"Accuracy on training set without any techniques : {:.2f}\".format(svc.score(x_train, y_train)))\n",
    "print(\"Accuracy on test set: {:.2f}\".format(svc.score(x_test, y_test)))"
   ]
  },
  {
   "cell_type": "markdown",
   "metadata": {},
   "source": [
    "## Correlation Method:"
   ]
  },
  {
   "cell_type": "code",
   "execution_count": 190,
   "metadata": {
    "scrolled": true
   },
   "outputs": [
    {
     "data": {
      "text/plain": [
       "Age                        -0.159205\n",
       "Attrition                   1.000000\n",
       "BusinessTravel              0.127006\n",
       "DailyRate                  -0.056652\n",
       "Department                 -0.063991\n",
       "DistanceFromHome            0.077924\n",
       "Education                  -0.031373\n",
       "EducationField              0.042248\n",
       "EmployeeNumber             -0.010577\n",
       "EnvironmentSatisfaction    -0.103369\n",
       "Gender                     -0.029453\n",
       "HourlyRate                 -0.006846\n",
       "JobInvolvement             -0.130016\n",
       "JobLevel                   -0.169105\n",
       "JobRole                    -0.027930\n",
       "JobSatisfaction            -0.103481\n",
       "MaritalStatus              -0.162070\n",
       "MonthlyIncome              -0.159840\n",
       "MonthlyRate                 0.015170\n",
       "NumCompaniesWorked          0.043494\n",
       "OverTime                    0.246118\n",
       "PercentSalaryHike          -0.013478\n",
       "PerformanceRating           0.002889\n",
       "RelationshipSatisfaction   -0.045872\n",
       "StockOptionLevel           -0.137145\n",
       "TotalWorkingYears          -0.171063\n",
       "TrainingTimesLastYear      -0.059478\n",
       "WorkLifeBalance            -0.063939\n",
       "YearsAtCompany             -0.134392\n",
       "YearsInCurrentRole         -0.160545\n",
       "YearsSinceLastPromotion    -0.033019\n",
       "YearsWithCurrManager       -0.156199\n",
       "Name: Attrition, dtype: float64"
      ]
     },
     "execution_count": 190,
     "metadata": {},
     "output_type": "execute_result"
    }
   ],
   "source": [
    "ibm2=ibm.copy()\n",
    "c=ibm2.corr()\n",
    "c['Attrition']"
   ]
  },
  {
   "cell_type": "raw",
   "metadata": {},
   "source": [
    "from the above, we can select the features which are hihgly correlated with Attrition\n",
    "The features are :\n",
    "    Age, BusinessTravel, Environment satisfaction, JobInvolvement, JobLevel,JobSatisfaction,MaritalStatus, MonthlyIncome, OverTime,StockOptionLevel,YearsAtCompany,YearsinCurrentRole,yearsWithCurrManager"
   ]
  },
  {
   "cell_type": "code",
   "execution_count": 195,
   "metadata": {},
   "outputs": [],
   "source": [
    "ibm_corr=ibm2[['Age', 'BusinessTravel', 'EnvironmentSatisfaction', 'JobInvolvement', 'JobLevel','JobSatisfaction','MaritalStatus', 'MonthlyIncome','OverTime','StockOptionLevel','YearsAtCompany','YearsInCurrentRole','YearsWithCurrManager']]\n",
    "ibm_constant=sm.add_constant(ibm_corr)"
   ]
  },
  {
   "cell_type": "markdown",
   "metadata": {},
   "source": [
    "### Logistic Regression"
   ]
  },
  {
   "cell_type": "code",
   "execution_count": 196,
   "metadata": {},
   "outputs": [],
   "source": [
    "x=ibm_constant\n",
    "y=ibm2['Attrition'].values\n",
    "from sklearn.model_selection import train_test_split\n",
    "x_train,x_test,y_train,y_test=train_test_split(x,y,test_size=.20,random_state=5)\n",
    "logreg=LogisticRegression()\n",
    "logreg.fit(x_train,y_train)\n",
    "y_pred=logreg.predict(x_test)\n",
    "y_pred1=logreg.predict(x_train)"
   ]
  },
  {
   "cell_type": "code",
   "execution_count": 197,
   "metadata": {},
   "outputs": [
    {
     "name": "stdout",
     "output_type": "stream",
     "text": [
      "\n",
      "Accuracy of the model using Logistic Regression without any imbalance data correction technique on test set is  0.8503401360544217\n",
      "-----------------------------------------------------------------------------------------------------------------------------\n",
      "\n",
      "Accuracy of the model using Logistic Regression without any imbalance data correction technique on train set is  0.8605442176870748\n",
      "-----------------------------------------------------------------------------------------------------------------------------\n",
      "\n",
      "F1 score using logistic regression without any imbalance data correction technique 0.37142857142857144\n",
      "-----------------------------------------------------------------------------------------------------------------------------\n",
      "\n",
      "Recall score using Logistic Regression without any imbalance data correction technique 0.2653061224489796\n",
      "-----------------------------------------------------------------------------------------------------------------------------\n",
      "\n",
      "Classification report using logistic regression without any imbalance data correction technique\n",
      "               precision    recall  f1-score   support\n",
      "\n",
      "           0       0.87      0.97      0.92       245\n",
      "           1       0.62      0.27      0.37        49\n",
      "\n",
      "   micro avg       0.85      0.85      0.85       294\n",
      "   macro avg       0.74      0.62      0.64       294\n",
      "weighted avg       0.83      0.85      0.82       294\n",
      "\n"
     ]
    }
   ],
   "source": [
    "import sklearn\n",
    "print('\\nAccuracy of the model using Logistic Regression without any imbalance data correction technique on test set is ' ,accuracy_score(y_test,y_pred))\n",
    "print('-----------------------------------------------------------------------------------------------------------------------------')\n",
    "print('\\nAccuracy of the model using Logistic Regression without any imbalance data correction technique on train set is ' ,accuracy_score(y_train,y_pred1))\n",
    "print('-----------------------------------------------------------------------------------------------------------------------------')\n",
    "print('\\nF1 score using logistic regression without any imbalance data correction technique',f1_score(y_test, y_pred))\n",
    "print('-----------------------------------------------------------------------------------------------------------------------------')\n",
    "print('\\nRecall score using Logistic Regression without any imbalance data correction technique',recall_score(y_test, y_pred))\n",
    "print('-----------------------------------------------------------------------------------------------------------------------------')\n",
    "print('\\nClassification report using logistic regression without any imbalance data correction technique\\n',classification_report(y_test, y_pred))"
   ]
  },
  {
   "cell_type": "markdown",
   "metadata": {},
   "source": [
    "#### Confusion Matrix"
   ]
  },
  {
   "cell_type": "code",
   "execution_count": 198,
   "metadata": {},
   "outputs": [
    {
     "data": {
      "text/plain": [
       "<matplotlib.axes._subplots.AxesSubplot at 0x1e1dfccfd30>"
      ]
     },
     "execution_count": 198,
     "metadata": {},
     "output_type": "execute_result"
    },
    {
     "data": {
      "image/png": "[encoded data removed]",
      "text/plain": [
       "<Figure size 576x360 with 2 Axes>"
      ]
     },
     "metadata": {
      "needs_background": "light"
     },
     "output_type": "display_data"
    }
   ],
   "source": [
    "\n",
    "cm=confusion_matrix(y_test,y_pred)\n",
    "conf_matrix=pd.DataFrame(data=cm,columns=['Predicted:0','Predicted:1'],index=['Actual:0','Actual:1'])\n",
    "plt.figure(figsize = (8,5))\n",
    "sns.heatmap(conf_matrix, annot=True,fmt='d',cmap=\"YlGnBu\")"
   ]
  },
  {
   "cell_type": "markdown",
   "metadata": {},
   "source": [
    "The confusion matrix shows 658+4 = 662 correct predictions and 88+1= 89 incorrect ones.\n",
    "\n",
    "**<font color=DarkBlue>True Positives:**  13<font>\n",
    "\n",
    "**<font color=DarkBlue>True Negatives:**  237<font>\n",
    "\n",
    "**<font color=DarkBlue>False Positives:** 8 (*Type I error*)<font>\n",
    "\n",
    "**<font color=DarkBlue>False Negatives:** 36 ( *Type II error*)<font>"
   ]
  },
  {
   "cell_type": "code",
   "execution_count": 199,
   "metadata": {},
   "outputs": [],
   "source": [
    "TN=cm[0,0]\n",
    "TP=cm[1,1]\n",
    "FN=cm[1,0]\n",
    "FP=cm[0,1]\n",
    "sensitivity=TP/float(TP+FN)\n",
    "specificity=TN/float(TN+FP)"
   ]
  },
  {
   "cell_type": "markdown",
   "metadata": {},
   "source": [
    "### <font color=CornflowerBlue>Model Evaluation - Statistics<font>"
   ]
  },
  {
   "cell_type": "code",
   "execution_count": 200,
   "metadata": {},
   "outputs": [
    {
     "name": "stdout",
     "output_type": "stream",
     "text": [
      "The acuuracy of the model = TP+TN / (TP+TN+FP+FN) =  0.8503401360544217 \n",
      "\n",
      " The Miss-classification = 1-Accuracy =  0.1496598639455783 \n",
      "\n",
      " Sensitivity or True Positive Rate = TP / (TP+FN) =  0.2653061224489796 \n",
      "\n",
      " Specificity or True Negative Rate = TN / (TN+FP) =  0.9673469387755103 \n",
      "\n",
      " Positive Predictive value = TP / (TP+FP) =  0.6190476190476191 \n",
      "\n",
      " Negative predictive Value = TN / (TN+FN) =  0.8681318681318682 \n",
      "\n",
      " Positive Likelihood Ratio = Sensitivity / (1-Specificity) =  8.125000000000014 \n",
      "\n",
      " Negative likelihood Ratio = (1-Sensitivity) / Specificity =  0.7594936708860758\n"
     ]
    }
   ],
   "source": [
    "print('The acuuracy of the model = TP+TN / (TP+TN+FP+FN) = ',(TP+TN)/float(TP+TN+FP+FN),'\\n\\n',\n",
    "\n",
    "'The Miss-classification = 1-Accuracy = ',1-((TP+TN)/float(TP+TN+FP+FN)),'\\n\\n',\n",
    "\n",
    "'Sensitivity or True Positive Rate = TP / (TP+FN) = ',TP/float(TP+FN),'\\n\\n',\n",
    "\n",
    "'Specificity or True Negative Rate = TN / (TN+FP) = ',TN/float(TN+FP),'\\n\\n',\n",
    "\n",
    "'Positive Predictive value = TP / (TP+FP) = ',TP/float(TP+FP),'\\n\\n',\n",
    "\n",
    "'Negative predictive Value = TN / (TN+FN) = ',TN/float(TN+FN),'\\n\\n',\n",
    "\n",
    "'Positive Likelihood Ratio = Sensitivity / (1-Specificity) = ',sensitivity/(1-specificity),'\\n\\n',\n",
    "\n",
    "'Negative likelihood Ratio = (1-Sensitivity) / Specificity = ',(1-sensitivity)/specificity)\n"
   ]
  },
  {
   "cell_type": "markdown",
   "metadata": {},
   "source": [
    "### Decision Tree"
   ]
  },
  {
   "cell_type": "code",
   "execution_count": 201,
   "metadata": {},
   "outputs": [],
   "source": [
    "import numpy as np\n",
    "import pandas as pd\n",
    "from sklearn.model_selection import train_test_split\n",
    "from sklearn.tree import DecisionTreeClassifier\n",
    "from sklearn import tree\n",
    "\n",
    "#metrics\n",
    "from statistics import mean\n",
    "from sklearn.metrics import accuracy_score \n",
    "from sklearn.metrics import explained_variance_score as evs\n",
    "import seaborn as sns\n",
    "import matplotlib.pyplot as plt\n",
    "from sklearn.metrics import classification_report\n",
    "from sklearn.preprocessing import LabelEncoder\n",
    "import os"
   ]
  },
  {
   "cell_type": "markdown",
   "metadata": {},
   "source": [
    "#### Gini Criterion"
   ]
  },
  {
   "cell_type": "code",
   "execution_count": 202,
   "metadata": {},
   "outputs": [
    {
     "name": "stdout",
     "output_type": "stream",
     "text": [
      "Accuracy Score using Decision Tree - gini on train set:  0.8554421768707483\n",
      "-----------------------------------------------------------------------------------------------------------------------------\n",
      "Accuracy Score using Decision Tree - gini on test set:  0.8469387755102041\n",
      "-----------------------------------------------------------------------------------------------------------------------------\n",
      "F1 score using Decision Tree - Gini without any technique 0.23728813559322035\n",
      "-----------------------------------------------------------------------------------------------------------------------------\n",
      "Recall score using Decision Tree - Gini without any technique 0.14285714285714285\n",
      "-----------------------------------------------------------------------------------------------------------------------------\n",
      "Classification Report for Decision tree - gini\n",
      "              precision    recall  f1-score   support\n",
      "\n",
      "           0       0.85      0.99      0.91       245\n",
      "           1       0.70      0.14      0.24        49\n",
      "\n",
      "   micro avg       0.85      0.85      0.85       294\n",
      "   macro avg       0.78      0.57      0.58       294\n",
      "weighted avg       0.83      0.85      0.80       294\n",
      "\n"
     ]
    }
   ],
   "source": [
    "giniDecisionTree = DecisionTreeClassifier(criterion='gini',random_state = 100,max_depth=3, min_samples_leaf=5)\n",
    "\n",
    "giniDecisionTree.fit(x_train, y_train)\n",
    "giniPred = giniDecisionTree.predict(x_test)\n",
    "giniPred1 = giniDecisionTree.predict(x_train)\n",
    "print('Accuracy Score using Decision Tree - gini on train set: ',accuracy_score(y_train, giniPred1))\n",
    "print('-----------------------------------------------------------------------------------------------------------------------------')\n",
    "print('Accuracy Score using Decision Tree - gini on test set: ',accuracy_score(y_test, giniPred))\n",
    "print('-----------------------------------------------------------------------------------------------------------------------------')\n",
    "\n",
    "print('F1 score using Decision Tree - Gini without any technique',f1_score(y_test, giniPred))\n",
    "print('-----------------------------------------------------------------------------------------------------------------------------')\n",
    "print('Recall score using Decision Tree - Gini without any technique',recall_score(y_test, giniPred))\n",
    "print('-----------------------------------------------------------------------------------------------------------------------------')\n",
    "print('Classification Report for Decision tree - gini')\n",
    "print(classification_report(y_test, giniPred))"
   ]
  },
  {
   "cell_type": "markdown",
   "metadata": {},
   "source": [
    "### Entropy Criterion"
   ]
  },
  {
   "cell_type": "code",
   "execution_count": 203,
   "metadata": {},
   "outputs": [
    {
     "name": "stdout",
     "output_type": "stream",
     "text": [
      "Accuracy Score using Decision tree - entropy on train set:  0.8554421768707483\n",
      "---------------------------------------------------------------------------------------------------------------\n",
      "\n",
      "Accuracy Score using Decision tree - entropy on test set :  0.8469387755102041\n",
      "---------------------------------------------------------------------------------------------------------------\n",
      "\n",
      "F1 score using Decision tree - Entropy without any technique 0.23728813559322035\n",
      "---------------------------------------------------------------------------------------------------------------\n",
      "\n",
      "Recall score using  Decision tree - Entropy without any technique 0.14285714285714285\n",
      "---------------------------------------------------------------------------------------------------------------\n",
      "Classification report using Decision tree - Entropy without any technique\n",
      "               precision    recall  f1-score   support\n",
      "\n",
      "           0       0.85      0.99      0.91       245\n",
      "           1       0.70      0.14      0.24        49\n",
      "\n",
      "   micro avg       0.85      0.85      0.85       294\n",
      "   macro avg       0.78      0.57      0.58       294\n",
      "weighted avg       0.83      0.85      0.80       294\n",
      "\n"
     ]
    }
   ],
   "source": [
    "entropyDecisionTree = DecisionTreeClassifier(criterion='entropy',random_state = 100,max_depth=3, min_samples_leaf=5)\n",
    "entropyDecisionTree.fit(x_train, y_train)\n",
    "entropyPred = entropyDecisionTree.predict(x_test)\n",
    "entropyPred1 = entropyDecisionTree.predict(x_train)\n",
    "print('Accuracy Score using Decision tree - entropy on train set: ',accuracy_score(y_train, entropyPred1))\n",
    "print('---------------------------------------------------------------------------------------------------------------')\n",
    "print('\\nAccuracy Score using Decision tree - entropy on test set : ',accuracy_score(y_test, entropyPred))\n",
    "print('---------------------------------------------------------------------------------------------------------------')\n",
    "\n",
    "print('\\nF1 score using Decision tree - Entropy without any technique',f1_score(y_test, entropyPred))\n",
    "print('---------------------------------------------------------------------------------------------------------------')\n",
    "print('\\nRecall score using  Decision tree - Entropy without any technique',recall_score(y_test, entropyPred))\n",
    "print('---------------------------------------------------------------------------------------------------------------')\n",
    "print('Classification report using Decision tree - Entropy without any technique\\n',classification_report(y_test, entropyPred))"
   ]
  },
  {
   "cell_type": "markdown",
   "metadata": {},
   "source": [
    "### Random Forest"
   ]
  },
  {
   "cell_type": "code",
   "execution_count": 204,
   "metadata": {},
   "outputs": [],
   "source": [
    "import numpy as np\n",
    "import pandas as pd\n",
    "import seaborn as sns\n",
    "import matplotlib.pyplot as plt\n",
    "from sklearn.metrics import roc_curve, auc\n",
    "from sklearn.metrics import confusion_matrix\n",
    "from sklearn.metrics import classification_report\n",
    "from sklearn.model_selection import KFold, cross_val_score\n",
    "from sklearn.model_selection import train_test_split, GridSearchCV\n",
    "from sklearn.ensemble import RandomForestClassifier \n",
    "import warnings\n",
    "warnings.filterwarnings(\"ignore\")"
   ]
  },
  {
   "cell_type": "code",
   "execution_count": 205,
   "metadata": {},
   "outputs": [],
   "source": [
    "fit_rf = RandomForestClassifier(random_state=42)"
   ]
  },
  {
   "cell_type": "code",
   "execution_count": 206,
   "metadata": {},
   "outputs": [
    {
     "name": "stdout",
     "output_type": "stream",
     "text": [
      "[[238   7]\n",
      " [ 34  15]]\n",
      "              precision    recall  f1-score   support\n",
      "\n",
      "           0       0.88      0.97      0.92       245\n",
      "           1       0.68      0.31      0.42        49\n",
      "\n",
      "   micro avg       0.86      0.86      0.86       294\n",
      "   macro avg       0.78      0.64      0.67       294\n",
      "weighted avg       0.84      0.86      0.84       294\n",
      "\n"
     ]
    }
   ],
   "source": [
    "from sklearn.ensemble import RandomForestClassifier\n",
    "trainedforest = RandomForestClassifier(n_estimators=700).fit(x_train,y_train)\n",
    "\n",
    "predictionforest = trainedforest.predict(x_test)\n",
    "print(confusion_matrix(y_test,predictionforest))\n",
    "print(classification_report(y_test,predictionforest))"
   ]
  },
  {
   "cell_type": "code",
   "execution_count": 207,
   "metadata": {},
   "outputs": [
    {
     "data": {
      "text/plain": [
       "<matplotlib.axes._subplots.AxesSubplot at 0x1e1e01a9320>"
      ]
     },
     "execution_count": 207,
     "metadata": {},
     "output_type": "execute_result"
    },
    {
     "data": {
      "image/png": "[encoded data removed]",
      "text/plain": [
       "<Figure size 800x960 with 1 Axes>"
      ]
     },
     "metadata": {},
     "output_type": "display_data"
    }
   ],
   "source": [
    "from matplotlib.pyplot import figure\n",
    "figure(num=None, figsize=(10, 12), dpi=80, facecolor='w', edgecolor='k')\n",
    "\n",
    "feat_importances = pd.Series(trainedforest.feature_importances_, index= x.columns)\n",
    "feat_importances.nlargest(7).plot(kind='barh')"
   ]
  },
  {
   "cell_type": "code",
   "execution_count": 208,
   "metadata": {
    "scrolled": false
   },
   "outputs": [
    {
     "name": "stdout",
     "output_type": "stream",
     "text": [
      "Best Parameters using grid search: \n",
      " {'bootstrap': True, 'criterion': 'entropy', 'max_depth': 12, 'max_features': 'auto'}\n",
      "Time taken in grid search:  6.87\n"
     ]
    }
   ],
   "source": [
    "import time\n",
    "import random\n",
    "np.random.seed(42)\n",
    "start = time.time()\n",
    "\n",
    "param_dist = {'max_depth': [10,11,12],'bootstrap': [True, False],'max_features': ['auto', 'sqrt', 'log2', None],'criterion': ['gini', 'entropy']}\n",
    "\n",
    "cv_rf = GridSearchCV(fit_rf, cv = 10,param_grid=param_dist, n_jobs = 3)\n",
    "\n",
    "cv_rf.fit(x_train,y_train)\n",
    "print('Best Parameters using grid search: \\n', cv_rf.best_params_)\n",
    "end = time.time()\n",
    "print('Time taken in grid search: {0: .2f}'.format(end - start))"
   ]
  },
  {
   "cell_type": "markdown",
   "metadata": {},
   "source": [
    "### SVC"
   ]
  },
  {
   "cell_type": "code",
   "execution_count": 209,
   "metadata": {},
   "outputs": [
    {
     "name": "stdout",
     "output_type": "stream",
     "text": [
      "Accuracy on training set without any techniques : 1.00\n",
      "Accuracy on test set: 0.83\n"
     ]
    }
   ],
   "source": [
    "from sklearn.svm import SVC\n",
    "\n",
    "svc = SVC()\n",
    "svc.fit(x_train, y_train)\n",
    "\n",
    "print(\"Accuracy on training set without any techniques : {:.2f}\".format(svc.score(x_train, y_train)))\n",
    "print(\"Accuracy on test set: {:.2f}\".format(svc.score(x_test, y_test)))"
   ]
  },
  {
   "cell_type": "markdown",
   "metadata": {},
   "source": [
    "## K-Best Method"
   ]
  },
  {
   "cell_type": "code",
   "execution_count": 216,
   "metadata": {},
   "outputs": [],
   "source": [
    "from sklearn.feature_selection import SelectKBest\n",
    "from sklearn.feature_selection import chi2\n",
    "from sklearn import preprocessing\n",
    "\n",
    "min_max_scaler = preprocessing.MinMaxScaler()\n",
    "Scaled_X = min_max_scaler.fit_transform(ibm.drop('Attrition',axis=1))\n",
    "Y=ibm.Attrition.values\n",
    "X_new = SelectKBest(chi2, k=2).fit_transform(Scaled_X, Y)\n",
    "\n"
   ]
  },
  {
   "cell_type": "markdown",
   "metadata": {},
   "source": [
    "### Logistic Regression"
   ]
  },
  {
   "cell_type": "code",
   "execution_count": 217,
   "metadata": {},
   "outputs": [],
   "source": [
    "from sklearn.model_selection import train_test_split\n",
    "x_train,x_test,y_train,y_test=train_test_split(X_new,Y,test_size=.20,random_state=5)\n",
    "logreg=LogisticRegression()\n",
    "logreg.fit(x_train,y_train)\n",
    "y_pred=logreg.predict(x_test)\n",
    "y_pred1=logreg.predict(x_train)"
   ]
  },
  {
   "cell_type": "code",
   "execution_count": 218,
   "metadata": {},
   "outputs": [
    {
     "name": "stdout",
     "output_type": "stream",
     "text": [
      "\n",
      "Accuracy of the model using Logistic Regression without any imbalance data correction technique on test set is  0.8333333333333334\n",
      "-----------------------------------------------------------------------------------------------------------------------------\n",
      "\n",
      "Accuracy of the model using Logistic Regression without any imbalance data correction technique on train set is  0.8401360544217688\n",
      "-----------------------------------------------------------------------------------------------------------------------------\n",
      "\n",
      "F1 score using logistic regression without any imbalance data correction technique 0.0\n",
      "-----------------------------------------------------------------------------------------------------------------------------\n",
      "\n",
      "Recall score using Logistic Regression without any imbalance data correction technique 0.0\n",
      "-----------------------------------------------------------------------------------------------------------------------------\n",
      "\n",
      "Classification report using logistic regression without any imbalance data correction technique\n",
      "               precision    recall  f1-score   support\n",
      "\n",
      "           0       0.83      1.00      0.91       245\n",
      "           1       0.00      0.00      0.00        49\n",
      "\n",
      "   micro avg       0.83      0.83      0.83       294\n",
      "   macro avg       0.42      0.50      0.45       294\n",
      "weighted avg       0.69      0.83      0.76       294\n",
      "\n"
     ]
    }
   ],
   "source": [
    "import sklearn\n",
    "print('\\nAccuracy of the model using Logistic Regression without any imbalance data correction technique on test set is ' ,accuracy_score(y_test,y_pred))\n",
    "print('-----------------------------------------------------------------------------------------------------------------------------')\n",
    "print('\\nAccuracy of the model using Logistic Regression without any imbalance data correction technique on train set is ' ,accuracy_score(y_train,y_pred1))\n",
    "print('-----------------------------------------------------------------------------------------------------------------------------')\n",
    "print('\\nF1 score using logistic regression without any imbalance data correction technique',f1_score(y_test, y_pred))\n",
    "print('-----------------------------------------------------------------------------------------------------------------------------')\n",
    "print('\\nRecall score using Logistic Regression without any imbalance data correction technique',recall_score(y_test, y_pred))\n",
    "print('-----------------------------------------------------------------------------------------------------------------------------')\n",
    "print('\\nClassification report using logistic regression without any imbalance data correction technique\\n',classification_report(y_test, y_pred))"
   ]
  },
  {
   "cell_type": "markdown",
   "metadata": {},
   "source": [
    "#### Confusion Matrix"
   ]
  },
  {
   "cell_type": "code",
   "execution_count": 219,
   "metadata": {},
   "outputs": [
    {
     "data": {
      "text/plain": [
       "<matplotlib.axes._subplots.AxesSubplot at 0x1e1e20c73c8>"
      ]
     },
     "execution_count": 219,
     "metadata": {},
     "output_type": "execute_result"
    },
    {
     "data": {
      "image/png": "[encoded data removed]",
      "text/plain": [
       "<Figure size 576x360 with 2 Axes>"
      ]
     },
     "metadata": {
      "needs_background": "light"
     },
     "output_type": "display_data"
    }
   ],
   "source": [
    "\n",
    "cm=confusion_matrix(y_test,y_pred)\n",
    "conf_matrix=pd.DataFrame(data=cm,columns=['Predicted:0','Predicted:1'],index=['Actual:0','Actual:1'])\n",
    "plt.figure(figsize = (8,5))\n",
    "sns.heatmap(conf_matrix, annot=True,fmt='d',cmap=\"YlGnBu\")"
   ]
  },
  {
   "cell_type": "markdown",
   "metadata": {},
   "source": [
    "The confusion matrix shows 658+4 = 662 correct predictions and 88+1= 89 incorrect ones.\n",
    "\n",
    "**<font color=DarkBlue>True Positives:**  0<font>\n",
    "\n",
    "**<font color=DarkBlue>True Negatives:**  245<font>\n",
    "\n",
    "**<font color=DarkBlue>False Positives:** 0 (*Type I error*)<font>\n",
    "\n",
    "**<font color=DarkBlue>False Negatives:** 49 ( *Type II error*)<font>"
   ]
  },
  {
   "cell_type": "code",
   "execution_count": 220,
   "metadata": {},
   "outputs": [],
   "source": [
    "TN=cm[0,0]\n",
    "TP=cm[1,1]\n",
    "FN=cm[1,0]\n",
    "FP=cm[0,1]\n",
    "sensitivity=TP/float(TP+FN)\n",
    "specificity=TN/float(TN+FP)"
   ]
  },
  {
   "cell_type": "markdown",
   "metadata": {},
   "source": [
    "### <font color=CornflowerBlue>Model Evaluation - Statistics<font>"
   ]
  },
  {
   "cell_type": "code",
   "execution_count": 221,
   "metadata": {},
   "outputs": [
    {
     "name": "stdout",
     "output_type": "stream",
     "text": [
      "The acuuracy of the model = TP+TN / (TP+TN+FP+FN) =  0.8333333333333334 \n",
      "\n",
      " The Miss-classification = 1-Accuracy =  0.16666666666666663 \n",
      "\n",
      " Sensitivity or True Positive Rate = TP / (TP+FN) =  0.0 \n",
      "\n",
      " Specificity or True Negative Rate = TN / (TN+FP) =  1.0 \n",
      "\n",
      " Positive Predictive value = TP / (TP+FP) =  nan \n",
      "\n",
      " Negative predictive Value = TN / (TN+FN) =  0.8333333333333334 \n",
      "\n",
      " Positive Likelihood Ratio = Sensitivity / (1-Specificity) =  nan \n",
      "\n",
      " Negative likelihood Ratio = (1-Sensitivity) / Specificity =  1.0\n"
     ]
    }
   ],
   "source": [
    "print('The acuuracy of the model = TP+TN / (TP+TN+FP+FN) = ',(TP+TN)/float(TP+TN+FP+FN),'\\n\\n',\n",
    "\n",
    "'The Miss-classification = 1-Accuracy = ',1-((TP+TN)/float(TP+TN+FP+FN)),'\\n\\n',\n",
    "\n",
    "'Sensitivity or True Positive Rate = TP / (TP+FN) = ',TP/float(TP+FN),'\\n\\n',\n",
    "\n",
    "'Specificity or True Negative Rate = TN / (TN+FP) = ',TN/float(TN+FP),'\\n\\n',\n",
    "\n",
    "'Positive Predictive value = TP / (TP+FP) = ',TP/float(TP+FP),'\\n\\n',\n",
    "\n",
    "'Negative predictive Value = TN / (TN+FN) = ',TN/float(TN+FN),'\\n\\n',\n",
    "\n",
    "'Positive Likelihood Ratio = Sensitivity / (1-Specificity) = ',sensitivity/(1-specificity),'\\n\\n',\n",
    "\n",
    "'Negative likelihood Ratio = (1-Sensitivity) / Specificity = ',(1-sensitivity)/specificity)\n"
   ]
  },
  {
   "cell_type": "markdown",
   "metadata": {},
   "source": [
    "### Decision Tree"
   ]
  },
  {
   "cell_type": "code",
   "execution_count": 222,
   "metadata": {},
   "outputs": [],
   "source": [
    "import numpy as np\n",
    "import pandas as pd\n",
    "from sklearn.model_selection import train_test_split\n",
    "from sklearn.tree import DecisionTreeClassifier\n",
    "from sklearn import tree\n",
    "\n",
    "#metrics\n",
    "from statistics import mean\n",
    "from sklearn.metrics import accuracy_score \n",
    "from sklearn.metrics import explained_variance_score as evs\n",
    "import seaborn as sns\n",
    "import matplotlib.pyplot as plt\n",
    "from sklearn.metrics import classification_report\n",
    "from sklearn.preprocessing import LabelEncoder\n",
    "import os"
   ]
  },
  {
   "cell_type": "markdown",
   "metadata": {},
   "source": [
    "#### Gini Criterion"
   ]
  },
  {
   "cell_type": "code",
   "execution_count": 223,
   "metadata": {},
   "outputs": [
    {
     "name": "stdout",
     "output_type": "stream",
     "text": [
      "Accuracy Score using Decision Tree - gini on train set:  0.8401360544217688\n",
      "-----------------------------------------------------------------------------------------------------------------------------\n",
      "Accuracy Score using Decision Tree - gini on test set:  0.8333333333333334\n",
      "-----------------------------------------------------------------------------------------------------------------------------\n",
      "F1 score using Decision Tree - Gini without any technique 0.0\n",
      "-----------------------------------------------------------------------------------------------------------------------------\n",
      "Recall score using Decision Tree - Gini without any technique 0.0\n",
      "-----------------------------------------------------------------------------------------------------------------------------\n",
      "Classification Report for Decision tree - gini\n",
      "              precision    recall  f1-score   support\n",
      "\n",
      "           0       0.83      1.00      0.91       245\n",
      "           1       0.00      0.00      0.00        49\n",
      "\n",
      "   micro avg       0.83      0.83      0.83       294\n",
      "   macro avg       0.42      0.50      0.45       294\n",
      "weighted avg       0.69      0.83      0.76       294\n",
      "\n"
     ]
    }
   ],
   "source": [
    "giniDecisionTree = DecisionTreeClassifier(criterion='gini',random_state = 100,max_depth=3, min_samples_leaf=5)\n",
    "\n",
    "giniDecisionTree.fit(x_train, y_train)\n",
    "giniPred = giniDecisionTree.predict(x_test)\n",
    "giniPred1 = giniDecisionTree.predict(x_train)\n",
    "print('Accuracy Score using Decision Tree - gini on train set: ',accuracy_score(y_train, giniPred1))\n",
    "print('-----------------------------------------------------------------------------------------------------------------------------')\n",
    "print('Accuracy Score using Decision Tree - gini on test set: ',accuracy_score(y_test, giniPred))\n",
    "print('-----------------------------------------------------------------------------------------------------------------------------')\n",
    "\n",
    "print('F1 score using Decision Tree - Gini without any technique',f1_score(y_test, giniPred))\n",
    "print('-----------------------------------------------------------------------------------------------------------------------------')\n",
    "print('Recall score using Decision Tree - Gini without any technique',recall_score(y_test, giniPred))\n",
    "print('-----------------------------------------------------------------------------------------------------------------------------')\n",
    "print('Classification Report for Decision tree - gini')\n",
    "print(classification_report(y_test, giniPred))"
   ]
  },
  {
   "cell_type": "markdown",
   "metadata": {},
   "source": [
    "### Entropy Criterion"
   ]
  },
  {
   "cell_type": "code",
   "execution_count": 224,
   "metadata": {},
   "outputs": [
    {
     "name": "stdout",
     "output_type": "stream",
     "text": [
      "Accuracy Score using Decision tree - entropy on train set:  0.8401360544217688\n",
      "---------------------------------------------------------------------------------------------------------------\n",
      "\n",
      "Accuracy Score using Decision tree - entropy on test set :  0.8333333333333334\n",
      "---------------------------------------------------------------------------------------------------------------\n",
      "\n",
      "F1 score using Decision tree - Entropy without any technique 0.0\n",
      "---------------------------------------------------------------------------------------------------------------\n",
      "\n",
      "Recall score using  Decision tree - Entropy without any technique 0.0\n",
      "---------------------------------------------------------------------------------------------------------------\n",
      "Classification report using Decision tree - Entropy without any technique\n",
      "               precision    recall  f1-score   support\n",
      "\n",
      "           0       0.83      1.00      0.91       245\n",
      "           1       0.00      0.00      0.00        49\n",
      "\n",
      "   micro avg       0.83      0.83      0.83       294\n",
      "   macro avg       0.42      0.50      0.45       294\n",
      "weighted avg       0.69      0.83      0.76       294\n",
      "\n"
     ]
    }
   ],
   "source": [
    "entropyDecisionTree = DecisionTreeClassifier(criterion='entropy',random_state = 100,max_depth=3, min_samples_leaf=5)\n",
    "entropyDecisionTree.fit(x_train, y_train)\n",
    "entropyPred = entropyDecisionTree.predict(x_test)\n",
    "entropyPred1 = entropyDecisionTree.predict(x_train)\n",
    "print('Accuracy Score using Decision tree - entropy on train set: ',accuracy_score(y_train, entropyPred1))\n",
    "print('---------------------------------------------------------------------------------------------------------------')\n",
    "print('\\nAccuracy Score using Decision tree - entropy on test set : ',accuracy_score(y_test, entropyPred))\n",
    "print('---------------------------------------------------------------------------------------------------------------')\n",
    "\n",
    "print('\\nF1 score using Decision tree - Entropy without any technique',f1_score(y_test, entropyPred))\n",
    "print('---------------------------------------------------------------------------------------------------------------')\n",
    "print('\\nRecall score using  Decision tree - Entropy without any technique',recall_score(y_test, entropyPred))\n",
    "print('---------------------------------------------------------------------------------------------------------------')\n",
    "print('Classification report using Decision tree - Entropy without any technique\\n',classification_report(y_test, entropyPred))"
   ]
  },
  {
   "cell_type": "markdown",
   "metadata": {},
   "source": [
    "### Random Forest"
   ]
  },
  {
   "cell_type": "code",
   "execution_count": 225,
   "metadata": {},
   "outputs": [],
   "source": [
    "import numpy as np\n",
    "import pandas as pd\n",
    "import seaborn as sns\n",
    "import matplotlib.pyplot as plt\n",
    "from sklearn.metrics import roc_curve, auc\n",
    "from sklearn.metrics import confusion_matrix\n",
    "from sklearn.metrics import classification_report\n",
    "from sklearn.model_selection import KFold, cross_val_score\n",
    "from sklearn.model_selection import train_test_split, GridSearchCV\n",
    "from sklearn.ensemble import RandomForestClassifier \n",
    "import warnings\n",
    "warnings.filterwarnings(\"ignore\")"
   ]
  },
  {
   "cell_type": "code",
   "execution_count": 226,
   "metadata": {},
   "outputs": [],
   "source": [
    "fit_rf = RandomForestClassifier(random_state=42)"
   ]
  },
  {
   "cell_type": "code",
   "execution_count": 227,
   "metadata": {},
   "outputs": [
    {
     "name": "stdout",
     "output_type": "stream",
     "text": [
      "0.421875\n",
      "[[348  23]\n",
      " [ 47  23]]\n",
      "              precision    recall  f1-score   support\n",
      "\n",
      "           0       0.88      0.94      0.91       371\n",
      "           1       0.50      0.33      0.40        70\n",
      "\n",
      "   micro avg       0.84      0.84      0.84       441\n",
      "   macro avg       0.69      0.63      0.65       441\n",
      "weighted avg       0.82      0.84      0.83       441\n",
      "\n"
     ]
    }
   ],
   "source": [
    "from sklearn.ensemble import RandomForestClassifier\n",
    "trainedforest = RandomForestClassifier(n_estimators=700).fit(x_train,y_train)\n",
    "\n",
    "X_Train3, X_Test3, Y_Train3, Y_Test3 = train_test_split(X_new, Y, test_size = 0.30, \n",
    "                                                        random_state = 101)\n",
    "start = time.process_time()\n",
    "trainedforest = RandomForestClassifier(n_estimators=700).fit(X_Train3,Y_Train3)\n",
    "print(time.process_time() - start)\n",
    "predictionforest = trainedforest.predict(X_Test3)\n",
    "print(confusion_matrix(Y_Test3,predictionforest))\n",
    "print(classification_report(Y_Test3,predictionforest))"
   ]
  },
  {
   "cell_type": "code",
   "execution_count": 231,
   "metadata": {
    "scrolled": false
   },
   "outputs": [
    {
     "name": "stdout",
     "output_type": "stream",
     "text": [
      "Best Parameters using grid search: \n",
      " {'bootstrap': True, 'criterion': 'gini', 'max_depth': 10, 'max_features': 'auto'}\n",
      "Time taken in grid search:  3.54\n"
     ]
    }
   ],
   "source": [
    "import time\n",
    "import random\n",
    "np.random.seed(42)\n",
    "start = time.time()\n",
    "\n",
    "param_dist = {'max_depth': [10,11,12],'bootstrap': [True, False],'max_features': ['auto', 'sqrt', 'log2', None],'criterion': ['gini', 'entropy']}\n",
    "\n",
    "cv_rf = GridSearchCV(fit_rf, cv = 10,param_grid=param_dist, n_jobs = 3)\n",
    "\n",
    "cv_rf.fit(x_train,y_train)\n",
    "print('Best Parameters using grid search: \\n', cv_rf.best_params_)\n",
    "end = time.time()\n",
    "print('Time taken in grid search: {0: .2f}'.format(end - start))"
   ]
  },
  {
   "cell_type": "markdown",
   "metadata": {},
   "source": [
    "### SVC"
   ]
  },
  {
   "cell_type": "code",
   "execution_count": 232,
   "metadata": {},
   "outputs": [
    {
     "name": "stdout",
     "output_type": "stream",
     "text": [
      "Accuracy on training set without any techniques : 0.84\n",
      "Accuracy on test set: 0.83\n"
     ]
    }
   ],
   "source": [
    "from sklearn.svm import SVC\n",
    "\n",
    "svc = SVC()\n",
    "svc.fit(x_train, y_train)\n",
    "\n",
    "print(\"Accuracy on training set without any techniques : {:.2f}\".format(svc.score(x_train, y_train)))\n",
    "print(\"Accuracy on test set: {:.2f}\".format(svc.score(x_test, y_test)))"
   ]
  },
  {
   "cell_type": "markdown",
   "metadata": {},
   "source": [
    "## Lasso Regression"
   ]
  },
  {
   "cell_type": "code",
   "execution_count": 284,
   "metadata": {
    "scrolled": true
   },
   "outputs": [
    {
     "name": "stdout",
     "output_type": "stream",
     "text": [
      "LassoCV Best Alpha Scored:  0.2379974830970844\n",
      "LassoCV Model Accuracy:  0.03579804653873153\n",
      "Variables Eliminated:  25\n",
      "Variables Kept:  6\n"
     ]
    },
    {
     "data": {
      "text/plain": [
       "Age                -0.000153\n",
       "DailyRate          -0.000057\n",
       "DistanceFromHome    0.000749\n",
       "EmployeeNumber     -0.000013\n",
       "MonthlyIncome      -0.000011\n",
       "MonthlyRate         0.000001\n",
       "dtype: float64"
      ]
     },
     "execution_count": 284,
     "metadata": {},
     "output_type": "execute_result"
    }
   ],
   "source": [
    "from sklearn.linear_model import LassoCV\n",
    "X=ibm.drop('Attrition',axis=1)\n",
    "Y=ibm.Attrition.values\n",
    "x_train,x_test,y_train,y_test=train_test_split(X,Y,test_size=0.3,random_state=1)\n",
    "regr = LassoCV(cv=7, random_state=101)\n",
    "regr.fit(x_train,y_train)\n",
    "print(\"LassoCV Best Alpha Scored: \", regr.alpha_)\n",
    "print(\"LassoCV Model Accuracy: \", regr.score(x_test, y_test))\n",
    "model_coef = pd.Series(regr.coef_, index = list(X.columns))\n",
    "print(\"Variables Eliminated: \", str(sum(model_coef == 0)))\n",
    "print(\"Variables Kept: \", str(sum(model_coef != 0)))\n",
    "model_coef[model_coef !=0]"
   ]
  },
  {
   "cell_type": "code",
   "execution_count": 290,
   "metadata": {},
   "outputs": [],
   "source": [
    "X=ibm[['Age','DailyRate','DistanceFromHome','EmployeeNumber','MonthlyIncome','MonthlyRate']]\n",
    "Y=ibm.Attrition.values\n",
    "x_train,x_test,y_train,y_test=train_test_split(X,Y,test_size=0.3,random_state=1)\n"
   ]
  },
  {
   "cell_type": "markdown",
   "metadata": {},
   "source": [
    "### Logistic Regression"
   ]
  },
  {
   "cell_type": "code",
   "execution_count": 291,
   "metadata": {},
   "outputs": [],
   "source": [
    "logreg=LogisticRegression()\n",
    "logreg.fit(x_train,y_train)\n",
    "y_pred=logreg.predict(x_test)\n",
    "y_pred1=logreg.predict(x_train)"
   ]
  },
  {
   "cell_type": "code",
   "execution_count": 292,
   "metadata": {},
   "outputs": [
    {
     "name": "stdout",
     "output_type": "stream",
     "text": [
      "\n",
      "Accuracy of the model using Logistic Regression without any imbalance data correction technique on test set is  0.8253968253968254\n",
      "-----------------------------------------------------------------------------------------------------------------------------\n",
      "\n",
      "Accuracy of the model using Logistic Regression without any imbalance data correction technique on train set is  0.8445092322643343\n",
      "-----------------------------------------------------------------------------------------------------------------------------\n",
      "\n",
      "F1 score using logistic regression without any imbalance data correction technique 0.0\n",
      "-----------------------------------------------------------------------------------------------------------------------------\n",
      "\n",
      "Recall score using Logistic Regression without any imbalance data correction technique 0.0\n",
      "-----------------------------------------------------------------------------------------------------------------------------\n",
      "\n",
      "Classification report using logistic regression without any imbalance data correction technique\n",
      "               precision    recall  f1-score   support\n",
      "\n",
      "           0       0.83      1.00      0.90       364\n",
      "           1       0.00      0.00      0.00        77\n",
      "\n",
      "   micro avg       0.83      0.83      0.83       441\n",
      "   macro avg       0.41      0.50      0.45       441\n",
      "weighted avg       0.68      0.83      0.75       441\n",
      "\n"
     ]
    }
   ],
   "source": [
    "import sklearn\n",
    "print('\\nAccuracy of the model using Logistic Regression without any imbalance data correction technique on test set is ' ,accuracy_score(y_test,y_pred))\n",
    "print('-----------------------------------------------------------------------------------------------------------------------------')\n",
    "print('\\nAccuracy of the model using Logistic Regression without any imbalance data correction technique on train set is ' ,accuracy_score(y_train,y_pred1))\n",
    "print('-----------------------------------------------------------------------------------------------------------------------------')\n",
    "print('\\nF1 score using logistic regression without any imbalance data correction technique',f1_score(y_test, y_pred))\n",
    "print('-----------------------------------------------------------------------------------------------------------------------------')\n",
    "print('\\nRecall score using Logistic Regression without any imbalance data correction technique',recall_score(y_test, y_pred))\n",
    "print('-----------------------------------------------------------------------------------------------------------------------------')\n",
    "print('\\nClassification report using logistic regression without any imbalance data correction technique\\n',classification_report(y_test, y_pred))"
   ]
  },
  {
   "cell_type": "markdown",
   "metadata": {},
   "source": [
    "#### Confusion Matrix"
   ]
  },
  {
   "cell_type": "code",
   "execution_count": 293,
   "metadata": {},
   "outputs": [
    {
     "data": {
      "text/plain": [
       "<matplotlib.axes._subplots.AxesSubplot at 0x1e1e2abea20>"
      ]
     },
     "execution_count": 293,
     "metadata": {},
     "output_type": "execute_result"
    },
    {
     "data": {
      "image/png": "[encoded data removed]",
      "text/plain": [
       "<Figure size 576x360 with 2 Axes>"
      ]
     },
     "metadata": {
      "needs_background": "light"
     },
     "output_type": "display_data"
    }
   ],
   "source": [
    "\n",
    "cm=confusion_matrix(y_test,y_pred)\n",
    "conf_matrix=pd.DataFrame(data=cm,columns=['Predicted:0','Predicted:1'],index=['Actual:0','Actual:1'])\n",
    "plt.figure(figsize = (8,5))\n",
    "sns.heatmap(conf_matrix, annot=True,fmt='d',cmap=\"YlGnBu\")"
   ]
  },
  {
   "cell_type": "markdown",
   "metadata": {},
   "source": [
    "The confusion matrix shows 658+4 = 662 correct predictions and 88+1= 89 incorrect ones.\n",
    "\n",
    "**<font color=DarkBlue>True Positives:**  0<font>\n",
    "\n",
    "**<font color=DarkBlue>True Negatives:**  364<font>\n",
    "\n",
    "**<font color=DarkBlue>False Positives:** 0 (*Type I error*)<font>\n",
    "\n",
    "**<font color=DarkBlue>False Negatives:** 77 ( *Type II error*)<font>"
   ]
  },
  {
   "cell_type": "code",
   "execution_count": 294,
   "metadata": {},
   "outputs": [],
   "source": [
    "TN=cm[0,0]\n",
    "TP=cm[1,1]\n",
    "FN=cm[1,0]\n",
    "FP=cm[0,1]\n",
    "sensitivity=TP/float(TP+FN)\n",
    "specificity=TN/float(TN+FP)"
   ]
  },
  {
   "cell_type": "markdown",
   "metadata": {},
   "source": [
    "### <font color=CornflowerBlue>Model Evaluation - Statistics<font>"
   ]
  },
  {
   "cell_type": "code",
   "execution_count": 295,
   "metadata": {},
   "outputs": [
    {
     "name": "stdout",
     "output_type": "stream",
     "text": [
      "The acuuracy of the model = TP+TN / (TP+TN+FP+FN) =  0.8253968253968254 \n",
      "\n",
      " The Miss-classification = 1-Accuracy =  0.17460317460317465 \n",
      "\n",
      " Sensitivity or True Positive Rate = TP / (TP+FN) =  0.0 \n",
      "\n",
      " Specificity or True Negative Rate = TN / (TN+FP) =  1.0 \n",
      "\n",
      " Positive Predictive value = TP / (TP+FP) =  nan \n",
      "\n",
      " Negative predictive Value = TN / (TN+FN) =  0.8253968253968254 \n",
      "\n",
      " Positive Likelihood Ratio = Sensitivity / (1-Specificity) =  nan \n",
      "\n",
      " Negative likelihood Ratio = (1-Sensitivity) / Specificity =  1.0\n"
     ]
    }
   ],
   "source": [
    "print('The acuuracy of the model = TP+TN / (TP+TN+FP+FN) = ',(TP+TN)/float(TP+TN+FP+FN),'\\n\\n',\n",
    "\n",
    "'The Miss-classification = 1-Accuracy = ',1-((TP+TN)/float(TP+TN+FP+FN)),'\\n\\n',\n",
    "\n",
    "'Sensitivity or True Positive Rate = TP / (TP+FN) = ',TP/float(TP+FN),'\\n\\n',\n",
    "\n",
    "'Specificity or True Negative Rate = TN / (TN+FP) = ',TN/float(TN+FP),'\\n\\n',\n",
    "\n",
    "'Positive Predictive value = TP / (TP+FP) = ',TP/float(TP+FP),'\\n\\n',\n",
    "\n",
    "'Negative predictive Value = TN / (TN+FN) = ',TN/float(TN+FN),'\\n\\n',\n",
    "\n",
    "'Positive Likelihood Ratio = Sensitivity / (1-Specificity) = ',sensitivity/(1-specificity),'\\n\\n',\n",
    "\n",
    "'Negative likelihood Ratio = (1-Sensitivity) / Specificity = ',(1-sensitivity)/specificity)\n"
   ]
  },
  {
   "cell_type": "markdown",
   "metadata": {},
   "source": [
    "### Decision Tree"
   ]
  },
  {
   "cell_type": "code",
   "execution_count": 296,
   "metadata": {},
   "outputs": [],
   "source": [
    "import numpy as np\n",
    "import pandas as pd\n",
    "from sklearn.model_selection import train_test_split\n",
    "from sklearn.tree import DecisionTreeClassifier\n",
    "from sklearn import tree\n",
    "\n",
    "#metrics\n",
    "from statistics import mean\n",
    "from sklearn.metrics import accuracy_score \n",
    "from sklearn.metrics import explained_variance_score as evs\n",
    "import seaborn as sns\n",
    "import matplotlib.pyplot as plt\n",
    "from sklearn.metrics import classification_report\n",
    "from sklearn.preprocessing import LabelEncoder\n",
    "import os"
   ]
  },
  {
   "cell_type": "markdown",
   "metadata": {},
   "source": [
    "#### Gini Criterion"
   ]
  },
  {
   "cell_type": "code",
   "execution_count": 297,
   "metadata": {},
   "outputs": [
    {
     "name": "stdout",
     "output_type": "stream",
     "text": [
      "Accuracy Score using Decision Tree - gini on train set:  0.8551992225461613\n",
      "-----------------------------------------------------------------------------------------------------------------------------\n",
      "Accuracy Score using Decision Tree - gini on test set:  0.8208616780045351\n",
      "-----------------------------------------------------------------------------------------------------------------------------\n",
      "F1 score using Decision Tree - Gini without any technique 0.0\n",
      "-----------------------------------------------------------------------------------------------------------------------------\n",
      "Recall score using Decision Tree - Gini without any technique 0.0\n",
      "-----------------------------------------------------------------------------------------------------------------------------\n",
      "Classification Report for Decision tree - gini\n",
      "              precision    recall  f1-score   support\n",
      "\n",
      "           0       0.82      0.99      0.90       364\n",
      "           1       0.00      0.00      0.00        77\n",
      "\n",
      "   micro avg       0.82      0.82      0.82       441\n",
      "   macro avg       0.41      0.50      0.45       441\n",
      "weighted avg       0.68      0.82      0.74       441\n",
      "\n"
     ]
    }
   ],
   "source": [
    "giniDecisionTree = DecisionTreeClassifier(criterion='gini',random_state = 100,max_depth=3, min_samples_leaf=5)\n",
    "\n",
    "giniDecisionTree.fit(x_train, y_train)\n",
    "giniPred = giniDecisionTree.predict(x_test)\n",
    "giniPred1 = giniDecisionTree.predict(x_train)\n",
    "print('Accuracy Score using Decision Tree - gini on train set: ',accuracy_score(y_train, giniPred1))\n",
    "print('-----------------------------------------------------------------------------------------------------------------------------')\n",
    "print('Accuracy Score using Decision Tree - gini on test set: ',accuracy_score(y_test, giniPred))\n",
    "print('-----------------------------------------------------------------------------------------------------------------------------')\n",
    "\n",
    "print('F1 score using Decision Tree - Gini without any technique',f1_score(y_test, giniPred))\n",
    "print('-----------------------------------------------------------------------------------------------------------------------------')\n",
    "print('Recall score using Decision Tree - Gini without any technique',recall_score(y_test, giniPred))\n",
    "print('-----------------------------------------------------------------------------------------------------------------------------')\n",
    "print('Classification Report for Decision tree - gini')\n",
    "print(classification_report(y_test, giniPred))"
   ]
  },
  {
   "cell_type": "markdown",
   "metadata": {},
   "source": [
    "### Entropy Criterion"
   ]
  },
  {
   "cell_type": "code",
   "execution_count": 298,
   "metadata": {},
   "outputs": [
    {
     "name": "stdout",
     "output_type": "stream",
     "text": [
      "Accuracy Score using Decision tree - entropy on train set:  0.8551992225461613\n",
      "---------------------------------------------------------------------------------------------------------------\n",
      "\n",
      "Accuracy Score using Decision tree - entropy on test set :  0.8163265306122449\n",
      "---------------------------------------------------------------------------------------------------------------\n",
      "\n",
      "F1 score using Decision tree - Entropy without any technique 0.0689655172413793\n",
      "---------------------------------------------------------------------------------------------------------------\n",
      "\n",
      "Recall score using  Decision tree - Entropy without any technique 0.03896103896103896\n",
      "---------------------------------------------------------------------------------------------------------------\n",
      "Classification report using Decision tree - Entropy without any technique\n",
      "               precision    recall  f1-score   support\n",
      "\n",
      "           0       0.83      0.98      0.90       364\n",
      "           1       0.30      0.04      0.07        77\n",
      "\n",
      "   micro avg       0.82      0.82      0.82       441\n",
      "   macro avg       0.56      0.51      0.48       441\n",
      "weighted avg       0.74      0.82      0.75       441\n",
      "\n"
     ]
    }
   ],
   "source": [
    "entropyDecisionTree = DecisionTreeClassifier(criterion='entropy',random_state = 100,max_depth=3, min_samples_leaf=5)\n",
    "entropyDecisionTree.fit(x_train, y_train)\n",
    "entropyPred = entropyDecisionTree.predict(x_test)\n",
    "entropyPred1 = entropyDecisionTree.predict(x_train)\n",
    "print('Accuracy Score using Decision tree - entropy on train set: ',accuracy_score(y_train, entropyPred1))\n",
    "print('---------------------------------------------------------------------------------------------------------------')\n",
    "print('\\nAccuracy Score using Decision tree - entropy on test set : ',accuracy_score(y_test, entropyPred))\n",
    "print('---------------------------------------------------------------------------------------------------------------')\n",
    "\n",
    "print('\\nF1 score using Decision tree - Entropy without any technique',f1_score(y_test, entropyPred))\n",
    "print('---------------------------------------------------------------------------------------------------------------')\n",
    "print('\\nRecall score using  Decision tree - Entropy without any technique',recall_score(y_test, entropyPred))\n",
    "print('---------------------------------------------------------------------------------------------------------------')\n",
    "print('Classification report using Decision tree - Entropy without any technique\\n',classification_report(y_test, entropyPred))"
   ]
  },
  {
   "cell_type": "markdown",
   "metadata": {},
   "source": [
    "### Random Forest"
   ]
  },
  {
   "cell_type": "code",
   "execution_count": 299,
   "metadata": {},
   "outputs": [],
   "source": [
    "import numpy as np\n",
    "import pandas as pd\n",
    "import seaborn as sns\n",
    "import matplotlib.pyplot as plt\n",
    "from sklearn.metrics import roc_curve, auc\n",
    "from sklearn.metrics import confusion_matrix\n",
    "from sklearn.metrics import classification_report\n",
    "from sklearn.model_selection import KFold, cross_val_score\n",
    "from sklearn.model_selection import train_test_split, GridSearchCV\n",
    "from sklearn.ensemble import RandomForestClassifier \n",
    "import warnings\n",
    "warnings.filterwarnings(\"ignore\")"
   ]
  },
  {
   "cell_type": "code",
   "execution_count": 300,
   "metadata": {},
   "outputs": [],
   "source": [
    "fit_rf = RandomForestClassifier(random_state=42)"
   ]
  },
  {
   "cell_type": "code",
   "execution_count": 301,
   "metadata": {},
   "outputs": [
    {
     "name": "stdout",
     "output_type": "stream",
     "text": [
      "0.4375\n",
      "[[348  23]\n",
      " [ 47  23]]\n",
      "              precision    recall  f1-score   support\n",
      "\n",
      "           0       0.88      0.94      0.91       371\n",
      "           1       0.50      0.33      0.40        70\n",
      "\n",
      "   micro avg       0.84      0.84      0.84       441\n",
      "   macro avg       0.69      0.63      0.65       441\n",
      "weighted avg       0.82      0.84      0.83       441\n",
      "\n"
     ]
    }
   ],
   "source": [
    "from sklearn.ensemble import RandomForestClassifier\n",
    "trainedforest = RandomForestClassifier(n_estimators=700).fit(x_train,y_train)\n",
    "\n",
    "X_Train3, X_Test3, Y_Train3, Y_Test3 = train_test_split(X_new, Y, test_size = 0.30, \n",
    "                                                        random_state = 101)\n",
    "start = time.process_time()\n",
    "trainedforest = RandomForestClassifier(n_estimators=700).fit(X_Train3,Y_Train3)\n",
    "print(time.process_time() - start)\n",
    "predictionforest = trainedforest.predict(X_Test3)\n",
    "print(confusion_matrix(Y_Test3,predictionforest))\n",
    "print(classification_report(Y_Test3,predictionforest))"
   ]
  },
  {
   "cell_type": "code",
   "execution_count": 302,
   "metadata": {
    "scrolled": false
   },
   "outputs": [
    {
     "name": "stdout",
     "output_type": "stream",
     "text": [
      "Best Parameters using grid search: \n",
      " {'bootstrap': True, 'criterion': 'entropy', 'max_depth': 10, 'max_features': None}\n",
      "Time taken in grid search:  7.24\n"
     ]
    }
   ],
   "source": [
    "import time\n",
    "import random\n",
    "np.random.seed(42)\n",
    "start = time.time()\n",
    "\n",
    "param_dist = {'max_depth': [10,11,12],'bootstrap': [True, False],'max_features': ['auto', 'sqrt', 'log2', None],'criterion': ['gini', 'entropy']}\n",
    "\n",
    "cv_rf = GridSearchCV(fit_rf, cv = 10,param_grid=param_dist, n_jobs = 3)\n",
    "\n",
    "cv_rf.fit(x_train,y_train)\n",
    "print('Best Parameters using grid search: \\n', cv_rf.best_params_)\n",
    "end = time.time()\n",
    "print('Time taken in grid search: {0: .2f}'.format(end - start))"
   ]
  },
  {
   "cell_type": "markdown",
   "metadata": {},
   "source": [
    "### SVC"
   ]
  },
  {
   "cell_type": "code",
   "execution_count": 303,
   "metadata": {},
   "outputs": [
    {
     "name": "stdout",
     "output_type": "stream",
     "text": [
      "Accuracy on training set without any techniques : 1.00\n",
      "Accuracy on test set: 0.83\n"
     ]
    }
   ],
   "source": [
    "from sklearn.svm import SVC\n",
    "\n",
    "svc = SVC()\n",
    "svc.fit(x_train, y_train)\n",
    "\n",
    "print(\"Accuracy on training set without any techniques : {:.2f}\".format(svc.score(x_train, y_train)))\n",
    "print(\"Accuracy on test set: {:.2f}\".format(svc.score(x_test, y_test)))"
   ]
  },
  {
   "cell_type": "markdown",
   "metadata": {},
   "source": [
    "#### ------------------------------------------------------------------------------------------------------------------------------------------------------------------------------------------------------------------"
   ]
  },
  {
   "cell_type": "markdown",
   "metadata": {},
   "source": [
    "### Let us find whether the data is balanced or not"
   ]
  },
  {
   "cell_type": "code",
   "execution_count": 141,
   "metadata": {},
   "outputs": [
    {
     "name": "stdout",
     "output_type": "stream",
     "text": [
      "Percentagee of attrition is  16.122448979591837\n"
     ]
    }
   ],
   "source": [
    "## Attrition =1 percentage\n",
    "print('Percentagee of attrition is ',ibm[ibm['Attrition']==1]['Attrition'].count() / ibm['Attrition'].count() *100)"
   ]
  },
  {
   "cell_type": "code",
   "execution_count": 142,
   "metadata": {},
   "outputs": [
    {
     "name": "stdout",
     "output_type": "stream",
     "text": [
      "Percentagee of no-attrition is  83.87755102040816\n"
     ]
    }
   ],
   "source": [
    "## Attrition =0 percentage\n",
    "print('Percentagee of no-attrition is ',ibm[ibm['Attrition']==0]['Attrition'].count() / ibm['Attrition'].count() *100)"
   ]
  },
  {
   "cell_type": "markdown",
   "metadata": {},
   "source": [
    "### It is clear that the Attrition rate is less comapared to non-Attrition rate.\n",
    "\n",
    "#### So we can deal the data with imbalanced data techniques and check for the various accuracy scores"
   ]
  },
  {
   "cell_type": "markdown",
   "metadata": {},
   "source": [
    "### Oversampling"
   ]
  },
  {
   "cell_type": "code",
   "execution_count": 246,
   "metadata": {
    "scrolled": true
   },
   "outputs": [
    {
     "data": {
      "text/plain": [
       "1    933\n",
       "0    933\n",
       "Name: Attrition, dtype: int64"
      ]
     },
     "execution_count": 246,
     "metadata": {},
     "output_type": "execute_result"
    }
   ],
   "source": [
    "from sklearn.utils import resample\n",
    "\n",
    "# Separate input features and target\n",
    "y = ibm.Attrition\n",
    "X = ibm_feature1\n",
    "\n",
    "# setting up testing and training sets\n",
    "X_train, X_test, y_train, y_test = train_test_split(X, y, test_size=0.25, random_state=27)\n",
    "\n",
    "# concatenate our training data back together\n",
    "X = pd.concat([X_train, y_train], axis=1)\n",
    "\n",
    "# separate minority and majority classes\n",
    "no_attr = X[X.Attrition==0]\n",
    "attr = X[X.Attrition==1]\n",
    "\n",
    "# upsample minority\n",
    "attr_upsampled = resample(attr,\n",
    "                          replace=True, # sample with replacement\n",
    "                          n_samples=len(no_attr), # match number in majority class\n",
    "                          random_state=27) # reproducible results\n",
    "\n",
    "# combine majority and upsampled minority\n",
    "upsampled = pd.concat([no_attr, attr_upsampled])\n",
    "\n",
    "# check new class counts\n",
    "upsampled.Attrition.value_counts()"
   ]
  },
  {
   "cell_type": "markdown",
   "metadata": {},
   "source": [
    "##### Here we are increasing the minority class (attrition =1) to majority class"
   ]
  },
  {
   "cell_type": "markdown",
   "metadata": {},
   "source": [
    "##### Logistic Regression"
   ]
  },
  {
   "cell_type": "code",
   "execution_count": 247,
   "metadata": {},
   "outputs": [
    {
     "name": "stdout",
     "output_type": "stream",
     "text": [
      "Accuracy score using Logistic regression after over sampling 0.7717391304347826\n",
      "-----------------------------------------------------------------------------------------------------------\n",
      "F1 score using Logistic regression after over sampling 0.5531914893617021\n",
      "-----------------------------------------------------------------------------------------------------------\n",
      "Recall score using Logistic regression after over sampling 0.7647058823529411\n"
     ]
    }
   ],
   "source": [
    "\n",
    "y_train = upsampled.Attrition\n",
    "X_train = upsampled.drop('Attrition', axis=1)\n",
    "\n",
    "upsampled = LogisticRegression(solver='liblinear').fit(X_train, y_train)\n",
    "\n",
    "upsampled_pred = upsampled.predict(X_test)\n",
    "\n",
    "# Checking accuracy\n",
    "print('Accuracy score using Logistic regression after over sampling',accuracy_score(y_test, upsampled_pred))\n",
    "print('-----------------------------------------------------------------------------------------------------------')\n",
    "print('F1 score using Logistic regression after over sampling',f1_score(y_test, upsampled_pred) )\n",
    "print('-----------------------------------------------------------------------------------------------------------')\n",
    "print('Recall score using Logistic regression after over sampling', recall_score(y_test, upsampled_pred))\n"
   ]
  },
  {
   "cell_type": "markdown",
   "metadata": {},
   "source": [
    "##### Decision Tree"
   ]
  },
  {
   "cell_type": "code",
   "execution_count": 248,
   "metadata": {},
   "outputs": [
    {
     "name": "stdout",
     "output_type": "stream",
     "text": [
      "Accuracy scor0e using Decision Tree - gini after over sampling 0.779891304347826\n",
      "-----------------------------------------------------------------------------------------------------------\n",
      "F1 score using Decision Tree - gini after over sampling 0.42553191489361697\n",
      "-----------------------------------------------------------------------------------------------------------\n",
      "Recall score using Decision Tree - gini after over sampling 0.4411764705882353\n",
      "-----------------------------------------------------------------------------------------------------------\n",
      "Classification Report using Decision Tree - gini after over sampling\n",
      "               precision    recall  f1-score   support\n",
      "\n",
      "           0       0.87      0.86      0.86       300\n",
      "           1       0.41      0.44      0.43        68\n",
      "\n",
      "   micro avg       0.78      0.78      0.78       368\n",
      "   macro avg       0.64      0.65      0.64       368\n",
      "weighted avg       0.79      0.78      0.78       368\n",
      "\n"
     ]
    }
   ],
   "source": [
    "giniDecisionTree = DecisionTreeClassifier(criterion='gini',random_state = 100,max_depth=3, min_samples_leaf=5)\n",
    "\n",
    "giniDecisionTree.fit(X_train, y_train)\n",
    "giniPred = giniDecisionTree.predict(X_test)\n",
    "print('Accuracy scor0e using Decision Tree - gini after over sampling',accuracy_score(y_test, giniPred))\n",
    "print('-----------------------------------------------------------------------------------------------------------')\n",
    "print('F1 score using Decision Tree - gini after over sampling',f1_score(y_test, giniPred))\n",
    "print('-----------------------------------------------------------------------------------------------------------')\n",
    "print('Recall score using Decision Tree - gini after over sampling',recall_score(y_test, giniPred))\n",
    "print('-----------------------------------------------------------------------------------------------------------')\n",
    "print('Classification Report using Decision Tree - gini after over sampling\\n',classification_report(y_test, giniPred))"
   ]
  },
  {
   "cell_type": "markdown",
   "metadata": {},
   "source": [
    "### Entropy Criterion"
   ]
  },
  {
   "cell_type": "code",
   "execution_count": 249,
   "metadata": {
    "scrolled": true
   },
   "outputs": [
    {
     "name": "stdout",
     "output_type": "stream",
     "text": [
      "Accuracy score using Decision Tree - entropy after over sampling  0.779891304347826\n",
      "-----------------------------------------------------------------------------------------------------------\n",
      "F1 score using using Decision Tree - entropy after over sampling  0.42553191489361697\n",
      "-----------------------------------------------------------------------------------------------------------\n",
      "Recall score using using Decision Tree - entropy after over sampling  0.4411764705882353\n",
      "------------------------------------------------------------------------------------------------------------\n",
      "Classification report using Decision tree - entropy after oversampling \n",
      "               precision    recall  f1-score   support\n",
      "\n",
      "           0       0.87      0.86      0.86       300\n",
      "           1       0.41      0.44      0.43        68\n",
      "\n",
      "   micro avg       0.78      0.78      0.78       368\n",
      "   macro avg       0.64      0.65      0.64       368\n",
      "weighted avg       0.79      0.78      0.78       368\n",
      "\n"
     ]
    }
   ],
   "source": [
    "entropyDecisionTree = DecisionTreeClassifier(criterion='entropy',random_state = 100,max_depth=3, min_samples_leaf=5)\n",
    "entropyDecisionTree.fit(X_train, y_train)\n",
    "entropyPred = entropyDecisionTree.predict(X_test)\n",
    "print('Accuracy score using Decision Tree - entropy after over sampling ',accuracy_score(y_test, entropyPred))\n",
    "print('-----------------------------------------------------------------------------------------------------------')\n",
    "print('F1 score using using Decision Tree - entropy after over sampling ',f1_score(y_test, entropyPred))\n",
    "print('-----------------------------------------------------------------------------------------------------------')\n",
    "print('Recall score using using Decision Tree - entropy after over sampling ',recall_score(y_test, entropyPred))\n",
    "print('------------------------------------------------------------------------------------------------------------')\n",
    "print('Classification report using Decision tree - entropy after oversampling \\n',classification_report(y_test, entropyPred))\n"
   ]
  },
  {
   "cell_type": "markdown",
   "metadata": {},
   "source": [
    "### SVC"
   ]
  },
  {
   "cell_type": "code",
   "execution_count": 250,
   "metadata": {},
   "outputs": [
    {
     "name": "stdout",
     "output_type": "stream",
     "text": [
      "Accuracy on training set using SVC after oversampling  : 1.00\n",
      "Accuracy on test set using SVC after oversampling : 0.84\n"
     ]
    }
   ],
   "source": [
    "from sklearn.svm import SVC\n",
    "\n",
    "svc = SVC()\n",
    "svc.fit(X_train, y_train)\n",
    "\n",
    "print(\"Accuracy on training set using SVC after oversampling  : {:.2f}\".format(svc.score(X_train, y_train)))\n",
    "print(\"Accuracy on test set using SVC after oversampling : {:.2f}\".format(svc.score(X_test, y_test)))"
   ]
  },
  {
   "cell_type": "markdown",
   "metadata": {},
   "source": [
    "### Random Forest"
   ]
  },
  {
   "cell_type": "code",
   "execution_count": 251,
   "metadata": {
    "scrolled": true
   },
   "outputs": [
    {
     "name": "stdout",
     "output_type": "stream",
     "text": [
      "1.109375\n",
      "[[291   9]\n",
      " [ 41  27]]\n",
      "              precision    recall  f1-score   support\n",
      "\n",
      "           0       0.88      0.97      0.92       300\n",
      "           1       0.75      0.40      0.52        68\n",
      "\n",
      "   micro avg       0.86      0.86      0.86       368\n",
      "   macro avg       0.81      0.68      0.72       368\n",
      "weighted avg       0.85      0.86      0.85       368\n",
      "\n"
     ]
    }
   ],
   "source": [
    "from sklearn.ensemble import RandomForestClassifier\n",
    "start = time.process_time()\n",
    "trainedforest = RandomForestClassifier(n_estimators=700).fit(X_train,y_train)\n",
    "print(time.process_time() - start)\n",
    "predictionforest = trainedforest.predict(X_test)\n",
    "print(confusion_matrix(y_test,predictionforest))\n",
    "print(classification_report(y_test,predictionforest))"
   ]
  },
  {
   "cell_type": "markdown",
   "metadata": {},
   "source": [
    "### Under sampling"
   ]
  },
  {
   "cell_type": "markdown",
   "metadata": {},
   "source": [
    "##### Here we are increasing the minority class (attrition =1) to majority class"
   ]
  },
  {
   "cell_type": "code",
   "execution_count": 260,
   "metadata": {
    "scrolled": true
   },
   "outputs": [
    {
     "data": {
      "text/plain": [
       "1    169\n",
       "0    169\n",
       "Name: Attrition, dtype: int64"
      ]
     },
     "execution_count": 260,
     "metadata": {},
     "output_type": "execute_result"
    }
   ],
   "source": [
    "no_attr_downsampled = resample(no_attr,\n",
    "                                replace = False, # sample without replacement\n",
    "                                n_samples = len(attr), # match minority n\n",
    "                                random_state = 27) # reproducible results\n",
    "\n",
    "# combine minority and downsampled majority\n",
    "downsampled = pd.concat([no_attr_downsampled, attr])\n",
    "\n",
    "# checking counts\n",
    "downsampled.Attrition.value_counts()"
   ]
  },
  {
   "cell_type": "markdown",
   "metadata": {},
   "source": [
    "##### Here we are decreasing the majority class (attrition =0) to minority class"
   ]
  },
  {
   "cell_type": "code",
   "execution_count": 261,
   "metadata": {},
   "outputs": [
    {
     "name": "stdout",
     "output_type": "stream",
     "text": [
      "Accuracy score using Logistic regression after under sampling  0.7581521739130435\n",
      "---------------------------------------------------------------------------------------------------------------\n",
      "F1 score using Logistic regression after under sampling  0.5340314136125655\n",
      "---------------------------------------------------------------------------------------------------------------\n",
      "Recall score using Logistic regression after under sampling  0.75\n"
     ]
    }
   ],
   "source": [
    "y_train = downsampled.Attrition\n",
    "X_train = downsampled.drop('Attrition', axis=1)\n",
    "\n",
    "downsampled = LogisticRegression(solver='liblinear').fit(X_train, y_train)\n",
    "\n",
    "downsampled_pred = downsampled.predict(X_test)\n",
    "\n",
    "# Checking accuracy\n",
    "print('Accuracy score using Logistic regression after under sampling ',accuracy_score(y_test, downsampled_pred))\n",
    "print('---------------------------------------------------------------------------------------------------------------')\n",
    "print('F1 score using Logistic regression after under sampling ',f1_score(y_test, downsampled_pred) )\n",
    "print('---------------------------------------------------------------------------------------------------------------')\n",
    "print('Recall score using Logistic regression after under sampling ',recall_score(y_test, downsampled_pred))"
   ]
  },
  {
   "cell_type": "code",
   "execution_count": 262,
   "metadata": {},
   "outputs": [
    {
     "name": "stdout",
     "output_type": "stream",
     "text": [
      "Accuracy Score using Decision tree - gini after under sampling :  0.7065217391304348\n",
      "-------------------------------------------------------------------------------------------------------------------\n",
      "F1 score using Decision tree - gini after under sampling :  0.4375\n",
      "-------------------------------------------------------------------------------------------------------------------\n",
      "Recall score using Decision tree - gini after under sampling :  0.6176470588235294\n",
      "-------------------------------------------------------------------------------------------------------------------\n",
      "Classification Report using Decision tree - gini after under sampling : \n",
      "               precision    recall  f1-score   support\n",
      "\n",
      "           0       0.89      0.73      0.80       300\n",
      "           1       0.34      0.62      0.44        68\n",
      "\n",
      "   micro avg       0.71      0.71      0.71       368\n",
      "   macro avg       0.62      0.67      0.62       368\n",
      "weighted avg       0.79      0.71      0.73       368\n",
      "\n"
     ]
    }
   ],
   "source": [
    "giniDecisionTree = DecisionTreeClassifier(criterion='gini',random_state = 100,max_depth=3, min_samples_leaf=5)\n",
    "\n",
    "giniDecisionTree.fit(X_train, y_train)\n",
    "\n",
    "giniPred = giniDecisionTree.predict(X_test)\n",
    "print('Accuracy Score using Decision tree - gini after under sampling : ',accuracy_score(y_test, giniPred))\n",
    "print('-------------------------------------------------------------------------------------------------------------------')\n",
    "print('F1 score using Decision tree - gini after under sampling : ',f1_score(y_test, giniPred))\n",
    "print('-------------------------------------------------------------------------------------------------------------------')\n",
    "print('Recall score using Decision tree - gini after under sampling : ',recall_score(y_test, giniPred))\n",
    "print('-------------------------------------------------------------------------------------------------------------------')\n",
    "print('Classification Report using Decision tree - gini after under sampling : \\n',classification_report(y_test, giniPred))"
   ]
  },
  {
   "cell_type": "markdown",
   "metadata": {},
   "source": [
    "### Entropy Criterion"
   ]
  },
  {
   "cell_type": "code",
   "execution_count": 263,
   "metadata": {},
   "outputs": [
    {
     "name": "stdout",
     "output_type": "stream",
     "text": [
      "Accuracy Score using Decision tree - entropy with under sampling :  0.6956521739130435\n",
      "---------------------------------------------------------------------------------------------------------------\n",
      "F1 score using Decision tree - entropy with under sampling  0.42857142857142855\n",
      "---------------------------------------------------------------------------------------------------------------\n",
      "Recall score using Decision tree - entropy with under sampling  0.6176470588235294\n",
      "---------------------------------------------------------------------------------------------------------------\n",
      "Classification report using Decision tree - entropy with under sampling\n",
      "               precision    recall  f1-score   support\n",
      "\n",
      "           0       0.89      0.71      0.79       300\n",
      "           1       0.33      0.62      0.43        68\n",
      "\n",
      "   micro avg       0.70      0.70      0.70       368\n",
      "   macro avg       0.61      0.67      0.61       368\n",
      "weighted avg       0.79      0.70      0.73       368\n",
      "\n"
     ]
    }
   ],
   "source": [
    "entropyDecisionTree = DecisionTreeClassifier(criterion='entropy',random_state = 100,max_depth=3, min_samples_leaf=5)\n",
    "entropyDecisionTree.fit(X_train, y_train)\n",
    "entropyPred = entropyDecisionTree.predict(X_test)\n",
    "print('Accuracy Score using Decision tree - entropy with under sampling : ',accuracy_score(y_test, entropyPred))\n",
    "print('---------------------------------------------------------------------------------------------------------------')\n",
    "print('F1 score using Decision tree - entropy with under sampling ',f1_score(y_test, entropyPred))\n",
    "print('---------------------------------------------------------------------------------------------------------------')\n",
    "print('Recall score using Decision tree - entropy with under sampling ',recall_score(y_test, entropyPred))\n",
    "print('---------------------------------------------------------------------------------------------------------------')\n",
    "print('Classification report using Decision tree - entropy with under sampling\\n',classification_report(y_test, entropyPred))"
   ]
  },
  {
   "cell_type": "code",
   "execution_count": 264,
   "metadata": {},
   "outputs": [
    {
     "name": "stdout",
     "output_type": "stream",
     "text": [
      "Accuracy on training set using SVC with under sampling : 0.99\n",
      "Accuracy on test set using SVC with under sampling: 0.58\n"
     ]
    }
   ],
   "source": [
    "from sklearn.svm import SVC\n",
    "\n",
    "svc = SVC()\n",
    "svc.fit(X_train, y_train)\n",
    "\n",
    "print(\"Accuracy on training set using SVC with under sampling : {:.2f}\".format(svc.score(X_train, y_train)))\n",
    "print(\"Accuracy on test set using SVC with under sampling: {:.2f}\".format(svc.score(X_test, y_test)))"
   ]
  },
  {
   "cell_type": "markdown",
   "metadata": {},
   "source": [
    "### Random Forest"
   ]
  },
  {
   "cell_type": "code",
   "execution_count": 265,
   "metadata": {
    "scrolled": true
   },
   "outputs": [
    {
     "name": "stdout",
     "output_type": "stream",
     "text": [
      "0.515625\n",
      "[[231  69]\n",
      " [ 17  51]]\n",
      "              precision    recall  f1-score   support\n",
      "\n",
      "           0       0.93      0.77      0.84       300\n",
      "           1       0.42      0.75      0.54        68\n",
      "\n",
      "   micro avg       0.77      0.77      0.77       368\n",
      "   macro avg       0.68      0.76      0.69       368\n",
      "weighted avg       0.84      0.77      0.79       368\n",
      "\n"
     ]
    }
   ],
   "source": [
    "from sklearn.ensemble import RandomForestClassifier\n",
    "start = time.process_time()\n",
    "trainedforest = RandomForestClassifier(n_estimators=700).fit(X_train,y_train)\n",
    "print(time.process_time() - start)\n",
    "predictionforest = trainedforest.predict(X_test)\n",
    "print(confusion_matrix(y_test,predictionforest))\n",
    "print(classification_report(y_test,predictionforest))"
   ]
  },
  {
   "cell_type": "markdown",
   "metadata": {},
   "source": [
    "### SMOTE Analysis"
   ]
  },
  {
   "cell_type": "code",
   "execution_count": 266,
   "metadata": {},
   "outputs": [
    {
     "name": "stdout",
     "output_type": "stream",
     "text": [
      "Accuracy Score using Logistic Regression with SMOTE analysis :  0.842391304347826\n",
      "--------------------------------------------------------------------------------------------------------\n",
      "Accuracy Score using Logistic Regression with SMOTE analysis :  0.6329113924050633\n",
      "--------------------------------------------------------------------------------------------------------\n",
      "Accuracy Score using Logistic Regression with SMOTE analysis :  0.7352941176470589\n"
     ]
    }
   ],
   "source": [
    "from imblearn.over_sampling import SMOTE\n",
    "\n",
    "# Separate input features and target\n",
    "y = ibm.Attrition\n",
    "X = ibm_feature1\n",
    "\n",
    "# setting up testing and training sets\n",
    "X_train, X_test, y_train, y_test = train_test_split(X, y, test_size=0.25, random_state=27)\n",
    "\n",
    "sm = SMOTE(random_state=27, ratio=1.0)\n",
    "X_train, y_train = sm.fit_sample(X_train, y_train)\n",
    "smote = LogisticRegression(solver='liblinear').fit(X_train, y_train)\n",
    "\n",
    "smote_pred = smote.predict(X_test)\n",
    "\n",
    "# Checking accuracy\n",
    "print('Accuracy Score using Logistic Regression with SMOTE analysis : ',accuracy_score(y_test, smote_pred))\n",
    "print('--------------------------------------------------------------------------------------------------------')\n",
    "print('Accuracy Score using Logistic Regression with SMOTE analysis : ',f1_score(y_test, smote_pred))\n",
    "print('--------------------------------------------------------------------------------------------------------')\n",
    "print('Accuracy Score using Logistic Regression with SMOTE analysis : ',recall_score(y_test, smote_pred))\n",
    "    \n",
    "    \n"
   ]
  },
  {
   "cell_type": "code",
   "execution_count": 267,
   "metadata": {},
   "outputs": [
    {
     "name": "stdout",
     "output_type": "stream",
     "text": [
      "Accuracy Score using Decision Tree - gini with SMOTE analysis:  0.720108695652174\n",
      "------------------------------------------------------------------------------------------------------------------\n",
      "F1 score using Decision Tree - gini with SMOTE analysis 0.38323353293413176\n",
      "------------------------------------------------------------------------------------------------------------------\n",
      "Recall score using Decision Tree - gini with SMOTE analysis 0.47058823529411764\n",
      "------------------------------------------------------------------------------------------------------------------\n",
      "Classification Report using Decision Tree - gini with SMOTE analysis\n",
      "               precision    recall  f1-score   support\n",
      "\n",
      "           0       0.87      0.78      0.82       300\n",
      "           1       0.32      0.47      0.38        68\n",
      "\n",
      "   micro avg       0.72      0.72      0.72       368\n",
      "   macro avg       0.59      0.62      0.60       368\n",
      "weighted avg       0.77      0.72      0.74       368\n",
      "\n"
     ]
    }
   ],
   "source": [
    "giniDecisionTree = DecisionTreeClassifier(criterion='gini',random_state = 100,max_depth=3, min_samples_leaf=5)\n",
    "\n",
    "giniDecisionTree.fit(X_train, y_train)\n",
    "giniPred = giniDecisionTree.predict(X_test)\n",
    "print('Accuracy Score using Decision Tree - gini with SMOTE analysis: ',accuracy_score(y_test, giniPred))\n",
    "print('------------------------------------------------------------------------------------------------------------------')\n",
    "print('F1 score using Decision Tree - gini with SMOTE analysis',f1_score(y_test, giniPred))\n",
    "print('------------------------------------------------------------------------------------------------------------------')\n",
    "print('Recall score using Decision Tree - gini with SMOTE analysis',recall_score(y_test, giniPred))\n",
    "print('------------------------------------------------------------------------------------------------------------------')\n",
    "print('Classification Report using Decision Tree - gini with SMOTE analysis\\n',classification_report(y_test, giniPred))"
   ]
  },
  {
   "cell_type": "markdown",
   "metadata": {},
   "source": [
    "### Entropy Criterion"
   ]
  },
  {
   "cell_type": "code",
   "execution_count": 268,
   "metadata": {},
   "outputs": [
    {
     "name": "stdout",
     "output_type": "stream",
     "text": [
      "Accuracy Score using Decision tree - entropy with SMOTE analysis:  0.720108695652174\n",
      "---------------------------------------------------------------------------------------------------------------\n",
      "F1 score using Decision tree - entropy with SMOTE analysis 0.38323353293413176\n",
      "---------------------------------------------------------------------------------------------------------------\n",
      "Recall score using Decision tree - entropy with SMOTE analysis 0.47058823529411764\n",
      "---------------------------------------------------------------------------------------------------------------\n",
      "Classification Report using Decision tree - entropy with SMOTE analysis\n",
      "               precision    recall  f1-score   support\n",
      "\n",
      "           0       0.87      0.78      0.82       300\n",
      "           1       0.32      0.47      0.38        68\n",
      "\n",
      "   micro avg       0.72      0.72      0.72       368\n",
      "   macro avg       0.59      0.62      0.60       368\n",
      "weighted avg       0.77      0.72      0.74       368\n",
      "\n"
     ]
    }
   ],
   "source": [
    "entropyDecisionTree = DecisionTreeClassifier(criterion='entropy',random_state = 100,max_depth=3, min_samples_leaf=5)\n",
    "entropyDecisionTree.fit(X_train, y_train)\n",
    "entropyPred = entropyDecisionTree.predict(X_test)\n",
    "print('Accuracy Score using Decision tree - entropy with SMOTE analysis: ',accuracy_score(y_test, entropyPred))\n",
    "print('---------------------------------------------------------------------------------------------------------------')\n",
    "print('F1 score using Decision tree - entropy with SMOTE analysis',f1_score(y_test, entropyPred))\n",
    "print('---------------------------------------------------------------------------------------------------------------')\n",
    "print('Recall score using Decision tree - entropy with SMOTE analysis',recall_score(y_test, entropyPred))\n",
    "print('---------------------------------------------------------------------------------------------------------------')\n",
    "print('Classification Report using Decision tree - entropy with SMOTE analysis\\n',classification_report(y_test, entropyPred))"
   ]
  },
  {
   "cell_type": "code",
   "execution_count": 269,
   "metadata": {},
   "outputs": [
    {
     "name": "stdout",
     "output_type": "stream",
     "text": [
      "Accuracy on training set using SVC with SMOTE analysis : 1.00\n",
      "Accuracy on test set using SVC with SMOTE analysis : 0.81\n"
     ]
    }
   ],
   "source": [
    "from sklearn.svm import SVC\n",
    "\n",
    "svc = SVC()\n",
    "svc.fit(X_train, y_train)\n",
    "\n",
    "print(\"Accuracy on training set using SVC with SMOTE analysis : {:.2f}\".format(svc.score(X_train, y_train)))\n",
    "print(\"Accuracy on test set using SVC with SMOTE analysis : {:.2f}\".format(svc.score(X_test, y_test)))"
   ]
  },
  {
   "cell_type": "markdown",
   "metadata": {},
   "source": [
    "### Random Forest"
   ]
  },
  {
   "cell_type": "code",
   "execution_count": 265,
   "metadata": {
    "scrolled": true
   },
   "outputs": [
    {
     "name": "stdout",
     "output_type": "stream",
     "text": [
      "0.515625\n",
      "[[231  69]\n",
      " [ 17  51]]\n",
      "              precision    recall  f1-score   support\n",
      "\n",
      "           0       0.93      0.77      0.84       300\n",
      "           1       0.42      0.75      0.54        68\n",
      "\n",
      "   micro avg       0.77      0.77      0.77       368\n",
      "   macro avg       0.68      0.76      0.69       368\n",
      "weighted avg       0.84      0.77      0.79       368\n",
      "\n"
     ]
    }
   ],
   "source": [
    "from sklearn.ensemble import RandomForestClassifier\n",
    "start = time.process_time()\n",
    "trainedforest = RandomForestClassifier(n_estimators=700).fit(X_train,y_train)\n",
    "print(time.process_time() - start)\n",
    "predictionforest = trainedforest.predict(X_test)\n",
    "print(confusion_matrix(y_test,predictionforest))\n",
    "print(classification_report(y_test,predictionforest))"
   ]
  },
  {
   "cell_type": "markdown",
   "metadata": {},
   "source": [
    "### Clustering"
   ]
  },
  {
   "cell_type": "markdown",
   "metadata": {},
   "source": [
    "#### K-means clustering"
   ]
  },
  {
   "cell_type": "code",
   "execution_count": 157,
   "metadata": {},
   "outputs": [],
   "source": [
    "from sklearn.cluster import KMeans"
   ]
  },
  {
   "cell_type": "code",
   "execution_count": 158,
   "metadata": {},
   "outputs": [],
   "source": [
    "### here we are using ibm dataset "
   ]
  },
  {
   "cell_type": "code",
   "execution_count": 159,
   "metadata": {
    "scrolled": true
   },
   "outputs": [
    {
     "data": {
      "text/plain": [
       "1    915\n",
       "0    555\n",
       "Name: Attrition, dtype: int64"
      ]
     },
     "execution_count": 159,
     "metadata": {},
     "output_type": "execute_result"
    }
   ],
   "source": [
    "x=ibm_feature1\n",
    "kmeans=KMeans(n_clusters=2,n_init=15,random_state=2)\n",
    "kmeans.fit(x)\n",
    "cent1=kmeans.cluster_centers_\n",
    "cent=pd.DataFrame(cent1,columns=list(x))\n",
    "x['Attrition']=kmeans.labels_\n",
    "cent1\n",
    "c0=cent1[0,:]\n",
    "\n",
    "c1=cent1[1,:]\n",
    "\n",
    "kmeans.inertia_\n",
    "\n",
    "x.Attrition.value_counts()"
   ]
  },
  {
   "cell_type": "code",
   "execution_count": 160,
   "metadata": {
    "scrolled": true
   },
   "outputs": [
    {
     "data": {
      "text/html": [
       "<div>\n",
       "<style scoped>\n",
       "    .dataframe tbody tr th:only-of-type {\n",
       "        vertical-align: middle;\n",
       "    }\n",
       "\n",
       "    .dataframe tbody tr th {\n",
       "        vertical-align: top;\n",
       "    }\n",
       "\n",
       "    .dataframe thead th {\n",
       "        text-align: right;\n",
       "    }\n",
       "</style>\n",
       "<table border=\"1\" class=\"dataframe\">\n",
       "  <thead>\n",
       "    <tr style=\"text-align: right;\">\n",
       "      <th></th>\n",
       "      <th>Age</th>\n",
       "      <th>BusinessTravel</th>\n",
       "      <th>Department</th>\n",
       "      <th>DistanceFromHome</th>\n",
       "      <th>EnvironmentSatisfaction</th>\n",
       "      <th>Gender</th>\n",
       "      <th>JobInvolvement</th>\n",
       "      <th>JobLevel</th>\n",
       "      <th>JobRole</th>\n",
       "      <th>JobSatisfaction</th>\n",
       "      <th>MaritalStatus</th>\n",
       "      <th>NumCompaniesWorked</th>\n",
       "      <th>OverTime</th>\n",
       "      <th>RelationshipSatisfaction</th>\n",
       "      <th>WorkLifeBalance</th>\n",
       "      <th>YearsInCurrentRole</th>\n",
       "      <th>YearsSinceLastPromotion</th>\n",
       "    </tr>\n",
       "  </thead>\n",
       "  <tbody>\n",
       "    <tr>\n",
       "      <th>0</th>\n",
       "      <td>46.578378</td>\n",
       "      <td>2.068468</td>\n",
       "      <td>1.769369</td>\n",
       "      <td>9.342342</td>\n",
       "      <td>2.718919</td>\n",
       "      <td>1.412613</td>\n",
       "      <td>2.756757</td>\n",
       "      <td>2.735135</td>\n",
       "      <td>4.093694</td>\n",
       "      <td>2.695495</td>\n",
       "      <td>1.972973</td>\n",
       "      <td>3.527928</td>\n",
       "      <td>0.299099</td>\n",
       "      <td>2.785586</td>\n",
       "      <td>2.763964</td>\n",
       "      <td>5.050450</td>\n",
       "      <td>3.072072</td>\n",
       "    </tr>\n",
       "    <tr>\n",
       "      <th>1</th>\n",
       "      <td>31.067760</td>\n",
       "      <td>2.097268</td>\n",
       "      <td>1.721311</td>\n",
       "      <td>9.101639</td>\n",
       "      <td>2.723497</td>\n",
       "      <td>1.392350</td>\n",
       "      <td>2.713661</td>\n",
       "      <td>1.656831</td>\n",
       "      <td>3.225137</td>\n",
       "      <td>2.748634</td>\n",
       "      <td>1.860109</td>\n",
       "      <td>2.186885</td>\n",
       "      <td>0.273224</td>\n",
       "      <td>2.667760</td>\n",
       "      <td>2.759563</td>\n",
       "      <td>3.731148</td>\n",
       "      <td>1.651366</td>\n",
       "    </tr>\n",
       "  </tbody>\n",
       "</table>\n",
       "</div>"
      ],
      "text/plain": [
       "         Age  BusinessTravel  Department  DistanceFromHome  \\\n",
       "0  46.578378        2.068468    1.769369          9.342342   \n",
       "1  31.067760        2.097268    1.721311          9.101639   \n",
       "\n",
       "   EnvironmentSatisfaction    Gender  JobInvolvement  JobLevel   JobRole  \\\n",
       "0                 2.718919  1.412613        2.756757  2.735135  4.093694   \n",
       "1                 2.723497  1.392350        2.713661  1.656831  3.225137   \n",
       "\n",
       "   JobSatisfaction  MaritalStatus  NumCompaniesWorked  OverTime  \\\n",
       "0         2.695495       1.972973            3.527928  0.299099   \n",
       "1         2.748634       1.860109            2.186885  0.273224   \n",
       "\n",
       "   RelationshipSatisfaction  WorkLifeBalance  YearsInCurrentRole  \\\n",
       "0                  2.785586         2.763964            5.050450   \n",
       "1                  2.667760         2.759563            3.731148   \n",
       "\n",
       "   YearsSinceLastPromotion  \n",
       "0                 3.072072  \n",
       "1                 1.651366  "
      ]
     },
     "execution_count": 160,
     "metadata": {},
     "output_type": "execute_result"
    }
   ],
   "source": [
    "cent"
   ]
  },
  {
   "cell_type": "markdown",
   "metadata": {},
   "source": [
    "### Here 0 class is people who move out( attrition = 1) and 1 class is people who do not move out (attrition =0)"
   ]
  },
  {
   "cell_type": "markdown",
   "metadata": {},
   "source": [
    "#### Original count:\n",
    "##### attrition= 0 :    1233\n",
    "##### attrition =1 :    237 \n",
    "\n",
    "#### KNN :\n",
    "\n",
    "##### attrition=1 : 555\n",
    "##### attrition=0 : 915\n",
    "\n"
   ]
  },
  {
   "cell_type": "markdown",
   "metadata": {},
   "source": [
    "## Aglomerative clustering"
   ]
  },
  {
   "cell_type": "code",
   "execution_count": 161,
   "metadata": {},
   "outputs": [],
   "source": [
    "from sklearn.cluster import AgglomerativeClustering"
   ]
  },
  {
   "cell_type": "markdown",
   "metadata": {},
   "source": [
    "### After  giving various affinity and linkage , below are the results\n",
    "\n",
    "#### Affinity: Cosine                    Linkage: Average\n",
    "##### Attrition = 0 : 1129\n",
    "##### Attrition = 1 : 341\n",
    "\n",
    "#### Affinity: Cosine                    Linkage: Complete\n",
    "##### Attrition = 0 : 1294\n",
    "##### Attrition = 1 : 176\n",
    "\n",
    "#### Affinity: Cosine                    Linkage: Single\n",
    "##### Attrition = 0 : 1469\n",
    "##### Attrition = 1 : 1\n",
    "\n",
    "#### Affinity: Euclidean               Linkage: Ward\n",
    "##### Attrition = 0 : 1121\n",
    "##### Attrition = 1 : 349\n",
    "\n",
    "#### Affinity: Euclidean               Linkage: Average\n",
    "##### Attrition = 0 : 1402\n",
    "##### Attrition = 1 : 68\n",
    "\n",
    "#### Affinity: Euclidean               Linkage: Complete\n",
    "##### Attrition = 0 : 982\n",
    "##### Attrition = 1 : 488\n",
    "\n",
    "#### Affinity: Euclidean               Linkage: Single\n",
    "##### Attrition = 0 : 1466\n",
    "##### Attrition = 1 : 4\n"
   ]
  },
  {
   "cell_type": "code",
   "execution_count": 162,
   "metadata": {},
   "outputs": [
    {
     "data": {
      "text/plain": [
       "0    1120\n",
       "1     350\n",
       "Name: 0, dtype: int64"
      ]
     },
     "execution_count": 162,
     "metadata": {},
     "output_type": "execute_result"
    }
   ],
   "source": [
    "aggl_cl=AgglomerativeClustering(n_clusters=2,affinity='euclidean',linkage='ward')\n",
    "aggl_cl.fit(ibm_feature1)\n",
    "L1=pd.DataFrame(aggl_cl.labels_)\n",
    "L1[0].value_counts()"
   ]
  },
  {
   "cell_type": "code",
   "execution_count": 163,
   "metadata": {
    "scrolled": true
   },
   "outputs": [
    {
     "data": {
      "image/png": "[encoded data removed]",
      "text/plain": [
       "<Figure size 864x648 with 1 Axes>"
      ]
     },
     "metadata": {
      "needs_background": "light"
     },
     "output_type": "display_data"
    }
   ],
   "source": [
    "#for ward linkage\n",
    "import matplotlib.pyplot as plt\n",
    "%matplotlib inline\n",
    "from  scipy.cluster.hierarchy import dendrogram,linkage\n",
    "plt.figure(figsize=(12,9))\n",
    "plt.title('Dendrogram for Agglomerative clustering on ibm attrition')\n",
    "plt.xlabel('Sample Index')\n",
    "plt.ylabel('Distance')\n",
    "z=linkage(ibm_feature1,'complete',metric='cosine')\n",
    "dendrogram(z,leaf_rotation=60.0,p=5,color_threshold=.35,\n",
    "          leaf_font_size=10,truncate_mode='level')\n",
    "plt.tight_layout()"
   ]
  },
  {
   "cell_type": "markdown",
   "metadata": {},
   "source": [
    "### PCA"
   ]
  },
  {
   "cell_type": "code",
   "execution_count": 164,
   "metadata": {
    "scrolled": true
   },
   "outputs": [
    {
     "name": "stdout",
     "output_type": "stream",
     "text": [
      "Shape of covariance matrix (17, 17)\n",
      "\n",
      "Covariance matrix: \n",
      " [[ 1.00068074e+00 -1.18153701e-02  3.19039867e-02 -1.68726795e-03\n",
      "   1.01533349e-02  3.63352680e-02  2.98402581e-02  5.09951134e-01\n",
      "   1.59823736e-01 -4.89520722e-03  9.50935996e-02  2.99838730e-01\n",
      "   2.80814601e-02  5.35711626e-02 -2.15046570e-02  2.13045985e-01\n",
      "   2.16660756e-01]\n",
      " [-1.18153701e-02  1.00068074e+00  2.64140115e-03 -9.70264161e-03\n",
      "  -1.13176337e-02  4.49260746e-02  2.93199041e-02 -1.17037920e-02\n",
      "   2.35535207e-02  8.67185775e-03 -3.09360325e-02 -3.07639120e-02\n",
      "   4.27806186e-02  8.93237981e-03  4.21166436e-03 -5.34005624e-03\n",
      "   5.22557528e-03]\n",
      " [ 3.19039867e-02  2.64140115e-03  1.00068074e+00 -1.72365291e-02\n",
      "   1.94084737e-02 -4.16115974e-02  2.46027983e-02 -1.02032516e-01\n",
      "   4.25325154e-01 -2.10151749e-02  5.61116065e-02  3.59060381e-02\n",
      "  -7.48606014e-03  2.24296837e-02 -2.64004846e-02 -5.63537827e-02\n",
      "  -4.00882378e-02]\n",
      " [-1.68726795e-03 -9.70264161e-03 -1.72365291e-02  1.00068074e+00\n",
      "  -1.60862700e-02  1.85178771e-03  8.78925897e-03  5.30634031e-03\n",
      "  -4.36250883e-02 -3.67133668e-03  1.44468589e-02 -2.92707162e-02\n",
      "   2.55310030e-02  6.56193855e-03 -2.65740817e-02  1.88578276e-02\n",
      "   1.00356629e-02]\n",
      " [ 1.01533349e-02 -1.13176337e-02  1.94084737e-02 -1.60862700e-02\n",
      "   1.00068074e+00 -5.08659917e-04 -8.28323302e-03  1.21252430e-03\n",
      "  -1.01361155e-02 -6.78897095e-03  3.59591953e-03  1.26028966e-02\n",
      "   7.01794679e-02  7.67060164e-03  2.76461023e-02  1.80197185e-02\n",
      "   1.62046291e-02]\n",
      " [ 3.63352680e-02  4.49260746e-02 -4.16115974e-02  1.85178771e-03\n",
      "  -5.08659917e-04  1.00068074e+00 -1.79719812e-02  3.94299258e-02\n",
      "   1.48338648e-02 -3.32743330e-02 -4.72147112e-02  3.91740986e-02\n",
      "   4.19528873e-02 -2.28839373e-02  2.75455267e-03  4.15109673e-02\n",
      "   2.70029465e-02]\n",
      " [ 2.98402581e-02  2.93199041e-02  2.46027983e-02  8.78925897e-03\n",
      "  -8.28323302e-03 -1.79719812e-02  1.00068074e+00 -1.26384803e-02\n",
      "  -6.77026116e-03 -2.14905297e-02  3.85232250e-02  1.50226327e-02\n",
      "  -3.50909771e-03  3.43201677e-02 -1.46265432e-02  8.72289744e-03\n",
      "  -2.42007555e-02]\n",
      " [ 5.09951134e-01 -1.17037920e-02 -1.02032516e-01  5.30634031e-03\n",
      "   1.21252430e-03  3.94299258e-02 -1.26384803e-02  1.00068074e+00\n",
      "   3.13801361e-01 -1.94503118e-03  7.68217378e-02  1.42598129e-01\n",
      "   5.44418127e-04  2.16562427e-02  3.78434895e-02  3.89711843e-01\n",
      "   3.54126249e-01]\n",
      " [ 1.59823736e-01  2.35535207e-02  4.25325154e-01 -4.36250883e-02\n",
      "  -1.01361155e-02  1.48338648e-02 -6.77026116e-03  3.13801361e-01\n",
      "   1.00068074e+00 -2.42743590e-02  5.02199330e-02  4.32332351e-02\n",
      "  -2.08643357e-02  1.84205787e-02  4.98414048e-02  4.60845394e-02\n",
      "   6.80738355e-02]\n",
      " [-4.89520722e-03  8.67185775e-03 -2.10151749e-02 -3.67133668e-03\n",
      "  -6.78897095e-03 -3.32743330e-02 -2.14905297e-02 -1.94503118e-03\n",
      "  -2.42743590e-02  1.00068074e+00 -2.43765357e-02 -5.57373426e-02\n",
      "   2.45561859e-02 -1.24620708e-02 -1.94719564e-02 -2.30635418e-03\n",
      "  -1.82259664e-02]\n",
      " [ 9.50935996e-02 -3.09360325e-02  5.61116065e-02  1.44468589e-02\n",
      "   3.59591953e-03 -4.72147112e-02  3.85232250e-02  7.68217378e-02\n",
      "   5.02199330e-02 -2.43765357e-02  1.00068074e+00  3.55295585e-02\n",
      "   1.75333090e-02 -2.25644206e-02 -1.47183063e-02  6.58667071e-02\n",
      "   3.09361238e-02]\n",
      " [ 2.99838730e-01 -3.07639120e-02  3.59060381e-02 -2.92707162e-02\n",
      "   1.26028966e-02  3.91740986e-02  1.50226327e-02  1.42598129e-01\n",
      "   4.32332351e-02 -5.57373426e-02  3.55295585e-02  1.00068074e+00\n",
      "  -2.07999710e-02  5.27689458e-02 -8.37137961e-03 -9.08157131e-02\n",
      "  -3.68389529e-02]\n",
      " [ 2.80814601e-02  4.27806186e-02 -7.48606014e-03  2.55310030e-02\n",
      "   7.01794679e-02  4.19528873e-02 -3.50909771e-03  5.44418127e-04\n",
      "  -2.08643357e-02  2.45561859e-02  1.75333090e-02 -2.07999710e-02\n",
      "   1.00068074e+00  4.85258136e-02 -2.71103209e-02 -2.97782663e-02\n",
      "  -1.22471540e-02]\n",
      " [ 5.35711626e-02  8.93237981e-03  2.24296837e-02  6.56193855e-03\n",
      "   7.67060164e-03 -2.28839373e-02  3.43201677e-02  2.16562427e-02\n",
      "   1.84205787e-02 -1.24620708e-02 -2.25644206e-02  5.27689458e-02\n",
      "   4.85258136e-02  1.00068074e+00  1.96177511e-02 -1.51332096e-02\n",
      "   3.35153016e-02]\n",
      " [-2.15046570e-02  4.21166436e-03 -2.64004846e-02 -2.65740817e-02\n",
      "   2.76461023e-02  2.75455267e-03 -1.46265432e-02  3.78434895e-02\n",
      "   4.98414048e-02 -1.94719564e-02 -1.47183063e-02 -8.37137961e-03\n",
      "  -2.71103209e-02  1.96177511e-02  1.00068074e+00  4.98904370e-02\n",
      "   8.94733576e-03]\n",
      " [ 2.13045985e-01 -5.34005624e-03 -5.63537827e-02  1.88578276e-02\n",
      "   1.80197185e-02  4.15109673e-02  8.72289744e-03  3.89711843e-01\n",
      "   4.60845394e-02 -2.30635418e-03  6.58667071e-02 -9.08157131e-02\n",
      "  -2.97782663e-02 -1.51332096e-02  4.98904370e-02  1.00068074e+00\n",
      "   5.48429329e-01]\n",
      " [ 2.16660756e-01  5.22557528e-03 -4.00882378e-02  1.00356629e-02\n",
      "   1.62046291e-02  2.70029465e-02 -2.42007555e-02  3.54126249e-01\n",
      "   6.80738355e-02 -1.82259664e-02  3.09361238e-02 -3.68389529e-02\n",
      "  -1.22471540e-02  3.35153016e-02  8.94733576e-03  5.48429329e-01\n",
      "   1.00068074e+00]]\n"
     ]
    }
   ],
   "source": [
    "#apply standard scaler transformation\n",
    "\n",
    "\n",
    "from sklearn.preprocessing import StandardScaler\n",
    "sc=StandardScaler()\n",
    "ibm_std=sc.fit_transform(ibm_feature1.drop('Attrition',axis=1))\n",
    "\n",
    "cov_matrix=np.cov(ibm_std.T)\n",
    "print('Shape of covariance matrix',cov_matrix.shape)\n",
    "print('\\nCovariance matrix: \\n',cov_matrix)"
   ]
  },
  {
   "cell_type": "code",
   "execution_count": null,
   "metadata": {},
   "outputs": [],
   "source": []
  },
  {
   "cell_type": "code",
   "execution_count": 165,
   "metadata": {},
   "outputs": [
    {
     "name": "stdout",
     "output_type": "stream",
     "text": [
      "\n",
      "Eigen values: \n",
      " [2.24975268 0.32918537 1.4926504  0.44349008 0.55505793 0.72457599\n",
      " 1.24120174 0.85654955 0.90920562 0.9298044  0.95797317 1.11501737\n",
      " 1.09174983 0.99579163 1.02341975 1.04366064 1.05248634]\n",
      "\n",
      "\n",
      "Eigen vectors: \n",
      " [[ 4.52961127e-01 -3.38776248e-01  1.50978096e-01 -1.48827350e-01\n",
      "   6.80086762e-01  9.16917925e-02 -3.60709245e-01 -8.11233585e-02\n",
      "  -6.82508923e-02 -4.11995723e-02 -5.24447479e-02  2.36834056e-02\n",
      "  -2.14216080e-02  4.07046702e-02  7.67954581e-02 -9.21320457e-02\n",
      "   3.64253008e-02]\n",
      " [-8.88821598e-03  1.55322949e-02 -1.66606721e-04  1.95111795e-02\n",
      "   8.79031489e-03 -2.98574235e-02  8.02219953e-02  1.44296973e-01\n",
      "  -5.79668754e-01  1.90047752e-01 -1.95364454e-01 -4.84443259e-01\n",
      "   3.96703103e-02  3.24941688e-01  1.33886790e-01  1.97588752e-01\n",
      "   4.02440975e-01]\n",
      " [ 2.87099033e-02  4.01304193e-01  5.93963810e-01  8.32629620e-02\n",
      "   3.44631173e-01 -4.03636371e-01  3.84799712e-01  5.72598297e-02\n",
      "   2.61698625e-02 -8.15493853e-02  1.14464131e-01 -5.79164938e-02\n",
      "  -9.30211808e-02 -9.06271496e-02 -5.68958139e-02 -2.94914152e-02\n",
      "   2.44513106e-02]\n",
      " [-7.94393491e-05 -2.01903611e-02 -9.87955251e-02 -1.11600204e-02\n",
      "  -3.46861476e-02 -1.25547548e-02 -2.43181893e-02  4.77149363e-02\n",
      "  -2.32753429e-01 -3.03978058e-01 -4.25166221e-01  9.92323455e-03\n",
      "  -3.90272855e-01 -6.41694138e-01 -2.03569477e-01 -4.29753331e-03\n",
      "   2.29114661e-01]\n",
      " [ 1.74420493e-02 -8.90090438e-03  4.11604587e-03 -9.38904425e-03\n",
      "  -2.01543329e-02  1.38768185e-01 -2.66795878e-02  2.31630296e-01\n",
      "  -3.12908791e-01 -4.24315012e-01  1.46544950e-01 -3.21119038e-01\n",
      "  -1.29122974e-01  1.75182277e-01 -2.82438851e-01 -8.84567944e-02\n",
      "  -6.22879098e-01]\n",
      " [ 5.62275518e-02  2.84495952e-02 -5.74921184e-02 -2.47036800e-02\n",
      "   4.15164637e-02  3.30333410e-02 -1.39065324e-01  4.05160508e-01\n",
      "   4.84635045e-01 -1.51595294e-01  8.02217074e-03 -3.99465168e-01\n",
      "   3.46897321e-01 -4.23480265e-02 -3.91790337e-01 -4.85268273e-02\n",
      "   3.32159275e-01]\n",
      " [ 4.44396019e-03  1.25656537e-02  6.90046194e-02 -4.14381421e-02\n",
      "  -6.37632446e-02  2.62569288e-02 -7.87086491e-02 -1.70793976e-01\n",
      "   2.77887792e-01 -4.88544217e-01  8.21406515e-03  3.60487283e-02\n",
      "  -3.62290469e-01  3.72182522e-01  6.90550837e-02  5.69371385e-01\n",
      "   1.92956308e-01]\n",
      " [ 5.39263686e-01  6.65700885e-01 -2.03275755e-03  9.96294506e-02\n",
      "  -1.61071171e-01  4.19838257e-01 -1.00675415e-01 -1.34032430e-01\n",
      "  -3.00316765e-02 -1.39518033e-02 -9.65559359e-02  1.10600353e-02\n",
      "   5.98383766e-02  2.84364529e-03  7.05461578e-02 -7.90336992e-02\n",
      "   2.10903132e-02]\n",
      " [ 2.56571716e-01 -4.73895096e-01  5.38429347e-01 -5.63899793e-02\n",
      "  -4.12629459e-01  2.98730509e-01  3.38950332e-01 -8.12285166e-02\n",
      "   4.61878236e-02 -4.19122899e-02 -4.90610633e-02 -8.76081552e-02\n",
      "   9.42241736e-02 -7.61581605e-02  1.15849763e-02 -6.09445329e-02\n",
      "   5.49652082e-02]\n",
      " [-2.68928628e-02 -4.36290689e-03 -8.06058301e-02 -1.45147816e-02\n",
      "  -5.35434612e-02 -1.09624758e-01  7.72540259e-02  2.70811100e-01\n",
      "   1.99026021e-01 -2.91858294e-01 -2.65472341e-01 -6.62810922e-02\n",
      "  -1.38707296e-01  1.78435107e-01  6.08959619e-01 -5.25656743e-01\n",
      "   2.17125595e-02]\n",
      " [ 1.15338006e-01 -7.06817575e-04  1.18037424e-01 -4.31138899e-02\n",
      "  -5.76262820e-02  4.52225997e-02 -1.00280127e-02  4.51297442e-01\n",
      "   1.34230186e-01  4.39477093e-01 -3.01564191e-01  2.73173390e-01\n",
      "  -4.40105936e-01  3.03010029e-01 -3.05732506e-01 -9.05834921e-03\n",
      "  -7.73559198e-02]\n",
      " [ 1.42810008e-01 -1.37067513e-02  2.97252282e-01  1.22561661e-01\n",
      "  -4.10111117e-01 -5.23728552e-01 -6.10508261e-01  4.80438185e-02\n",
      "  -1.44355787e-01 -6.33840182e-02 -2.95710562e-02  9.63040471e-02\n",
      "   1.49947493e-01  1.32179914e-02  6.72299848e-03 -1.51016269e-02\n",
      "  -2.42612619e-02]\n",
      " [-6.93684159e-03 -7.10611746e-03 -8.20692846e-03  2.96641298e-02\n",
      "  -6.73404240e-02 -1.43977618e-01 -1.34917695e-01 -5.06890763e-01\n",
      "   2.68964578e-01  2.87783128e-01 -7.70949953e-02 -5.77191374e-01\n",
      "  -3.74968349e-01  1.23440670e-03 -9.40813995e-02 -2.03854537e-01\n",
      "  -1.15253587e-01]\n",
      " [ 4.32265478e-02  3.79584110e-04  8.67578627e-02  5.52775529e-02\n",
      "  -6.53691221e-03  1.25161370e-01 -1.62355306e-01  3.86670671e-01\n",
      "   1.32091615e-01  2.30349247e-01  2.28541621e-01 -2.49242969e-01\n",
      "  -1.71668612e-01 -4.11190710e-01  4.58715457e-01  3.99608892e-01\n",
      "  -2.06033698e-01]\n",
      " [ 3.85659401e-02  1.85965079e-02 -2.16961927e-02 -5.65137903e-02\n",
      "   9.59881873e-02 -1.45105274e-01  1.29785541e-01 -8.17607680e-02\n",
      "   1.45520087e-01  2.20454573e-03 -6.80994100e-01 -7.13027036e-02\n",
      "   3.82031555e-01 -1.75568992e-02  5.48748886e-02  3.46184760e-01\n",
      "  -4.26115515e-01]\n",
      " [ 4.47185217e-01 -2.31994482e-01 -3.34581466e-01  6.95181561e-01\n",
      "   1.20843718e-02 -2.41521962e-01  2.65254706e-01  3.92325492e-02\n",
      "   3.86080555e-02 -2.31786976e-02  8.88986885e-02  1.20905227e-02\n",
      "  -5.25570356e-02  2.24800883e-02 -4.14247101e-02  7.36046738e-02\n",
      "  -1.11980606e-02]\n",
      " [ 4.42723037e-01  1.81836069e-02 -2.96410174e-01 -6.68874754e-01\n",
      "  -1.63439124e-01 -3.70057160e-01  2.30145040e-01  3.88367328e-02\n",
      "  -2.24174382e-02  2.68225529e-02  1.99386100e-01 -2.68440379e-02\n",
      "  -4.55950608e-02 -4.73224343e-02  5.90625209e-04  6.42476972e-02\n",
      "  -1.18200225e-02]]\n"
     ]
    }
   ],
   "source": [
    "eigenvalues,eigenvectors=np.linalg.eig(cov_matrix)\n",
    "print('\\nEigen values: \\n',eigenvalues)\n",
    "\n",
    "print('\\n\\nEigen vectors: \\n',eigenvectors)"
   ]
  },
  {
   "cell_type": "code",
   "execution_count": 166,
   "metadata": {},
   "outputs": [
    {
     "data": {
      "text/plain": [
       "[(2.249752681607088,\n",
       "  array([ 4.52961127e-01, -8.88821598e-03,  2.87099033e-02, -7.94393491e-05,\n",
       "          1.74420493e-02,  5.62275518e-02,  4.44396019e-03,  5.39263686e-01,\n",
       "          2.56571716e-01, -2.68928628e-02,  1.15338006e-01,  1.42810008e-01,\n",
       "         -6.93684159e-03,  4.32265478e-02,  3.85659401e-02,  4.47185217e-01,\n",
       "          4.42723037e-01])),\n",
       " (0.32918536543393195,\n",
       "  array([-3.38776248e-01,  1.55322949e-02,  4.01304193e-01, -2.01903611e-02,\n",
       "         -8.90090438e-03,  2.84495952e-02,  1.25656537e-02,  6.65700885e-01,\n",
       "         -4.73895096e-01, -4.36290689e-03, -7.06817575e-04, -1.37067513e-02,\n",
       "         -7.10611746e-03,  3.79584110e-04,  1.85965079e-02, -2.31994482e-01,\n",
       "          1.81836069e-02])),\n",
       " (1.4926504021611187,\n",
       "  array([ 1.50978096e-01, -1.66606721e-04,  5.93963810e-01, -9.87955251e-02,\n",
       "          4.11604587e-03, -5.74921184e-02,  6.90046194e-02, -2.03275755e-03,\n",
       "          5.38429347e-01, -8.06058301e-02,  1.18037424e-01,  2.97252282e-01,\n",
       "         -8.20692846e-03,  8.67578627e-02, -2.16961927e-02, -3.34581466e-01,\n",
       "         -2.96410174e-01])),\n",
       " (0.4434900792333867,\n",
       "  array([-0.14882735,  0.01951118,  0.08326296, -0.01116002, -0.00938904,\n",
       "         -0.02470368, -0.04143814,  0.09962945, -0.05638998, -0.01451478,\n",
       "         -0.04311389,  0.12256166,  0.02966413,  0.05527755, -0.05651379,\n",
       "          0.69518156, -0.66887475])),\n",
       " (0.5550579343278634,\n",
       "  array([ 0.68008676,  0.00879031,  0.34463117, -0.03468615, -0.02015433,\n",
       "          0.04151646, -0.06376324, -0.16107117, -0.41262946, -0.05354346,\n",
       "         -0.05762628, -0.41011112, -0.06734042, -0.00653691,  0.09598819,\n",
       "          0.01208437, -0.16343912])),\n",
       " (0.724575993083396,\n",
       "  array([ 0.09169179, -0.02985742, -0.40363637, -0.01255475,  0.13876819,\n",
       "          0.03303334,  0.02625693,  0.41983826,  0.29873051, -0.10962476,\n",
       "          0.0452226 , -0.52372855, -0.14397762,  0.12516137, -0.14510527,\n",
       "         -0.24152196, -0.37005716])),\n",
       " (1.2412017353000822,\n",
       "  array([-0.36070924,  0.080222  ,  0.38479971, -0.02431819, -0.02667959,\n",
       "         -0.13906532, -0.07870865, -0.10067542,  0.33895033,  0.07725403,\n",
       "         -0.01002801, -0.61050826, -0.1349177 , -0.16235531,  0.12978554,\n",
       "          0.26525471,  0.23014504])),\n",
       " (0.8565495522799428,\n",
       "  array([-0.08112336,  0.14429697,  0.05725983,  0.04771494,  0.2316303 ,\n",
       "          0.40516051, -0.17079398, -0.13403243, -0.08122852,  0.2708111 ,\n",
       "          0.45129744,  0.04804382, -0.50689076,  0.38667067, -0.08176077,\n",
       "          0.03923255,  0.03883673])),\n",
       " (0.9092056208128809,\n",
       "  array([-0.06825089, -0.57966875,  0.02616986, -0.23275343, -0.31290879,\n",
       "          0.48463504,  0.27788779, -0.03003168,  0.04618782,  0.19902602,\n",
       "          0.13423019, -0.14435579,  0.26896458,  0.13209161,  0.14552009,\n",
       "          0.03860806, -0.02241744])),\n",
       " (0.9298043983204648,\n",
       "  array([-0.04119957,  0.19004775, -0.08154939, -0.30397806, -0.42431501,\n",
       "         -0.15159529, -0.48854422, -0.0139518 , -0.04191229, -0.29185829,\n",
       "          0.43947709, -0.06338402,  0.28778313,  0.23034925,  0.00220455,\n",
       "         -0.0231787 ,  0.02682255])),\n",
       " (0.9579731740806324,\n",
       "  array([-0.05244475, -0.19536445,  0.11446413, -0.42516622,  0.14654495,\n",
       "          0.00802217,  0.00821407, -0.09655594, -0.04906106, -0.26547234,\n",
       "         -0.30156419, -0.02957106, -0.077095  ,  0.22854162, -0.6809941 ,\n",
       "          0.08889869,  0.1993861 ])),\n",
       " (1.115017374652603,\n",
       "  array([ 0.02368341, -0.48444326, -0.05791649,  0.00992323, -0.32111904,\n",
       "         -0.39946517,  0.03604873,  0.01106004, -0.08760816, -0.06628109,\n",
       "          0.27317339,  0.09630405, -0.57719137, -0.24924297, -0.0713027 ,\n",
       "          0.01209052, -0.02684404])),\n",
       " (1.0917498251203295,\n",
       "  array([-0.02142161,  0.03967031, -0.09302118, -0.39027285, -0.12912297,\n",
       "          0.34689732, -0.36229047,  0.05983838,  0.09422417, -0.1387073 ,\n",
       "         -0.44010594,  0.14994749, -0.37496835, -0.17166861,  0.38203156,\n",
       "         -0.05255704, -0.04559506])),\n",
       " (0.9957916336860125,\n",
       "  array([ 0.04070467,  0.32494169, -0.09062715, -0.64169414,  0.17518228,\n",
       "         -0.04234803,  0.37218252,  0.00284365, -0.07615816,  0.17843511,\n",
       "          0.30301003,  0.01321799,  0.00123441, -0.41119071, -0.0175569 ,\n",
       "          0.02248009, -0.04732243])),\n",
       " (1.0234197471260076,\n",
       "  array([ 7.67954581e-02,  1.33886790e-01, -5.68958139e-02, -2.03569477e-01,\n",
       "         -2.82438851e-01, -3.91790337e-01,  6.90550837e-02,  7.05461578e-02,\n",
       "          1.15849763e-02,  6.08959619e-01, -3.05732506e-01,  6.72299848e-03,\n",
       "         -9.40813995e-02,  4.58715457e-01,  5.48748886e-02, -4.14247101e-02,\n",
       "          5.90625209e-04])),\n",
       " (1.0436606417041603,\n",
       "  array([-0.09213205,  0.19758875, -0.02949142, -0.00429753, -0.08845679,\n",
       "         -0.04852683,  0.56937138, -0.0790337 , -0.06094453, -0.52565674,\n",
       "         -0.00905835, -0.01510163, -0.20385454,  0.39960889,  0.34618476,\n",
       "          0.07360467,  0.0642477 ])),\n",
       " (1.05248633936825,\n",
       "  array([ 0.0364253 ,  0.40244097,  0.02445131,  0.22911466, -0.6228791 ,\n",
       "          0.33215927,  0.19295631,  0.02109031,  0.05496521,  0.02171256,\n",
       "         -0.07735592, -0.02426126, -0.11525359, -0.2060337 , -0.42611551,\n",
       "         -0.01119806, -0.01182002]))]"
      ]
     },
     "execution_count": 166,
     "metadata": {},
     "output_type": "execute_result"
    }
   ],
   "source": [
    "#amke e.value -- e.vector pair\n",
    "\n",
    "eig_pair=[(eigenvalues[index],eigenvectors[:,index]) for index in range(len(eigenvalues)) ]\n",
    "eig_pair\n",
    "\n",
    "#in e.vectors the data is sorted in col wise\n",
    "# in e.pair, tha data is sorted in row wise"
   ]
  },
  {
   "cell_type": "code",
   "execution_count": 167,
   "metadata": {
    "scrolled": false
   },
   "outputs": [
    {
     "data": {
      "text/plain": [
       "[(2.249752681607088,\n",
       "  array([ 4.52961127e-01, -8.88821598e-03,  2.87099033e-02, -7.94393491e-05,\n",
       "          1.74420493e-02,  5.62275518e-02,  4.44396019e-03,  5.39263686e-01,\n",
       "          2.56571716e-01, -2.68928628e-02,  1.15338006e-01,  1.42810008e-01,\n",
       "         -6.93684159e-03,  4.32265478e-02,  3.85659401e-02,  4.47185217e-01,\n",
       "          4.42723037e-01])),\n",
       " (1.4926504021611187,\n",
       "  array([ 1.50978096e-01, -1.66606721e-04,  5.93963810e-01, -9.87955251e-02,\n",
       "          4.11604587e-03, -5.74921184e-02,  6.90046194e-02, -2.03275755e-03,\n",
       "          5.38429347e-01, -8.06058301e-02,  1.18037424e-01,  2.97252282e-01,\n",
       "         -8.20692846e-03,  8.67578627e-02, -2.16961927e-02, -3.34581466e-01,\n",
       "         -2.96410174e-01])),\n",
       " (1.2412017353000822,\n",
       "  array([-0.36070924,  0.080222  ,  0.38479971, -0.02431819, -0.02667959,\n",
       "         -0.13906532, -0.07870865, -0.10067542,  0.33895033,  0.07725403,\n",
       "         -0.01002801, -0.61050826, -0.1349177 , -0.16235531,  0.12978554,\n",
       "          0.26525471,  0.23014504])),\n",
       " (1.115017374652603,\n",
       "  array([ 0.02368341, -0.48444326, -0.05791649,  0.00992323, -0.32111904,\n",
       "         -0.39946517,  0.03604873,  0.01106004, -0.08760816, -0.06628109,\n",
       "          0.27317339,  0.09630405, -0.57719137, -0.24924297, -0.0713027 ,\n",
       "          0.01209052, -0.02684404])),\n",
       " (1.0917498251203295,\n",
       "  array([-0.02142161,  0.03967031, -0.09302118, -0.39027285, -0.12912297,\n",
       "          0.34689732, -0.36229047,  0.05983838,  0.09422417, -0.1387073 ,\n",
       "         -0.44010594,  0.14994749, -0.37496835, -0.17166861,  0.38203156,\n",
       "         -0.05255704, -0.04559506])),\n",
       " (1.05248633936825,\n",
       "  array([ 0.0364253 ,  0.40244097,  0.02445131,  0.22911466, -0.6228791 ,\n",
       "          0.33215927,  0.19295631,  0.02109031,  0.05496521,  0.02171256,\n",
       "         -0.07735592, -0.02426126, -0.11525359, -0.2060337 , -0.42611551,\n",
       "         -0.01119806, -0.01182002])),\n",
       " (1.0436606417041603,\n",
       "  array([-0.09213205,  0.19758875, -0.02949142, -0.00429753, -0.08845679,\n",
       "         -0.04852683,  0.56937138, -0.0790337 , -0.06094453, -0.52565674,\n",
       "         -0.00905835, -0.01510163, -0.20385454,  0.39960889,  0.34618476,\n",
       "          0.07360467,  0.0642477 ])),\n",
       " (1.0234197471260076,\n",
       "  array([ 7.67954581e-02,  1.33886790e-01, -5.68958139e-02, -2.03569477e-01,\n",
       "         -2.82438851e-01, -3.91790337e-01,  6.90550837e-02,  7.05461578e-02,\n",
       "          1.15849763e-02,  6.08959619e-01, -3.05732506e-01,  6.72299848e-03,\n",
       "         -9.40813995e-02,  4.58715457e-01,  5.48748886e-02, -4.14247101e-02,\n",
       "          5.90625209e-04])),\n",
       " (0.9957916336860125,\n",
       "  array([ 0.04070467,  0.32494169, -0.09062715, -0.64169414,  0.17518228,\n",
       "         -0.04234803,  0.37218252,  0.00284365, -0.07615816,  0.17843511,\n",
       "          0.30301003,  0.01321799,  0.00123441, -0.41119071, -0.0175569 ,\n",
       "          0.02248009, -0.04732243])),\n",
       " (0.9579731740806324,\n",
       "  array([-0.05244475, -0.19536445,  0.11446413, -0.42516622,  0.14654495,\n",
       "          0.00802217,  0.00821407, -0.09655594, -0.04906106, -0.26547234,\n",
       "         -0.30156419, -0.02957106, -0.077095  ,  0.22854162, -0.6809941 ,\n",
       "          0.08889869,  0.1993861 ])),\n",
       " (0.9298043983204648,\n",
       "  array([-0.04119957,  0.19004775, -0.08154939, -0.30397806, -0.42431501,\n",
       "         -0.15159529, -0.48854422, -0.0139518 , -0.04191229, -0.29185829,\n",
       "          0.43947709, -0.06338402,  0.28778313,  0.23034925,  0.00220455,\n",
       "         -0.0231787 ,  0.02682255])),\n",
       " (0.9092056208128809,\n",
       "  array([-0.06825089, -0.57966875,  0.02616986, -0.23275343, -0.31290879,\n",
       "          0.48463504,  0.27788779, -0.03003168,  0.04618782,  0.19902602,\n",
       "          0.13423019, -0.14435579,  0.26896458,  0.13209161,  0.14552009,\n",
       "          0.03860806, -0.02241744])),\n",
       " (0.8565495522799428,\n",
       "  array([-0.08112336,  0.14429697,  0.05725983,  0.04771494,  0.2316303 ,\n",
       "          0.40516051, -0.17079398, -0.13403243, -0.08122852,  0.2708111 ,\n",
       "          0.45129744,  0.04804382, -0.50689076,  0.38667067, -0.08176077,\n",
       "          0.03923255,  0.03883673])),\n",
       " (0.724575993083396,\n",
       "  array([ 0.09169179, -0.02985742, -0.40363637, -0.01255475,  0.13876819,\n",
       "          0.03303334,  0.02625693,  0.41983826,  0.29873051, -0.10962476,\n",
       "          0.0452226 , -0.52372855, -0.14397762,  0.12516137, -0.14510527,\n",
       "         -0.24152196, -0.37005716])),\n",
       " (0.5550579343278634,\n",
       "  array([ 0.68008676,  0.00879031,  0.34463117, -0.03468615, -0.02015433,\n",
       "          0.04151646, -0.06376324, -0.16107117, -0.41262946, -0.05354346,\n",
       "         -0.05762628, -0.41011112, -0.06734042, -0.00653691,  0.09598819,\n",
       "          0.01208437, -0.16343912])),\n",
       " (0.4434900792333867,\n",
       "  array([-0.14882735,  0.01951118,  0.08326296, -0.01116002, -0.00938904,\n",
       "         -0.02470368, -0.04143814,  0.09962945, -0.05638998, -0.01451478,\n",
       "         -0.04311389,  0.12256166,  0.02966413,  0.05527755, -0.05651379,\n",
       "          0.69518156, -0.66887475])),\n",
       " (0.32918536543393195,\n",
       "  array([-3.38776248e-01,  1.55322949e-02,  4.01304193e-01, -2.01903611e-02,\n",
       "         -8.90090438e-03,  2.84495952e-02,  1.25656537e-02,  6.65700885e-01,\n",
       "         -4.73895096e-01, -4.36290689e-03, -7.06817575e-04, -1.37067513e-02,\n",
       "         -7.10611746e-03,  3.79584110e-04,  1.85965079e-02, -2.31994482e-01,\n",
       "          1.81836069e-02]))]"
      ]
     },
     "execution_count": 167,
     "metadata": {},
     "output_type": "execute_result"
    }
   ],
   "source": [
    "#to sort the eig pari in sorted way. (PC1, PC2, PC3 ... )\n",
    "eig_pair.sort()\n",
    "eig_pair.reverse()\n",
    "eig_pair"
   ]
  },
  {
   "cell_type": "code",
   "execution_count": 168,
   "metadata": {},
   "outputs": [
    {
     "name": "stdout",
     "output_type": "stream",
     "text": [
      "\n",
      "Cummulative variance explained:  [ 13.22483669  21.99916018  29.29538007  35.84984395  42.267533\n",
      "  48.45441748  54.58942141  60.60544225  66.45905534  72.09035823\n",
      "  77.55607516  82.90070524  87.93580445  92.19511671  95.45794226\n",
      "  98.06493277 100.        ]\n"
     ]
    }
   ],
   "source": [
    "tot=sum(eigenvalues)  #total of all eigen values\n",
    "\n",
    "var_exp=[(i/tot)*100 for i in sorted(eigenvalues,reverse=True)] #converting e.values to percentage variation\n",
    "\n",
    "cum_var=np.cumsum(var_exp) #adding up the percentage score.\n",
    "\n",
    "print('\\nCummulative variance explained: ',cum_var)"
   ]
  },
  {
   "cell_type": "code",
   "execution_count": 169,
   "metadata": {},
   "outputs": [
    {
     "name": "stdout",
     "output_type": "stream",
     "text": [
      "\n",
      "Eigen values [2.249752681607088, 1.4926504021611187, 1.2412017353000822, 1.115017374652603, 1.0917498251203295, 1.05248633936825, 1.0436606417041603, 1.0234197471260076, 0.9957916336860125, 0.9579731740806324, 0.9298043983204648, 0.9092056208128809, 0.8565495522799428, 0.724575993083396, 0.5550579343278634, 0.4434900792333867, 0.32918536543393195]\n",
      "\n",
      "Eigen vectors \n",
      " [array([ 4.52961127e-01, -8.88821598e-03,  2.87099033e-02, -7.94393491e-05,\n",
      "        1.74420493e-02,  5.62275518e-02,  4.44396019e-03,  5.39263686e-01,\n",
      "        2.56571716e-01, -2.68928628e-02,  1.15338006e-01,  1.42810008e-01,\n",
      "       -6.93684159e-03,  4.32265478e-02,  3.85659401e-02,  4.47185217e-01,\n",
      "        4.42723037e-01]), array([ 1.50978096e-01, -1.66606721e-04,  5.93963810e-01, -9.87955251e-02,\n",
      "        4.11604587e-03, -5.74921184e-02,  6.90046194e-02, -2.03275755e-03,\n",
      "        5.38429347e-01, -8.06058301e-02,  1.18037424e-01,  2.97252282e-01,\n",
      "       -8.20692846e-03,  8.67578627e-02, -2.16961927e-02, -3.34581466e-01,\n",
      "       -2.96410174e-01]), array([-0.36070924,  0.080222  ,  0.38479971, -0.02431819, -0.02667959,\n",
      "       -0.13906532, -0.07870865, -0.10067542,  0.33895033,  0.07725403,\n",
      "       -0.01002801, -0.61050826, -0.1349177 , -0.16235531,  0.12978554,\n",
      "        0.26525471,  0.23014504]), array([ 0.02368341, -0.48444326, -0.05791649,  0.00992323, -0.32111904,\n",
      "       -0.39946517,  0.03604873,  0.01106004, -0.08760816, -0.06628109,\n",
      "        0.27317339,  0.09630405, -0.57719137, -0.24924297, -0.0713027 ,\n",
      "        0.01209052, -0.02684404]), array([-0.02142161,  0.03967031, -0.09302118, -0.39027285, -0.12912297,\n",
      "        0.34689732, -0.36229047,  0.05983838,  0.09422417, -0.1387073 ,\n",
      "       -0.44010594,  0.14994749, -0.37496835, -0.17166861,  0.38203156,\n",
      "       -0.05255704, -0.04559506]), array([ 0.0364253 ,  0.40244097,  0.02445131,  0.22911466, -0.6228791 ,\n",
      "        0.33215927,  0.19295631,  0.02109031,  0.05496521,  0.02171256,\n",
      "       -0.07735592, -0.02426126, -0.11525359, -0.2060337 , -0.42611551,\n",
      "       -0.01119806, -0.01182002]), array([-0.09213205,  0.19758875, -0.02949142, -0.00429753, -0.08845679,\n",
      "       -0.04852683,  0.56937138, -0.0790337 , -0.06094453, -0.52565674,\n",
      "       -0.00905835, -0.01510163, -0.20385454,  0.39960889,  0.34618476,\n",
      "        0.07360467,  0.0642477 ]), array([ 7.67954581e-02,  1.33886790e-01, -5.68958139e-02, -2.03569477e-01,\n",
      "       -2.82438851e-01, -3.91790337e-01,  6.90550837e-02,  7.05461578e-02,\n",
      "        1.15849763e-02,  6.08959619e-01, -3.05732506e-01,  6.72299848e-03,\n",
      "       -9.40813995e-02,  4.58715457e-01,  5.48748886e-02, -4.14247101e-02,\n",
      "        5.90625209e-04]), array([ 0.04070467,  0.32494169, -0.09062715, -0.64169414,  0.17518228,\n",
      "       -0.04234803,  0.37218252,  0.00284365, -0.07615816,  0.17843511,\n",
      "        0.30301003,  0.01321799,  0.00123441, -0.41119071, -0.0175569 ,\n",
      "        0.02248009, -0.04732243]), array([-0.05244475, -0.19536445,  0.11446413, -0.42516622,  0.14654495,\n",
      "        0.00802217,  0.00821407, -0.09655594, -0.04906106, -0.26547234,\n",
      "       -0.30156419, -0.02957106, -0.077095  ,  0.22854162, -0.6809941 ,\n",
      "        0.08889869,  0.1993861 ]), array([-0.04119957,  0.19004775, -0.08154939, -0.30397806, -0.42431501,\n",
      "       -0.15159529, -0.48854422, -0.0139518 , -0.04191229, -0.29185829,\n",
      "        0.43947709, -0.06338402,  0.28778313,  0.23034925,  0.00220455,\n",
      "       -0.0231787 ,  0.02682255]), array([-0.06825089, -0.57966875,  0.02616986, -0.23275343, -0.31290879,\n",
      "        0.48463504,  0.27788779, -0.03003168,  0.04618782,  0.19902602,\n",
      "        0.13423019, -0.14435579,  0.26896458,  0.13209161,  0.14552009,\n",
      "        0.03860806, -0.02241744]), array([-0.08112336,  0.14429697,  0.05725983,  0.04771494,  0.2316303 ,\n",
      "        0.40516051, -0.17079398, -0.13403243, -0.08122852,  0.2708111 ,\n",
      "        0.45129744,  0.04804382, -0.50689076,  0.38667067, -0.08176077,\n",
      "        0.03923255,  0.03883673]), array([ 0.09169179, -0.02985742, -0.40363637, -0.01255475,  0.13876819,\n",
      "        0.03303334,  0.02625693,  0.41983826,  0.29873051, -0.10962476,\n",
      "        0.0452226 , -0.52372855, -0.14397762,  0.12516137, -0.14510527,\n",
      "       -0.24152196, -0.37005716]), array([ 0.68008676,  0.00879031,  0.34463117, -0.03468615, -0.02015433,\n",
      "        0.04151646, -0.06376324, -0.16107117, -0.41262946, -0.05354346,\n",
      "       -0.05762628, -0.41011112, -0.06734042, -0.00653691,  0.09598819,\n",
      "        0.01208437, -0.16343912]), array([-0.14882735,  0.01951118,  0.08326296, -0.01116002, -0.00938904,\n",
      "       -0.02470368, -0.04143814,  0.09962945, -0.05638998, -0.01451478,\n",
      "       -0.04311389,  0.12256166,  0.02966413,  0.05527755, -0.05651379,\n",
      "        0.69518156, -0.66887475]), array([-3.38776248e-01,  1.55322949e-02,  4.01304193e-01, -2.01903611e-02,\n",
      "       -8.90090438e-03,  2.84495952e-02,  1.25656537e-02,  6.65700885e-01,\n",
      "       -4.73895096e-01, -4.36290689e-03, -7.06817575e-04, -1.37067513e-02,\n",
      "       -7.10611746e-03,  3.79584110e-04,  1.85965079e-02, -2.31994482e-01,\n",
      "        1.81836069e-02])]\n"
     ]
    }
   ],
   "source": [
    "#to get the eigen vectors alone for dot product\n",
    "eigen_values_sort=[eig_pair[index][0] for index in range(len(eig_pair))]\n",
    "\n",
    "eigen_vectors_sort=[eig_pair[index][1] for index in range(len(eig_pair))]\n",
    "\n",
    "print('\\nEigen values',eigen_values_sort)\n",
    "print('\\nEigen vectors \\n',eigen_vectors_sort)"
   ]
  },
  {
   "cell_type": "code",
   "execution_count": 170,
   "metadata": {},
   "outputs": [
    {
     "data": {
      "text/html": [
       "<div>\n",
       "<style scoped>\n",
       "    .dataframe tbody tr th:only-of-type {\n",
       "        vertical-align: middle;\n",
       "    }\n",
       "\n",
       "    .dataframe tbody tr th {\n",
       "        vertical-align: top;\n",
       "    }\n",
       "\n",
       "    .dataframe thead th {\n",
       "        text-align: right;\n",
       "    }\n",
       "</style>\n",
       "<table border=\"1\" class=\"dataframe\">\n",
       "  <thead>\n",
       "    <tr style=\"text-align: right;\">\n",
       "      <th></th>\n",
       "      <th>0</th>\n",
       "      <th>1</th>\n",
       "      <th>2</th>\n",
       "      <th>3</th>\n",
       "      <th>4</th>\n",
       "      <th>5</th>\n",
       "      <th>6</th>\n",
       "      <th>7</th>\n",
       "      <th>8</th>\n",
       "      <th>9</th>\n",
       "      <th>10</th>\n",
       "      <th>11</th>\n",
       "      <th>12</th>\n",
       "      <th>13</th>\n",
       "      <th>14</th>\n",
       "      <th>15</th>\n",
       "      <th>16</th>\n",
       "    </tr>\n",
       "  </thead>\n",
       "  <tbody>\n",
       "    <tr>\n",
       "      <th>0</th>\n",
       "      <td>0.452961</td>\n",
       "      <td>0.150978</td>\n",
       "      <td>-0.360709</td>\n",
       "      <td>0.023683</td>\n",
       "      <td>-0.021422</td>\n",
       "      <td>0.036425</td>\n",
       "      <td>-0.092132</td>\n",
       "      <td>0.076795</td>\n",
       "      <td>0.040705</td>\n",
       "      <td>-0.052445</td>\n",
       "      <td>-0.041200</td>\n",
       "      <td>-0.068251</td>\n",
       "      <td>-0.081123</td>\n",
       "      <td>0.091692</td>\n",
       "      <td>0.680087</td>\n",
       "      <td>-0.148827</td>\n",
       "      <td>-0.338776</td>\n",
       "    </tr>\n",
       "    <tr>\n",
       "      <th>1</th>\n",
       "      <td>-0.008888</td>\n",
       "      <td>-0.000167</td>\n",
       "      <td>0.080222</td>\n",
       "      <td>-0.484443</td>\n",
       "      <td>0.039670</td>\n",
       "      <td>0.402441</td>\n",
       "      <td>0.197589</td>\n",
       "      <td>0.133887</td>\n",
       "      <td>0.324942</td>\n",
       "      <td>-0.195364</td>\n",
       "      <td>0.190048</td>\n",
       "      <td>-0.579669</td>\n",
       "      <td>0.144297</td>\n",
       "      <td>-0.029857</td>\n",
       "      <td>0.008790</td>\n",
       "      <td>0.019511</td>\n",
       "      <td>0.015532</td>\n",
       "    </tr>\n",
       "    <tr>\n",
       "      <th>2</th>\n",
       "      <td>0.028710</td>\n",
       "      <td>0.593964</td>\n",
       "      <td>0.384800</td>\n",
       "      <td>-0.057916</td>\n",
       "      <td>-0.093021</td>\n",
       "      <td>0.024451</td>\n",
       "      <td>-0.029491</td>\n",
       "      <td>-0.056896</td>\n",
       "      <td>-0.090627</td>\n",
       "      <td>0.114464</td>\n",
       "      <td>-0.081549</td>\n",
       "      <td>0.026170</td>\n",
       "      <td>0.057260</td>\n",
       "      <td>-0.403636</td>\n",
       "      <td>0.344631</td>\n",
       "      <td>0.083263</td>\n",
       "      <td>0.401304</td>\n",
       "    </tr>\n",
       "    <tr>\n",
       "      <th>3</th>\n",
       "      <td>-0.000079</td>\n",
       "      <td>-0.098796</td>\n",
       "      <td>-0.024318</td>\n",
       "      <td>0.009923</td>\n",
       "      <td>-0.390273</td>\n",
       "      <td>0.229115</td>\n",
       "      <td>-0.004298</td>\n",
       "      <td>-0.203569</td>\n",
       "      <td>-0.641694</td>\n",
       "      <td>-0.425166</td>\n",
       "      <td>-0.303978</td>\n",
       "      <td>-0.232753</td>\n",
       "      <td>0.047715</td>\n",
       "      <td>-0.012555</td>\n",
       "      <td>-0.034686</td>\n",
       "      <td>-0.011160</td>\n",
       "      <td>-0.020190</td>\n",
       "    </tr>\n",
       "    <tr>\n",
       "      <th>4</th>\n",
       "      <td>0.017442</td>\n",
       "      <td>0.004116</td>\n",
       "      <td>-0.026680</td>\n",
       "      <td>-0.321119</td>\n",
       "      <td>-0.129123</td>\n",
       "      <td>-0.622879</td>\n",
       "      <td>-0.088457</td>\n",
       "      <td>-0.282439</td>\n",
       "      <td>0.175182</td>\n",
       "      <td>0.146545</td>\n",
       "      <td>-0.424315</td>\n",
       "      <td>-0.312909</td>\n",
       "      <td>0.231630</td>\n",
       "      <td>0.138768</td>\n",
       "      <td>-0.020154</td>\n",
       "      <td>-0.009389</td>\n",
       "      <td>-0.008901</td>\n",
       "    </tr>\n",
       "    <tr>\n",
       "      <th>5</th>\n",
       "      <td>0.056228</td>\n",
       "      <td>-0.057492</td>\n",
       "      <td>-0.139065</td>\n",
       "      <td>-0.399465</td>\n",
       "      <td>0.346897</td>\n",
       "      <td>0.332159</td>\n",
       "      <td>-0.048527</td>\n",
       "      <td>-0.391790</td>\n",
       "      <td>-0.042348</td>\n",
       "      <td>0.008022</td>\n",
       "      <td>-0.151595</td>\n",
       "      <td>0.484635</td>\n",
       "      <td>0.405161</td>\n",
       "      <td>0.033033</td>\n",
       "      <td>0.041516</td>\n",
       "      <td>-0.024704</td>\n",
       "      <td>0.028450</td>\n",
       "    </tr>\n",
       "    <tr>\n",
       "      <th>6</th>\n",
       "      <td>0.004444</td>\n",
       "      <td>0.069005</td>\n",
       "      <td>-0.078709</td>\n",
       "      <td>0.036049</td>\n",
       "      <td>-0.362290</td>\n",
       "      <td>0.192956</td>\n",
       "      <td>0.569371</td>\n",
       "      <td>0.069055</td>\n",
       "      <td>0.372183</td>\n",
       "      <td>0.008214</td>\n",
       "      <td>-0.488544</td>\n",
       "      <td>0.277888</td>\n",
       "      <td>-0.170794</td>\n",
       "      <td>0.026257</td>\n",
       "      <td>-0.063763</td>\n",
       "      <td>-0.041438</td>\n",
       "      <td>0.012566</td>\n",
       "    </tr>\n",
       "    <tr>\n",
       "      <th>7</th>\n",
       "      <td>0.539264</td>\n",
       "      <td>-0.002033</td>\n",
       "      <td>-0.100675</td>\n",
       "      <td>0.011060</td>\n",
       "      <td>0.059838</td>\n",
       "      <td>0.021090</td>\n",
       "      <td>-0.079034</td>\n",
       "      <td>0.070546</td>\n",
       "      <td>0.002844</td>\n",
       "      <td>-0.096556</td>\n",
       "      <td>-0.013952</td>\n",
       "      <td>-0.030032</td>\n",
       "      <td>-0.134032</td>\n",
       "      <td>0.419838</td>\n",
       "      <td>-0.161071</td>\n",
       "      <td>0.099629</td>\n",
       "      <td>0.665701</td>\n",
       "    </tr>\n",
       "    <tr>\n",
       "      <th>8</th>\n",
       "      <td>0.256572</td>\n",
       "      <td>0.538429</td>\n",
       "      <td>0.338950</td>\n",
       "      <td>-0.087608</td>\n",
       "      <td>0.094224</td>\n",
       "      <td>0.054965</td>\n",
       "      <td>-0.060945</td>\n",
       "      <td>0.011585</td>\n",
       "      <td>-0.076158</td>\n",
       "      <td>-0.049061</td>\n",
       "      <td>-0.041912</td>\n",
       "      <td>0.046188</td>\n",
       "      <td>-0.081229</td>\n",
       "      <td>0.298731</td>\n",
       "      <td>-0.412629</td>\n",
       "      <td>-0.056390</td>\n",
       "      <td>-0.473895</td>\n",
       "    </tr>\n",
       "    <tr>\n",
       "      <th>9</th>\n",
       "      <td>-0.026893</td>\n",
       "      <td>-0.080606</td>\n",
       "      <td>0.077254</td>\n",
       "      <td>-0.066281</td>\n",
       "      <td>-0.138707</td>\n",
       "      <td>0.021713</td>\n",
       "      <td>-0.525657</td>\n",
       "      <td>0.608960</td>\n",
       "      <td>0.178435</td>\n",
       "      <td>-0.265472</td>\n",
       "      <td>-0.291858</td>\n",
       "      <td>0.199026</td>\n",
       "      <td>0.270811</td>\n",
       "      <td>-0.109625</td>\n",
       "      <td>-0.053543</td>\n",
       "      <td>-0.014515</td>\n",
       "      <td>-0.004363</td>\n",
       "    </tr>\n",
       "    <tr>\n",
       "      <th>10</th>\n",
       "      <td>0.115338</td>\n",
       "      <td>0.118037</td>\n",
       "      <td>-0.010028</td>\n",
       "      <td>0.273173</td>\n",
       "      <td>-0.440106</td>\n",
       "      <td>-0.077356</td>\n",
       "      <td>-0.009058</td>\n",
       "      <td>-0.305733</td>\n",
       "      <td>0.303010</td>\n",
       "      <td>-0.301564</td>\n",
       "      <td>0.439477</td>\n",
       "      <td>0.134230</td>\n",
       "      <td>0.451297</td>\n",
       "      <td>0.045223</td>\n",
       "      <td>-0.057626</td>\n",
       "      <td>-0.043114</td>\n",
       "      <td>-0.000707</td>\n",
       "    </tr>\n",
       "    <tr>\n",
       "      <th>11</th>\n",
       "      <td>0.142810</td>\n",
       "      <td>0.297252</td>\n",
       "      <td>-0.610508</td>\n",
       "      <td>0.096304</td>\n",
       "      <td>0.149947</td>\n",
       "      <td>-0.024261</td>\n",
       "      <td>-0.015102</td>\n",
       "      <td>0.006723</td>\n",
       "      <td>0.013218</td>\n",
       "      <td>-0.029571</td>\n",
       "      <td>-0.063384</td>\n",
       "      <td>-0.144356</td>\n",
       "      <td>0.048044</td>\n",
       "      <td>-0.523729</td>\n",
       "      <td>-0.410111</td>\n",
       "      <td>0.122562</td>\n",
       "      <td>-0.013707</td>\n",
       "    </tr>\n",
       "    <tr>\n",
       "      <th>12</th>\n",
       "      <td>-0.006937</td>\n",
       "      <td>-0.008207</td>\n",
       "      <td>-0.134918</td>\n",
       "      <td>-0.577191</td>\n",
       "      <td>-0.374968</td>\n",
       "      <td>-0.115254</td>\n",
       "      <td>-0.203855</td>\n",
       "      <td>-0.094081</td>\n",
       "      <td>0.001234</td>\n",
       "      <td>-0.077095</td>\n",
       "      <td>0.287783</td>\n",
       "      <td>0.268965</td>\n",
       "      <td>-0.506891</td>\n",
       "      <td>-0.143978</td>\n",
       "      <td>-0.067340</td>\n",
       "      <td>0.029664</td>\n",
       "      <td>-0.007106</td>\n",
       "    </tr>\n",
       "    <tr>\n",
       "      <th>13</th>\n",
       "      <td>0.043227</td>\n",
       "      <td>0.086758</td>\n",
       "      <td>-0.162355</td>\n",
       "      <td>-0.249243</td>\n",
       "      <td>-0.171669</td>\n",
       "      <td>-0.206034</td>\n",
       "      <td>0.399609</td>\n",
       "      <td>0.458715</td>\n",
       "      <td>-0.411191</td>\n",
       "      <td>0.228542</td>\n",
       "      <td>0.230349</td>\n",
       "      <td>0.132092</td>\n",
       "      <td>0.386671</td>\n",
       "      <td>0.125161</td>\n",
       "      <td>-0.006537</td>\n",
       "      <td>0.055278</td>\n",
       "      <td>0.000380</td>\n",
       "    </tr>\n",
       "    <tr>\n",
       "      <th>14</th>\n",
       "      <td>0.038566</td>\n",
       "      <td>-0.021696</td>\n",
       "      <td>0.129786</td>\n",
       "      <td>-0.071303</td>\n",
       "      <td>0.382032</td>\n",
       "      <td>-0.426116</td>\n",
       "      <td>0.346185</td>\n",
       "      <td>0.054875</td>\n",
       "      <td>-0.017557</td>\n",
       "      <td>-0.680994</td>\n",
       "      <td>0.002205</td>\n",
       "      <td>0.145520</td>\n",
       "      <td>-0.081761</td>\n",
       "      <td>-0.145105</td>\n",
       "      <td>0.095988</td>\n",
       "      <td>-0.056514</td>\n",
       "      <td>0.018597</td>\n",
       "    </tr>\n",
       "    <tr>\n",
       "      <th>15</th>\n",
       "      <td>0.447185</td>\n",
       "      <td>-0.334581</td>\n",
       "      <td>0.265255</td>\n",
       "      <td>0.012091</td>\n",
       "      <td>-0.052557</td>\n",
       "      <td>-0.011198</td>\n",
       "      <td>0.073605</td>\n",
       "      <td>-0.041425</td>\n",
       "      <td>0.022480</td>\n",
       "      <td>0.088899</td>\n",
       "      <td>-0.023179</td>\n",
       "      <td>0.038608</td>\n",
       "      <td>0.039233</td>\n",
       "      <td>-0.241522</td>\n",
       "      <td>0.012084</td>\n",
       "      <td>0.695182</td>\n",
       "      <td>-0.231994</td>\n",
       "    </tr>\n",
       "    <tr>\n",
       "      <th>16</th>\n",
       "      <td>0.442723</td>\n",
       "      <td>-0.296410</td>\n",
       "      <td>0.230145</td>\n",
       "      <td>-0.026844</td>\n",
       "      <td>-0.045595</td>\n",
       "      <td>-0.011820</td>\n",
       "      <td>0.064248</td>\n",
       "      <td>0.000591</td>\n",
       "      <td>-0.047322</td>\n",
       "      <td>0.199386</td>\n",
       "      <td>0.026823</td>\n",
       "      <td>-0.022417</td>\n",
       "      <td>0.038837</td>\n",
       "      <td>-0.370057</td>\n",
       "      <td>-0.163439</td>\n",
       "      <td>-0.668875</td>\n",
       "      <td>0.018184</td>\n",
       "    </tr>\n",
       "  </tbody>\n",
       "</table>\n",
       "</div>"
      ],
      "text/plain": [
       "          0         1         2         3         4         5         6   \\\n",
       "0   0.452961  0.150978 -0.360709  0.023683 -0.021422  0.036425 -0.092132   \n",
       "1  -0.008888 -0.000167  0.080222 -0.484443  0.039670  0.402441  0.197589   \n",
       "2   0.028710  0.593964  0.384800 -0.057916 -0.093021  0.024451 -0.029491   \n",
       "3  -0.000079 -0.098796 -0.024318  0.009923 -0.390273  0.229115 -0.004298   \n",
       "4   0.017442  0.004116 -0.026680 -0.321119 -0.129123 -0.622879 -0.088457   \n",
       "5   0.056228 -0.057492 -0.139065 -0.399465  0.346897  0.332159 -0.048527   \n",
       "6   0.004444  0.069005 -0.078709  0.036049 -0.362290  0.192956  0.569371   \n",
       "7   0.539264 -0.002033 -0.100675  0.011060  0.059838  0.021090 -0.079034   \n",
       "8   0.256572  0.538429  0.338950 -0.087608  0.094224  0.054965 -0.060945   \n",
       "9  -0.026893 -0.080606  0.077254 -0.066281 -0.138707  0.021713 -0.525657   \n",
       "10  0.115338  0.118037 -0.010028  0.273173 -0.440106 -0.077356 -0.009058   \n",
       "11  0.142810  0.297252 -0.610508  0.096304  0.149947 -0.024261 -0.015102   \n",
       "12 -0.006937 -0.008207 -0.134918 -0.577191 -0.374968 -0.115254 -0.203855   \n",
       "13  0.043227  0.086758 -0.162355 -0.249243 -0.171669 -0.206034  0.399609   \n",
       "14  0.038566 -0.021696  0.129786 -0.071303  0.382032 -0.426116  0.346185   \n",
       "15  0.447185 -0.334581  0.265255  0.012091 -0.052557 -0.011198  0.073605   \n",
       "16  0.442723 -0.296410  0.230145 -0.026844 -0.045595 -0.011820  0.064248   \n",
       "\n",
       "          7         8         9         10        11        12        13  \\\n",
       "0   0.076795  0.040705 -0.052445 -0.041200 -0.068251 -0.081123  0.091692   \n",
       "1   0.133887  0.324942 -0.195364  0.190048 -0.579669  0.144297 -0.029857   \n",
       "2  -0.056896 -0.090627  0.114464 -0.081549  0.026170  0.057260 -0.403636   \n",
       "3  -0.203569 -0.641694 -0.425166 -0.303978 -0.232753  0.047715 -0.012555   \n",
       "4  -0.282439  0.175182  0.146545 -0.424315 -0.312909  0.231630  0.138768   \n",
       "5  -0.391790 -0.042348  0.008022 -0.151595  0.484635  0.405161  0.033033   \n",
       "6   0.069055  0.372183  0.008214 -0.488544  0.277888 -0.170794  0.026257   \n",
       "7   0.070546  0.002844 -0.096556 -0.013952 -0.030032 -0.134032  0.419838   \n",
       "8   0.011585 -0.076158 -0.049061 -0.041912  0.046188 -0.081229  0.298731   \n",
       "9   0.608960  0.178435 -0.265472 -0.291858  0.199026  0.270811 -0.109625   \n",
       "10 -0.305733  0.303010 -0.301564  0.439477  0.134230  0.451297  0.045223   \n",
       "11  0.006723  0.013218 -0.029571 -0.063384 -0.144356  0.048044 -0.523729   \n",
       "12 -0.094081  0.001234 -0.077095  0.287783  0.268965 -0.506891 -0.143978   \n",
       "13  0.458715 -0.411191  0.228542  0.230349  0.132092  0.386671  0.125161   \n",
       "14  0.054875 -0.017557 -0.680994  0.002205  0.145520 -0.081761 -0.145105   \n",
       "15 -0.041425  0.022480  0.088899 -0.023179  0.038608  0.039233 -0.241522   \n",
       "16  0.000591 -0.047322  0.199386  0.026823 -0.022417  0.038837 -0.370057   \n",
       "\n",
       "          14        15        16  \n",
       "0   0.680087 -0.148827 -0.338776  \n",
       "1   0.008790  0.019511  0.015532  \n",
       "2   0.344631  0.083263  0.401304  \n",
       "3  -0.034686 -0.011160 -0.020190  \n",
       "4  -0.020154 -0.009389 -0.008901  \n",
       "5   0.041516 -0.024704  0.028450  \n",
       "6  -0.063763 -0.041438  0.012566  \n",
       "7  -0.161071  0.099629  0.665701  \n",
       "8  -0.412629 -0.056390 -0.473895  \n",
       "9  -0.053543 -0.014515 -0.004363  \n",
       "10 -0.057626 -0.043114 -0.000707  \n",
       "11 -0.410111  0.122562 -0.013707  \n",
       "12 -0.067340  0.029664 -0.007106  \n",
       "13 -0.006537  0.055278  0.000380  \n",
       "14  0.095988 -0.056514  0.018597  \n",
       "15  0.012084  0.695182 -0.231994  \n",
       "16 -0.163439 -0.668875  0.018184  "
      ]
     },
     "execution_count": 170,
     "metadata": {},
     "output_type": "execute_result"
    }
   ],
   "source": [
    "# with 25 PC vectors\n",
    "#since dropping last 1 PC dim, we get 5% loss. hence 0:7\n",
    "PC=np.array(eigen_vectors_sort[0:25]).transpose()\n",
    "PC1=pd.DataFrame(PC)\n",
    "PC1\n",
    "\n"
   ]
  },
  {
   "cell_type": "code",
   "execution_count": 171,
   "metadata": {},
   "outputs": [
    {
     "data": {
      "text/plain": [
       "(1470, 17)"
      ]
     },
     "execution_count": 171,
     "metadata": {},
     "output_type": "execute_result"
    }
   ],
   "source": [
    "\n",
    "proj_2D=pd.DataFrame(np.dot(ibm_std,PC))\n",
    "proj_2D.shape"
   ]
  },
  {
   "cell_type": "code",
   "execution_count": 172,
   "metadata": {},
   "outputs": [
    {
     "data": {
      "text/plain": [
       "0    1162\n",
       "1     308\n",
       "Name: 0, dtype: int64"
      ]
     },
     "execution_count": 172,
     "metadata": {},
     "output_type": "execute_result"
    }
   ],
   "source": [
    "model1=AgglomerativeClustering(n_clusters=2,affinity='cosine',linkage='average')\n",
    "model1.fit(proj_2D)\n",
    "L1=pd.DataFrame(model1.labels_)\n",
    "\n",
    "#cent1=pd.DataFrame(cent1,columns=list(ab_scale))\n",
    "L1[0].value_counts()\n"
   ]
  },
  {
   "cell_type": "markdown",
   "metadata": {},
   "source": [
    "### Logistic regression using PCA dataframe"
   ]
  },
  {
   "cell_type": "code",
   "execution_count": 173,
   "metadata": {},
   "outputs": [],
   "source": [
    "y=ibm.Attrition.values\n",
    "x_train,x_test,y_train,y_test=train_test_split(proj_2D, y, test_size=0.30, random_state=0)"
   ]
  },
  {
   "cell_type": "code",
   "execution_count": 174,
   "metadata": {},
   "outputs": [],
   "source": [
    "model =LogisticRegression()\n",
    "model.fit(x_train,y_train)\n",
    "y_pred=model.predict(x_test)"
   ]
  },
  {
   "cell_type": "code",
   "execution_count": 175,
   "metadata": {},
   "outputs": [
    {
     "name": "stdout",
     "output_type": "stream",
     "text": [
      "0.8798185941043084\n"
     ]
    }
   ],
   "source": [
    "model_score = model.score(x_test,y_test)\n",
    "print(model_score)"
   ]
  },
  {
   "cell_type": "code",
   "execution_count": 176,
   "metadata": {},
   "outputs": [
    {
     "name": "stdout",
     "output_type": "stream",
     "text": [
      "[[362   9]\n",
      " [ 44  26]]\n"
     ]
    }
   ],
   "source": [
    "from sklearn.metrics import confusion_matrix\n",
    "\n",
    "print(metrics.confusion_matrix(y_test,y_pred))"
   ]
  },
  {
   "cell_type": "code",
   "execution_count": 177,
   "metadata": {},
   "outputs": [
    {
     "data": {
      "text/plain": [
       "0.49523809523809526"
      ]
     },
     "execution_count": 177,
     "metadata": {},
     "output_type": "execute_result"
    }
   ],
   "source": [
    "# f1 score\n",
    "f1_score(y_test, y_pred) "
   ]
  },
  {
   "cell_type": "code",
   "execution_count": 178,
   "metadata": {},
   "outputs": [
    {
     "data": {
      "text/plain": [
       "0.37142857142857144"
      ]
     },
     "execution_count": 178,
     "metadata": {},
     "output_type": "execute_result"
    }
   ],
   "source": [
    "recall_score(y_test, y_pred)"
   ]
  },
  {
   "cell_type": "code",
   "execution_count": 179,
   "metadata": {},
   "outputs": [
    {
     "data": {
      "text/plain": [
       "DecisionTreeClassifier(class_weight=None, criterion='gini', max_depth=3,\n",
       "            max_features=None, max_leaf_nodes=None,\n",
       "            min_impurity_decrease=0.0, min_impurity_split=None,\n",
       "            min_samples_leaf=5, min_samples_split=2,\n",
       "            min_weight_fraction_leaf=0.0, presort=False, random_state=100,\n",
       "            splitter='best')"
      ]
     },
     "execution_count": 179,
     "metadata": {},
     "output_type": "execute_result"
    }
   ],
   "source": [
    "giniDecisionTree = DecisionTreeClassifier(criterion='gini',random_state = 100,max_depth=3, min_samples_leaf=5)\n",
    "\n",
    "giniDecisionTree.fit(x_train, y_train)"
   ]
  },
  {
   "cell_type": "code",
   "execution_count": 180,
   "metadata": {},
   "outputs": [],
   "source": [
    "giniPred = giniDecisionTree.predict(x_test)"
   ]
  },
  {
   "cell_type": "code",
   "execution_count": 181,
   "metadata": {},
   "outputs": [
    {
     "name": "stdout",
     "output_type": "stream",
     "text": [
      "Accuracy Score:  0.8458049886621315\n"
     ]
    }
   ],
   "source": [
    "print('Accuracy Score: ',accuracy_score(y_test, giniPred))"
   ]
  },
  {
   "cell_type": "code",
   "execution_count": 182,
   "metadata": {},
   "outputs": [
    {
     "name": "stdout",
     "output_type": "stream",
     "text": [
      "F1 score using logistic regression without any technique 0.17073170731707318\n"
     ]
    }
   ],
   "source": [
    "# f1 score\n",
    "print('F1 score using logistic regression without any technique',f1_score(y_test, giniPred))"
   ]
  },
  {
   "cell_type": "code",
   "execution_count": 183,
   "metadata": {},
   "outputs": [
    {
     "name": "stdout",
     "output_type": "stream",
     "text": [
      "Recall score using Logistic Regression without any technique 0.1\n"
     ]
    }
   ],
   "source": [
    "print('Recall score using Logistic Regression without any technique',recall_score(y_test, giniPred))"
   ]
  },
  {
   "cell_type": "code",
   "execution_count": 184,
   "metadata": {},
   "outputs": [
    {
     "name": "stdout",
     "output_type": "stream",
     "text": [
      "Classification Report\n",
      "              precision    recall  f1-score   support\n",
      "\n",
      "           0       0.85      0.99      0.92       371\n",
      "           1       0.58      0.10      0.17        70\n",
      "\n",
      "   micro avg       0.85      0.85      0.85       441\n",
      "   macro avg       0.72      0.54      0.54       441\n",
      "weighted avg       0.81      0.85      0.80       441\n",
      "\n"
     ]
    }
   ],
   "source": [
    "print('Classification Report')\n",
    "print(classification_report(y_test, giniPred))"
   ]
  },
  {
   "cell_type": "markdown",
   "metadata": {},
   "source": [
    "### Entropy Criterion"
   ]
  },
  {
   "cell_type": "code",
   "execution_count": 185,
   "metadata": {},
   "outputs": [],
   "source": [
    "entropyDecisionTree = DecisionTreeClassifier(criterion='entropy',random_state = 100,max_depth=3, min_samples_leaf=5)"
   ]
  },
  {
   "cell_type": "code",
   "execution_count": 186,
   "metadata": {},
   "outputs": [
    {
     "data": {
      "text/plain": [
       "DecisionTreeClassifier(class_weight=None, criterion='entropy', max_depth=3,\n",
       "            max_features=None, max_leaf_nodes=None,\n",
       "            min_impurity_decrease=0.0, min_impurity_split=None,\n",
       "            min_samples_leaf=5, min_samples_split=2,\n",
       "            min_weight_fraction_leaf=0.0, presort=False, random_state=100,\n",
       "            splitter='best')"
      ]
     },
     "execution_count": 186,
     "metadata": {},
     "output_type": "execute_result"
    }
   ],
   "source": [
    "entropyDecisionTree.fit(x_train, y_train)"
   ]
  },
  {
   "cell_type": "code",
   "execution_count": 187,
   "metadata": {},
   "outputs": [],
   "source": [
    "entropyPred = entropyDecisionTree.predict(x_test)"
   ]
  },
  {
   "cell_type": "code",
   "execution_count": 188,
   "metadata": {},
   "outputs": [
    {
     "name": "stdout",
     "output_type": "stream",
     "text": [
      "Accuracy Score:  0.8390022675736961\n"
     ]
    }
   ],
   "source": [
    "print('Accuracy Score: ',accuracy_score(y_test, entropyPred))"
   ]
  },
  {
   "cell_type": "code",
   "execution_count": 189,
   "metadata": {},
   "outputs": [
    {
     "name": "stdout",
     "output_type": "stream",
     "text": [
      "F1 score using logistic regression without any technique 0.21978021978021975\n"
     ]
    }
   ],
   "source": [
    "# f1 score\n",
    "print('F1 score using logistic regression without any technique',f1_score(y_test, entropyPred))"
   ]
  },
  {
   "cell_type": "code",
   "execution_count": 190,
   "metadata": {},
   "outputs": [
    {
     "name": "stdout",
     "output_type": "stream",
     "text": [
      "Recall score using Logistic Regression without any technique 0.14285714285714285\n"
     ]
    }
   ],
   "source": [
    "print('Recall score using Logistic Regression without any technique',recall_score(y_test, entropyPred))"
   ]
  },
  {
   "cell_type": "code",
   "execution_count": 191,
   "metadata": {
    "scrolled": true
   },
   "outputs": [
    {
     "name": "stdout",
     "output_type": "stream",
     "text": [
      "              precision    recall  f1-score   support\n",
      "\n",
      "           0       0.86      0.97      0.91       371\n",
      "           1       0.48      0.14      0.22        70\n",
      "\n",
      "   micro avg       0.84      0.84      0.84       441\n",
      "   macro avg       0.67      0.56      0.57       441\n",
      "weighted avg       0.80      0.84      0.80       441\n",
      "\n"
     ]
    }
   ],
   "source": [
    "print(classification_report(y_test, entropyPred))"
   ]
  },
  {
   "cell_type": "code",
   "execution_count": 192,
   "metadata": {},
   "outputs": [
    {
     "name": "stdout",
     "output_type": "stream",
     "text": [
      "Accuracy on training set: 0.91\n",
      "Accuracy on test set: 0.86\n"
     ]
    }
   ],
   "source": [
    "from sklearn.svm import SVC\n",
    "\n",
    "svc = SVC()\n",
    "svc.fit(x_train, y_train)\n",
    "\n",
    "print(\"Accuracy on training set: {:.2f}\".format(svc.score(x_train, y_train)))\n",
    "print(\"Accuracy on test set: {:.2f}\".format(svc.score(x_test, y_test)))"
   ]
  },
  {
   "cell_type": "code",
   "execution_count": null,
   "metadata": {},
   "outputs": [],
   "source": []
  }
 ],
 "metadata": {
  "kernelspec": {
   "display_name": "Python 3",
   "language": "python",
   "name": "python3"
  },
  "language_info": {
   "codemirror_mode": {
    "name": "ipython",
    "version": 3
   },
   "file_extension": ".py",
   "mimetype": "text/x-python",
   "name": "python",
   "nbconvert_exporter": "python",
   "pygments_lexer": "ipython3",
   "version": "3.7.3"
  }
 },
 "nbformat": 4,
 "nbformat_minor": 2
}
