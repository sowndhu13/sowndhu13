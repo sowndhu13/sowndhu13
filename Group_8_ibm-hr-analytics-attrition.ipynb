{
 "cells": [
  {
   "cell_type": "markdown",
   "metadata": {},
   "source": [
    "## IBM-HR-Analytics-Attrition-Dataset"
   ]
  },
  {
   "cell_type": "markdown",
   "metadata": {},
   "source": [
    "### Feature description\n",
    "##### Age -Integer datatype. Gives the age of the employees. range - 18-60\n",
    "##### Attrition - Gives the attrition rate of the employee.\n",
    "##### BusinessTravel - Categorical feature. Describes about the type of travel the employee has gone. The categories are 'Travel_Rarely', 'Travel_Frequently', 'Non-Travel'\n",
    "##### DailyRate - Rate at which the employee is working based on days\n",
    "##### Department - Categorical value.Department under which the employee is working. The categories are 'Sales', 'Research & Development', \n",
    "\n",
    "'Human Resources'\n",
    "##### DistanceFromHome - Numericalfeature. Distance from home to Working place.\n",
    "##### Education  - Categorical feature. Diploma,Graduate, Bachelors, Masters, Phd\n",
    "##### EducationField - Categorical Feature. Gives the Field in which the education of employee is. Categories are : 'Life Sciences', 'Other', 'Medical', 'Marketing','Technical Degree', 'Human Resources'\n",
    "##### EmployeeCount -Number of Employees present\n",
    "##### EmployeeNumber - Employee number once enrolled.\n",
    "##### EnvironmentSatisfaction - Categorical feature. Level 1 being lowest 4 being highest.\n",
    "##### Gender - Male / Female\n",
    "##### HourlyRate - rate at which the employees working based on hours\n",
    "##### JobInvolvement - Categorical Feature. 1 being lowest and 4 being highest\n",
    "##### JobLevel - Categorical Feature. 1 being lowest and 4 being highest\n",
    "##### JobRole - Categorical feature. Role of the employee. Categories are 'Sales Executive', 'Research Scientist', 'Laboratory Technician','Manufacturing Director', 'Healthcare Representative', 'Manager','Sales Representative', 'Research Director', 'Human Resources'\n",
    "##### JobSatisfaction - Categorical Feature. Satisfaction employee gets. 1 being lowest , 4 being highest\n",
    "##### MaritalStatus - Categorical Feature . Marital status of the employee. Categories are Single, Married, Divorced\n",
    "##### MonthlyIncome   - Numerical feature. Monthly Income of the employee\n",
    "##### MonthlyRate - Rate at which employee works on Month\n",
    "##### NumCompaniesWorked - Companies the employee already worked.\n",
    "##### Over18 - whether the employee is above 18 or not\n",
    "##### OverTime - Categorical Feature. whether the employee has done overtime or not\n",
    "##### PercentSalaryHike - Hike in salary in percentage\n",
    "##### PerformanceRating - Rating of the employee\n",
    "##### RelationshipSatisfaction - Categorical Feature.Satisfaction in relationship. 1 being lowest, 4 being highest\n",
    "##### StandardHours - Employee working hours\n",
    "##### StockOptionLevel - Stock Levels present in the company\n",
    "##### TotalWorkingYears - Total number of years worked by employee\n",
    "##### TrainingTimesLastYear - Training period of the employee\n",
    "##### WorkLifeBalance - Categorical Feature. Work life balance. 1 being lowest 4 being highest\n",
    "##### YearsAtCompany - No. of years employee worked in the companny.\n",
    "##### YearsInCurrentRole - No. of years employee working in same role.\n",
    "##### YearsSinceLastPromotion - No. of years since last promotion of the employee\n",
    "##### YearsWithCurrManager - No. of years employee working with same manager"
   ]
  },
  {
   "cell_type": "markdown",
   "metadata": {},
   "source": [
    "### Import Libraries"
   ]
  },
  {
   "cell_type": "code",
   "execution_count": 1,
   "metadata": {},
   "outputs": [],
   "source": [
    "import pandas as pd\n",
    "import numpy as np\n",
    "import seaborn as sns"
   ]
  },
  {
   "cell_type": "code",
   "execution_count": 2,
   "metadata": {},
   "outputs": [],
   "source": [
    "# for modelling:\n",
    "\n",
    "import statsmodels.api as sm\n",
    "import scipy.stats as st\n",
    "import matplotlib.pyplot as plt\n",
    "from sklearn.metrics import confusion_matrix\n",
    "import matplotlib.mlab as mlab\n",
    "%matplotlib inline\n",
    "from sklearn import metrics\n",
    "\n",
    "# importing Classification models\n",
    "\n",
    "from sklearn.model_selection import train_test_split\n",
    "from sklearn.pipeline import make_pipeline\n",
    "from imblearn.pipeline import make_pipeline as imbalanced_make_pipeline\n",
    "from imblearn.over_sampling import SMOTE\n",
    "from imblearn.under_sampling import NearMiss\n",
    "from imblearn.metrics import classification_report_imbalanced\n",
    "from sklearn.metrics import precision_score, recall_score, f1_score, roc_auc_score, accuracy_score, classification_report\n",
    "from collections import Counter\n",
    "from sklearn.model_selection import KFold, StratifiedKFold\n",
    "from statsmodels.tools import add_constant as add_constant\n",
    "\n",
    "import warnings\n",
    "warnings.filterwarnings('ignore')\n",
    "import statsmodels.api as sm\n",
    "from sklearn.linear_model import LogisticRegression\n",
    "from sklearn.metrics import confusion_matrix\n",
    "from sklearn.preprocessing import binarize\n",
    "from sklearn.metrics import roc_curve"
   ]
  },
  {
   "cell_type": "code",
   "execution_count": 3,
   "metadata": {},
   "outputs": [],
   "source": [
    "ibm=pd.read_csv('WA_Fn-UseC_-HR-Employee-Attrition.csv')"
   ]
  },
  {
   "cell_type": "code",
   "execution_count": 4,
   "metadata": {},
   "outputs": [
    {
     "name": "stdout",
     "output_type": "stream",
     "text": [
      "<class 'pandas.core.frame.DataFrame'>\n",
      "RangeIndex: 1470 entries, 0 to 1469\n",
      "Data columns (total 35 columns):\n",
      "Age                         1470 non-null int64\n",
      "Attrition                   1470 non-null object\n",
      "BusinessTravel              1470 non-null object\n",
      "DailyRate                   1470 non-null int64\n",
      "Department                  1470 non-null object\n",
      "DistanceFromHome            1470 non-null int64\n",
      "Education                   1470 non-null int64\n",
      "EducationField              1470 non-null object\n",
      "EmployeeCount               1470 non-null int64\n",
      "EmployeeNumber              1470 non-null int64\n",
      "EnvironmentSatisfaction     1470 non-null int64\n",
      "Gender                      1470 non-null object\n",
      "HourlyRate                  1470 non-null int64\n",
      "JobInvolvement              1470 non-null int64\n",
      "JobLevel                    1470 non-null int64\n",
      "JobRole                     1470 non-null object\n",
      "JobSatisfaction             1470 non-null int64\n",
      "MaritalStatus               1470 non-null object\n",
      "MonthlyIncome               1470 non-null int64\n",
      "MonthlyRate                 1470 non-null int64\n",
      "NumCompaniesWorked          1470 non-null int64\n",
      "Over18                      1470 non-null object\n",
      "OverTime                    1470 non-null object\n",
      "PercentSalaryHike           1470 non-null int64\n",
      "PerformanceRating           1470 non-null int64\n",
      "RelationshipSatisfaction    1470 non-null int64\n",
      "StandardHours               1470 non-null int64\n",
      "StockOptionLevel            1470 non-null int64\n",
      "TotalWorkingYears           1470 non-null int64\n",
      "TrainingTimesLastYear       1470 non-null int64\n",
      "WorkLifeBalance             1470 non-null int64\n",
      "YearsAtCompany              1470 non-null int64\n",
      "YearsInCurrentRole          1470 non-null int64\n",
      "YearsSinceLastPromotion     1470 non-null int64\n",
      "YearsWithCurrManager        1470 non-null int64\n",
      "dtypes: int64(26), object(9)\n",
      "memory usage: 402.0+ KB\n"
     ]
    }
   ],
   "source": [
    "ibm.info()"
   ]
  },
  {
   "cell_type": "code",
   "execution_count": 4,
   "metadata": {},
   "outputs": [
    {
     "data": {
      "text/html": [
       "<div>\n",
       "<style scoped>\n",
       "    .dataframe tbody tr th:only-of-type {\n",
       "        vertical-align: middle;\n",
       "    }\n",
       "\n",
       "    .dataframe tbody tr th {\n",
       "        vertical-align: top;\n",
       "    }\n",
       "\n",
       "    .dataframe thead th {\n",
       "        text-align: right;\n",
       "    }\n",
       "</style>\n",
       "<table border=\"1\" class=\"dataframe\">\n",
       "  <thead>\n",
       "    <tr style=\"text-align: right;\">\n",
       "      <th></th>\n",
       "      <th>Age</th>\n",
       "      <th>Attrition</th>\n",
       "      <th>BusinessTravel</th>\n",
       "      <th>DailyRate</th>\n",
       "      <th>Department</th>\n",
       "      <th>DistanceFromHome</th>\n",
       "      <th>Education</th>\n",
       "      <th>EducationField</th>\n",
       "      <th>EmployeeCount</th>\n",
       "      <th>EmployeeNumber</th>\n",
       "      <th>...</th>\n",
       "      <th>RelationshipSatisfaction</th>\n",
       "      <th>StandardHours</th>\n",
       "      <th>StockOptionLevel</th>\n",
       "      <th>TotalWorkingYears</th>\n",
       "      <th>TrainingTimesLastYear</th>\n",
       "      <th>WorkLifeBalance</th>\n",
       "      <th>YearsAtCompany</th>\n",
       "      <th>YearsInCurrentRole</th>\n",
       "      <th>YearsSinceLastPromotion</th>\n",
       "      <th>YearsWithCurrManager</th>\n",
       "    </tr>\n",
       "  </thead>\n",
       "  <tbody>\n",
       "    <tr>\n",
       "      <th>0</th>\n",
       "      <td>41</td>\n",
       "      <td>Yes</td>\n",
       "      <td>Travel_Rarely</td>\n",
       "      <td>1102</td>\n",
       "      <td>Sales</td>\n",
       "      <td>1</td>\n",
       "      <td>2</td>\n",
       "      <td>Life Sciences</td>\n",
       "      <td>1</td>\n",
       "      <td>1</td>\n",
       "      <td>...</td>\n",
       "      <td>1</td>\n",
       "      <td>80</td>\n",
       "      <td>0</td>\n",
       "      <td>8</td>\n",
       "      <td>0</td>\n",
       "      <td>1</td>\n",
       "      <td>6</td>\n",
       "      <td>4</td>\n",
       "      <td>0</td>\n",
       "      <td>5</td>\n",
       "    </tr>\n",
       "    <tr>\n",
       "      <th>1</th>\n",
       "      <td>49</td>\n",
       "      <td>No</td>\n",
       "      <td>Travel_Frequently</td>\n",
       "      <td>279</td>\n",
       "      <td>Research &amp; Development</td>\n",
       "      <td>8</td>\n",
       "      <td>1</td>\n",
       "      <td>Life Sciences</td>\n",
       "      <td>1</td>\n",
       "      <td>2</td>\n",
       "      <td>...</td>\n",
       "      <td>4</td>\n",
       "      <td>80</td>\n",
       "      <td>1</td>\n",
       "      <td>10</td>\n",
       "      <td>3</td>\n",
       "      <td>3</td>\n",
       "      <td>10</td>\n",
       "      <td>7</td>\n",
       "      <td>1</td>\n",
       "      <td>7</td>\n",
       "    </tr>\n",
       "    <tr>\n",
       "      <th>2</th>\n",
       "      <td>37</td>\n",
       "      <td>Yes</td>\n",
       "      <td>Travel_Rarely</td>\n",
       "      <td>1373</td>\n",
       "      <td>Research &amp; Development</td>\n",
       "      <td>2</td>\n",
       "      <td>2</td>\n",
       "      <td>Other</td>\n",
       "      <td>1</td>\n",
       "      <td>4</td>\n",
       "      <td>...</td>\n",
       "      <td>2</td>\n",
       "      <td>80</td>\n",
       "      <td>0</td>\n",
       "      <td>7</td>\n",
       "      <td>3</td>\n",
       "      <td>3</td>\n",
       "      <td>0</td>\n",
       "      <td>0</td>\n",
       "      <td>0</td>\n",
       "      <td>0</td>\n",
       "    </tr>\n",
       "    <tr>\n",
       "      <th>3</th>\n",
       "      <td>33</td>\n",
       "      <td>No</td>\n",
       "      <td>Travel_Frequently</td>\n",
       "      <td>1392</td>\n",
       "      <td>Research &amp; Development</td>\n",
       "      <td>3</td>\n",
       "      <td>4</td>\n",
       "      <td>Life Sciences</td>\n",
       "      <td>1</td>\n",
       "      <td>5</td>\n",
       "      <td>...</td>\n",
       "      <td>3</td>\n",
       "      <td>80</td>\n",
       "      <td>0</td>\n",
       "      <td>8</td>\n",
       "      <td>3</td>\n",
       "      <td>3</td>\n",
       "      <td>8</td>\n",
       "      <td>7</td>\n",
       "      <td>3</td>\n",
       "      <td>0</td>\n",
       "    </tr>\n",
       "    <tr>\n",
       "      <th>4</th>\n",
       "      <td>27</td>\n",
       "      <td>No</td>\n",
       "      <td>Travel_Rarely</td>\n",
       "      <td>591</td>\n",
       "      <td>Research &amp; Development</td>\n",
       "      <td>2</td>\n",
       "      <td>1</td>\n",
       "      <td>Medical</td>\n",
       "      <td>1</td>\n",
       "      <td>7</td>\n",
       "      <td>...</td>\n",
       "      <td>4</td>\n",
       "      <td>80</td>\n",
       "      <td>1</td>\n",
       "      <td>6</td>\n",
       "      <td>3</td>\n",
       "      <td>3</td>\n",
       "      <td>2</td>\n",
       "      <td>2</td>\n",
       "      <td>2</td>\n",
       "      <td>2</td>\n",
       "    </tr>\n",
       "  </tbody>\n",
       "</table>\n",
       "<p>5 rows × 35 columns</p>\n",
       "</div>"
      ],
      "text/plain": [
       "   Age Attrition     BusinessTravel  DailyRate              Department  \\\n",
       "0   41       Yes      Travel_Rarely       1102                   Sales   \n",
       "1   49        No  Travel_Frequently        279  Research & Development   \n",
       "2   37       Yes      Travel_Rarely       1373  Research & Development   \n",
       "3   33        No  Travel_Frequently       1392  Research & Development   \n",
       "4   27        No      Travel_Rarely        591  Research & Development   \n",
       "\n",
       "   DistanceFromHome  Education EducationField  EmployeeCount  EmployeeNumber  \\\n",
       "0                 1          2  Life Sciences              1               1   \n",
       "1                 8          1  Life Sciences              1               2   \n",
       "2                 2          2          Other              1               4   \n",
       "3                 3          4  Life Sciences              1               5   \n",
       "4                 2          1        Medical              1               7   \n",
       "\n",
       "   ...  RelationshipSatisfaction StandardHours  StockOptionLevel  \\\n",
       "0  ...                         1            80                 0   \n",
       "1  ...                         4            80                 1   \n",
       "2  ...                         2            80                 0   \n",
       "3  ...                         3            80                 0   \n",
       "4  ...                         4            80                 1   \n",
       "\n",
       "   TotalWorkingYears  TrainingTimesLastYear WorkLifeBalance  YearsAtCompany  \\\n",
       "0                  8                      0               1               6   \n",
       "1                 10                      3               3              10   \n",
       "2                  7                      3               3               0   \n",
       "3                  8                      3               3               8   \n",
       "4                  6                      3               3               2   \n",
       "\n",
       "  YearsInCurrentRole  YearsSinceLastPromotion  YearsWithCurrManager  \n",
       "0                  4                        0                     5  \n",
       "1                  7                        1                     7  \n",
       "2                  0                        0                     0  \n",
       "3                  7                        3                     0  \n",
       "4                  2                        2                     2  \n",
       "\n",
       "[5 rows x 35 columns]"
      ]
     },
     "execution_count": 4,
     "metadata": {},
     "output_type": "execute_result"
    }
   ],
   "source": [
    "ibm.head()"
   ]
  },
  {
   "cell_type": "code",
   "execution_count": 5,
   "metadata": {},
   "outputs": [
    {
     "data": {
      "text/plain": [
       "No     1233\n",
       "Yes     237\n",
       "Name: Attrition, dtype: int64"
      ]
     },
     "execution_count": 5,
     "metadata": {},
     "output_type": "execute_result"
    }
   ],
   "source": [
    "ibm.Attrition.value_counts()"
   ]
  },
  {
   "cell_type": "code",
   "execution_count": 6,
   "metadata": {},
   "outputs": [],
   "source": [
    "# sns.pairplot(ibm,hue='Attrition',palette=\"husl\")"
   ]
  },
  {
   "cell_type": "markdown",
   "metadata": {},
   "source": [
    "#### Single attribute visualization"
   ]
  },
  {
   "cell_type": "code",
   "execution_count": 6,
   "metadata": {
    "scrolled": true
   },
   "outputs": [
    {
     "data": {
      "text/plain": [
       "<matplotlib.axes._subplots.AxesSubplot at 0x2406b3e1320>"
      ]
     },
     "execution_count": 6,
     "metadata": {},
     "output_type": "execute_result"
    },
    {
     "data": {
      "image/png": "[encoded data removed]",
      "text/plain": [
       "<Figure size 432x288 with 1 Axes>"
      ]
     },
     "metadata": {
      "needs_background": "light"
     },
     "output_type": "display_data"
    }
   ],
   "source": [
    "sns.distplot(ibm.Age)"
   ]
  },
  {
   "cell_type": "code",
   "execution_count": 7,
   "metadata": {
    "scrolled": false
   },
   "outputs": [
    {
     "data": {
      "text/plain": [
       "17"
      ]
     },
     "execution_count": 7,
     "metadata": {},
     "output_type": "execute_result"
    }
   ],
   "source": [
    "ibm.Age.describe()\n",
    "\n",
    "ibm[ibm['Age']< 20]['Age'].count()"
   ]
  },
  {
   "cell_type": "code",
   "execution_count": 8,
   "metadata": {},
   "outputs": [
    {
     "name": "stdout",
     "output_type": "stream",
     "text": [
      "Attrition rate  below age 20 is  58.82352941176471\n",
      "Attrition rate of age between 20 and 30 is  5.1020408163265305\n",
      "Attrition rate of age between 30 and 40 is  14.23487544483986\n",
      "Attrition rate of age between 40 and 50 is  9.931506849315069\n",
      "Attrition rate of age between 50 and 60 is  13.043478260869565\n",
      "Attrition rate of age above 60 is  nan\n"
     ]
    }
   ],
   "source": [
    "print('Attrition rate  below age 20 is ',(ibm[(ibm['Age']< 20) \n",
    "                                                             & (ibm['Attrition']=='Yes')]['Age'].count() \n",
    "                                                         / ibm[ibm['Age']< 20]['Age'].count()) * 100)\n",
    "\n",
    "print('Attrition rate of age between 20 and 30 is ',(ibm[(ibm['Age']> 20) \n",
    "                                                            & (ibm['Age']<30)\n",
    "                                                             & (ibm['Attrition']=='Yes')]['Age'].count() \n",
    "                                                         / ibm['Age'].count()) * 100)\n",
    "\n",
    "print('Attrition rate of age between 30 and 40 is ',(ibm[(ibm['Age']> 30) \n",
    "                                                            & (ibm['Age']<40)\n",
    "                                                             & (ibm['Attrition']=='Yes')]['Age'].count() \n",
    "                                                         / ibm[(ibm['Age']> 30) \n",
    "                                                            & (ibm['Age']<40)]['Age'].count()) * 100)\n",
    "\n",
    "print('Attrition rate of age between 40 and 50 is ',(ibm[(ibm['Age']> 40) \n",
    "                                                            & (ibm['Age']<50)\n",
    "                                                             & (ibm['Attrition']=='Yes')]['Age'].count() \n",
    "                                                         / ibm[(ibm['Age']> 40) \n",
    "                                                            & (ibm['Age']<50)]['Age'].count()) * 100)\n",
    "print('Attrition rate of age between 50 and 60 is ',(ibm[(ibm['Age']> 50) \n",
    "                                                            & (ibm['Age']<60)\n",
    "                                                             & (ibm['Attrition']=='Yes')]['Age'].count() \n",
    "                                                         / ibm[(ibm['Age']> 50) \n",
    "                                                            & (ibm['Age']<60)]['Age'].count()) * 100)\n",
    "\n",
    "print('Attrition rate of age above 60 is ',(ibm[(ibm['Age']> 60) \n",
    "                                                            \n",
    "                                                             & (ibm['Attrition']=='Yes')]['Age'].count() \n",
    "                                                         / ibm[ibm['Age']> 60]['Age'].count()) * 100)\n"
   ]
  },
  {
   "cell_type": "markdown",
   "metadata": {},
   "source": [
    "#### from the graph, we can see that the age is overall distributed from 18 to 60 . \n",
    "\n",
    "#### and there is not much skewness\n",
    "\n",
    "#### As the age increases, the number of people working is also decreasing."
   ]
  },
  {
   "cell_type": "code",
   "execution_count": 9,
   "metadata": {},
   "outputs": [
    {
     "data": {
      "text/plain": [
       "Index(['Age', 'Attrition', 'BusinessTravel', 'DailyRate', 'Department',\n",
       "       'DistanceFromHome', 'Education', 'EducationField', 'EmployeeCount',\n",
       "       'EmployeeNumber', 'EnvironmentSatisfaction', 'Gender', 'HourlyRate',\n",
       "       'JobInvolvement', 'JobLevel', 'JobRole', 'JobSatisfaction',\n",
       "       'MaritalStatus', 'MonthlyIncome', 'MonthlyRate', 'NumCompaniesWorked',\n",
       "       'Over18', 'OverTime', 'PercentSalaryHike', 'PerformanceRating',\n",
       "       'RelationshipSatisfaction', 'StandardHours', 'StockOptionLevel',\n",
       "       'TotalWorkingYears', 'TrainingTimesLastYear', 'WorkLifeBalance',\n",
       "       'YearsAtCompany', 'YearsInCurrentRole', 'YearsSinceLastPromotion',\n",
       "       'YearsWithCurrManager'],\n",
       "      dtype='object')"
      ]
     },
     "execution_count": 9,
     "metadata": {},
     "output_type": "execute_result"
    }
   ],
   "source": [
    "ibm.columns"
   ]
  },
  {
   "cell_type": "code",
   "execution_count": 10,
   "metadata": {},
   "outputs": [
    {
     "data": {
      "text/plain": [
       "Travel_Rarely        1043\n",
       "Travel_Frequently     277\n",
       "Non-Travel            150\n",
       "Name: BusinessTravel, dtype: int64"
      ]
     },
     "execution_count": 10,
     "metadata": {},
     "output_type": "execute_result"
    }
   ],
   "source": [
    "ibm.BusinessTravel.value_counts()"
   ]
  },
  {
   "cell_type": "code",
   "execution_count": 11,
   "metadata": {
    "scrolled": true
   },
   "outputs": [
    {
     "data": {
      "text/plain": [
       "<matplotlib.axes._subplots.AxesSubplot at 0x2406b47f438>"
      ]
     },
     "execution_count": 11,
     "metadata": {},
     "output_type": "execute_result"
    },
    {
     "data": {
      "image/png": "[encoded data removed]",
      "text/plain": [
       "<Figure size 432x288 with 1 Axes>"
      ]
     },
     "metadata": {
      "needs_background": "light"
     },
     "output_type": "display_data"
    }
   ],
   "source": [
    "sns.countplot(ibm.BusinessTravel,hue=ibm.Attrition)"
   ]
  },
  {
   "cell_type": "code",
   "execution_count": 12,
   "metadata": {
    "scrolled": true
   },
   "outputs": [
    {
     "data": {
      "text/plain": [
       "array(['Travel_Rarely', 'Travel_Frequently', 'Non-Travel'], dtype=object)"
      ]
     },
     "execution_count": 12,
     "metadata": {},
     "output_type": "execute_result"
    }
   ],
   "source": [
    "bt=ibm.BusinessTravel.unique()\n",
    "bt"
   ]
  },
  {
   "cell_type": "code",
   "execution_count": 13,
   "metadata": {},
   "outputs": [
    {
     "name": "stdout",
     "output_type": "stream",
     "text": [
      "Percentage of attrition rate w.r.t BusinessTravel Travel_Rarely is  14.956855225311601\n",
      "Percentage of attrition rate w.r.t BusinessTravel Travel_Frequently is  24.90974729241877\n",
      "Percentage of attrition rate w.r.t BusinessTravel Non-Travel is  8.0\n"
     ]
    }
   ],
   "source": [
    "for i in bt:\n",
    "    \n",
    "\n",
    "    print('Percentage of attrition rate w.r.t BusinessTravel {} is '.format(i),(ibm[(ibm['Attrition']=='Yes') & \n",
    "         (ibm['BusinessTravel']==i)]['BusinessTravel'].count()\n",
    "     /\n",
    "     ibm[ibm['BusinessTravel']==i]['BusinessTravel'].count()) * 100)"
   ]
  },
  {
   "cell_type": "markdown",
   "metadata": {},
   "source": [
    "#### from the value counts and count plot, we can see that ratio of people travelling rarely is more than that of the people who travel mostly\n",
    "### and the people who travel frequently for business is also very less\n",
    "\n",
    "##### --- need to check for the age groups among these BusinessTravel categories\n",
    "\n",
    "#### attrition rate is more in travelled frequently group"
   ]
  },
  {
   "cell_type": "code",
   "execution_count": 14,
   "metadata": {},
   "outputs": [
    {
     "data": {
      "text/plain": [
       "count    1470.000000\n",
       "mean      802.485714\n",
       "std       403.509100\n",
       "min       102.000000\n",
       "25%       465.000000\n",
       "50%       802.000000\n",
       "75%      1157.000000\n",
       "max      1499.000000\n",
       "Name: DailyRate, dtype: float64"
      ]
     },
     "execution_count": 14,
     "metadata": {},
     "output_type": "execute_result"
    }
   ],
   "source": [
    "ibm.DailyRate.describe()"
   ]
  },
  {
   "cell_type": "code",
   "execution_count": 15,
   "metadata": {},
   "outputs": [
    {
     "data": {
      "text/plain": [
       "<matplotlib.axes._subplots.AxesSubplot at 0x2406b53bef0>"
      ]
     },
     "execution_count": 15,
     "metadata": {},
     "output_type": "execute_result"
    },
    {
     "data": {
      "image/png": "[encoded data removed]",
      "text/plain": [
       "<Figure size 432x288 with 1 Axes>"
      ]
     },
     "metadata": {
      "needs_background": "light"
     },
     "output_type": "display_data"
    }
   ],
   "source": [
    "sns.distplot(ibm.DailyRate)"
   ]
  },
  {
   "cell_type": "code",
   "execution_count": 16,
   "metadata": {},
   "outputs": [
    {
     "data": {
      "text/plain": [
       "No     1233\n",
       "Yes     237\n",
       "Name: Attrition, dtype: int64"
      ]
     },
     "execution_count": 16,
     "metadata": {},
     "output_type": "execute_result"
    }
   ],
   "source": [
    "ibm.Attrition.value_counts()"
   ]
  },
  {
   "cell_type": "markdown",
   "metadata": {},
   "source": [
    "#### The attrition rate for yes and no is in the ratio 237:1233. That means most people are not changing jobs from ibm.\n",
    "\n",
    "#### we should check on the other factors affecting this attrition rate.\n",
    "\n",
    "#### In our dataset, Attrition rate is the dependant variable."
   ]
  },
  {
   "cell_type": "code",
   "execution_count": 17,
   "metadata": {},
   "outputs": [
    {
     "data": {
      "text/plain": [
       "count                       1470\n",
       "unique                         3\n",
       "top       Research & Development\n",
       "freq                         961\n",
       "Name: Department, dtype: object"
      ]
     },
     "execution_count": 17,
     "metadata": {},
     "output_type": "execute_result"
    }
   ],
   "source": [
    "ibm.Department.describe()"
   ]
  },
  {
   "cell_type": "code",
   "execution_count": 18,
   "metadata": {
    "scrolled": true
   },
   "outputs": [
    {
     "data": {
      "text/plain": [
       "array(['Sales', 'Research & Development', 'Human Resources'], dtype=object)"
      ]
     },
     "execution_count": 18,
     "metadata": {},
     "output_type": "execute_result"
    },
    {
     "data": {
      "image/png": "[encoded data removed]",
      "text/plain": [
       "<Figure size 432x288 with 1 Axes>"
      ]
     },
     "metadata": {
      "needs_background": "light"
     },
     "output_type": "display_data"
    }
   ],
   "source": [
    "sns.countplot(ibm.Department,hue=ibm.Attrition)\n",
    "\n",
    "dept=ibm.Department.unique()\n",
    "dept"
   ]
  },
  {
   "cell_type": "code",
   "execution_count": 19,
   "metadata": {},
   "outputs": [
    {
     "name": "stdout",
     "output_type": "stream",
     "text": [
      "Percentage of attrition rate w.r.t Department Sales is  20.62780269058296\n",
      "Percentage of attrition rate w.r.t Department Research & Development is  13.839750260145681\n",
      "Percentage of attrition rate w.r.t Department Human Resources is  19.047619047619047\n"
     ]
    }
   ],
   "source": [
    "for i in dept:\n",
    "    \n",
    "\n",
    "    print('Percentage of attrition rate w.r.t Department {} is '.format(i),(ibm[(ibm['Attrition']=='Yes') & \n",
    "         (ibm['Department']==i)]['Department'].count()\n",
    "     /\n",
    "     ibm[ibm['Department']==i]['Department'].count()) * 100)"
   ]
  },
  {
   "cell_type": "markdown",
   "metadata": {},
   "source": [
    "#### From the percentage ration attrition rate is more in sales than R&D and HR"
   ]
  },
  {
   "cell_type": "code",
   "execution_count": 20,
   "metadata": {},
   "outputs": [
    {
     "data": {
      "text/plain": [
       "count    1470.000000\n",
       "mean        9.192517\n",
       "std         8.106864\n",
       "min         1.000000\n",
       "25%         2.000000\n",
       "50%         7.000000\n",
       "75%        14.000000\n",
       "max        29.000000\n",
       "Name: DistanceFromHome, dtype: float64"
      ]
     },
     "execution_count": 20,
     "metadata": {},
     "output_type": "execute_result"
    }
   ],
   "source": [
    "ibm.DistanceFromHome.describe()"
   ]
  },
  {
   "cell_type": "code",
   "execution_count": 21,
   "metadata": {},
   "outputs": [
    {
     "data": {
      "text/plain": [
       "<matplotlib.axes._subplots.AxesSubplot at 0x2406b658208>"
      ]
     },
     "execution_count": 21,
     "metadata": {},
     "output_type": "execute_result"
    },
    {
     "data": {
      "image/png": "[encoded data removed]",
      "text/plain": [
       "<Figure size 432x288 with 1 Axes>"
      ]
     },
     "metadata": {
      "needs_background": "light"
     },
     "output_type": "display_data"
    }
   ],
   "source": [
    "sns.distplot(ibm.DistanceFromHome)"
   ]
  },
  {
   "cell_type": "markdown",
   "metadata": {},
   "source": [
    "#### from the plot above, the lowest distance from their home to workplace is 1 km and the farthest is 29kms.\n",
    "#### 75% of the people are within 14 kms distance from the work place.\n",
    "#### we have to find out the attrition rate of the remaining people and can tend to predict Attrition."
   ]
  },
  {
   "cell_type": "code",
   "execution_count": 22,
   "metadata": {},
   "outputs": [
    {
     "data": {
      "text/plain": [
       "array([2, 1, 4, 3, 5], dtype=int64)"
      ]
     },
     "execution_count": 22,
     "metadata": {},
     "output_type": "execute_result"
    }
   ],
   "source": [
    "edu=ibm.Education.unique()\n",
    "edu"
   ]
  },
  {
   "cell_type": "code",
   "execution_count": 23,
   "metadata": {},
   "outputs": [
    {
     "name": "stdout",
     "output_type": "stream",
     "text": [
      "Percentage of attrition rate w.r.t Education level 1 is  18.235294117647058\n",
      "Percentage of attrition rate w.r.t Education level 2 is  15.602836879432624\n",
      "Percentage of attrition rate w.r.t Education level 3 is  17.307692307692307\n",
      "Percentage of attrition rate w.r.t Education level 4 is  14.572864321608039\n",
      "Percentage of attrition rate w.r.t Education level 5 is  10.416666666666668\n"
     ]
    }
   ],
   "source": [
    "for i in range(1,6):\n",
    "    \n",
    "\n",
    "    print('Percentage of attrition rate w.r.t Education level {} is '.format(i),(ibm[(ibm['Attrition']=='Yes') & \n",
    "         (ibm['Education']==i)]['Education'].count()\n",
    "     /\n",
    "     ibm[ibm['Education']==i]['Education'].count()) * 100)"
   ]
  },
  {
   "cell_type": "markdown",
   "metadata": {},
   "source": [
    "#### There are 5 education levels. and level 3 is having highest count of people.\n"
   ]
  },
  {
   "cell_type": "code",
   "execution_count": 24,
   "metadata": {},
   "outputs": [
    {
     "data": {
      "text/plain": [
       "array(['Life Sciences', 'Other', 'Medical', 'Marketing',\n",
       "       'Technical Degree', 'Human Resources'], dtype=object)"
      ]
     },
     "execution_count": 24,
     "metadata": {},
     "output_type": "execute_result"
    }
   ],
   "source": [
    "edu_f=ibm.EducationField.unique()\n",
    "edu_f"
   ]
  },
  {
   "cell_type": "code",
   "execution_count": 25,
   "metadata": {},
   "outputs": [
    {
     "name": "stdout",
     "output_type": "stream",
     "text": [
      "Percentage of attrition rate w.r.t Education Field - Life Sciences is  14.686468646864686\n",
      "Percentage of attrition rate w.r.t Education Field - Other is  13.414634146341465\n",
      "Percentage of attrition rate w.r.t Education Field - Medical is  13.577586206896552\n",
      "Percentage of attrition rate w.r.t Education Field - Marketing is  22.0125786163522\n",
      "Percentage of attrition rate w.r.t Education Field - Technical Degree is  24.242424242424242\n",
      "Percentage of attrition rate w.r.t Education Field - Human Resources is  25.925925925925924\n"
     ]
    }
   ],
   "source": [
    "for i in edu_f:\n",
    "    \n",
    "\n",
    "    print('Percentage of attrition rate w.r.t Education Field - {} is '.format(i),(ibm[(ibm['Attrition']=='Yes') & \n",
    "         (ibm['EducationField']==i)]['EducationField'].count()\n",
    "     /\n",
    "     ibm[ibm['EducationField']==i]['EducationField'].count()) * 100)"
   ]
  },
  {
   "cell_type": "code",
   "execution_count": 26,
   "metadata": {},
   "outputs": [
    {
     "data": {
      "text/plain": [
       "<matplotlib.axes._subplots.AxesSubplot at 0x2406b6ddef0>"
      ]
     },
     "execution_count": 26,
     "metadata": {},
     "output_type": "execute_result"
    },
    {
     "data": {
      "image/png": "[encoded data removed]",
      "text/plain": [
       "<Figure size 432x288 with 1 Axes>"
      ]
     },
     "metadata": {
      "needs_background": "light"
     },
     "output_type": "display_data"
    }
   ],
   "source": [
    "sns.countplot(ibm.EducationField,hue=ibm.Attrition)"
   ]
  },
  {
   "cell_type": "markdown",
   "metadata": {},
   "source": [
    "#### There are 5 Education levels and the attrition rate is more in Life sciences field. There is minimum attrition in HR field"
   ]
  },
  {
   "cell_type": "code",
   "execution_count": 27,
   "metadata": {
    "scrolled": true
   },
   "outputs": [
    {
     "data": {
      "text/plain": [
       "3    453\n",
       "4    446\n",
       "2    287\n",
       "1    284\n",
       "Name: EnvironmentSatisfaction, dtype: int64"
      ]
     },
     "execution_count": 27,
     "metadata": {},
     "output_type": "execute_result"
    }
   ],
   "source": [
    "ibm.EnvironmentSatisfaction.value_counts()"
   ]
  },
  {
   "cell_type": "code",
   "execution_count": 28,
   "metadata": {},
   "outputs": [
    {
     "name": "stdout",
     "output_type": "stream",
     "text": [
      "Percentage of attrition rate w.r.t Environment Satisfaction level - 1 is  25.352112676056336\n",
      "Percentage of attrition rate w.r.t Environment Satisfaction level - 2 is  14.982578397212542\n",
      "Percentage of attrition rate w.r.t Environment Satisfaction level - 3 is  13.686534216335541\n",
      "Percentage of attrition rate w.r.t Environment Satisfaction level - 4 is  13.452914798206278\n"
     ]
    }
   ],
   "source": [
    "for i in range(1,5):\n",
    "    \n",
    "\n",
    "    print('Percentage of attrition rate w.r.t Environment Satisfaction level - {} is '.format(i),(ibm[(ibm['Attrition']=='Yes') & \n",
    "         (ibm['EnvironmentSatisfaction']==i)]['EnvironmentSatisfaction'].count()\n",
    "     /\n",
    "     ibm[ibm['EnvironmentSatisfaction']==i]['EnvironmentSatisfaction'].count()) * 100)"
   ]
  },
  {
   "cell_type": "code",
   "execution_count": 29,
   "metadata": {
    "scrolled": true
   },
   "outputs": [
    {
     "data": {
      "text/plain": [
       "<matplotlib.axes._subplots.AxesSubplot at 0x2406b755630>"
      ]
     },
     "execution_count": 29,
     "metadata": {},
     "output_type": "execute_result"
    },
    {
     "data": {
      "image/png": "[encoded data removed]",
      "text/plain": [
       "<Figure size 432x288 with 1 Axes>"
      ]
     },
     "metadata": {
      "needs_background": "light"
     },
     "output_type": "display_data"
    }
   ],
   "source": [
    "sns.countplot(ibm.EnvironmentSatisfaction,hue=ibm.Attrition)"
   ]
  },
  {
   "cell_type": "markdown",
   "metadata": {},
   "source": [
    "#### There are 4 Environment satisfaction levels 1,2,3,4 1 being low and 4 being high. \n",
    "#### from the above countplot, we can see that number of employees are more in the 3 and 4 satisfation group and less in 1 and 2 groups\n",
    "#### the attrition rate is more in satisfaction level 1."
   ]
  },
  {
   "cell_type": "code",
   "execution_count": 30,
   "metadata": {},
   "outputs": [
    {
     "data": {
      "text/plain": [
       "3    868\n",
       "2    375\n",
       "4    144\n",
       "1     83\n",
       "Name: JobInvolvement, dtype: int64"
      ]
     },
     "execution_count": 30,
     "metadata": {},
     "output_type": "execute_result"
    }
   ],
   "source": [
    "ibm.JobInvolvement.value_counts()"
   ]
  },
  {
   "cell_type": "code",
   "execution_count": 31,
   "metadata": {},
   "outputs": [
    {
     "name": "stdout",
     "output_type": "stream",
     "text": [
      "Percentage of attrition rate for Job Involvement level 1 is  33.734939759036145\n",
      "Percentage of attrition rate for Job Involvement level 2 is  18.933333333333334\n",
      "Percentage of attrition rate for Job Involvement level 3 is  14.400921658986174\n",
      "Percentage of attrition rate for Job Involvement level 4 is  9.027777777777777\n"
     ]
    }
   ],
   "source": [
    "for i in range(1,5):\n",
    "    \n",
    "\n",
    "    print('Percentage of attrition rate for Job Involvement level {} is '.format(i),(ibm[(ibm['Attrition']=='Yes') & \n",
    "         (ibm['JobInvolvement']==i)]['JobInvolvement'].count()\n",
    "     /\n",
    "     ibm[ibm['JobInvolvement']==i]['JobInvolvement'].count()) * 100)"
   ]
  },
  {
   "cell_type": "code",
   "execution_count": 32,
   "metadata": {
    "scrolled": true
   },
   "outputs": [
    {
     "data": {
      "text/plain": [
       "<matplotlib.axes._subplots.AxesSubplot at 0x2406b7ccac8>"
      ]
     },
     "execution_count": 32,
     "metadata": {},
     "output_type": "execute_result"
    },
    {
     "data": {
      "image/png": "[encoded data removed]",
      "text/plain": [
       "<Figure size 432x288 with 1 Axes>"
      ]
     },
     "metadata": {
      "needs_background": "light"
     },
     "output_type": "display_data"
    }
   ],
   "source": [
    "sns.countplot(ibm.JobInvolvement, hue=ibm.Attrition)"
   ]
  },
  {
   "cell_type": "code",
   "execution_count": 33,
   "metadata": {},
   "outputs": [
    {
     "data": {
      "text/plain": [
       "4    459\n",
       "3    442\n",
       "1    289\n",
       "2    280\n",
       "Name: JobSatisfaction, dtype: int64"
      ]
     },
     "execution_count": 33,
     "metadata": {},
     "output_type": "execute_result"
    }
   ],
   "source": [
    "ibm.JobSatisfaction.value_counts()"
   ]
  },
  {
   "cell_type": "code",
   "execution_count": 34,
   "metadata": {
    "scrolled": false
   },
   "outputs": [
    {
     "data": {
      "text/plain": [
       "<matplotlib.axes._subplots.AxesSubplot at 0x2406c7f9dd8>"
      ]
     },
     "execution_count": 34,
     "metadata": {},
     "output_type": "execute_result"
    },
    {
     "data": {
      "image/png": "[encoded data removed]",
      "text/plain": [
       "<Figure size 432x288 with 1 Axes>"
      ]
     },
     "metadata": {
      "needs_background": "light"
     },
     "output_type": "display_data"
    }
   ],
   "source": [
    "sns.countplot(ibm.JobSatisfaction,hue=ibm.Attrition)"
   ]
  },
  {
   "cell_type": "code",
   "execution_count": 35,
   "metadata": {},
   "outputs": [
    {
     "data": {
      "text/plain": [
       "3    73\n",
       "1    66\n",
       "4    52\n",
       "2    46\n",
       "Name: JobSatisfaction, dtype: int64"
      ]
     },
     "execution_count": 35,
     "metadata": {},
     "output_type": "execute_result"
    }
   ],
   "source": [
    "ibm[ibm['Attrition']=='Yes']['JobSatisfaction'].value_counts()"
   ]
  },
  {
   "cell_type": "code",
   "execution_count": 36,
   "metadata": {},
   "outputs": [
    {
     "name": "stdout",
     "output_type": "stream",
     "text": [
      "Percentage of attrition rate for Job Satisfaction level 1 is  22.837370242214533\n",
      "Percentage of attrition rate for Job Satisfaction level 2 is  16.428571428571427\n",
      "Percentage of attrition rate for Job Satisfaction level 3 is  16.515837104072396\n",
      "Percentage of attrition rate for Job Satisfaction level 4 is  11.328976034858387\n"
     ]
    }
   ],
   "source": [
    "for i in range(1,5):\n",
    "    \n",
    "\n",
    "    print('Percentage of attrition rate for Job Satisfaction level {} is '.format(i),(ibm[(ibm['Attrition']=='Yes') & \n",
    "         (ibm['JobSatisfaction']==i)]['JobSatisfaction'].count()\n",
    "     /\n",
    "     ibm[ibm['JobSatisfaction']==i]['JobSatisfaction'].count()) * 100)"
   ]
  },
  {
   "cell_type": "markdown",
   "metadata": {},
   "source": [
    "#### There are 4 job satisfaction levels 1,2,3,4 1 being low and 4 being high. Similar to environment satisfaction , employee count is more in levels 3 and 4 rather than 1 and 2\n",
    "#### the attrition rate is more in level 1 than others"
   ]
  },
  {
   "cell_type": "code",
   "execution_count": 37,
   "metadata": {},
   "outputs": [
    {
     "data": {
      "text/plain": [
       "array(['Sales Executive', 'Research Scientist', 'Laboratory Technician',\n",
       "       'Manufacturing Director', 'Healthcare Representative', 'Manager',\n",
       "       'Sales Representative', 'Research Director', 'Human Resources'],\n",
       "      dtype=object)"
      ]
     },
     "execution_count": 37,
     "metadata": {},
     "output_type": "execute_result"
    }
   ],
   "source": [
    "job_role=ibm.JobRole.unique()\n",
    "job_role"
   ]
  },
  {
   "cell_type": "code",
   "execution_count": 38,
   "metadata": {},
   "outputs": [
    {
     "name": "stdout",
     "output_type": "stream",
     "text": [
      "Percentage of attrition rate for Job role Sales Executive is  17.484662576687114\n",
      "Percentage of attrition rate for Job role Research Scientist is  16.095890410958905\n",
      "Percentage of attrition rate for Job role Laboratory Technician is  23.93822393822394\n",
      "Percentage of attrition rate for Job role Manufacturing Director is  6.896551724137931\n",
      "Percentage of attrition rate for Job role Healthcare Representative is  6.870229007633588\n",
      "Percentage of attrition rate for Job role Manager is  4.901960784313726\n",
      "Percentage of attrition rate for Job role Sales Representative is  39.75903614457831\n",
      "Percentage of attrition rate for Job role Research Director is  2.5\n",
      "Percentage of attrition rate for Job role Human Resources is  23.076923076923077\n"
     ]
    }
   ],
   "source": [
    "for i in job_role:\n",
    "    \n",
    "\n",
    "    print('Percentage of attrition rate for Job role {} is '.format(i),(ibm[(ibm['Attrition']=='Yes') & \n",
    "         (ibm['JobRole']==i)]['JobRole'].count()\n",
    "     /\n",
    "     ibm[ibm['JobRole']==i]['JobRole'].count()) * 100)"
   ]
  },
  {
   "cell_type": "code",
   "execution_count": 39,
   "metadata": {},
   "outputs": [
    {
     "data": {
      "text/plain": [
       "<matplotlib.axes._subplots.AxesSubplot at 0x2406c869f98>"
      ]
     },
     "execution_count": 39,
     "metadata": {},
     "output_type": "execute_result"
    },
    {
     "data": {
      "image/png": "[encoded data removed]",
      "text/plain": [
       "<Figure size 432x288 with 1 Axes>"
      ]
     },
     "metadata": {
      "needs_background": "light"
     },
     "output_type": "display_data"
    }
   ],
   "source": [
    "sns.countplot(ibm.JobRole,hue=ibm.Attrition)"
   ]
  },
  {
   "cell_type": "code",
   "execution_count": 40,
   "metadata": {},
   "outputs": [
    {
     "data": {
      "text/plain": [
       "Married     673\n",
       "Single      470\n",
       "Divorced    327\n",
       "Name: MaritalStatus, dtype: int64"
      ]
     },
     "execution_count": 40,
     "metadata": {},
     "output_type": "execute_result"
    }
   ],
   "source": [
    "ibm.MaritalStatus.value_counts()"
   ]
  },
  {
   "cell_type": "code",
   "execution_count": 41,
   "metadata": {},
   "outputs": [
    {
     "data": {
      "text/plain": [
       "<matplotlib.axes._subplots.AxesSubplot at 0x2406c902ef0>"
      ]
     },
     "execution_count": 41,
     "metadata": {},
     "output_type": "execute_result"
    },
    {
     "data": {
      "image/png": "[encoded data removed]",
      "text/plain": [
       "<Figure size 432x288 with 1 Axes>"
      ]
     },
     "metadata": {
      "needs_background": "light"
     },
     "output_type": "display_data"
    }
   ],
   "source": [
    "sns.countplot(ibm.MaritalStatus,hue=ibm.Gender)"
   ]
  },
  {
   "cell_type": "code",
   "execution_count": 42,
   "metadata": {
    "scrolled": true
   },
   "outputs": [
    {
     "data": {
      "image/png": "[encoded data removed]",
      "text/plain": [
       "<Figure size 432x288 with 1 Axes>"
      ]
     },
     "metadata": {
      "needs_background": "light"
     },
     "output_type": "display_data"
    }
   ],
   "source": [
    "sns.countplot(ibm.MaritalStatus,hue=ibm.Attrition)\n",
    "ms=ibm.MaritalStatus.unique()"
   ]
  },
  {
   "cell_type": "code",
   "execution_count": 43,
   "metadata": {},
   "outputs": [
    {
     "name": "stdout",
     "output_type": "stream",
     "text": [
      "Percentage of attrition rate w.r.t Marital Status Single is  25.53191489361702\n",
      "Percentage of attrition rate w.r.t Marital Status Married is  12.481426448736999\n",
      "Percentage of attrition rate w.r.t Marital Status Divorced is  10.091743119266056\n"
     ]
    }
   ],
   "source": [
    "for i in ms:\n",
    "    \n",
    "\n",
    "    print('Percentage of attrition rate w.r.t Marital Status {} is '.format(i),(ibm[(ibm['Attrition']=='Yes') & \n",
    "         (ibm['MaritalStatus']==i)]['MaritalStatus'].count()\n",
    "     /\n",
    "     ibm[ibm['MaritalStatus']==i]['MaritalStatus'].count()) * 100)"
   ]
  },
  {
   "cell_type": "code",
   "execution_count": 44,
   "metadata": {},
   "outputs": [],
   "source": [
    "#### from the above, it is clear that unmarried people tend to move from IBM than married and divorced people.\n"
   ]
  },
  {
   "cell_type": "code",
   "execution_count": 45,
   "metadata": {},
   "outputs": [
    {
     "data": {
      "text/plain": [
       "count     1470.000000\n",
       "mean      6502.931293\n",
       "std       4707.956783\n",
       "min       1009.000000\n",
       "25%       2911.000000\n",
       "50%       4919.000000\n",
       "75%       8379.000000\n",
       "max      19999.000000\n",
       "Name: MonthlyIncome, dtype: float64"
      ]
     },
     "execution_count": 45,
     "metadata": {},
     "output_type": "execute_result"
    }
   ],
   "source": [
    "ibm.MonthlyIncome.describe()"
   ]
  },
  {
   "cell_type": "code",
   "execution_count": 46,
   "metadata": {
    "scrolled": true
   },
   "outputs": [
    {
     "data": {
      "text/plain": [
       "<matplotlib.axes._subplots.AxesSubplot at 0x2406c9bf748>"
      ]
     },
     "execution_count": 46,
     "metadata": {},
     "output_type": "execute_result"
    },
    {
     "data": {
      "image/png": "[encoded data removed]",
      "text/plain": [
       "<Figure size 432x288 with 1 Axes>"
      ]
     },
     "metadata": {
      "needs_background": "light"
     },
     "output_type": "display_data"
    }
   ],
   "source": [
    "sns.distplot(ibm.MonthlyIncome)"
   ]
  },
  {
   "cell_type": "code",
   "execution_count": 47,
   "metadata": {},
   "outputs": [
    {
     "name": "stdout",
     "output_type": "stream",
     "text": [
      "Attrition rate of monthly Income below 5000 is  21.762349799732977\n",
      "Attrition rate of monthly Income between 5000 and 10000 is  11.136363636363637\n",
      "Attrition rate of monthly Income between 10000 and 15000 is  13.513513513513514\n",
      "Attrition rate of monthly Income between 15000 and 20000 is  3.7593984962406015\n",
      "Attrition rate of monthly Income above 20000 is  nan\n"
     ]
    }
   ],
   "source": [
    "print('Attrition rate of monthly Income below 5000 is ',(ibm[(ibm['MonthlyIncome']< 5000) \n",
    "                                                             & (ibm['Attrition']=='Yes')]['MonthlyIncome'].count() \n",
    "                                                         / ibm[(ibm['MonthlyIncome']< 5000)]['MonthlyIncome'].count()) * 100)\n",
    "\n",
    "print('Attrition rate of monthly Income between 5000 and 10000 is ',(ibm[(ibm['MonthlyIncome']> 5000) \n",
    "                                                            & (ibm['MonthlyIncome']<10000)\n",
    "                                                             & (ibm['Attrition']=='Yes')]['MonthlyIncome'].count() \n",
    "                                                         / ibm[(ibm['MonthlyIncome']> 5000) \n",
    "                                                            & (ibm['MonthlyIncome']<10000)]['MonthlyIncome'].count()) * 100)\n",
    "\n",
    "print('Attrition rate of monthly Income between 10000 and 15000 is ',(ibm[(ibm['MonthlyIncome']> 10000) \n",
    "                                                            & (ibm['MonthlyIncome']<15000)\n",
    "                                                             & (ibm['Attrition']=='Yes')]['MonthlyIncome'].count() \n",
    "                                                         / ibm[(ibm['MonthlyIncome']> 10000) \n",
    "                                                            & (ibm['MonthlyIncome']<15000)]['MonthlyIncome'].count()) * 100)\n",
    "\n",
    "print('Attrition rate of monthly Income between 15000 and 20000 is ',(ibm[(ibm['MonthlyIncome']> 15000) \n",
    "                                                            & (ibm['MonthlyIncome']<20000)\n",
    "                                                             & (ibm['Attrition']=='Yes')]['MonthlyIncome'].count() \n",
    "                                                         / ibm[(ibm['MonthlyIncome']> 15000) \n",
    "                                                            & (ibm['MonthlyIncome']<20000)]['MonthlyIncome'].count()) * 100)\n",
    "\n",
    "print('Attrition rate of monthly Income above 20000 is ',(ibm[(ibm['MonthlyIncome']> 20000) \n",
    "                                                            \n",
    "                                                             & (ibm['Attrition']=='Yes')]['MonthlyIncome'].count() \n",
    "                                                         / ibm[(ibm['MonthlyIncome']> 20000)]['MonthlyIncome'].count()) * 100)\n"
   ]
  },
  {
   "cell_type": "code",
   "execution_count": 48,
   "metadata": {},
   "outputs": [
    {
     "data": {
      "text/plain": [
       "count     1470.000000\n",
       "mean     14313.103401\n",
       "std       7117.786044\n",
       "min       2094.000000\n",
       "25%       8047.000000\n",
       "50%      14235.500000\n",
       "75%      20461.500000\n",
       "max      26999.000000\n",
       "Name: MonthlyRate, dtype: float64"
      ]
     },
     "execution_count": 48,
     "metadata": {},
     "output_type": "execute_result"
    }
   ],
   "source": [
    "ibm.MonthlyRate.describe()"
   ]
  },
  {
   "cell_type": "code",
   "execution_count": 49,
   "metadata": {
    "scrolled": true
   },
   "outputs": [
    {
     "data": {
      "text/plain": [
       "<matplotlib.axes._subplots.AxesSubplot at 0x2406c9b42e8>"
      ]
     },
     "execution_count": 49,
     "metadata": {},
     "output_type": "execute_result"
    },
    {
     "data": {
      "image/png": "[encoded data removed]",
      "text/plain": [
       "<Figure size 432x288 with 1 Axes>"
      ]
     },
     "metadata": {
      "needs_background": "light"
     },
     "output_type": "display_data"
    }
   ],
   "source": [
    "sns.distplot(ibm.MonthlyRate)"
   ]
  },
  {
   "cell_type": "code",
   "execution_count": 50,
   "metadata": {},
   "outputs": [
    {
     "name": "stdout",
     "output_type": "stream",
     "text": [
      "Attrition rate of Monthly rate below 5000 is  17.543859649122805\n",
      "Attrition rate of MonthlyRate between 5000 and 10000 is  13.291139240506327\n",
      "Attrition rate of MonthlyRate between 10000 and 15000 is  18.53146853146853\n",
      "Attrition rate of MonthlyRate between 15000 and 20000 is  14.76510067114094\n",
      "Attrition rate of MonthlyRate between 20000 and 25000 is  15.894039735099339\n",
      "Attrition rate of MonthlyRate above 25000 is  20.833333333333336\n"
     ]
    }
   ],
   "source": [
    "print('Attrition rate of Monthly rate below 5000 is ',(ibm[(ibm['MonthlyRate']< 5000) \n",
    "                                                             & (ibm['Attrition']=='Yes')]['MonthlyRate'].count() \n",
    "                                                         / ibm[(ibm['MonthlyRate']< 5000) ]['MonthlyRate'].count()) * 100)\n",
    "\n",
    "print('Attrition rate of MonthlyRate between 5000 and 10000 is ',(ibm[(ibm['MonthlyRate']> 5000) \n",
    "                                                            & (ibm['MonthlyRate']<10000)\n",
    "                                                             & (ibm['Attrition']=='Yes')]['MonthlyRate'].count() \n",
    "                                                         / ibm[(ibm['MonthlyRate']> 5000) \n",
    "                                                            & (ibm['MonthlyRate']<10000)]['MonthlyRate'].count()) * 100)\n",
    "\n",
    "print('Attrition rate of MonthlyRate between 10000 and 15000 is ',(ibm[(ibm['MonthlyRate']> 10000) \n",
    "                                                            & (ibm['MonthlyRate']<15000)\n",
    "                                                             & (ibm['Attrition']=='Yes')]['MonthlyRate'].count() \n",
    "                                                         / ibm[(ibm['MonthlyRate']> 10000) \n",
    "                                                            & (ibm['MonthlyRate']<15000)]['MonthlyRate'].count()) * 100)\n",
    "\n",
    "print('Attrition rate of MonthlyRate between 15000 and 20000 is ',(ibm[(ibm['MonthlyRate']> 15000) \n",
    "                                                            & (ibm['MonthlyRate']<20000)\n",
    "                                                             & (ibm['Attrition']=='Yes')]['MonthlyRate'].count() \n",
    "                                                         / ibm[(ibm['MonthlyRate']> 15000) \n",
    "                                                            & (ibm['MonthlyRate']<20000)]['MonthlyRate'].count()) * 100)\n",
    "\n",
    "print('Attrition rate of MonthlyRate between 20000 and 25000 is ',(ibm[(ibm['MonthlyRate']> 20000) \n",
    "                                                             & (ibm['MonthlyRate']<25000)\n",
    "                                                             & (ibm['Attrition']=='Yes')]['MonthlyRate'].count() \n",
    "                                                         / ibm[(ibm['MonthlyRate']> 20000) \n",
    "                                                             & (ibm['MonthlyRate']<25000)]['MonthlyRate'].count()) * 100)\n",
    "\n",
    "\n",
    "print('Attrition rate of MonthlyRate above 25000 is ',(ibm[(ibm['MonthlyRate']> 25000) \n",
    "                                                             \n",
    "                                                             & (ibm['Attrition']=='Yes')]['MonthlyRate'].count() \n",
    "                                                         / ibm[(ibm['MonthlyRate']> 25000)]['MonthlyRate'].count()) * 100)\n"
   ]
  },
  {
   "cell_type": "code",
   "execution_count": 51,
   "metadata": {},
   "outputs": [
    {
     "data": {
      "text/plain": [
       "1    521\n",
       "0    197\n",
       "3    159\n",
       "2    146\n",
       "4    139\n",
       "7     74\n",
       "6     70\n",
       "5     63\n",
       "9     52\n",
       "8     49\n",
       "Name: NumCompaniesWorked, dtype: int64"
      ]
     },
     "execution_count": 51,
     "metadata": {},
     "output_type": "execute_result"
    }
   ],
   "source": [
    "ibm.NumCompaniesWorked.value_counts()"
   ]
  },
  {
   "cell_type": "code",
   "execution_count": 52,
   "metadata": {
    "scrolled": true
   },
   "outputs": [
    {
     "data": {
      "text/plain": [
       "<matplotlib.axes._subplots.AxesSubplot at 0x2406b61d160>"
      ]
     },
     "execution_count": 52,
     "metadata": {},
     "output_type": "execute_result"
    },
    {
     "data": {
      "image/png": "[encoded data removed]",
      "text/plain": [
       "<Figure size 432x288 with 1 Axes>"
      ]
     },
     "metadata": {
      "needs_background": "light"
     },
     "output_type": "display_data"
    }
   ],
   "source": [
    "sns.countplot(ibm.NumCompaniesWorked,hue=ibm.Attrition)"
   ]
  },
  {
   "cell_type": "code",
   "execution_count": 53,
   "metadata": {},
   "outputs": [
    {
     "name": "stdout",
     "output_type": "stream",
     "text": [
      "Percentage of attrition rate w.r.t Number of Companies worked of count 0 is  11.6751269035533\n",
      "Percentage of attrition rate w.r.t Number of Companies worked of count 1 is  18.809980806142036\n",
      "Percentage of attrition rate w.r.t Number of Companies worked of count 2 is  10.95890410958904\n",
      "Percentage of attrition rate w.r.t Number of Companies worked of count 3 is  10.062893081761008\n",
      "Percentage of attrition rate w.r.t Number of Companies worked of count 4 is  12.23021582733813\n",
      "Percentage of attrition rate w.r.t Number of Companies worked of count 5 is  25.396825396825395\n",
      "Percentage of attrition rate w.r.t Number of Companies worked of count 6 is  22.857142857142858\n",
      "Percentage of attrition rate w.r.t Number of Companies worked of count 7 is  22.972972972972975\n",
      "Percentage of attrition rate w.r.t Number of Companies worked of count 8 is  12.244897959183673\n",
      "Percentage of attrition rate w.r.t Number of Companies worked of count 9 is  23.076923076923077\n"
     ]
    }
   ],
   "source": [
    "for i in range(0,10):\n",
    "    \n",
    "\n",
    "    print('Percentage of attrition rate w.r.t Number of Companies worked of count {} is '.format(i),(ibm[(ibm['Attrition']=='Yes') & \n",
    "         (ibm['NumCompaniesWorked']==i)]['NumCompaniesWorked'].count()\n",
    "     /\n",
    "     ibm[ibm['NumCompaniesWorked']==i]['NumCompaniesWorked'].count()) * 100)"
   ]
  },
  {
   "cell_type": "markdown",
   "metadata": {},
   "source": [
    "#### Attrition rate is more among the people who hav worked in more than 5 companies earlier"
   ]
  },
  {
   "cell_type": "code",
   "execution_count": 54,
   "metadata": {},
   "outputs": [
    {
     "data": {
      "text/plain": [
       "No     1054\n",
       "Yes     416\n",
       "Name: OverTime, dtype: int64"
      ]
     },
     "execution_count": 54,
     "metadata": {},
     "output_type": "execute_result"
    }
   ],
   "source": [
    "ibm.OverTime.value_counts()"
   ]
  },
  {
   "cell_type": "code",
   "execution_count": 55,
   "metadata": {},
   "outputs": [
    {
     "data": {
      "text/plain": [
       "count     1470\n",
       "unique       2\n",
       "top         No\n",
       "freq      1054\n",
       "Name: OverTime, dtype: object"
      ]
     },
     "execution_count": 55,
     "metadata": {},
     "output_type": "execute_result"
    }
   ],
   "source": [
    "ibm.OverTime.describe()"
   ]
  },
  {
   "cell_type": "code",
   "execution_count": 56,
   "metadata": {
    "scrolled": false
   },
   "outputs": [
    {
     "data": {
      "text/plain": [
       "<matplotlib.axes._subplots.AxesSubplot at 0x2406ca99ef0>"
      ]
     },
     "execution_count": 56,
     "metadata": {},
     "output_type": "execute_result"
    },
    {
     "data": {
      "image/png": "[encoded data removed]",
      "text/plain": [
       "<Figure size 432x288 with 1 Axes>"
      ]
     },
     "metadata": {
      "needs_background": "light"
     },
     "output_type": "display_data"
    }
   ],
   "source": [
    "sns.countplot(ibm.OverTime,hue=ibm.Attrition)"
   ]
  },
  {
   "cell_type": "code",
   "execution_count": 57,
   "metadata": {},
   "outputs": [
    {
     "name": "stdout",
     "output_type": "stream",
     "text": [
      "Percentage of attrition rate w.r.t if they have done Overtime is  8.639455782312925\n",
      "Percentage of attrition rate w.r.t if they have done Overtime is  7.482993197278912\n"
     ]
    }
   ],
   "source": [
    "print('Percentage of attrition rate w.r.t if they have done Overtime is ',(ibm[(ibm['Attrition']=='Yes') & \n",
    "         (ibm['OverTime']=='Yes')]['NumCompaniesWorked'].count()\n",
    "     /\n",
    "     ibm['OverTime'].count()) * 100)\n",
    "\n",
    "print('Percentage of attrition rate w.r.t if they have done Overtime is ',(ibm[(ibm['Attrition']=='Yes') & \n",
    "         (ibm['OverTime']=='No')]['NumCompaniesWorked'].count()\n",
    "     /\n",
    "     ibm['OverTime'].count()) * 100)\n"
   ]
  },
  {
   "cell_type": "markdown",
   "metadata": {},
   "source": [
    "#### Attriton rate is more if the employee has done over time"
   ]
  },
  {
   "cell_type": "code",
   "execution_count": 58,
   "metadata": {},
   "outputs": [
    {
     "data": {
      "text/plain": [
       "count    1470.000000\n",
       "mean       15.209524\n",
       "std         3.659938\n",
       "min        11.000000\n",
       "25%        12.000000\n",
       "50%        14.000000\n",
       "75%        18.000000\n",
       "max        25.000000\n",
       "Name: PercentSalaryHike, dtype: float64"
      ]
     },
     "execution_count": 58,
     "metadata": {},
     "output_type": "execute_result"
    }
   ],
   "source": [
    "ibm.PercentSalaryHike.describe()"
   ]
  },
  {
   "cell_type": "code",
   "execution_count": 59,
   "metadata": {
    "scrolled": true
   },
   "outputs": [
    {
     "data": {
      "text/plain": [
       "<matplotlib.axes._subplots.AxesSubplot at 0x2406cafda20>"
      ]
     },
     "execution_count": 59,
     "metadata": {},
     "output_type": "execute_result"
    },
    {
     "data": {
      "image/png": "[encoded data removed]",
      "text/plain": [
       "<Figure size 432x288 with 1 Axes>"
      ]
     },
     "metadata": {
      "needs_background": "light"
     },
     "output_type": "display_data"
    }
   ],
   "source": [
    "sns.distplot(ibm.PercentSalaryHike)"
   ]
  },
  {
   "cell_type": "code",
   "execution_count": 60,
   "metadata": {},
   "outputs": [
    {
     "name": "stdout",
     "output_type": "stream",
     "text": [
      "Attrition rate for Percentage Salary hike less than 10 % is  nan\n",
      "Attrition rate for Percentage Salary hike between 10 % to 15 % is  8.979591836734693\n",
      "Attrition rate for Percentage Salary hike between 15 % to 20 % is  6.112469437652812\n",
      "Attrition rate for Percentage Salary hike between 20 % to 25 % is  18.954248366013072\n",
      "Attrition rate for Percentage Salary hike above 25 % is  nan\n"
     ]
    }
   ],
   "source": [
    "print('Attrition rate for Percentage Salary hike less than 10 % is ',\n",
    "     (ibm[(ibm['Attrition']=='Yes') & (ibm['PercentSalaryHike']< 10)]['PercentSalaryHike'].count()\n",
    "     /\n",
    "     ibm[ibm['PercentSalaryHike']< 10]['PercentSalaryHike'].count())*100)\n",
    "\n",
    "\n",
    "print('Attrition rate for Percentage Salary hike between 10 % to 15 % is ',\n",
    "     (ibm[(ibm['Attrition']=='Yes') & (ibm['PercentSalaryHike']> 10)\n",
    "          & (ibm['PercentSalaryHike']< 15)]['PercentSalaryHike'].count()\n",
    "     /\n",
    "     ibm['PercentSalaryHike'].count())*100)\n",
    "\n",
    "print('Attrition rate for Percentage Salary hike between 15 % to 20 % is ',\n",
    "     (ibm[(ibm['Attrition']=='Yes') & (ibm['PercentSalaryHike']> 15)\n",
    "          & (ibm['PercentSalaryHike']< 20)]['PercentSalaryHike'].count()\n",
    "     /\n",
    "     ibm[(ibm['PercentSalaryHike']> 10)\n",
    "          & (ibm['PercentSalaryHike']< 15)]['PercentSalaryHike'].count())*100)\n",
    "\n",
    "\n",
    "print('Attrition rate for Percentage Salary hike between 20 % to 25 % is ',\n",
    "     (ibm[(ibm['Attrition']=='Yes') & (ibm['PercentSalaryHike']> 20)\n",
    "          & (ibm['PercentSalaryHike']< 25)]['PercentSalaryHike'].count()\n",
    "     /\n",
    "     ibm[(ibm['PercentSalaryHike']> 20)\n",
    "          & (ibm['PercentSalaryHike']< 25)]['PercentSalaryHike'].count())*100)\n",
    "\n",
    "print('Attrition rate for Percentage Salary hike above 25 % is ',\n",
    "     (ibm[(ibm['Attrition']=='Yes') \n",
    "          & (ibm['PercentSalaryHike']> 25)]['PercentSalaryHike'].count()\n",
    "     /\n",
    "     ibm[(ibm['PercentSalaryHike']> 25)]['PercentSalaryHike'].count())*100)"
   ]
  },
  {
   "cell_type": "code",
   "execution_count": 61,
   "metadata": {},
   "outputs": [
    {
     "data": {
      "text/plain": [
       "3    1244\n",
       "4     226\n",
       "Name: PerformanceRating, dtype: int64"
      ]
     },
     "execution_count": 61,
     "metadata": {},
     "output_type": "execute_result"
    }
   ],
   "source": [
    "ibm.PerformanceRating.value_counts()"
   ]
  },
  {
   "cell_type": "code",
   "execution_count": 62,
   "metadata": {},
   "outputs": [
    {
     "data": {
      "text/plain": [
       "<matplotlib.axes._subplots.AxesSubplot at 0x2406cb7f2e8>"
      ]
     },
     "execution_count": 62,
     "metadata": {},
     "output_type": "execute_result"
    },
    {
     "data": {
      "image/png": "[encoded data removed]",
      "text/plain": [
       "<Figure size 432x288 with 1 Axes>"
      ]
     },
     "metadata": {
      "needs_background": "light"
     },
     "output_type": "display_data"
    }
   ],
   "source": [
    "sns.countplot(ibm.PerformanceRating,hue=ibm.Attrition)"
   ]
  },
  {
   "cell_type": "code",
   "execution_count": 63,
   "metadata": {},
   "outputs": [
    {
     "name": "stdout",
     "output_type": "stream",
     "text": [
      "Unique Performance Ratings are [3 4]\n",
      "Percentage of attrition rate w.r.t Performance Rating 3 is  16.077170418006432\n",
      "Percentage of attrition rate w.r.t Performance Rating 4 is  16.371681415929203\n"
     ]
    }
   ],
   "source": [
    "print('Unique Performance Ratings are',ibm.PerformanceRating.unique())\n",
    "  \n",
    "for i in range(3,5):\n",
    "    \n",
    "\n",
    "    print('Percentage of attrition rate w.r.t Performance Rating {} is '.format(i),(ibm[(ibm['Attrition']=='Yes') & \n",
    "         (ibm['PerformanceRating']==i)]['PerformanceRating'].count()\n",
    "     /\n",
    "     ibm[ibm['PerformanceRating']==i]['PerformanceRating'].count()) * 100)"
   ]
  },
  {
   "cell_type": "code",
   "execution_count": 64,
   "metadata": {},
   "outputs": [
    {
     "data": {
      "text/plain": [
       "count    1470.000000\n",
       "mean        2.712245\n",
       "std         1.081209\n",
       "min         1.000000\n",
       "25%         2.000000\n",
       "50%         3.000000\n",
       "75%         4.000000\n",
       "max         4.000000\n",
       "Name: RelationshipSatisfaction, dtype: float64"
      ]
     },
     "execution_count": 64,
     "metadata": {},
     "output_type": "execute_result"
    }
   ],
   "source": [
    "ibm.RelationshipSatisfaction.describe()"
   ]
  },
  {
   "cell_type": "code",
   "execution_count": 65,
   "metadata": {},
   "outputs": [
    {
     "data": {
      "text/plain": [
       "3    459\n",
       "4    432\n",
       "2    303\n",
       "1    276\n",
       "Name: RelationshipSatisfaction, dtype: int64"
      ]
     },
     "execution_count": 65,
     "metadata": {},
     "output_type": "execute_result"
    }
   ],
   "source": [
    "ibm.RelationshipSatisfaction.value_counts()"
   ]
  },
  {
   "cell_type": "code",
   "execution_count": 66,
   "metadata": {
    "scrolled": true
   },
   "outputs": [
    {
     "data": {
      "text/plain": [
       "<matplotlib.axes._subplots.AxesSubplot at 0x2406cbc1cc0>"
      ]
     },
     "execution_count": 66,
     "metadata": {},
     "output_type": "execute_result"
    },
    {
     "data": {
      "image/png": "[encoded data removed]",
      "text/plain": [
       "<Figure size 432x288 with 1 Axes>"
      ]
     },
     "metadata": {
      "needs_background": "light"
     },
     "output_type": "display_data"
    }
   ],
   "source": [
    "sns.countplot(ibm.RelationshipSatisfaction,hue=ibm.Attrition)"
   ]
  },
  {
   "cell_type": "code",
   "execution_count": 67,
   "metadata": {},
   "outputs": [
    {
     "name": "stdout",
     "output_type": "stream",
     "text": [
      "Percentage of attrition rate w.r.t Relationship Satisfaction 1 is  20.652173913043477\n",
      "Percentage of attrition rate w.r.t Relationship Satisfaction 2 is  14.85148514851485\n",
      "Percentage of attrition rate w.r.t Relationship Satisfaction 3 is  15.468409586056644\n",
      "Percentage of attrition rate w.r.t Relationship Satisfaction 4 is  14.814814814814813\n"
     ]
    }
   ],
   "source": [
    "  \n",
    "for i in range(1,5):\n",
    "    \n",
    "\n",
    "    print('Percentage of attrition rate w.r.t Relationship Satisfaction {} is '.format(i),(ibm[(ibm['Attrition']=='Yes') & \n",
    "         (ibm['RelationshipSatisfaction']==i)]['RelationshipSatisfaction'].count()\n",
    "     /\n",
    "     ibm[ibm['RelationshipSatisfaction']==i]['RelationshipSatisfaction'].count()) * 100)"
   ]
  },
  {
   "cell_type": "markdown",
   "metadata": {},
   "source": [
    "#### Attrition rate is more if relationship satisfaction is less and is low if employes ahve highes relationship satisfaction"
   ]
  },
  {
   "cell_type": "code",
   "execution_count": 68,
   "metadata": {},
   "outputs": [
    {
     "data": {
      "text/plain": [
       "0    631\n",
       "1    596\n",
       "2    158\n",
       "3     85\n",
       "Name: StockOptionLevel, dtype: int64"
      ]
     },
     "execution_count": 68,
     "metadata": {},
     "output_type": "execute_result"
    }
   ],
   "source": [
    "ibm.StockOptionLevel.value_counts()"
   ]
  },
  {
   "cell_type": "code",
   "execution_count": 69,
   "metadata": {},
   "outputs": [
    {
     "data": {
      "text/plain": [
       "<matplotlib.axes._subplots.AxesSubplot at 0x2406cc4d128>"
      ]
     },
     "execution_count": 69,
     "metadata": {},
     "output_type": "execute_result"
    },
    {
     "data": {
      "image/png": "[encoded data removed]",
      "text/plain": [
       "<Figure size 432x288 with 1 Axes>"
      ]
     },
     "metadata": {
      "needs_background": "light"
     },
     "output_type": "display_data"
    }
   ],
   "source": [
    "sns.countplot(ibm.StockOptionLevel,hue=ibm.Attrition)"
   ]
  },
  {
   "cell_type": "code",
   "execution_count": 70,
   "metadata": {},
   "outputs": [
    {
     "name": "stdout",
     "output_type": "stream",
     "text": [
      "Percentage of attrition rate w.r.t Stock Option Level 0 is  24.405705229793977\n",
      "Percentage of attrition rate w.r.t Stock Option Level 1 is  9.395973154362416\n",
      "Percentage of attrition rate w.r.t Stock Option Level 2 is  7.59493670886076\n",
      "Percentage of attrition rate w.r.t Stock Option Level 3 is  17.647058823529413\n"
     ]
    }
   ],
   "source": [
    "  \n",
    "for i in range(0,4):\n",
    "    \n",
    "\n",
    "    print('Percentage of attrition rate w.r.t Stock Option Level {} is '.format(i),(ibm[(ibm['Attrition']=='Yes') & \n",
    "         (ibm['StockOptionLevel']==i)]['StockOptionLevel'].count()\n",
    "     /\n",
    "     ibm[ibm['StockOptionLevel']==i]['StockOptionLevel'].count()) * 100)"
   ]
  },
  {
   "cell_type": "markdown",
   "metadata": {},
   "source": [
    "#### Attrition rate is more when the stock option is very low as well as very high"
   ]
  },
  {
   "cell_type": "code",
   "execution_count": 71,
   "metadata": {},
   "outputs": [
    {
     "data": {
      "text/plain": [
       "count    1470.000000\n",
       "mean       11.279592\n",
       "std         7.780782\n",
       "min         0.000000\n",
       "25%         6.000000\n",
       "50%        10.000000\n",
       "75%        15.000000\n",
       "max        40.000000\n",
       "Name: TotalWorkingYears, dtype: float64"
      ]
     },
     "execution_count": 71,
     "metadata": {},
     "output_type": "execute_result"
    }
   ],
   "source": [
    "ibm.TotalWorkingYears.describe()"
   ]
  },
  {
   "cell_type": "code",
   "execution_count": 72,
   "metadata": {
    "scrolled": true
   },
   "outputs": [
    {
     "data": {
      "text/plain": [
       "<matplotlib.axes._subplots.AxesSubplot at 0x2406ccb3e10>"
      ]
     },
     "execution_count": 72,
     "metadata": {},
     "output_type": "execute_result"
    },
    {
     "data": {
      "image/png": "[encoded data removed]",
      "text/plain": [
       "<Figure size 432x288 with 1 Axes>"
      ]
     },
     "metadata": {
      "needs_background": "light"
     },
     "output_type": "display_data"
    }
   ],
   "source": [
    "sns.distplot(ibm.TotalWorkingYears)"
   ]
  },
  {
   "cell_type": "code",
   "execution_count": 73,
   "metadata": {},
   "outputs": [
    {
     "name": "stdout",
     "output_type": "stream",
     "text": [
      "Attrition rate for Total Working Hours less than 10  is  21.7753120665742\n",
      "Attrition rate for Percentage Salary hike between 10 % to 20 % is  11.935483870967742\n",
      "Attrition rate for Percentage Salary hike between 20 % to 30 % is  7.142857142857142\n",
      "Attrition rate for Percentage Salary hike between 30 % to 40 % is  6.8181818181818175\n",
      "Attrition rate for Percentage Salary hike above 40 % is  nan\n"
     ]
    }
   ],
   "source": [
    "print('Attrition rate for Total Working Hours less than 10  is ',\n",
    "     (ibm[(ibm['Attrition']=='Yes') & (ibm['TotalWorkingYears']< 10)]['TotalWorkingYears'].count()\n",
    "     /\n",
    "     ibm[(ibm['TotalWorkingYears']< 10)]['TotalWorkingYears'].count())*100)\n",
    "\n",
    "\n",
    "print('Attrition rate for Percentage Salary hike between 10 % to 20 % is ',\n",
    "     (ibm[(ibm['Attrition']=='Yes') & (ibm['TotalWorkingYears']> 10)\n",
    "          & (ibm['TotalWorkingYears']< 20)]['TotalWorkingYears'].count()\n",
    "     /\n",
    "     ibm[(ibm['TotalWorkingYears']> 10)\n",
    "          & (ibm['TotalWorkingYears']< 20)]['TotalWorkingYears'].count())*100)\n",
    "\n",
    "print('Attrition rate for Percentage Salary hike between 20 % to 30 % is ',\n",
    "     (ibm[(ibm['Attrition']=='Yes') & (ibm['TotalWorkingYears']> 20)\n",
    "          & (ibm['TotalWorkingYears']< 30)]['TotalWorkingYears'].count()\n",
    "     /\n",
    "     ibm[(ibm['TotalWorkingYears']> 20)\n",
    "          & (ibm['TotalWorkingYears']< 30)]['TotalWorkingYears'].count())*100)\n",
    "\n",
    "\n",
    "print('Attrition rate for Percentage Salary hike between 30 % to 40 % is ',\n",
    "     (ibm[(ibm['Attrition']=='Yes') & (ibm['TotalWorkingYears']> 30)\n",
    "          & (ibm['TotalWorkingYears']< 40)]['TotalWorkingYears'].count()\n",
    "     /\n",
    "     ibm[(ibm['TotalWorkingYears']> 30)\n",
    "          & (ibm['TotalWorkingYears']< 40)]['TotalWorkingYears'].count())*100)\n",
    "\n",
    "print('Attrition rate for Percentage Salary hike above 40 % is ',\n",
    "     (ibm[(ibm['Attrition']=='Yes') \n",
    "          & (ibm['TotalWorkingYears']> 40)]['TotalWorkingYears'].count()\n",
    "     /\n",
    "     ibm[(ibm['TotalWorkingYears']> 40)]['TotalWorkingYears'].count())*100)"
   ]
  },
  {
   "cell_type": "markdown",
   "metadata": {},
   "source": [
    "#### Attrition rate is more if the total working hours is less than 10 "
   ]
  },
  {
   "cell_type": "code",
   "execution_count": 74,
   "metadata": {},
   "outputs": [
    {
     "data": {
      "text/plain": [
       "2    547\n",
       "3    491\n",
       "4    123\n",
       "5    119\n",
       "1     71\n",
       "6     65\n",
       "0     54\n",
       "Name: TrainingTimesLastYear, dtype: int64"
      ]
     },
     "execution_count": 74,
     "metadata": {},
     "output_type": "execute_result"
    }
   ],
   "source": [
    "ibm.TrainingTimesLastYear.value_counts()"
   ]
  },
  {
   "cell_type": "code",
   "execution_count": 75,
   "metadata": {
    "scrolled": true
   },
   "outputs": [
    {
     "data": {
      "text/plain": [
       "<matplotlib.axes._subplots.AxesSubplot at 0x2406cd48710>"
      ]
     },
     "execution_count": 75,
     "metadata": {},
     "output_type": "execute_result"
    },
    {
     "data": {
      "image/png": "[encoded data removed]",
      "text/plain": [
       "<Figure size 432x288 with 1 Axes>"
      ]
     },
     "metadata": {
      "needs_background": "light"
     },
     "output_type": "display_data"
    }
   ],
   "source": [
    "sns.countplot(ibm.TrainingTimesLastYear,hue=ibm.Attrition)"
   ]
  },
  {
   "cell_type": "code",
   "execution_count": 76,
   "metadata": {},
   "outputs": [
    {
     "name": "stdout",
     "output_type": "stream",
     "text": [
      "Percentage of attrition rate w.r.t TrainingTimesLastYear of  0 months is  27.77777777777778\n",
      "Percentage of attrition rate w.r.t TrainingTimesLastYear of  1 months is  12.676056338028168\n",
      "Percentage of attrition rate w.r.t TrainingTimesLastYear of  2 months is  17.915904936014627\n",
      "Percentage of attrition rate w.r.t TrainingTimesLastYear of  3 months is  14.052953156822811\n",
      "Percentage of attrition rate w.r.t TrainingTimesLastYear of  4 months is  21.138211382113823\n",
      "Percentage of attrition rate w.r.t TrainingTimesLastYear of  5 months is  11.76470588235294\n",
      "Percentage of attrition rate w.r.t TrainingTimesLastYear of  6 months is  9.230769230769232\n"
     ]
    }
   ],
   "source": [
    "  \n",
    "for i in range(0,7):\n",
    "    \n",
    "\n",
    "    print('Percentage of attrition rate w.r.t TrainingTimesLastYear of  {} months is '.format(i),(ibm[(ibm['Attrition']=='Yes') & \n",
    "         (ibm['TrainingTimesLastYear']==i)]['TrainingTimesLastYear'].count()\n",
    "     /\n",
    "     ibm[ibm['TrainingTimesLastYear']==i]['TrainingTimesLastYear'].count()) * 100)"
   ]
  },
  {
   "cell_type": "markdown",
   "metadata": {},
   "source": [
    "#### Attrition rate is more when there is no training period before working in projects"
   ]
  },
  {
   "cell_type": "code",
   "execution_count": 77,
   "metadata": {},
   "outputs": [
    {
     "data": {
      "text/plain": [
       "3    893\n",
       "2    344\n",
       "4    153\n",
       "1     80\n",
       "Name: WorkLifeBalance, dtype: int64"
      ]
     },
     "execution_count": 77,
     "metadata": {},
     "output_type": "execute_result"
    }
   ],
   "source": [
    "ibm.WorkLifeBalance.value_counts()"
   ]
  },
  {
   "cell_type": "code",
   "execution_count": 78,
   "metadata": {},
   "outputs": [
    {
     "data": {
      "text/plain": [
       "<matplotlib.axes._subplots.AxesSubplot at 0x2406cdbbb38>"
      ]
     },
     "execution_count": 78,
     "metadata": {},
     "output_type": "execute_result"
    },
    {
     "data": {
      "image/png": "[encoded data removed]",
      "text/plain": [
       "<Figure size 432x288 with 1 Axes>"
      ]
     },
     "metadata": {
      "needs_background": "light"
     },
     "output_type": "display_data"
    }
   ],
   "source": [
    "sns.countplot(ibm.WorkLifeBalance,hue=ibm.Attrition)"
   ]
  },
  {
   "cell_type": "code",
   "execution_count": 79,
   "metadata": {},
   "outputs": [
    {
     "name": "stdout",
     "output_type": "stream",
     "text": [
      "Percentage of attrition rate w.r.t Work life balance of 1 is  31.25\n",
      "Percentage of attrition rate w.r.t Work life balance of 2 is  16.86046511627907\n",
      "Percentage of attrition rate w.r.t Work life balance of 3 is  14.221724524076148\n",
      "Percentage of attrition rate w.r.t Work life balance of 4 is  17.647058823529413\n"
     ]
    }
   ],
   "source": [
    "  \n",
    "for i in range(1,5):\n",
    "    \n",
    "\n",
    "    print('Percentage of attrition rate w.r.t Work life balance of {} is '.format(i),(ibm[(ibm['Attrition']=='Yes') \n",
    "        &(ibm['WorkLifeBalance']==i)]['WorkLifeBalance'].count()\n",
    "     /\n",
    "     ibm[ibm['WorkLifeBalance']==i]['WorkLifeBalance'].count()) * 100)"
   ]
  },
  {
   "cell_type": "markdown",
   "metadata": {},
   "source": [
    "#### Work life balance has for levels 1 being least and 4 being highest. \n",
    "#### If the Work life balance is least then people tend to move out. ie, attrition rate is more"
   ]
  },
  {
   "cell_type": "code",
   "execution_count": 80,
   "metadata": {},
   "outputs": [
    {
     "data": {
      "text/plain": [
       "count    1470.000000\n",
       "mean        7.008163\n",
       "std         6.126525\n",
       "min         0.000000\n",
       "25%         3.000000\n",
       "50%         5.000000\n",
       "75%         9.000000\n",
       "max        40.000000\n",
       "Name: YearsAtCompany, dtype: float64"
      ]
     },
     "execution_count": 80,
     "metadata": {},
     "output_type": "execute_result"
    }
   ],
   "source": [
    "ibm.YearsAtCompany.describe()"
   ]
  },
  {
   "cell_type": "code",
   "execution_count": 81,
   "metadata": {
    "scrolled": true
   },
   "outputs": [
    {
     "data": {
      "text/plain": [
       "<matplotlib.axes._subplots.AxesSubplot at 0x2406ce24240>"
      ]
     },
     "execution_count": 81,
     "metadata": {},
     "output_type": "execute_result"
    },
    {
     "data": {
      "image/png": "[encoded data removed]",
      "text/plain": [
       "<Figure size 432x288 with 1 Axes>"
      ]
     },
     "metadata": {
      "needs_background": "light"
     },
     "output_type": "display_data"
    }
   ],
   "source": [
    "sns.distplot(ibm.YearsAtCompany)"
   ]
  },
  {
   "cell_type": "code",
   "execution_count": 82,
   "metadata": {},
   "outputs": [
    {
     "name": "stdout",
     "output_type": "stream",
     "text": [
      "Attrition rate for working years within less than 10 years in same company  is  18.02536231884058\n",
      "Attrition rate for working years between 10 and 20 years in same company  is  7.18954248366013\n",
      "Attrition rate for working years between  20 and 30 years in same company  is   8.16326530612245\n",
      "Attrition rate for working years between 30  and 40 years in same company  is   20.0\n",
      "Attrition rate for working years within greater than 40 years in same company  is  nan\n"
     ]
    }
   ],
   "source": [
    "print('Attrition rate for working years within less than 10 years in same company  is ',\n",
    "     (ibm[(ibm['Attrition']=='Yes') & (ibm['YearsAtCompany']< 10)]['YearsAtCompany'].count()\n",
    "     /\n",
    "     ibm[(ibm['YearsAtCompany']< 10)]['YearsAtCompany'].count())*100)\n",
    "\n",
    "\n",
    "print('Attrition rate for working years between 10 and 20 years in same company  is ',\n",
    "     (ibm[(ibm['Attrition']=='Yes') & (ibm['YearsAtCompany']> 10)\n",
    "          & (ibm['YearsAtCompany']< 20)]['YearsAtCompany'].count()\n",
    "     /\n",
    "     ibm[(ibm['YearsAtCompany']> 10)\n",
    "          & (ibm['YearsAtCompany']< 20)]['YearsAtCompany'].count())*100)\n",
    "\n",
    "print('Attrition rate for working years between  20 and 30 years in same company  is  ',\n",
    "     (ibm[(ibm['Attrition']=='Yes') & (ibm['YearsAtCompany']> 20)\n",
    "          & (ibm['YearsAtCompany']< 30)]['TotalWorkingYears'].count()\n",
    "     /\n",
    "     ibm[(ibm['YearsAtCompany']> 20)\n",
    "          & (ibm['YearsAtCompany']< 30)]['YearsAtCompany'].count())*100)\n",
    "\n",
    "\n",
    "print('Attrition rate for working years between 30  and 40 years in same company  is  ',\n",
    "     (ibm[(ibm['Attrition']=='Yes') & (ibm['YearsAtCompany']> 30)\n",
    "          & (ibm['YearsAtCompany']< 40)]['YearsAtCompany'].count()\n",
    "     /\n",
    "     ibm[(ibm['YearsAtCompany']> 30)\n",
    "          & (ibm['YearsAtCompany']< 40)]['YearsAtCompany'].count())*100)\n",
    "\n",
    "print('Attrition rate for working years within greater than 40 years in same company  is ',\n",
    "     (ibm[(ibm['Attrition']=='Yes') \n",
    "          & (ibm['YearsAtCompany']> 40)]['YearsAtCompany'].count()\n",
    "     /\n",
    "     ibm[(ibm['YearsAtCompany']> 40)]['YearsAtCompany'].count())*100)"
   ]
  },
  {
   "cell_type": "code",
   "execution_count": 83,
   "metadata": {
    "scrolled": true
   },
   "outputs": [
    {
     "data": {
      "text/plain": [
       "count    1470.000000\n",
       "mean        4.229252\n",
       "std         3.623137\n",
       "min         0.000000\n",
       "25%         2.000000\n",
       "50%         3.000000\n",
       "75%         7.000000\n",
       "max        18.000000\n",
       "Name: YearsInCurrentRole, dtype: float64"
      ]
     },
     "execution_count": 83,
     "metadata": {},
     "output_type": "execute_result"
    }
   ],
   "source": [
    "ibm.YearsInCurrentRole.describe()"
   ]
  },
  {
   "cell_type": "code",
   "execution_count": 84,
   "metadata": {
    "scrolled": true
   },
   "outputs": [
    {
     "data": {
      "text/plain": [
       "<matplotlib.axes._subplots.AxesSubplot at 0x2406cec9748>"
      ]
     },
     "execution_count": 84,
     "metadata": {},
     "output_type": "execute_result"
    },
    {
     "data": {
      "image/png": "[encoded data removed]",
      "text/plain": [
       "<Figure size 432x288 with 1 Axes>"
      ]
     },
     "metadata": {
      "needs_background": "light"
     },
     "output_type": "display_data"
    }
   ],
   "source": [
    "sns.distplot(ibm.YearsInCurrentRole)"
   ]
  },
  {
   "cell_type": "code",
   "execution_count": 85,
   "metadata": {
    "scrolled": true
   },
   "outputs": [
    {
     "name": "stdout",
     "output_type": "stream",
     "text": [
      "Attrition rate for working in current for less than 5 years  is  20.065789473684212\n",
      "Attrition rate for working in current role between 5 to 10 years in same company  is  11.08433734939759\n",
      "Attrition rate for working in current role between  10 and 15 years in same company  is   5.263157894736842\n",
      "Attrition rate for working in current role between 15  and 20 years in same company  is   0.0\n",
      "Attrition rate for working in current role greater than 20 years in same company  is  nan\n"
     ]
    }
   ],
   "source": [
    "print('Attrition rate for working in current for less than 5 years  is ',\n",
    "     (ibm[(ibm['Attrition']=='Yes') & (ibm['YearsInCurrentRole']< 5)]['YearsInCurrentRole'].count()\n",
    "     /\n",
    "     ibm[(ibm['YearsInCurrentRole']< 5)]['YearsInCurrentRole'].count())*100)\n",
    "\n",
    "\n",
    "print('Attrition rate for working in current role between 5 to 10 years in same company  is ',\n",
    "     (ibm[(ibm['Attrition']=='Yes') & (ibm['YearsInCurrentRole']> 5)\n",
    "          & (ibm['YearsInCurrentRole']< 10)]['YearsInCurrentRole'].count()\n",
    "     /\n",
    "     ibm[(ibm['YearsInCurrentRole']> 5)\n",
    "          & (ibm['YearsInCurrentRole']< 10)]['YearsInCurrentRole'].count())*100)\n",
    "\n",
    "print('Attrition rate for working in current role between  10 and 15 years in same company  is  ',\n",
    "     (ibm[(ibm['Attrition']=='Yes') & (ibm['YearsInCurrentRole']> 10)\n",
    "          & (ibm['YearsInCurrentRole']< 15)]['YearsInCurrentRole'].count()\n",
    "     /\n",
    "     ibm[(ibm['YearsInCurrentRole']> 10)\n",
    "          & (ibm['YearsInCurrentRole']< 15)]['YearsInCurrentRole'].count())*100)\n",
    "\n",
    "\n",
    "print('Attrition rate for working in current role between 15  and 20 years in same company  is  ',\n",
    "     (ibm[(ibm['Attrition']=='Yes') & (ibm['YearsInCurrentRole']> 15)\n",
    "          & (ibm['YearsInCurrentRole']< 20)]['YearsInCurrentRole'].count()\n",
    "     /\n",
    "     ibm[(ibm['YearsInCurrentRole']> 15)\n",
    "          & (ibm['YearsInCurrentRole']< 20)]['YearsInCurrentRole'].count())*100)\n",
    "\n",
    "print('Attrition rate for working in current role greater than 20 years in same company  is ',\n",
    "     (ibm[(ibm['Attrition']=='Yes') \n",
    "          & (ibm['YearsInCurrentRole']> 20)]['YearsInCurrentRole'].count()\n",
    "     /\n",
    "     ibm[(ibm['YearsInCurrentRole']> 20)]['YearsInCurrentRole'].count())*100)"
   ]
  },
  {
   "cell_type": "code",
   "execution_count": 86,
   "metadata": {},
   "outputs": [
    {
     "data": {
      "text/plain": [
       "2     372\n",
       "0     244\n",
       "7     222\n",
       "3     135\n",
       "4     104\n",
       "8      89\n",
       "9      67\n",
       "1      57\n",
       "6      37\n",
       "5      36\n",
       "10     29\n",
       "11     22\n",
       "13     14\n",
       "14     11\n",
       "12     10\n",
       "15      8\n",
       "16      7\n",
       "17      4\n",
       "18      2\n",
       "Name: YearsInCurrentRole, dtype: int64"
      ]
     },
     "execution_count": 86,
     "metadata": {},
     "output_type": "execute_result"
    }
   ],
   "source": [
    "ibm.YearsInCurrentRole.value_counts()"
   ]
  },
  {
   "cell_type": "code",
   "execution_count": 87,
   "metadata": {},
   "outputs": [
    {
     "data": {
      "text/plain": [
       "<matplotlib.axes._subplots.AxesSubplot at 0x2406cf74cc0>"
      ]
     },
     "execution_count": 87,
     "metadata": {},
     "output_type": "execute_result"
    },
    {
     "data": {
      "image/png": "[encoded data removed]",
      "text/plain": [
       "<Figure size 432x288 with 1 Axes>"
      ]
     },
     "metadata": {
      "needs_background": "light"
     },
     "output_type": "display_data"
    }
   ],
   "source": [
    "sns.countplot(ibm.YearsInCurrentRole,hue=ibm.Attrition)"
   ]
  },
  {
   "cell_type": "code",
   "execution_count": 88,
   "metadata": {},
   "outputs": [
    {
     "name": "stdout",
     "output_type": "stream",
     "text": [
      "Percentage of attrition rate for working in current role for 0 years  is  29.918032786885245\n",
      "Percentage of attrition rate for working in current role for 1 years  is  19.298245614035086\n",
      "Percentage of attrition rate for working in current role for 2 years  is  18.27956989247312\n",
      "Percentage of attrition rate for working in current role for 3 years  is  11.851851851851853\n",
      "Percentage of attrition rate for working in current role for 4 years  is  14.423076923076922\n",
      "Percentage of attrition rate for working in current role for 5 years  is  2.7777777777777777\n",
      "Percentage of attrition rate for working in current role for 6 years  is  5.405405405405405\n",
      "Percentage of attrition rate for working in current role for 7 years  is  13.963963963963963\n",
      "Percentage of attrition rate for working in current role for 8 years  is  7.865168539325842\n",
      "Percentage of attrition rate for working in current role for 9 years  is  8.955223880597014\n",
      "Percentage of attrition rate for working in current role for 10 years  is  6.896551724137931\n",
      "Percentage of attrition rate for working in current role for 11 years  is  0.0\n",
      "Percentage of attrition rate for working in current role for 12 years  is  10.0\n",
      "Percentage of attrition rate for working in current role for 13 years  is  7.142857142857142\n",
      "Percentage of attrition rate for working in current role for 14 years  is  9.090909090909092\n",
      "Percentage of attrition rate for working in current role for 15 years  is  25.0\n",
      "Percentage of attrition rate for working in current role for 16 years  is  0.0\n",
      "Percentage of attrition rate for working in current role for 17 years  is  0.0\n",
      "Percentage of attrition rate for working in current role for 18 years  is  0.0\n"
     ]
    }
   ],
   "source": [
    "  \n",
    "for i in range(0,19):\n",
    "    \n",
    "\n",
    "    print('Percentage of attrition rate for working in current role for {} years  is '.format(i),(ibm[(ibm['Attrition']=='Yes') \n",
    "        &(ibm['YearsInCurrentRole']==i)]['YearsInCurrentRole'].count()\n",
    "     /\n",
    "     ibm[ibm['YearsInCurrentRole']==i]['YearsInCurrentRole'].count()) * 100)"
   ]
  },
  {
   "cell_type": "markdown",
   "metadata": {},
   "source": [
    "#### If the employee is in the same role for 5 and less years, he tends to move out of the company. i.e, the attrition rate is more\n",
    "#### we need to check about the level of role within 5 years and more than 20 years.\n",
    "#### if the role is less then they tend to move within 5 years else employee in high position naturally has high working years and wont move out of the company\n",
    "\n",
    "##### If we see the count of years, we can clearly see that within 2 years the attrition rate is more if they are in smae role\n"
   ]
  },
  {
   "cell_type": "code",
   "execution_count": 89,
   "metadata": {},
   "outputs": [
    {
     "data": {
      "text/plain": [
       "0     581\n",
       "1     357\n",
       "2     159\n",
       "7      76\n",
       "4      61\n",
       "3      52\n",
       "5      45\n",
       "6      32\n",
       "11     24\n",
       "8      18\n",
       "9      17\n",
       "15     13\n",
       "13     10\n",
       "12     10\n",
       "14      9\n",
       "10      6\n",
       "Name: YearsSinceLastPromotion, dtype: int64"
      ]
     },
     "execution_count": 89,
     "metadata": {},
     "output_type": "execute_result"
    }
   ],
   "source": [
    "ibm.YearsSinceLastPromotion.value_counts()"
   ]
  },
  {
   "cell_type": "code",
   "execution_count": 90,
   "metadata": {
    "scrolled": true
   },
   "outputs": [
    {
     "data": {
      "text/plain": [
       "<matplotlib.axes._subplots.AxesSubplot at 0x2406d05d358>"
      ]
     },
     "execution_count": 90,
     "metadata": {},
     "output_type": "execute_result"
    },
    {
     "data": {
      "image/png": "[encoded data removed]",
      "text/plain": [
       "<Figure size 432x288 with 1 Axes>"
      ]
     },
     "metadata": {
      "needs_background": "light"
     },
     "output_type": "display_data"
    }
   ],
   "source": [
    "sns.countplot(ibm.YearsSinceLastPromotion,hue=ibm.Attrition)"
   ]
  },
  {
   "cell_type": "code",
   "execution_count": 91,
   "metadata": {
    "scrolled": true
   },
   "outputs": [
    {
     "name": "stdout",
     "output_type": "stream",
     "text": [
      "Percentage of attrition rate for 0 years since last promotion  is  18.9328743545611\n",
      "Percentage of attrition rate for 1 years since last promotion  is  13.725490196078432\n",
      "Percentage of attrition rate for 2 years since last promotion  is  16.9811320754717\n",
      "Percentage of attrition rate for 3 years since last promotion  is  17.307692307692307\n",
      "Percentage of attrition rate for 4 years since last promotion  is  8.19672131147541\n",
      "Percentage of attrition rate for 5 years since last promotion  is  4.444444444444445\n",
      "Percentage of attrition rate for 6 years since last promotion  is  18.75\n",
      "Percentage of attrition rate for 7 years since last promotion  is  21.052631578947366\n",
      "Percentage of attrition rate for 8 years since last promotion  is  0.0\n",
      "Percentage of attrition rate for 9 years since last promotion  is  23.52941176470588\n",
      "Percentage of attrition rate for 10 years since last promotion  is  16.666666666666664\n",
      "Percentage of attrition rate for 11 years since last promotion  is  8.333333333333332\n",
      "Percentage of attrition rate for 12 years since last promotion  is  0.0\n",
      "Percentage of attrition rate for 13 years since last promotion  is  20.0\n",
      "Percentage of attrition rate for 14 years since last promotion  is  11.11111111111111\n",
      "Percentage of attrition rate for 15 years since last promotion  is  23.076923076923077\n"
     ]
    }
   ],
   "source": [
    "  \n",
    "for i in range(0,16):\n",
    "    \n",
    "\n",
    "    print('Percentage of attrition rate for {} years since last promotion  is '.format(i),(ibm[(ibm['Attrition']=='Yes') \n",
    "        &(ibm['YearsSinceLastPromotion']==i)]['YearsSinceLastPromotion'].count()\n",
    "     /\n",
    "     ibm[ibm['YearsSinceLastPromotion']==i]['YearsSinceLastPromotion'].count()) * 100)"
   ]
  },
  {
   "cell_type": "code",
   "execution_count": 92,
   "metadata": {},
   "outputs": [
    {
     "data": {
      "text/plain": [
       "2     344\n",
       "0     263\n",
       "7     216\n",
       "3     142\n",
       "8     107\n",
       "4      98\n",
       "1      76\n",
       "9      64\n",
       "5      31\n",
       "6      29\n",
       "10     27\n",
       "11     22\n",
       "12     18\n",
       "13     14\n",
       "17      7\n",
       "14      5\n",
       "15      5\n",
       "16      2\n",
       "Name: YearsWithCurrManager, dtype: int64"
      ]
     },
     "execution_count": 92,
     "metadata": {},
     "output_type": "execute_result"
    }
   ],
   "source": [
    "ibm.YearsWithCurrManager.value_counts()"
   ]
  },
  {
   "cell_type": "code",
   "execution_count": 93,
   "metadata": {},
   "outputs": [
    {
     "data": {
      "text/plain": [
       "<matplotlib.axes._subplots.AxesSubplot at 0x2406d1165f8>"
      ]
     },
     "execution_count": 93,
     "metadata": {},
     "output_type": "execute_result"
    },
    {
     "data": {
      "image/png": "[encoded data removed]",
      "text/plain": [
       "<Figure size 432x288 with 1 Axes>"
      ]
     },
     "metadata": {
      "needs_background": "light"
     },
     "output_type": "display_data"
    }
   ],
   "source": [
    "sns.countplot(ibm.YearsWithCurrManager,hue=ibm.Attrition)"
   ]
  },
  {
   "cell_type": "code",
   "execution_count": 94,
   "metadata": {},
   "outputs": [
    {
     "name": "stdout",
     "output_type": "stream",
     "text": [
      "Percentage of attrition rate for 0 years with same manager  is  32.31939163498099\n",
      "Percentage of attrition rate for 1 years with same manager  is  14.473684210526317\n",
      "Percentage of attrition rate for 2 years with same manager  is  14.534883720930234\n",
      "Percentage of attrition rate for 3 years with same manager  is  13.380281690140844\n",
      "Percentage of attrition rate for 4 years with same manager  is  11.224489795918368\n",
      "Percentage of attrition rate for 5 years with same manager  is  12.903225806451612\n",
      "Percentage of attrition rate for 6 years with same manager  is  13.793103448275861\n",
      "Percentage of attrition rate for 7 years with same manager  is  14.351851851851851\n",
      "Percentage of attrition rate for 8 years with same manager  is  9.345794392523365\n",
      "Percentage of attrition rate for 9 years with same manager  is  9.375\n",
      "Percentage of attrition rate for 10 years with same manager  is  11.11111111111111\n",
      "Percentage of attrition rate for 11 years with same manager  is  4.545454545454546\n",
      "Percentage of attrition rate for 12 years with same manager  is  0.0\n",
      "Percentage of attrition rate for 13 years with same manager  is  0.0\n",
      "Percentage of attrition rate for 14 years with same manager  is  40.0\n",
      "Percentage of attrition rate for 15 years with same manager  is  0.0\n",
      "Percentage of attrition rate for 16 years with same manager  is  0.0\n",
      "Percentage of attrition rate for 17 years with same manager  is  0.0\n"
     ]
    }
   ],
   "source": [
    "  \n",
    "for i in range(0,18):\n",
    "    \n",
    "\n",
    "    print('Percentage of attrition rate for {} years with same manager  is '.format(i),(ibm[(ibm['Attrition']=='Yes') \n",
    "        &(ibm['YearsWithCurrManager']==i)]['YearsWithCurrManager'].count()\n",
    "     /\n",
    "     ibm[ibm['YearsWithCurrManager']==i]['YearsWithCurrManager'].count()) * 100)"
   ]
  },
  {
   "cell_type": "markdown",
   "metadata": {},
   "source": [
    "#### since StandardHours is same for all the records, we can drop that column"
   ]
  },
  {
   "cell_type": "code",
   "execution_count": 95,
   "metadata": {},
   "outputs": [],
   "source": [
    "ibm.drop('StandardHours',axis=1,inplace=True)"
   ]
  },
  {
   "cell_type": "code",
   "execution_count": 96,
   "metadata": {},
   "outputs": [
    {
     "data": {
      "text/plain": [
       "1    1470\n",
       "Name: EmployeeCount, dtype: int64"
      ]
     },
     "execution_count": 96,
     "metadata": {},
     "output_type": "execute_result"
    }
   ],
   "source": [
    "ibm.EmployeeCount.value_counts()"
   ]
  },
  {
   "cell_type": "markdown",
   "metadata": {},
   "source": [
    "#### since EmployeeCount is irrelevant to the data set, we can drop that column as well"
   ]
  },
  {
   "cell_type": "code",
   "execution_count": 97,
   "metadata": {},
   "outputs": [],
   "source": [
    "ibm.drop('EmployeeCount',axis=1,inplace=True)"
   ]
  },
  {
   "cell_type": "code",
   "execution_count": 98,
   "metadata": {},
   "outputs": [
    {
     "data": {
      "text/plain": [
       "Y    1470\n",
       "Name: Over18, dtype: int64"
      ]
     },
     "execution_count": 98,
     "metadata": {},
     "output_type": "execute_result"
    }
   ],
   "source": [
    "ibm.Over18.value_counts()"
   ]
  },
  {
   "cell_type": "markdown",
   "metadata": {},
   "source": [
    "##### Since the Over18 feature has all same values ('Y'), We can drop this feature as it does not contribute to the dependant variable."
   ]
  },
  {
   "cell_type": "code",
   "execution_count": 99,
   "metadata": {},
   "outputs": [],
   "source": [
    "ibm.drop('Over18',axis=1,inplace=True)"
   ]
  },
  {
   "cell_type": "code",
   "execution_count": null,
   "metadata": {},
   "outputs": [],
   "source": []
  },
  {
   "cell_type": "code",
   "execution_count": 100,
   "metadata": {},
   "outputs": [
    {
     "data": {
      "text/plain": [
       "<matplotlib.axes._subplots.AxesSubplot at 0x2406d215940>"
      ]
     },
     "execution_count": 100,
     "metadata": {},
     "output_type": "execute_result"
    },
    {
     "data": {
      "image/png": "[encoded data removed]",
      "text/plain": [
       "<Figure size 432x288 with 2 Axes>"
      ]
     },
     "metadata": {
      "needs_background": "light"
     },
     "output_type": "display_data"
    }
   ],
   "source": [
    "sns.heatmap(ibm.corr())"
   ]
  },
  {
   "cell_type": "code",
   "execution_count": 101,
   "metadata": {
    "scrolled": true
   },
   "outputs": [
    {
     "name": "stdout",
     "output_type": "stream",
     "text": [
      "<class 'pandas.core.frame.DataFrame'>\n",
      "RangeIndex: 1470 entries, 0 to 1469\n",
      "Data columns (total 32 columns):\n",
      "Age                         1470 non-null int64\n",
      "Attrition                   1470 non-null object\n",
      "BusinessTravel              1470 non-null object\n",
      "DailyRate                   1470 non-null int64\n",
      "Department                  1470 non-null object\n",
      "DistanceFromHome            1470 non-null int64\n",
      "Education                   1470 non-null int64\n",
      "EducationField              1470 non-null object\n",
      "EmployeeNumber              1470 non-null int64\n",
      "EnvironmentSatisfaction     1470 non-null int64\n",
      "Gender                      1470 non-null object\n",
      "HourlyRate                  1470 non-null int64\n",
      "JobInvolvement              1470 non-null int64\n",
      "JobLevel                    1470 non-null int64\n",
      "JobRole                     1470 non-null object\n",
      "JobSatisfaction             1470 non-null int64\n",
      "MaritalStatus               1470 non-null object\n",
      "MonthlyIncome               1470 non-null int64\n",
      "MonthlyRate                 1470 non-null int64\n",
      "NumCompaniesWorked          1470 non-null int64\n",
      "OverTime                    1470 non-null object\n",
      "PercentSalaryHike           1470 non-null int64\n",
      "PerformanceRating           1470 non-null int64\n",
      "RelationshipSatisfaction    1470 non-null int64\n",
      "StockOptionLevel            1470 non-null int64\n",
      "TotalWorkingYears           1470 non-null int64\n",
      "TrainingTimesLastYear       1470 non-null int64\n",
      "WorkLifeBalance             1470 non-null int64\n",
      "YearsAtCompany              1470 non-null int64\n",
      "YearsInCurrentRole          1470 non-null int64\n",
      "YearsSinceLastPromotion     1470 non-null int64\n",
      "YearsWithCurrManager        1470 non-null int64\n",
      "dtypes: int64(24), object(8)\n",
      "memory usage: 367.6+ KB\n"
     ]
    }
   ],
   "source": [
    "ibm.info()"
   ]
  },
  {
   "cell_type": "markdown",
   "metadata": {},
   "source": [
    "##### We are trying to change all the categorical values into Numerical Values."
   ]
  },
  {
   "cell_type": "markdown",
   "metadata": {},
   "source": [
    "##### Attrition"
   ]
  },
  {
   "cell_type": "code",
   "execution_count": 102,
   "metadata": {
    "scrolled": true
   },
   "outputs": [
    {
     "data": {
      "text/plain": [
       "0    1\n",
       "1    0\n",
       "Name: Attrition, dtype: int64"
      ]
     },
     "execution_count": 102,
     "metadata": {},
     "output_type": "execute_result"
    }
   ],
   "source": [
    "\n",
    "def Attr(x):\n",
    "    if( x == 'Yes'):\n",
    "        return 1\n",
    "    else:\n",
    "        return 0\n",
    "\n",
    "\n",
    "ibm['Attrition']=ibm['Attrition'].apply(Attr)\n",
    "\n",
    "ibm.Attrition.head(2)"
   ]
  },
  {
   "cell_type": "markdown",
   "metadata": {},
   "source": [
    "##### Business Travel"
   ]
  },
  {
   "cell_type": "code",
   "execution_count": 103,
   "metadata": {},
   "outputs": [
    {
     "data": {
      "text/plain": [
       "array(['Travel_Rarely', 'Travel_Frequently', 'Non-Travel'], dtype=object)"
      ]
     },
     "execution_count": 103,
     "metadata": {},
     "output_type": "execute_result"
    }
   ],
   "source": [
    "ibm.BusinessTravel.unique()"
   ]
  },
  {
   "cell_type": "code",
   "execution_count": 104,
   "metadata": {},
   "outputs": [
    {
     "data": {
      "text/plain": [
       "array([2, 3, 1], dtype=int64)"
      ]
     },
     "execution_count": 104,
     "metadata": {},
     "output_type": "execute_result"
    }
   ],
   "source": [
    "def BussTra(x):\n",
    "    if ( x == 'Non-Travel'):\n",
    "        return 1\n",
    "    elif( x == 'Travel_Rarely'):\n",
    "        return 2\n",
    "    else :\n",
    "        return 3\n",
    "ibm['BusinessTravel']=ibm['BusinessTravel'].apply(BussTra)\n",
    "ibm.BusinessTravel.unique()\n",
    "\n",
    "#BussTra('Travel_Frequently')"
   ]
  },
  {
   "cell_type": "markdown",
   "metadata": {},
   "source": [
    "##### Department"
   ]
  },
  {
   "cell_type": "code",
   "execution_count": 105,
   "metadata": {},
   "outputs": [
    {
     "data": {
      "text/plain": [
       "array(['Sales', 'Research & Development', 'Human Resources'], dtype=object)"
      ]
     },
     "execution_count": 105,
     "metadata": {},
     "output_type": "execute_result"
    }
   ],
   "source": [
    "ibm.Department.unique()"
   ]
  },
  {
   "cell_type": "code",
   "execution_count": 106,
   "metadata": {},
   "outputs": [
    {
     "data": {
      "text/plain": [
       "array([1, 2, 3], dtype=int64)"
      ]
     },
     "execution_count": 106,
     "metadata": {},
     "output_type": "execute_result"
    }
   ],
   "source": [
    "def Dept(x):\n",
    "    if (x == 'Sales'):\n",
    "        return 1\n",
    "    elif ( x == 'Research & Development'):\n",
    "        return 2\n",
    "    else :\n",
    "        return 3\n",
    "ibm['Department']=ibm['Department'].apply(Dept)\n",
    "ibm.Department.unique()"
   ]
  },
  {
   "cell_type": "markdown",
   "metadata": {},
   "source": [
    "##### EducationField"
   ]
  },
  {
   "cell_type": "code",
   "execution_count": 107,
   "metadata": {},
   "outputs": [
    {
     "data": {
      "text/plain": [
       "Life Sciences       606\n",
       "Medical             464\n",
       "Marketing           159\n",
       "Technical Degree    132\n",
       "Other                82\n",
       "Human Resources      27\n",
       "Name: EducationField, dtype: int64"
      ]
     },
     "execution_count": 107,
     "metadata": {},
     "output_type": "execute_result"
    }
   ],
   "source": [
    "ibm.EducationField.value_counts()"
   ]
  },
  {
   "cell_type": "code",
   "execution_count": 108,
   "metadata": {},
   "outputs": [
    {
     "data": {
      "text/plain": [
       "2    606\n",
       "3    464\n",
       "4    159\n",
       "5    132\n",
       "6     82\n",
       "1     27\n",
       "Name: EducationField, dtype: int64"
      ]
     },
     "execution_count": 108,
     "metadata": {},
     "output_type": "execute_result"
    }
   ],
   "source": [
    "def EduFld(x):\n",
    "    if ( x == 'Human Resources'):\n",
    "        return 1\n",
    "    elif(x=='Life Sciences'):\n",
    "        return 2\n",
    "    elif(x=='Medical'):\n",
    "        return 3\n",
    "    elif(x=='Marketing'):\n",
    "        return 4\n",
    "    elif (x=='Technical Degree'):\n",
    "        return 5\n",
    "    else:\n",
    "        return 6\n",
    "ibm['EducationField']=ibm['EducationField'].apply(EduFld)\n",
    "ibm.EducationField.value_counts()      "
   ]
  },
  {
   "cell_type": "markdown",
   "metadata": {},
   "source": [
    "##### Gender"
   ]
  },
  {
   "cell_type": "code",
   "execution_count": 109,
   "metadata": {},
   "outputs": [
    {
     "data": {
      "text/plain": [
       "Male      882\n",
       "Female    588\n",
       "Name: Gender, dtype: int64"
      ]
     },
     "execution_count": 109,
     "metadata": {},
     "output_type": "execute_result"
    }
   ],
   "source": [
    "ibm.Gender.value_counts()"
   ]
  },
  {
   "cell_type": "code",
   "execution_count": 110,
   "metadata": {},
   "outputs": [
    {
     "data": {
      "text/plain": [
       "1    882\n",
       "2    588\n",
       "Name: Gender, dtype: int64"
      ]
     },
     "execution_count": 110,
     "metadata": {},
     "output_type": "execute_result"
    }
   ],
   "source": [
    "def Gen(x):\n",
    "    if (x== 'Male'):\n",
    "        return 1\n",
    "    else:\n",
    "        return 2\n",
    "ibm['Gender']=ibm['Gender'].apply(Gen)\n",
    "ibm.Gender.value_counts()"
   ]
  },
  {
   "cell_type": "markdown",
   "metadata": {},
   "source": [
    "##### JobRole"
   ]
  },
  {
   "cell_type": "code",
   "execution_count": 111,
   "metadata": {},
   "outputs": [
    {
     "data": {
      "text/plain": [
       "Sales Executive              326\n",
       "Research Scientist           292\n",
       "Laboratory Technician        259\n",
       "Manufacturing Director       145\n",
       "Healthcare Representative    131\n",
       "Manager                      102\n",
       "Sales Representative          83\n",
       "Research Director             80\n",
       "Human Resources               52\n",
       "Name: JobRole, dtype: int64"
      ]
     },
     "execution_count": 111,
     "metadata": {},
     "output_type": "execute_result"
    }
   ],
   "source": [
    "ibm.JobRole.value_counts()"
   ]
  },
  {
   "cell_type": "code",
   "execution_count": 112,
   "metadata": {},
   "outputs": [
    {
     "data": {
      "text/plain": [
       "1    326\n",
       "2    292\n",
       "3    259\n",
       "4    145\n",
       "5    131\n",
       "6    102\n",
       "7     83\n",
       "8     80\n",
       "9     52\n",
       "Name: JobRole, dtype: int64"
      ]
     },
     "execution_count": 112,
     "metadata": {},
     "output_type": "execute_result"
    }
   ],
   "source": [
    "def jobRole(x):\n",
    "    if ( x == 'Sales Executive'):\n",
    "        return 1\n",
    "    elif(x=='Research Scientist'):\n",
    "        return 2\n",
    "    elif (x=='Laboratory Technician'):\n",
    "        return 3\n",
    "    elif (x =='Manufacturing Director'):\n",
    "        return 4\n",
    "    elif(x == 'Healthcare Representative'):\n",
    "        return 5\n",
    "    elif (x =='Manager'):\n",
    "        return 6\n",
    "    elif( x == 'Sales Representative'):\n",
    "        return 7\n",
    "    elif ( x == 'Research Director'):\n",
    "        return 8\n",
    "    else:\n",
    "        return 9\n",
    "ibm['JobRole']=ibm['JobRole'].apply(jobRole)\n",
    "ibm.JobRole.value_counts()"
   ]
  },
  {
   "cell_type": "markdown",
   "metadata": {},
   "source": [
    "##### MaritalStatus"
   ]
  },
  {
   "cell_type": "code",
   "execution_count": 113,
   "metadata": {},
   "outputs": [
    {
     "data": {
      "text/plain": [
       "Married     673\n",
       "Single      470\n",
       "Divorced    327\n",
       "Name: MaritalStatus, dtype: int64"
      ]
     },
     "execution_count": 113,
     "metadata": {},
     "output_type": "execute_result"
    }
   ],
   "source": [
    "ibm['MaritalStatus'].value_counts()"
   ]
  },
  {
   "cell_type": "code",
   "execution_count": 114,
   "metadata": {
    "scrolled": true
   },
   "outputs": [
    {
     "data": {
      "text/plain": [
       "2    673\n",
       "1    470\n",
       "3    327\n",
       "Name: MaritalStatus, dtype: int64"
      ]
     },
     "execution_count": 114,
     "metadata": {},
     "output_type": "execute_result"
    }
   ],
   "source": [
    "def mrg(x):\n",
    "    if (x == 'Married'):\n",
    "        return 2\n",
    "    elif ( x == 'Single'):\n",
    "        return 1\n",
    "    else:\n",
    "        return 3\n",
    "\n",
    "ibm['MaritalStatus']=ibm['MaritalStatus'].apply(mrg)\n",
    "ibm['MaritalStatus'].value_counts()"
   ]
  },
  {
   "cell_type": "markdown",
   "metadata": {},
   "source": [
    "##### OverTime"
   ]
  },
  {
   "cell_type": "code",
   "execution_count": 115,
   "metadata": {},
   "outputs": [
    {
     "data": {
      "text/plain": [
       "No     1054\n",
       "Yes     416\n",
       "Name: OverTime, dtype: int64"
      ]
     },
     "execution_count": 115,
     "metadata": {},
     "output_type": "execute_result"
    }
   ],
   "source": [
    "ibm.OverTime.value_counts()"
   ]
  },
  {
   "cell_type": "markdown",
   "metadata": {},
   "source": [
    "#### Since Attrition and Overtime has same categories (yes and no), we are reusing the same function"
   ]
  },
  {
   "cell_type": "code",
   "execution_count": 116,
   "metadata": {},
   "outputs": [
    {
     "data": {
      "text/plain": [
       "0    1054\n",
       "1     416\n",
       "Name: OverTime, dtype: int64"
      ]
     },
     "execution_count": 116,
     "metadata": {},
     "output_type": "execute_result"
    }
   ],
   "source": [
    "ibm['OverTime']=ibm['OverTime'].apply(Attr)\n",
    "ibm.OverTime.value_counts()"
   ]
  },
  {
   "cell_type": "markdown",
   "metadata": {},
   "source": [
    "### We have converted all the categorical values into Numerical values"
   ]
  },
  {
   "cell_type": "markdown",
   "metadata": {},
   "source": [
    "### Feature Selection"
   ]
  },
  {
   "cell_type": "code",
   "execution_count": 118,
   "metadata": {
    "scrolled": true
   },
   "outputs": [
    {
     "name": "stdout",
     "output_type": "stream",
     "text": [
      "Using OLS model, features selected are \n",
      " ['Age', 'BusinessTravel', 'Department', 'DistanceFromHome', 'EnvironmentSatisfaction', 'Gender', 'JobInvolvement', 'JobLevel', 'JobRole', 'JobSatisfaction', 'MaritalStatus', 'NumCompaniesWorked', 'OverTime', 'RelationshipSatisfaction', 'WorkLifeBalance', 'YearsInCurrentRole', 'YearsSinceLastPromotion']\n"
     ]
    }
   ],
   "source": [
    "x=ibm.drop(['Attrition'],axis=1)\n",
    "y=ibm['Attrition'].values\n",
    "cols=list(x.columns)\n",
    "\n",
    "while(len(cols)>0):\n",
    "    p=[]\n",
    "    x1=x[cols]\n",
    "    x1=sm.add_constant(x1)\n",
    "    li=sm.OLS(y,x1).fit()\n",
    "    p=pd.Series(li.pvalues.values[1:],index=cols)\n",
    "    p_max=max(p) #max pval\n",
    "    feature_pmax=p.idxmax() # feature name of max pval\n",
    "    if(p_max>0.05):\n",
    "        cols.remove(feature_pmax)\n",
    "        \n",
    "    else:\n",
    "        break\n",
    "selected_cols=cols\n",
    "print('Using OLS model, features selected are \\n', selected_cols)"
   ]
  },
  {
   "cell_type": "code",
   "execution_count": 119,
   "metadata": {},
   "outputs": [
    {
     "data": {
      "text/html": [
       "<div>\n",
       "<style scoped>\n",
       "    .dataframe tbody tr th:only-of-type {\n",
       "        vertical-align: middle;\n",
       "    }\n",
       "\n",
       "    .dataframe tbody tr th {\n",
       "        vertical-align: top;\n",
       "    }\n",
       "\n",
       "    .dataframe thead th {\n",
       "        text-align: right;\n",
       "    }\n",
       "</style>\n",
       "<table border=\"1\" class=\"dataframe\">\n",
       "  <thead>\n",
       "    <tr style=\"text-align: right;\">\n",
       "      <th></th>\n",
       "      <th>Age</th>\n",
       "      <th>BusinessTravel</th>\n",
       "      <th>Department</th>\n",
       "      <th>DistanceFromHome</th>\n",
       "      <th>EnvironmentSatisfaction</th>\n",
       "      <th>Gender</th>\n",
       "      <th>JobInvolvement</th>\n",
       "      <th>JobLevel</th>\n",
       "      <th>JobRole</th>\n",
       "      <th>JobSatisfaction</th>\n",
       "      <th>MaritalStatus</th>\n",
       "      <th>NumCompaniesWorked</th>\n",
       "      <th>OverTime</th>\n",
       "      <th>RelationshipSatisfaction</th>\n",
       "      <th>WorkLifeBalance</th>\n",
       "      <th>YearsInCurrentRole</th>\n",
       "      <th>YearsSinceLastPromotion</th>\n",
       "    </tr>\n",
       "  </thead>\n",
       "  <tbody>\n",
       "    <tr>\n",
       "      <th>0</th>\n",
       "      <td>41</td>\n",
       "      <td>2</td>\n",
       "      <td>1</td>\n",
       "      <td>1</td>\n",
       "      <td>2</td>\n",
       "      <td>2</td>\n",
       "      <td>3</td>\n",
       "      <td>2</td>\n",
       "      <td>1</td>\n",
       "      <td>4</td>\n",
       "      <td>1</td>\n",
       "      <td>8</td>\n",
       "      <td>1</td>\n",
       "      <td>1</td>\n",
       "      <td>1</td>\n",
       "      <td>4</td>\n",
       "      <td>0</td>\n",
       "    </tr>\n",
       "    <tr>\n",
       "      <th>1</th>\n",
       "      <td>49</td>\n",
       "      <td>3</td>\n",
       "      <td>2</td>\n",
       "      <td>8</td>\n",
       "      <td>3</td>\n",
       "      <td>1</td>\n",
       "      <td>2</td>\n",
       "      <td>2</td>\n",
       "      <td>2</td>\n",
       "      <td>2</td>\n",
       "      <td>2</td>\n",
       "      <td>1</td>\n",
       "      <td>0</td>\n",
       "      <td>4</td>\n",
       "      <td>3</td>\n",
       "      <td>7</td>\n",
       "      <td>1</td>\n",
       "    </tr>\n",
       "  </tbody>\n",
       "</table>\n",
       "</div>"
      ],
      "text/plain": [
       "   Age  BusinessTravel  Department  DistanceFromHome  EnvironmentSatisfaction  \\\n",
       "0   41               2           1                 1                        2   \n",
       "1   49               3           2                 8                        3   \n",
       "\n",
       "   Gender  JobInvolvement  JobLevel  JobRole  JobSatisfaction  MaritalStatus  \\\n",
       "0       2               3         2        1                4              1   \n",
       "1       1               2         2        2                2              2   \n",
       "\n",
       "   NumCompaniesWorked  OverTime  RelationshipSatisfaction  WorkLifeBalance  \\\n",
       "0                   8         1                         1                1   \n",
       "1                   1         0                         4                3   \n",
       "\n",
       "   YearsInCurrentRole  YearsSinceLastPromotion  \n",
       "0                   4                        0  \n",
       "1                   7                        1  "
      ]
     },
     "execution_count": 119,
     "metadata": {},
     "output_type": "execute_result"
    }
   ],
   "source": [
    "ibm_feature1=ibm[selected_cols]\n",
    "ibm_feature1.head(2)"
   ]
  },
  {
   "cell_type": "code",
   "execution_count": 120,
   "metadata": {
    "scrolled": true
   },
   "outputs": [
    {
     "data": {
      "text/html": [
       "<div>\n",
       "<style scoped>\n",
       "    .dataframe tbody tr th:only-of-type {\n",
       "        vertical-align: middle;\n",
       "    }\n",
       "\n",
       "    .dataframe tbody tr th {\n",
       "        vertical-align: top;\n",
       "    }\n",
       "\n",
       "    .dataframe thead th {\n",
       "        text-align: right;\n",
       "    }\n",
       "</style>\n",
       "<table border=\"1\" class=\"dataframe\">\n",
       "  <thead>\n",
       "    <tr style=\"text-align: right;\">\n",
       "      <th></th>\n",
       "      <th>const</th>\n",
       "      <th>Age</th>\n",
       "      <th>BusinessTravel</th>\n",
       "      <th>Department</th>\n",
       "      <th>DistanceFromHome</th>\n",
       "      <th>EnvironmentSatisfaction</th>\n",
       "      <th>Gender</th>\n",
       "      <th>JobInvolvement</th>\n",
       "      <th>JobLevel</th>\n",
       "      <th>JobRole</th>\n",
       "      <th>JobSatisfaction</th>\n",
       "      <th>MaritalStatus</th>\n",
       "      <th>NumCompaniesWorked</th>\n",
       "      <th>OverTime</th>\n",
       "      <th>RelationshipSatisfaction</th>\n",
       "      <th>WorkLifeBalance</th>\n",
       "      <th>YearsInCurrentRole</th>\n",
       "      <th>YearsSinceLastPromotion</th>\n",
       "    </tr>\n",
       "  </thead>\n",
       "  <tbody>\n",
       "    <tr>\n",
       "      <th>0</th>\n",
       "      <td>1.0</td>\n",
       "      <td>41</td>\n",
       "      <td>2</td>\n",
       "      <td>1</td>\n",
       "      <td>1</td>\n",
       "      <td>2</td>\n",
       "      <td>2</td>\n",
       "      <td>3</td>\n",
       "      <td>2</td>\n",
       "      <td>1</td>\n",
       "      <td>4</td>\n",
       "      <td>1</td>\n",
       "      <td>8</td>\n",
       "      <td>1</td>\n",
       "      <td>1</td>\n",
       "      <td>1</td>\n",
       "      <td>4</td>\n",
       "      <td>0</td>\n",
       "    </tr>\n",
       "    <tr>\n",
       "      <th>1</th>\n",
       "      <td>1.0</td>\n",
       "      <td>49</td>\n",
       "      <td>3</td>\n",
       "      <td>2</td>\n",
       "      <td>8</td>\n",
       "      <td>3</td>\n",
       "      <td>1</td>\n",
       "      <td>2</td>\n",
       "      <td>2</td>\n",
       "      <td>2</td>\n",
       "      <td>2</td>\n",
       "      <td>2</td>\n",
       "      <td>1</td>\n",
       "      <td>0</td>\n",
       "      <td>4</td>\n",
       "      <td>3</td>\n",
       "      <td>7</td>\n",
       "      <td>1</td>\n",
       "    </tr>\n",
       "    <tr>\n",
       "      <th>2</th>\n",
       "      <td>1.0</td>\n",
       "      <td>37</td>\n",
       "      <td>2</td>\n",
       "      <td>2</td>\n",
       "      <td>2</td>\n",
       "      <td>4</td>\n",
       "      <td>1</td>\n",
       "      <td>2</td>\n",
       "      <td>1</td>\n",
       "      <td>3</td>\n",
       "      <td>3</td>\n",
       "      <td>1</td>\n",
       "      <td>6</td>\n",
       "      <td>1</td>\n",
       "      <td>2</td>\n",
       "      <td>3</td>\n",
       "      <td>0</td>\n",
       "      <td>0</td>\n",
       "    </tr>\n",
       "    <tr>\n",
       "      <th>3</th>\n",
       "      <td>1.0</td>\n",
       "      <td>33</td>\n",
       "      <td>3</td>\n",
       "      <td>2</td>\n",
       "      <td>3</td>\n",
       "      <td>4</td>\n",
       "      <td>2</td>\n",
       "      <td>3</td>\n",
       "      <td>1</td>\n",
       "      <td>2</td>\n",
       "      <td>3</td>\n",
       "      <td>2</td>\n",
       "      <td>1</td>\n",
       "      <td>1</td>\n",
       "      <td>3</td>\n",
       "      <td>3</td>\n",
       "      <td>7</td>\n",
       "      <td>3</td>\n",
       "    </tr>\n",
       "    <tr>\n",
       "      <th>4</th>\n",
       "      <td>1.0</td>\n",
       "      <td>27</td>\n",
       "      <td>2</td>\n",
       "      <td>2</td>\n",
       "      <td>2</td>\n",
       "      <td>1</td>\n",
       "      <td>1</td>\n",
       "      <td>3</td>\n",
       "      <td>1</td>\n",
       "      <td>3</td>\n",
       "      <td>2</td>\n",
       "      <td>2</td>\n",
       "      <td>9</td>\n",
       "      <td>0</td>\n",
       "      <td>4</td>\n",
       "      <td>3</td>\n",
       "      <td>2</td>\n",
       "      <td>2</td>\n",
       "    </tr>\n",
       "  </tbody>\n",
       "</table>\n",
       "</div>"
      ],
      "text/plain": [
       "   const  Age  BusinessTravel  Department  DistanceFromHome  \\\n",
       "0    1.0   41               2           1                 1   \n",
       "1    1.0   49               3           2                 8   \n",
       "2    1.0   37               2           2                 2   \n",
       "3    1.0   33               3           2                 3   \n",
       "4    1.0   27               2           2                 2   \n",
       "\n",
       "   EnvironmentSatisfaction  Gender  JobInvolvement  JobLevel  JobRole  \\\n",
       "0                        2       2               3         2        1   \n",
       "1                        3       1               2         2        2   \n",
       "2                        4       1               2         1        3   \n",
       "3                        4       2               3         1        2   \n",
       "4                        1       1               3         1        3   \n",
       "\n",
       "   JobSatisfaction  MaritalStatus  NumCompaniesWorked  OverTime  \\\n",
       "0                4              1                   8         1   \n",
       "1                2              2                   1         0   \n",
       "2                3              1                   6         1   \n",
       "3                3              2                   1         1   \n",
       "4                2              2                   9         0   \n",
       "\n",
       "   RelationshipSatisfaction  WorkLifeBalance  YearsInCurrentRole  \\\n",
       "0                         1                1                   4   \n",
       "1                         4                3                   7   \n",
       "2                         2                3                   0   \n",
       "3                         3                3                   7   \n",
       "4                         4                3                   2   \n",
       "\n",
       "   YearsSinceLastPromotion  \n",
       "0                        0  \n",
       "1                        1  \n",
       "2                        0  \n",
       "3                        3  \n",
       "4                        2  "
      ]
     },
     "execution_count": 120,
     "metadata": {},
     "output_type": "execute_result"
    }
   ],
   "source": [
    "\n",
    "ibm_constant = add_constant(ibm_feature1)\n",
    "ibm_constant.head()"
   ]
  },
  {
   "cell_type": "markdown",
   "metadata": {},
   "source": [
    "### Logistic Regression"
   ]
  },
  {
   "cell_type": "code",
   "execution_count": 503,
   "metadata": {},
   "outputs": [],
   "source": [
    "x=ibm_feature1\n",
    "y=ibm['Attrition'].values\n",
    "from sklearn.model_selection import train_test_split\n",
    "x_train,x_test,y_train,y_test=train_test_split(x,y,test_size=.20,random_state=5)\n",
    "logreg=LogisticRegression()\n",
    "logreg.fit(x_train,y_train)\n",
    "y_pred=logreg.predict(x_test)"
   ]
  },
  {
   "cell_type": "code",
   "execution_count": 510,
   "metadata": {},
   "outputs": [
    {
     "name": "stdout",
     "output_type": "stream",
     "text": [
      "\n",
      "Accuracy of the model using Logistic Regression without any imbalance data correction technique is  0.8639455782312925\n",
      "-----------------------------------------------------------------------------------------------------------------------------\n",
      "\n",
      "F1 score using logistic regression without any imbalance data correction technique 0.42857142857142855\n",
      "-----------------------------------------------------------------------------------------------------------------------------\n",
      "\n",
      "Recall score using Logistic Regression without any imbalance data correction technique 0.30612244897959184\n",
      "-----------------------------------------------------------------------------------------------------------------------------\n",
      "\n",
      "Classification report using logistic regression without any imbalance data correction technique\n",
      "               precision    recall  f1-score   support\n",
      "\n",
      "           0       0.88      0.98      0.92       245\n",
      "           1       0.71      0.31      0.43        49\n",
      "\n",
      "   micro avg       0.86      0.86      0.86       294\n",
      "   macro avg       0.79      0.64      0.68       294\n",
      "weighted avg       0.85      0.86      0.84       294\n",
      "\n"
     ]
    }
   ],
   "source": [
    "import sklearn\n",
    "print('\\nAccuracy of the model using Logistic Regression without any imbalance data correction technique is ' ,sklearn.metrics.accuracy_score(y_test,y_pred))\n",
    "print('-----------------------------------------------------------------------------------------------------------------------------')\n",
    "print('\\nF1 score using logistic regression without any imbalance data correction technique',f1_score(y_test, y_pred))\n",
    "print('-----------------------------------------------------------------------------------------------------------------------------')\n",
    "print('\\nRecall score using Logistic Regression without any imbalance data correction technique',recall_score(y_test, y_pred))\n",
    "print('-----------------------------------------------------------------------------------------------------------------------------')\n",
    "print('\\nClassification report using logistic regression without any imbalance data correction technique\\n',classification_report(y_test, y_pred))"
   ]
  },
  {
   "cell_type": "markdown",
   "metadata": {},
   "source": [
    "#### Confusion Matrix"
   ]
  },
  {
   "cell_type": "code",
   "execution_count": 336,
   "metadata": {},
   "outputs": [
    {
     "data": {
      "text/plain": [
       "<matplotlib.axes._subplots.AxesSubplot at 0x24070b2ef98>"
      ]
     },
     "execution_count": 336,
     "metadata": {},
     "output_type": "execute_result"
    },
    {
     "data": {
      "image/png": "[encoded data removed]",
      "text/plain": [
       "<Figure size 576x360 with 2 Axes>"
      ]
     },
     "metadata": {
      "needs_background": "light"
     },
     "output_type": "display_data"
    }
   ],
   "source": [
    "\n",
    "cm=confusion_matrix(y_test,y_pred)\n",
    "conf_matrix=pd.DataFrame(data=cm,columns=['Predicted:0','Predicted:1'],index=['Actual:0','Actual:1'])\n",
    "plt.figure(figsize = (8,5))\n",
    "sns.heatmap(conf_matrix, annot=True,fmt='d',cmap=\"YlGnBu\")"
   ]
  },
  {
   "cell_type": "markdown",
   "metadata": {},
   "source": [
    "The confusion matrix shows 658+4 = 662 correct predictions and 88+1= 89 incorrect ones.\n",
    "\n",
    "**<font color=DarkBlue>True Positives:**  17<font>\n",
    "\n",
    "**<font color=DarkBlue>True Negatives:**  239<font>\n",
    "\n",
    "**<font color=DarkBlue>False Positives:** 6 (*Type I error*)<font>\n",
    "\n",
    "**<font color=DarkBlue>False Negatives:** 32 ( *Type II error*)<font>"
   ]
  },
  {
   "cell_type": "code",
   "execution_count": 337,
   "metadata": {},
   "outputs": [],
   "source": [
    "TN=cm[0,0]\n",
    "TP=cm[1,1]\n",
    "FN=cm[1,0]\n",
    "FP=cm[0,1]\n",
    "sensitivity=TP/float(TP+FN)\n",
    "specificity=TN/float(TN+FP)"
   ]
  },
  {
   "cell_type": "markdown",
   "metadata": {},
   "source": [
    "### <font color=CornflowerBlue>Model Evaluation - Statistics<font>"
   ]
  },
  {
   "cell_type": "code",
   "execution_count": 338,
   "metadata": {},
   "outputs": [
    {
     "name": "stdout",
     "output_type": "stream",
     "text": [
      "The acuuracy of the model = TP+TN / (TP+TN+FP+FN) =  0.8673469387755102 \n",
      "\n",
      " The Miss-classification = 1-Accuracy =  0.13265306122448983 \n",
      "\n",
      " Sensitivity or True Positive Rate = TP / (TP+FN) =  0.32653061224489793 \n",
      "\n",
      " Specificity or True Negative Rate = TN / (TN+FP) =  0.9755102040816327 \n",
      "\n",
      " Positive Predictive value = TP / (TP+FP) =  0.7272727272727273 \n",
      "\n",
      " Negative predictive Value = TN / (TN+FN) =  0.8786764705882353 \n",
      "\n",
      " Positive Likelihood Ratio = Sensitivity / (1-Specificity) =  13.333333333333353 \n",
      "\n",
      " Negative likelihood Ratio = (1-Sensitivity) / Specificity =  0.690376569037657\n"
     ]
    }
   ],
   "source": [
    "print('The acuuracy of the model = TP+TN / (TP+TN+FP+FN) = ',(TP+TN)/float(TP+TN+FP+FN),'\\n\\n',\n",
    "\n",
    "'The Miss-classification = 1-Accuracy = ',1-((TP+TN)/float(TP+TN+FP+FN)),'\\n\\n',\n",
    "\n",
    "'Sensitivity or True Positive Rate = TP / (TP+FN) = ',TP/float(TP+FN),'\\n\\n',\n",
    "\n",
    "'Specificity or True Negative Rate = TN / (TN+FP) = ',TN/float(TN+FP),'\\n\\n',\n",
    "\n",
    "'Positive Predictive value = TP / (TP+FP) = ',TP/float(TP+FP),'\\n\\n',\n",
    "\n",
    "'Negative predictive Value = TN / (TN+FN) = ',TN/float(TN+FN),'\\n\\n',\n",
    "\n",
    "'Positive Likelihood Ratio = Sensitivity / (1-Specificity) = ',sensitivity/(1-specificity),'\\n\\n',\n",
    "\n",
    "'Negative likelihood Ratio = (1-Sensitivity) / Specificity = ',(1-sensitivity)/specificity)\n"
   ]
  },
  {
   "cell_type": "markdown",
   "metadata": {},
   "source": [
    "### Decision Tree"
   ]
  },
  {
   "cell_type": "code",
   "execution_count": 339,
   "metadata": {},
   "outputs": [],
   "source": [
    "import numpy as np\n",
    "import pandas as pd\n",
    "from sklearn.model_selection import train_test_split\n",
    "from sklearn.tree import DecisionTreeClassifier\n",
    "from sklearn import tree\n",
    "\n",
    "#metrics\n",
    "from statistics import mean\n",
    "from sklearn.metrics import accuracy_score \n",
    "from sklearn.metrics import explained_variance_score as evs\n",
    "import seaborn as sns\n",
    "import matplotlib.pyplot as plt\n",
    "from sklearn.metrics import classification_report\n",
    "from sklearn.preprocessing import LabelEncoder\n",
    "import os"
   ]
  },
  {
   "cell_type": "markdown",
   "metadata": {},
   "source": [
    "#### Gini Criterion"
   ]
  },
  {
   "cell_type": "code",
   "execution_count": 514,
   "metadata": {},
   "outputs": [
    {
     "name": "stdout",
     "output_type": "stream",
     "text": [
      "Accuracy Score using Decision Tree - gini:  0.8605442176870748\n",
      "-----------------------------------------------------------------------------------------------------------------------------\n",
      "F1 score using Decision Tree - Gini without any technique 0.40579710144927533\n",
      "-----------------------------------------------------------------------------------------------------------------------------\n",
      "Recall score using Decision Tree - Gini without any technique 0.2857142857142857\n",
      "-----------------------------------------------------------------------------------------------------------------------------\n",
      "Classification Report for Decision tree - gini\n",
      "              precision    recall  f1-score   support\n",
      "\n",
      "           0       0.87      0.98      0.92       245\n",
      "           1       0.70      0.29      0.41        49\n",
      "\n",
      "   micro avg       0.86      0.86      0.86       294\n",
      "   macro avg       0.79      0.63      0.66       294\n",
      "weighted avg       0.84      0.86      0.84       294\n",
      "\n"
     ]
    }
   ],
   "source": [
    "giniDecisionTree = DecisionTreeClassifier(criterion='gini',random_state = 100,max_depth=3, min_samples_leaf=5)\n",
    "\n",
    "giniDecisionTree.fit(x_train, y_train)\n",
    "giniPred = giniDecisionTree.predict(x_test)\n",
    "print('Accuracy Score using Decision Tree - gini: ',accuracy_score(y_test, giniPred))\n",
    "print('-----------------------------------------------------------------------------------------------------------------------------')\n",
    "# f1 score\n",
    "print('F1 score using Decision Tree - Gini without any technique',f1_score(y_test, giniPred))\n",
    "print('-----------------------------------------------------------------------------------------------------------------------------')\n",
    "print('Recall score using Decision Tree - Gini without any technique',recall_score(y_test, giniPred))\n",
    "print('-----------------------------------------------------------------------------------------------------------------------------')\n",
    "print('Classification Report for Decision tree - gini')\n",
    "print(classification_report(y_test, giniPred))"
   ]
  },
  {
   "cell_type": "markdown",
   "metadata": {},
   "source": [
    "### Entropy Criterion"
   ]
  },
  {
   "cell_type": "code",
   "execution_count": 516,
   "metadata": {},
   "outputs": [
    {
     "name": "stdout",
     "output_type": "stream",
     "text": [
      "Accuracy Score using Decision tree - entropy:  0.8537414965986394\n",
      "---------------------------------------------------------------------------------------------------------------\n",
      "\n",
      "F1 score using Decision tree - Entropy without any technique 0.2456140350877193\n",
      "---------------------------------------------------------------------------------------------------------------\n",
      "\n",
      "Recall score using  Decision tree - Entropy without any technique 0.14285714285714285\n",
      "---------------------------------------------------------------------------------------------------------------\n",
      "Classification report using Decision tree - Entropy without any technique\n",
      "               precision    recall  f1-score   support\n",
      "\n",
      "           0       0.85      1.00      0.92       245\n",
      "           1       0.88      0.14      0.25        49\n",
      "\n",
      "   micro avg       0.85      0.85      0.85       294\n",
      "   macro avg       0.86      0.57      0.58       294\n",
      "weighted avg       0.86      0.85      0.81       294\n",
      "\n"
     ]
    }
   ],
   "source": [
    "entropyDecisionTree = DecisionTreeClassifier(criterion='entropy',random_state = 100,max_depth=3, min_samples_leaf=5)\n",
    "entropyDecisionTree.fit(x_train, y_train)\n",
    "entropyPred = entropyDecisionTree.predict(x_test)\n",
    "print('Accuracy Score using Decision tree - entropy: ',accuracy_score(y_test, entropyPred))\n",
    "print('---------------------------------------------------------------------------------------------------------------')\n",
    "print('\\nF1 score using Decision tree - Entropy without any technique',f1_score(y_test, entropyPred))\n",
    "print('---------------------------------------------------------------------------------------------------------------')\n",
    "print('\\nRecall score using  Decision tree - Entropy without any technique',recall_score(y_test, entropyPred))\n",
    "print('---------------------------------------------------------------------------------------------------------------')\n",
    "print('Classification report using Decision tree - Entropy without any technique\\n',classification_report(y_test, entropyPred))"
   ]
  },
  {
   "cell_type": "markdown",
   "metadata": {},
   "source": [
    "### Random Forest"
   ]
  },
  {
   "cell_type": "code",
   "execution_count": 517,
   "metadata": {},
   "outputs": [],
   "source": [
    "import numpy as np\n",
    "import pandas as pd\n",
    "import seaborn as sns\n",
    "import matplotlib.pyplot as plt\n",
    "from sklearn.metrics import roc_curve, auc\n",
    "from sklearn.metrics import confusion_matrix\n",
    "from sklearn.metrics import classification_report\n",
    "from sklearn.model_selection import KFold, cross_val_score\n",
    "from sklearn.model_selection import train_test_split, GridSearchCV\n",
    "from sklearn.ensemble import RandomForestClassifier \n",
    "import warnings\n",
    "warnings.filterwarnings(\"ignore\")"
   ]
  },
  {
   "cell_type": "code",
   "execution_count": 518,
   "metadata": {},
   "outputs": [],
   "source": [
    "fit_rf = RandomForestClassifier(random_state=42)"
   ]
  },
  {
   "cell_type": "code",
   "execution_count": 519,
   "metadata": {
    "scrolled": true
   },
   "outputs": [
    {
     "name": "stdout",
     "output_type": "stream",
     "text": [
      "Best Parameters using grid search: \n",
      " {'bootstrap': False, 'criterion': 'entropy', 'max_depth': 12, 'max_features': 'auto'}\n",
      "Time taken in grid search:  14.99\n"
     ]
    }
   ],
   "source": [
    "import time\n",
    "import random\n",
    "np.random.seed(42)\n",
    "start = time.time()\n",
    "\n",
    "param_dist = {'max_depth': [10,11,12],'bootstrap': [True, False],'max_features': ['auto', 'sqrt', 'log2', None],'criterion': ['gini', 'entropy']}\n",
    "\n",
    "cv_rf = GridSearchCV(fit_rf, cv = 10,param_grid=param_dist, n_jobs = 3)\n",
    "\n",
    "cv_rf.fit(x_train,y_train)\n",
    "print('Best Parameters using grid search: \\n', cv_rf.best_params_)\n",
    "end = time.time()\n",
    "print('Time taken in grid search: {0: .2f}'.format(end - start))"
   ]
  },
  {
   "cell_type": "code",
   "execution_count": 520,
   "metadata": {},
   "outputs": [
    {
     "name": "stdout",
     "output_type": "stream",
     "text": [
      "Accuracy on training set without any techniques : 0.94\n",
      "Accuracy on test set: 0.83\n"
     ]
    }
   ],
   "source": [
    "from sklearn.svm import SVC\n",
    "\n",
    "svc = SVC()\n",
    "svc.fit(x_train, y_train)\n",
    "\n",
    "print(\"Accuracy on training set without any techniques : {:.2f}\".format(svc.score(x_train, y_train)))\n",
    "print(\"Accuracy on test set: {:.2f}\".format(svc.score(x_test, y_test)))"
   ]
  },
  {
   "cell_type": "markdown",
   "metadata": {},
   "source": [
    "#### ------------------------------------------------------------------------------------------------------------------------------------------------------------------------------------------------------------------"
   ]
  },
  {
   "cell_type": "markdown",
   "metadata": {},
   "source": [
    "### Let us find whether the data is balanced or not"
   ]
  },
  {
   "cell_type": "code",
   "execution_count": 522,
   "metadata": {},
   "outputs": [
    {
     "name": "stdout",
     "output_type": "stream",
     "text": [
      "Percentagee of attrtion is  16.122448979591837\n"
     ]
    }
   ],
   "source": [
    "## Attrition =1 percentage\n",
    "print('Percentagee of attrition is ',ibm[ibm['Attrition']==1]['Attrition'].count() / ibm['Attrition'].count() *100)"
   ]
  },
  {
   "cell_type": "code",
   "execution_count": 524,
   "metadata": {},
   "outputs": [
    {
     "name": "stdout",
     "output_type": "stream",
     "text": [
      "Percentagee of no-attrition is  83.87755102040816\n"
     ]
    }
   ],
   "source": [
    "## Attrition =0 percentage\n",
    "print('Percentagee of no-attrition is ',ibm[ibm['Attrition']==0]['Attrition'].count() / ibm['Attrition'].count() *100)"
   ]
  },
  {
   "cell_type": "markdown",
   "metadata": {},
   "source": [
    "### It is clear that the Attrition rate is less comapared to non-Attrition rate.\n",
    "\n",
    "#### So we can deal the data with imbalanced data techniques and check for the various accuracy scores"
   ]
  },
  {
   "cell_type": "markdown",
   "metadata": {},
   "source": [
    "### Oversampling"
   ]
  },
  {
   "cell_type": "code",
   "execution_count": 532,
   "metadata": {
    "scrolled": true
   },
   "outputs": [
    {
     "data": {
      "text/plain": [
       "1    933\n",
       "0    933\n",
       "Name: Attrition, dtype: int64"
      ]
     },
     "execution_count": 532,
     "metadata": {},
     "output_type": "execute_result"
    }
   ],
   "source": [
    "from sklearn.utils import resample\n",
    "\n",
    "# Separate input features and target\n",
    "y = ibm.Attrition\n",
    "X = ibm_feature1\n",
    "\n",
    "# setting up testing and training sets\n",
    "X_train, X_test, y_train, y_test = train_test_split(X, y, test_size=0.25, random_state=27)\n",
    "\n",
    "# concatenate our training data back together\n",
    "X = pd.concat([X_train, y_train], axis=1)\n",
    "\n",
    "# separate minority and majority classes\n",
    "no_attr = X[X.Attrition==0]\n",
    "attr = X[X.Attrition==1]\n",
    "\n",
    "# upsample minority\n",
    "attr_upsampled = resample(attr,\n",
    "                          replace=True, # sample with replacement\n",
    "                          n_samples=len(no_attr), # match number in majority class\n",
    "                          random_state=27) # reproducible results\n",
    "\n",
    "# combine majority and upsampled minority\n",
    "upsampled = pd.concat([no_attr, attr_upsampled])\n",
    "\n",
    "# check new class counts\n",
    "upsampled.Attrition.value_counts()"
   ]
  },
  {
   "cell_type": "markdown",
   "metadata": {},
   "source": [
    "##### Here we are increasing the minority class (attrition =1) to majority class"
   ]
  },
  {
   "cell_type": "markdown",
   "metadata": {},
   "source": [
    "##### Logistic Regression"
   ]
  },
  {
   "cell_type": "code",
   "execution_count": 533,
   "metadata": {},
   "outputs": [
    {
     "name": "stdout",
     "output_type": "stream",
     "text": [
      "Accuracy score using Logistic regression after over sampling 0.7744565217391305\n",
      "-----------------------------------------------------------------------------------------------------------\n",
      "F1 score using Logistic regression after over sampling 0.5561497326203209\n",
      "-----------------------------------------------------------------------------------------------------------\n",
      "Recall score using Logistic regression after over sampling 0.7647058823529411\n"
     ]
    }
   ],
   "source": [
    "\n",
    "y_train = upsampled.Attrition\n",
    "X_train = upsampled.drop('Attrition', axis=1)\n",
    "\n",
    "upsampled = LogisticRegression(solver='liblinear').fit(X_train, y_train)\n",
    "\n",
    "upsampled_pred = upsampled.predict(X_test)\n",
    "\n",
    "# Checking accuracy\n",
    "print('Accuracy score using Logistic regression after over sampling',accuracy_score(y_test, upsampled_pred))\n",
    "print('-----------------------------------------------------------------------------------------------------------')\n",
    "print('F1 score using Logistic regression after over sampling',f1_score(y_test, upsampled_pred) )\n",
    "print('-----------------------------------------------------------------------------------------------------------')\n",
    "print('Recall score using Logistic regression after over sampling', recall_score(y_test, upsampled_pred))\n"
   ]
  },
  {
   "cell_type": "markdown",
   "metadata": {},
   "source": [
    "##### Decision Tree"
   ]
  },
  {
   "cell_type": "code",
   "execution_count": 535,
   "metadata": {},
   "outputs": [
    {
     "name": "stdout",
     "output_type": "stream",
     "text": [
      "Accuracy score using Decision Tree - gini after over sampling 0.7853260869565217\n",
      "-----------------------------------------------------------------------------------------------------------\n",
      "F1 score using Decision Tree - gini after over sampling 0.43165467625899284\n",
      "-----------------------------------------------------------------------------------------------------------\n",
      "Recall score using Decision Tree - gini after over sampling 0.4411764705882353\n",
      "-----------------------------------------------------------------------------------------------------------\n",
      "Classification Report using Decision Tree - gini after over sampling\n",
      "               precision    recall  f1-score   support\n",
      "\n",
      "           0       0.87      0.86      0.87       300\n",
      "           1       0.42      0.44      0.43        68\n",
      "\n",
      "   micro avg       0.79      0.79      0.79       368\n",
      "   macro avg       0.65      0.65      0.65       368\n",
      "weighted avg       0.79      0.79      0.79       368\n",
      "\n"
     ]
    }
   ],
   "source": [
    "giniDecisionTree = DecisionTreeClassifier(criterion='gini',random_state = 100,max_depth=3, min_samples_leaf=5)\n",
    "\n",
    "giniDecisionTree.fit(X_train, y_train)\n",
    "giniPred = giniDecisionTree.predict(X_test)\n",
    "print('Accuracy score using Decision Tree - gini after over sampling',accuracy_score(y_test, giniPred))\n",
    "print('-----------------------------------------------------------------------------------------------------------')\n",
    "print('F1 score using Decision Tree - gini after over sampling',f1_score(y_test, giniPred))\n",
    "print('-----------------------------------------------------------------------------------------------------------')\n",
    "print('Recall score using Decision Tree - gini after over sampling',recall_score(y_test, giniPred))\n",
    "print('-----------------------------------------------------------------------------------------------------------')\n",
    "print('Classification Report using Decision Tree - gini after over sampling\\n',classification_report(y_test, giniPred))"
   ]
  },
  {
   "cell_type": "markdown",
   "metadata": {},
   "source": [
    "### Entropy Criterion"
   ]
  },
  {
   "cell_type": "code",
   "execution_count": 536,
   "metadata": {},
   "outputs": [
    {
     "name": "stdout",
     "output_type": "stream",
     "text": [
      "Accuracy score using Decision Tree - entropy after over sampling  0.7853260869565217\n",
      "-----------------------------------------------------------------------------------------------------------\n",
      "F1 score using using Decision Tree - entropy after over sampling  0.43165467625899284\n",
      "-----------------------------------------------------------------------------------------------------------\n",
      "Recall score using using Decision Tree - entropy after over sampling  0.4411764705882353\n",
      "------------------------------------------------------------------------------------------------------------\n",
      "Classification report using Decision tree - entropy after oversampling \n",
      "               precision    recall  f1-score   support\n",
      "\n",
      "           0       0.87      0.86      0.87       300\n",
      "           1       0.42      0.44      0.43        68\n",
      "\n",
      "   micro avg       0.79      0.79      0.79       368\n",
      "   macro avg       0.65      0.65      0.65       368\n",
      "weighted avg       0.79      0.79      0.79       368\n",
      "\n"
     ]
    }
   ],
   "source": [
    "entropyDecisionTree = DecisionTreeClassifier(criterion='entropy',random_state = 100,max_depth=3, min_samples_leaf=5)\n",
    "entropyDecisionTree.fit(X_train, y_train)\n",
    "entropyPred = entropyDecisionTree.predict(X_test)\n",
    "print('Accuracy score using Decision Tree - entropy after over sampling ',accuracy_score(y_test, entropyPred))\n",
    "print('-----------------------------------------------------------------------------------------------------------')\n",
    "print('F1 score using using Decision Tree - entropy after over sampling ',f1_score(y_test, entropyPred))\n",
    "print('-----------------------------------------------------------------------------------------------------------')\n",
    "print('Recall score using using Decision Tree - entropy after over sampling ',recall_score(y_test, entropyPred))\n",
    "print('------------------------------------------------------------------------------------------------------------')\n",
    "print('Classification report using Decision tree - entropy after oversampling \\n',classification_report(y_test, entropyPred))\n"
   ]
  },
  {
   "cell_type": "code",
   "execution_count": 537,
   "metadata": {},
   "outputs": [
    {
     "name": "stdout",
     "output_type": "stream",
     "text": [
      "Accuracy on training set using SVC after oversampling  : 1.00\n",
      "Accuracy on test set using SVC after oversampling : 0.83\n"
     ]
    }
   ],
   "source": [
    "from sklearn.svm import SVC\n",
    "\n",
    "svc = SVC()\n",
    "svc.fit(X_train, y_train)\n",
    "\n",
    "print(\"Accuracy on training set using SVC after oversampling  : {:.2f}\".format(svc.score(X_train, y_train)))\n",
    "print(\"Accuracy on test set using SVC after oversampling : {:.2f}\".format(svc.score(X_test, y_test)))"
   ]
  },
  {
   "cell_type": "markdown",
   "metadata": {},
   "source": [
    "### Under sampling"
   ]
  },
  {
   "cell_type": "markdown",
   "metadata": {},
   "source": [
    "##### Here we are increasing the minority class (attrition =1) to majority class"
   ]
  },
  {
   "cell_type": "code",
   "execution_count": 538,
   "metadata": {
    "scrolled": true
   },
   "outputs": [
    {
     "data": {
      "text/plain": [
       "1    169\n",
       "0    169\n",
       "Name: Attrition, dtype: int64"
      ]
     },
     "execution_count": 538,
     "metadata": {},
     "output_type": "execute_result"
    }
   ],
   "source": [
    "no_attr_downsampled = resample(no_attr,\n",
    "                                replace = False, # sample without replacement\n",
    "                                n_samples = len(attr), # match minority n\n",
    "                                random_state = 27) # reproducible results\n",
    "\n",
    "# combine minority and downsampled majority\n",
    "downsampled = pd.concat([no_attr_downsampled, attr])\n",
    "\n",
    "# checking counts\n",
    "downsampled.Attrition.value_counts()"
   ]
  },
  {
   "cell_type": "markdown",
   "metadata": {},
   "source": [
    "##### Here we are decreasing the majority class (attrition =0) to minority class"
   ]
  },
  {
   "cell_type": "code",
   "execution_count": 539,
   "metadata": {},
   "outputs": [
    {
     "name": "stdout",
     "output_type": "stream",
     "text": [
      "Accuracy score using Logistic regression after under sampling  0.7364130434782609\n",
      "---------------------------------------------------------------------------------------------------------------\n",
      "F1 score using Logistic regression after under sampling  0.5125628140703519\n",
      "---------------------------------------------------------------------------------------------------------------\n",
      "Recall score using Logistic regression after under sampling  0.75\n"
     ]
    }
   ],
   "source": [
    "y_train = downsampled.Attrition\n",
    "X_train = downsampled.drop('Attrition', axis=1)\n",
    "\n",
    "downsampled = LogisticRegression(solver='liblinear').fit(X_train, y_train)\n",
    "\n",
    "downsampled_pred = downsampled.predict(X_test)\n",
    "\n",
    "# Checking accuracy\n",
    "print('Accuracy score using Logistic regression after under sampling ',accuracy_score(y_test, downsampled_pred))\n",
    "print('---------------------------------------------------------------------------------------------------------------')\n",
    "print('F1 score using Logistic regression after under sampling ',f1_score(y_test, downsampled_pred) )\n",
    "print('---------------------------------------------------------------------------------------------------------------')\n",
    "print('Recall score using Logistic regression after under sampling ',recall_score(y_test, downsampled_pred))"
   ]
  },
  {
   "cell_type": "code",
   "execution_count": 540,
   "metadata": {},
   "outputs": [
    {
     "name": "stdout",
     "output_type": "stream",
     "text": [
      "Accuracy Score using Decision tree - gini after under sampling :  0.7065217391304348\n",
      "-------------------------------------------------------------------------------------------------------------------\n",
      "F1 score using Decision tree - gini after under sampling :  0.4375\n",
      "-------------------------------------------------------------------------------------------------------------------\n",
      "Recall score using Decision tree - gini after under sampling :  0.6176470588235294\n",
      "-------------------------------------------------------------------------------------------------------------------\n",
      "Classification Report using Decision tree - gini after under sampling : \n",
      "               precision    recall  f1-score   support\n",
      "\n",
      "           0       0.89      0.73      0.80       300\n",
      "           1       0.34      0.62      0.44        68\n",
      "\n",
      "   micro avg       0.71      0.71      0.71       368\n",
      "   macro avg       0.62      0.67      0.62       368\n",
      "weighted avg       0.79      0.71      0.73       368\n",
      "\n",
      "\n"
     ]
    }
   ],
   "source": [
    "giniDecisionTree = DecisionTreeClassifier(criterion='gini',random_state = 100,max_depth=3, min_samples_leaf=5)\n",
    "\n",
    "giniDecisionTree.fit(X_train, y_train)\n",
    "\n",
    "giniPred = giniDecisionTree.predict(X_test)\n",
    "print('Accuracy Score using Decision tree - gini after under sampling : ',accuracy_score(y_test, giniPred))\n",
    "print('-------------------------------------------------------------------------------------------------------------------')\n",
    "print('F1 score using Decision tree - gini after under sampling : ',f1_score(y_test, giniPred))\n",
    "print('-------------------------------------------------------------------------------------------------------------------')\n",
    "print('Recall score using Decision tree - gini after under sampling : ',recall_score(y_test, giniPred))\n",
    "print('-------------------------------------------------------------------------------------------------------------------')\n",
    "print('Classification Report using Decision tree - gini after under sampling : \\n',classification_report(y_test, giniPred))"
   ]
  },
  {
   "cell_type": "markdown",
   "metadata": {},
   "source": [
    "### Entropy Criterion"
   ]
  },
  {
   "cell_type": "code",
   "execution_count": 542,
   "metadata": {},
   "outputs": [
    {
     "name": "stdout",
     "output_type": "stream",
     "text": [
      "Accuracy Score using Decision tree - entropy with under sampling :  0.6956521739130435\n",
      "---------------------------------------------------------------------------------------------------------------\n",
      "F1 score using Decision tree - entropy with under sampling  0.42857142857142855\n",
      "---------------------------------------------------------------------------------------------------------------\n",
      "Recall score using Decision tree - entropy with under sampling  0.6176470588235294\n",
      "---------------------------------------------------------------------------------------------------------------\n",
      "Classification report using Decision tree - entropy with under sampling\n",
      "               precision    recall  f1-score   support\n",
      "\n",
      "           0       0.89      0.71      0.79       300\n",
      "           1       0.33      0.62      0.43        68\n",
      "\n",
      "   micro avg       0.70      0.70      0.70       368\n",
      "   macro avg       0.61      0.67      0.61       368\n",
      "weighted avg       0.79      0.70      0.73       368\n",
      "\n"
     ]
    }
   ],
   "source": [
    "entropyDecisionTree = DecisionTreeClassifier(criterion='entropy',random_state = 100,max_depth=3, min_samples_leaf=5)\n",
    "entropyDecisionTree.fit(X_train, y_train)\n",
    "entropyPred = entropyDecisionTree.predict(X_test)\n",
    "print('Accuracy Score using Decision tree - entropy with under sampling : ',accuracy_score(y_test, entropyPred))\n",
    "print('---------------------------------------------------------------------------------------------------------------')\n",
    "print('F1 score using Decision tree - entropy with under sampling ',f1_score(y_test, entropyPred))\n",
    "print('---------------------------------------------------------------------------------------------------------------')\n",
    "print('Recall score using Decision tree - entropy with under sampling ',recall_score(y_test, entropyPred))\n",
    "print('---------------------------------------------------------------------------------------------------------------')\n",
    "print('Classification report using Decision tree - entropy with under sampling\\n',classification_report(y_test, entropyPred))"
   ]
  },
  {
   "cell_type": "code",
   "execution_count": 544,
   "metadata": {},
   "outputs": [
    {
     "name": "stdout",
     "output_type": "stream",
     "text": [
      "Accuracy on training set using SVC with under sampling : 0.98\n",
      "Accuracy on test set using SVC with under sampling: 0.59\n"
     ]
    }
   ],
   "source": [
    "from sklearn.svm import SVC\n",
    "\n",
    "svc = SVC()\n",
    "svc.fit(X_train, y_train)\n",
    "\n",
    "print(\"Accuracy on training set using SVC with under sampling : {:.2f}\".format(svc.score(X_train, y_train)))\n",
    "print(\"Accuracy on test set using SVC with under sampling: {:.2f}\".format(svc.score(X_test, y_test)))"
   ]
  },
  {
   "cell_type": "markdown",
   "metadata": {},
   "source": [
    "### SMOTE Analysis"
   ]
  },
  {
   "cell_type": "code",
   "execution_count": 546,
   "metadata": {},
   "outputs": [
    {
     "name": "stdout",
     "output_type": "stream",
     "text": [
      "Accuracy Score using Logistic Regression with SMOTE analysis :  0.8315217391304348\n",
      "--------------------------------------------------------------------------------------------------------\n",
      "Accuracy Score using Logistic Regression with SMOTE analysis :  0.617283950617284\n",
      "--------------------------------------------------------------------------------------------------------\n",
      "Accuracy Score using Logistic Regression with SMOTE analysis :  0.7352941176470589\n"
     ]
    }
   ],
   "source": [
    "from imblearn.over_sampling import SMOTE\n",
    "\n",
    "# Separate input features and target\n",
    "y = ibm.Attrition\n",
    "X = ibm_feature1\n",
    "\n",
    "# setting up testing and training sets\n",
    "X_train, X_test, y_train, y_test = train_test_split(X, y, test_size=0.25, random_state=27)\n",
    "\n",
    "sm = SMOTE(random_state=27, ratio=1.0)\n",
    "X_train, y_train = sm.fit_sample(X_train, y_train)\n",
    "smote = LogisticRegression(solver='liblinear').fit(X_train, y_train)\n",
    "\n",
    "smote_pred = smote.predict(X_test)\n",
    "\n",
    "# Checking accuracy\n",
    "print('Accuracy Score using Logistic Regression with SMOTE analysis : ',accuracy_score(y_test, smote_pred))\n",
    "print('--------------------------------------------------------------------------------------------------------')\n",
    "print('Accuracy Score using Logistic Regression with SMOTE analysis : ',f1_score(y_test, smote_pred))\n",
    "print('--------------------------------------------------------------------------------------------------------')\n",
    "print('Accuracy Score using Logistic Regression with SMOTE analysis : ',recall_score(y_test, smote_pred))\n",
    "    \n",
    "    \n"
   ]
  },
  {
   "cell_type": "code",
   "execution_count": 547,
   "metadata": {},
   "outputs": [
    {
     "name": "stdout",
     "output_type": "stream",
     "text": [
      "Accuracy Score using Decision Tree - gini with SMOTE analysis:  0.720108695652174\n",
      "------------------------------------------------------------------------------------------------------------------\n",
      "F1 score using Decision Tree - gini with SMOTE analysis 0.38323353293413176\n",
      "------------------------------------------------------------------------------------------------------------------\n",
      "Recall score using Decision Tree - gini with SMOTE analysis 0.47058823529411764\n",
      "------------------------------------------------------------------------------------------------------------------\n",
      "Classification Report using Decision Tree - gini with SMOTE analysis\n",
      "               precision    recall  f1-score   support\n",
      "\n",
      "           0       0.87      0.78      0.82       300\n",
      "           1       0.32      0.47      0.38        68\n",
      "\n",
      "   micro avg       0.72      0.72      0.72       368\n",
      "   macro avg       0.59      0.62      0.60       368\n",
      "weighted avg       0.77      0.72      0.74       368\n",
      "\n"
     ]
    }
   ],
   "source": [
    "giniDecisionTree = DecisionTreeClassifier(criterion='gini',random_state = 100,max_depth=3, min_samples_leaf=5)\n",
    "\n",
    "giniDecisionTree.fit(X_train, y_train)\n",
    "giniPred = giniDecisionTree.predict(X_test)\n",
    "print('Accuracy Score using Decision Tree - gini with SMOTE analysis: ',accuracy_score(y_test, giniPred))\n",
    "print('------------------------------------------------------------------------------------------------------------------')\n",
    "print('F1 score using Decision Tree - gini with SMOTE analysis',f1_score(y_test, giniPred))\n",
    "print('------------------------------------------------------------------------------------------------------------------')\n",
    "print('Recall score using Decision Tree - gini with SMOTE analysis',recall_score(y_test, giniPred))\n",
    "print('------------------------------------------------------------------------------------------------------------------')\n",
    "print('Classification Report using Decision Tree - gini with SMOTE analysis\\n',classification_report(y_test, giniPred))"
   ]
  },
  {
   "cell_type": "markdown",
   "metadata": {},
   "source": [
    "### Entropy Criterion"
   ]
  },
  {
   "cell_type": "code",
   "execution_count": 549,
   "metadata": {},
   "outputs": [
    {
     "name": "stdout",
     "output_type": "stream",
     "text": [
      "Accuracy Score using Decision tree - entropy with SMOTE analysis:  0.720108695652174\n",
      "---------------------------------------------------------------------------------------------------------------\n",
      "F1 score using Decision tree - entropy with SMOTE analysis 0.38323353293413176\n",
      "---------------------------------------------------------------------------------------------------------------\n",
      "Recall score using Decision tree - entropy with SMOTE analysis 0.47058823529411764\n",
      "---------------------------------------------------------------------------------------------------------------\n",
      "Classification Report using Decision tree - entropy with SMOTE analysis\n",
      "               precision    recall  f1-score   support\n",
      "\n",
      "           0       0.87      0.78      0.82       300\n",
      "           1       0.32      0.47      0.38        68\n",
      "\n",
      "   micro avg       0.72      0.72      0.72       368\n",
      "   macro avg       0.59      0.62      0.60       368\n",
      "weighted avg       0.77      0.72      0.74       368\n",
      "\n"
     ]
    }
   ],
   "source": [
    "entropyDecisionTree = DecisionTreeClassifier(criterion='entropy',random_state = 100,max_depth=3, min_samples_leaf=5)\n",
    "entropyDecisionTree.fit(X_train, y_train)\n",
    "entropyPred = entropyDecisionTree.predict(X_test)\n",
    "print('Accuracy Score using Decision tree - entropy with SMOTE analysis: ',accuracy_score(y_test, entropyPred))\n",
    "print('---------------------------------------------------------------------------------------------------------------')\n",
    "print('F1 score using Decision tree - entropy with SMOTE analysis',f1_score(y_test, entropyPred))\n",
    "print('---------------------------------------------------------------------------------------------------------------')\n",
    "print('Recall score using Decision tree - entropy with SMOTE analysis',recall_score(y_test, entropyPred))\n",
    "print('---------------------------------------------------------------------------------------------------------------')\n",
    "print('Classification Report using Decision tree - entropy with SMOTE analysis\\n',classification_report(y_test, entropyPred))"
   ]
  },
  {
   "cell_type": "code",
   "execution_count": 550,
   "metadata": {},
   "outputs": [
    {
     "name": "stdout",
     "output_type": "stream",
     "text": [
      "Accuracy on training set using SVC with SMOTE analysis : 0.99\n",
      "Accuracy on test set using SVC with SMOTE analysis : 0.81\n"
     ]
    }
   ],
   "source": [
    "from sklearn.svm import SVC\n",
    "\n",
    "svc = SVC()\n",
    "svc.fit(X_train, y_train)\n",
    "\n",
    "print(\"Accuracy on training set using SVC with SMOTE analysis : {:.2f}\".format(svc.score(X_train, y_train)))\n",
    "print(\"Accuracy on test set using SVC with SMOTE analysis : {:.2f}\".format(svc.score(X_test, y_test)))"
   ]
  },
  {
   "cell_type": "markdown",
   "metadata": {},
   "source": [
    "### Clustering"
   ]
  },
  {
   "cell_type": "markdown",
   "metadata": {},
   "source": [
    "#### K-means clustering"
   ]
  },
  {
   "cell_type": "code",
   "execution_count": 404,
   "metadata": {},
   "outputs": [],
   "source": [
    "from sklearn.cluster import KMeans"
   ]
  },
  {
   "cell_type": "code",
   "execution_count": null,
   "metadata": {},
   "outputs": [],
   "source": [
    "### here we are using ibm dataset "
   ]
  },
  {
   "cell_type": "code",
   "execution_count": 551,
   "metadata": {
    "scrolled": true
   },
   "outputs": [
    {
     "data": {
      "text/plain": [
       "1    915\n",
       "0    555\n",
       "Name: Attrition, dtype: int64"
      ]
     },
     "execution_count": 551,
     "metadata": {},
     "output_type": "execute_result"
    }
   ],
   "source": [
    "x=ibm_feature1\n",
    "kmeans=KMeans(n_clusters=2,n_init=15,random_state=2)\n",
    "kmeans.fit(x)\n",
    "cent1=kmeans.cluster_centers_\n",
    "cent=pd.DataFrame(cent1,columns=list(x))\n",
    "x['Attrition']=kmeans.labels_\n",
    "cent1\n",
    "c0=cent1[0,:]\n",
    "\n",
    "c1=cent1[1,:]\n",
    "\n",
    "kmeans.inertia_\n",
    "\n",
    "x.Attrition.value_counts()"
   ]
  },
  {
   "cell_type": "code",
   "execution_count": 552,
   "metadata": {
    "scrolled": true
   },
   "outputs": [
    {
     "data": {
      "text/html": [
       "<div>\n",
       "<style scoped>\n",
       "    .dataframe tbody tr th:only-of-type {\n",
       "        vertical-align: middle;\n",
       "    }\n",
       "\n",
       "    .dataframe tbody tr th {\n",
       "        vertical-align: top;\n",
       "    }\n",
       "\n",
       "    .dataframe thead th {\n",
       "        text-align: right;\n",
       "    }\n",
       "</style>\n",
       "<table border=\"1\" class=\"dataframe\">\n",
       "  <thead>\n",
       "    <tr style=\"text-align: right;\">\n",
       "      <th></th>\n",
       "      <th>Age</th>\n",
       "      <th>BusinessTravel</th>\n",
       "      <th>Department</th>\n",
       "      <th>DistanceFromHome</th>\n",
       "      <th>EnvironmentSatisfaction</th>\n",
       "      <th>Gender</th>\n",
       "      <th>JobInvolvement</th>\n",
       "      <th>JobLevel</th>\n",
       "      <th>JobRole</th>\n",
       "      <th>JobSatisfaction</th>\n",
       "      <th>MaritalStatus</th>\n",
       "      <th>NumCompaniesWorked</th>\n",
       "      <th>OverTime</th>\n",
       "      <th>RelationshipSatisfaction</th>\n",
       "      <th>WorkLifeBalance</th>\n",
       "      <th>YearsInCurrentRole</th>\n",
       "      <th>YearsSinceLastPromotion</th>\n",
       "      <th>Outcome</th>\n",
       "    </tr>\n",
       "  </thead>\n",
       "  <tbody>\n",
       "    <tr>\n",
       "      <th>0</th>\n",
       "      <td>46.578378</td>\n",
       "      <td>2.068468</td>\n",
       "      <td>1.769369</td>\n",
       "      <td>9.342342</td>\n",
       "      <td>2.718919</td>\n",
       "      <td>1.412613</td>\n",
       "      <td>2.756757</td>\n",
       "      <td>2.735135</td>\n",
       "      <td>4.093694</td>\n",
       "      <td>2.695495</td>\n",
       "      <td>1.972973</td>\n",
       "      <td>3.527928</td>\n",
       "      <td>0.299099</td>\n",
       "      <td>2.785586</td>\n",
       "      <td>2.763964</td>\n",
       "      <td>5.050450</td>\n",
       "      <td>3.072072</td>\n",
       "      <td>6.883383e-15</td>\n",
       "    </tr>\n",
       "    <tr>\n",
       "      <th>1</th>\n",
       "      <td>31.067760</td>\n",
       "      <td>2.097268</td>\n",
       "      <td>1.721311</td>\n",
       "      <td>9.101639</td>\n",
       "      <td>2.723497</td>\n",
       "      <td>1.392350</td>\n",
       "      <td>2.713661</td>\n",
       "      <td>1.656831</td>\n",
       "      <td>3.225137</td>\n",
       "      <td>2.748634</td>\n",
       "      <td>1.860109</td>\n",
       "      <td>2.186885</td>\n",
       "      <td>0.273224</td>\n",
       "      <td>2.667760</td>\n",
       "      <td>2.759563</td>\n",
       "      <td>3.731148</td>\n",
       "      <td>1.651366</td>\n",
       "      <td>1.000000e+00</td>\n",
       "    </tr>\n",
       "  </tbody>\n",
       "</table>\n",
       "</div>"
      ],
      "text/plain": [
       "         Age  BusinessTravel  Department  DistanceFromHome  \\\n",
       "0  46.578378        2.068468    1.769369          9.342342   \n",
       "1  31.067760        2.097268    1.721311          9.101639   \n",
       "\n",
       "   EnvironmentSatisfaction    Gender  JobInvolvement  JobLevel   JobRole  \\\n",
       "0                 2.718919  1.412613        2.756757  2.735135  4.093694   \n",
       "1                 2.723497  1.392350        2.713661  1.656831  3.225137   \n",
       "\n",
       "   JobSatisfaction  MaritalStatus  NumCompaniesWorked  OverTime  \\\n",
       "0         2.695495       1.972973            3.527928  0.299099   \n",
       "1         2.748634       1.860109            2.186885  0.273224   \n",
       "\n",
       "   RelationshipSatisfaction  WorkLifeBalance  YearsInCurrentRole  \\\n",
       "0                  2.785586         2.763964            5.050450   \n",
       "1                  2.667760         2.759563            3.731148   \n",
       "\n",
       "   YearsSinceLastPromotion       Outcome  \n",
       "0                 3.072072  6.883383e-15  \n",
       "1                 1.651366  1.000000e+00  "
      ]
     },
     "execution_count": 552,
     "metadata": {},
     "output_type": "execute_result"
    }
   ],
   "source": [
    "cent"
   ]
  },
  {
   "cell_type": "markdown",
   "metadata": {},
   "source": [
    "### Here 0 class is people who move out( attrition = 1) and 1 class is people who do not move out (attrition =0)"
   ]
  },
  {
   "cell_type": "markdown",
   "metadata": {},
   "source": [
    "#### Original count:\n",
    "##### attrition= 0 :    1233\n",
    "##### attrition =1 :    237 \n",
    "\n",
    "#### KNN :\n",
    "\n",
    "##### attrition=1 : 555\n",
    "##### attrition=0 : 915\n",
    "\n"
   ]
  },
  {
   "cell_type": "markdown",
   "metadata": {},
   "source": [
    "## Aglomerative clustering"
   ]
  },
  {
   "cell_type": "code",
   "execution_count": 410,
   "metadata": {},
   "outputs": [],
   "source": [
    "from sklearn.cluster import AgglomerativeClustering"
   ]
  },
  {
   "cell_type": "markdown",
   "metadata": {},
   "source": [
    "### After  giving various affinity and linkage , below are the results\n",
    "\n",
    "#### Affinity: Cosine                    Linkage: Average\n",
    "##### Attrition = 0 : 1129\n",
    "##### Attrition = 1 : 341\n",
    "\n",
    "#### Affinity: Cosine                    Linkage: Complete\n",
    "##### Attrition = 0 : 1294\n",
    "##### Attrition = 1 : 176\n",
    "\n",
    "#### Affinity: Cosine                    Linkage: Single\n",
    "##### Attrition = 0 : 1469\n",
    "##### Attrition = 1 : 1\n",
    "\n",
    "#### Affinity: Euclidean               Linkage: Ward\n",
    "##### Attrition = 0 : 1121\n",
    "##### Attrition = 1 : 349\n",
    "\n",
    "#### Affinity: Euclidean               Linkage: Average\n",
    "##### Attrition = 0 : 1402\n",
    "##### Attrition = 1 : 68\n",
    "\n",
    "#### Affinity: Euclidean               Linkage: Complete\n",
    "##### Attrition = 0 : 982\n",
    "##### Attrition = 1 : 488\n",
    "\n",
    "#### Affinity: Euclidean               Linkage: Single\n",
    "##### Attrition = 0 : 1466\n",
    "##### Attrition = 1 : 4\n"
   ]
  },
  {
   "cell_type": "code",
   "execution_count": 563,
   "metadata": {},
   "outputs": [
    {
     "data": {
      "text/plain": [
       "0    1121\n",
       "1     349\n",
       "Name: 0, dtype: int64"
      ]
     },
     "execution_count": 563,
     "metadata": {},
     "output_type": "execute_result"
    }
   ],
   "source": [
    "aggl_cl=AgglomerativeClustering(n_clusters=2,affinity='euclidean',linkage='ward')\n",
    "aggl_cl.fit(ibm_feature1)\n",
    "L1=pd.DataFrame(aggl_cl.labels_)\n",
    "L1[0].value_counts()"
   ]
  },
  {
   "cell_type": "code",
   "execution_count": null,
   "metadata": {},
   "outputs": [],
   "source": []
  },
  {
   "cell_type": "code",
   "execution_count": 422,
   "metadata": {},
   "outputs": [
    {
     "data": {
      "image/png": "[encoded data removed]",
      "text/plain": [
       "<Figure size 864x648 with 1 Axes>"
      ]
     },
     "metadata": {
      "needs_background": "light"
     },
     "output_type": "display_data"
    }
   ],
   "source": [
    "#for ward linkage\n",
    "import matplotlib.pyplot as plt\n",
    "%matplotlib inline\n",
    "from  scipy.cluster.hierarchy import dendrogram,linkage\n",
    "plt.figure(figsize=(12,9))\n",
    "plt.title('Dendrogram for Agglomerative clustering on ibm attrition')\n",
    "plt.xlabel('Sample Index')\n",
    "plt.ylabel('Distance')\n",
    "z=linkage(ibm_feature1,'complete',metric='cosine')\n",
    "dendrogram(z,leaf_rotation=60.0,p=5,color_threshold=.35,\n",
    "          leaf_font_size=10,truncate_mode='level')\n",
    "plt.tight_layout()"
   ]
  },
  {
   "cell_type": "markdown",
   "metadata": {},
   "source": [
    "### PCA"
   ]
  },
  {
   "cell_type": "code",
   "execution_count": 566,
   "metadata": {
    "scrolled": true
   },
   "outputs": [
    {
     "name": "stdout",
     "output_type": "stream",
     "text": [
      "Shape of covariance matrix (18, 18)\n",
      "\n",
      "Covariance matrix: \n",
      " [[ 1.00068074e+00 -1.18153701e-02  3.19039867e-02 -1.68726795e-03\n",
      "   1.01533349e-02  3.63352680e-02  2.98402581e-02  5.09951134e-01\n",
      "   1.59823736e-01 -4.89520722e-03  9.50935996e-02  2.99838730e-01\n",
      "   2.80814601e-02  5.35711626e-02 -2.15046570e-02  2.13045985e-01\n",
      "   2.16660756e-01 -8.23921488e-01]\n",
      " [-1.18153701e-02  1.00068074e+00  2.64140115e-03 -9.70264161e-03\n",
      "  -1.13176337e-02  4.49260746e-02  2.93199041e-02 -1.17037920e-02\n",
      "   2.35535207e-02  8.67185775e-03 -3.09360325e-02 -3.07639120e-02\n",
      "   4.27806186e-02  8.93237981e-03  4.21166436e-03 -5.34005624e-03\n",
      "   5.22557528e-03  2.62611950e-02]\n",
      " [ 3.19039867e-02  2.64140115e-03  1.00068074e+00 -1.72365291e-02\n",
      "   1.94084737e-02 -4.16115974e-02  2.46027983e-02 -1.02032516e-01\n",
      "   4.25325154e-01 -2.10151749e-02  5.61116065e-02  3.59060381e-02\n",
      "  -7.48606014e-03  2.24296837e-02 -2.64004846e-02 -5.63537827e-02\n",
      "  -4.00882378e-02 -4.41860008e-02]\n",
      " [-1.68726795e-03 -9.70264161e-03 -1.72365291e-02  1.00068074e+00\n",
      "  -1.60862700e-02  1.85178771e-03  8.78925897e-03  5.30634031e-03\n",
      "  -4.36250883e-02 -3.67133668e-03  1.44468589e-02 -2.92707162e-02\n",
      "   2.55310030e-02  6.56193855e-03 -2.65740817e-02  1.88578276e-02\n",
      "   1.00356629e-02 -1.44082621e-02]\n",
      " [ 1.01533349e-02 -1.13176337e-02  1.94084737e-02 -1.60862700e-02\n",
      "   1.00068074e+00 -5.08659917e-04 -8.28323302e-03  1.21252430e-03\n",
      "  -1.01361155e-02 -6.78897095e-03  3.59591953e-03  1.26028966e-02\n",
      "   7.01794679e-02  7.67060164e-03  2.76461023e-02  1.80197185e-02\n",
      "   1.62046291e-02  2.03253983e-03]\n",
      " [ 3.63352680e-02  4.49260746e-02 -4.16115974e-02  1.85178771e-03\n",
      "  -5.08659917e-04  1.00068074e+00 -1.79719812e-02  3.94299258e-02\n",
      "   1.48338648e-02 -3.32743330e-02 -4.72147112e-02  3.91740986e-02\n",
      "   4.19528873e-02 -2.28839373e-02  2.75455267e-03  4.15109673e-02\n",
      "   2.70029465e-02 -2.00646191e-02]\n",
      " [ 2.98402581e-02  2.93199041e-02  2.46027983e-02  8.78925897e-03\n",
      "  -8.28323302e-03 -1.79719812e-02  1.00068074e+00 -1.26384803e-02\n",
      "  -6.77026116e-03 -2.14905297e-02  3.85232250e-02  1.50226327e-02\n",
      "  -3.50909771e-03  3.43201677e-02 -1.46265432e-02  8.72289744e-03\n",
      "  -2.42007555e-02 -2.93902488e-02]\n",
      " [ 5.09951134e-01 -1.17037920e-02 -1.02032516e-01  5.30634031e-03\n",
      "   1.21252430e-03  3.94299258e-02 -1.26384803e-02  1.00068074e+00\n",
      "   3.13801361e-01 -1.94503118e-03  7.68217378e-02  1.42598129e-01\n",
      "   5.44418127e-04  2.16562427e-02  3.78434895e-02  3.89711843e-01\n",
      "   3.54126249e-01 -4.72716109e-01]\n",
      " [ 1.59823736e-01  2.35535207e-02  4.25325154e-01 -4.36250883e-02\n",
      "  -1.01361155e-02  1.48338648e-02 -6.77026116e-03  3.13801361e-01\n",
      "   1.00068074e+00 -2.42743590e-02  5.02199330e-02  4.32332351e-02\n",
      "  -2.08643357e-02  1.84205787e-02  4.98414048e-02  4.60845394e-02\n",
      "   6.80738355e-02 -1.81369252e-01]\n",
      " [-4.89520722e-03  8.67185775e-03 -2.10151749e-02 -3.67133668e-03\n",
      "  -6.78897095e-03 -3.32743330e-02 -2.14905297e-02 -1.94503118e-03\n",
      "  -2.42743590e-02  1.00068074e+00 -2.43765357e-02 -5.57373426e-02\n",
      "   2.45561859e-02 -1.24620708e-02 -1.94719564e-02 -2.30635418e-03\n",
      "  -1.82259664e-02  2.33817190e-02]\n",
      " [ 9.50935996e-02 -3.09360325e-02  5.61116065e-02  1.44468589e-02\n",
      "   3.59591953e-03 -4.72147112e-02  3.85232250e-02  7.68217378e-02\n",
      "   5.02199330e-02 -2.43765357e-02  1.00068074e+00  3.55295585e-02\n",
      "   1.75333090e-02 -2.25644206e-02 -1.47183063e-02  6.58667071e-02\n",
      "   3.09361238e-02 -7.50140366e-02]\n",
      " [ 2.99838730e-01 -3.07639120e-02  3.59060381e-02 -2.92707162e-02\n",
      "   1.26028966e-02  3.91740986e-02  1.50226327e-02  1.42598129e-01\n",
      "   4.32332351e-02 -5.57373426e-02  3.55295585e-02  1.00068074e+00\n",
      "  -2.07999710e-02  5.27689458e-02 -8.37137961e-03 -9.08157131e-02\n",
      "  -3.68389529e-02 -2.60514327e-01]\n",
      " [ 2.80814601e-02  4.27806186e-02 -7.48606014e-03  2.55310030e-02\n",
      "   7.01794679e-02  4.19528873e-02 -3.50909771e-03  5.44418127e-04\n",
      "  -2.08643357e-02  2.45561859e-02  1.75333090e-02 -2.07999710e-02\n",
      "   1.00068074e+00  4.85258136e-02 -2.71103209e-02 -2.97782663e-02\n",
      "  -1.22471540e-02 -2.78655035e-02]\n",
      " [ 5.35711626e-02  8.93237981e-03  2.24296837e-02  6.56193855e-03\n",
      "   7.67060164e-03 -2.28839373e-02  3.43201677e-02  2.16562427e-02\n",
      "   1.84205787e-02 -1.24620708e-02 -2.25644206e-02  5.27689458e-02\n",
      "   4.85258136e-02  1.00068074e+00  1.96177511e-02 -1.51332096e-02\n",
      "   3.35153016e-02 -5.28828222e-02]\n",
      " [-2.15046570e-02  4.21166436e-03 -2.64004846e-02 -2.65740817e-02\n",
      "   2.76461023e-02  2.75455267e-03 -1.46265432e-02  3.78434895e-02\n",
      "   4.98414048e-02 -1.94719564e-02 -1.47183063e-02 -8.37137961e-03\n",
      "  -2.71103209e-02  1.96177511e-02  1.00068074e+00  4.98904370e-02\n",
      "   8.94733576e-03 -3.02307662e-03]\n",
      " [ 2.13045985e-01 -5.34005624e-03 -5.63537827e-02  1.88578276e-02\n",
      "   1.80197185e-02  4.15109673e-02  8.72289744e-03  3.89711843e-01\n",
      "   4.60845394e-02 -2.30635418e-03  6.58667071e-02 -9.08157131e-02\n",
      "  -2.97782663e-02 -1.51332096e-02  4.98904370e-02  1.00068074e+00\n",
      "   5.48429329e-01 -1.76702532e-01]\n",
      " [ 2.16660756e-01  5.22557528e-03 -4.00882378e-02  1.00356629e-02\n",
      "   1.62046291e-02  2.70029465e-02 -2.42007555e-02  3.54126249e-01\n",
      "   6.80738355e-02 -1.82259664e-02  3.09361238e-02 -3.68389529e-02\n",
      "  -1.22471540e-02  3.35153016e-02  8.94733576e-03  5.48429329e-01\n",
      "   1.00068074e+00 -2.13945759e-01]\n",
      " [-8.23921488e-01  2.62611950e-02 -4.41860008e-02 -1.44082621e-02\n",
      "   2.03253983e-03 -2.00646191e-02 -2.93902488e-02 -4.72716109e-01\n",
      "  -1.81369252e-01  2.33817190e-02 -7.50140366e-02 -2.60514327e-01\n",
      "  -2.78655035e-02 -5.28828222e-02 -3.02307662e-03 -1.76702532e-01\n",
      "  -2.13945759e-01  1.00068074e+00]]\n"
     ]
    }
   ],
   "source": [
    "#apply standard scaler transformation\n",
    "\n",
    "\n",
    "from sklearn.preprocessing import StandardScaler\n",
    "sc=StandardScaler()\n",
    "ibm_std=sc.fit_transform(ibm_feature1.drop('Attrition',axis=1))\n",
    "\n",
    "cov_matrix=np.cov(ibm_std.T)\n",
    "print('Shape of covariance matrix',cov_matrix.shape)\n",
    "print('\\nCovariance matrix: \\n',cov_matrix)"
   ]
  },
  {
   "cell_type": "code",
   "execution_count": null,
   "metadata": {},
   "outputs": [],
   "source": []
  },
  {
   "cell_type": "code",
   "execution_count": 430,
   "metadata": {},
   "outputs": [
    {
     "name": "stdout",
     "output_type": "stream",
     "text": [
      "\n",
      "Eigen values: \n",
      " [4.74546183 1.92369775 1.79032811 1.69205138 0.04574215 1.43619486\n",
      " 0.14092557 0.20042023 0.22256341 0.27873065 0.32424353 0.39250956\n",
      " 0.52097161 0.5753671  0.75767835 1.19640767 1.17731604 0.82380637\n",
      " 0.8478559  0.87157867 1.11886216 1.08691262 1.08259212 0.89554594\n",
      " 1.02759441 1.01880325 1.00393407 0.98747962 0.93243078 0.94965241\n",
      " 0.95344467]\n",
      "\n",
      "\n",
      "Eigen vectors: \n",
      " [[-2.76173423e-01 -3.04730068e-01  5.27324451e-02  4.81748094e-02\n",
      "  -1.23494304e-02  1.93019589e-01  2.35123883e-01  2.44955489e-01\n",
      "   1.87290558e-02  2.31034124e-02  6.02424081e-02 -3.65959315e-01\n",
      "   3.39581879e-01 -5.95187257e-01 -1.42844804e-01 -4.79417132e-02\n",
      "  -8.23577065e-02 -4.25420905e-02  6.19043628e-03 -8.99228926e-02\n",
      "   2.45368559e-04  2.22002561e-02  9.11348763e-03  1.06435002e-02\n",
      "  -7.04456504e-02  1.66783306e-02 -8.81743009e-02  2.24506034e-02\n",
      "  -5.79318234e-02  7.38836147e-02  5.12193237e-02]\n",
      " [ 2.03934333e-03  1.74807449e-02 -2.87867045e-02  5.87285530e-02\n",
      "  -2.54114263e-03 -7.43577557e-02  1.31650523e-02  1.62386039e-02\n",
      "   2.88650033e-02  6.51712115e-03 -2.14263639e-03  1.75311311e-02\n",
      "  -1.86356230e-02 -1.76649955e-03 -5.45018518e-03  9.36336856e-02\n",
      "  -1.19212453e-01  5.73458060e-02 -4.83959950e-02  2.98514837e-02\n",
      "   1.60451868e-02 -4.47441549e-01  1.95411780e-01  5.47425326e-01\n",
      "  -3.69166376e-01  4.14272336e-01  2.10072356e-01  7.18043065e-02\n",
      "   7.26057429e-02  2.27052323e-01 -7.76786536e-02]\n",
      " [ 2.87771770e-03 -5.98060174e-02  4.03123448e-02 -9.72042088e-02\n",
      "   3.28430874e-03  7.47516886e-02  2.32528298e-02 -2.15940415e-03\n",
      "  -1.92648901e-02 -3.70420204e-02  2.60884654e-02  1.17169977e-02\n",
      "   4.39090341e-02 -1.93727280e-02  3.00392950e-02  1.80239100e-01\n",
      "  -2.30712087e-01 -1.98973754e-02 -3.10649049e-01  3.50363257e-01\n",
      "  -3.26053605e-01 -1.00263480e-01 -2.17591292e-02  2.63795382e-01\n",
      "   5.17144641e-02 -5.10043854e-01  2.48675777e-01  2.47685874e-01\n",
      "  -1.79622794e-01 -2.33264468e-01  9.46266544e-02]\n",
      " [ 7.76006673e-03 -2.24002710e-01  1.13356558e-01 -1.77619108e-02\n",
      "   1.34574456e-02 -6.08143309e-01  3.33364344e-02  8.42725851e-02\n",
      "   6.90621273e-02  5.97436543e-02  2.71302555e-02  5.21563320e-01\n",
      "   2.03121993e-02 -2.22592931e-01 -2.46501901e-01 -7.36236939e-02\n",
      "  -1.20418396e-01  1.36468397e-01 -1.25301304e-01 -1.48281094e-01\n",
      "   1.06826545e-01  2.36741588e-02 -1.34267549e-01  3.48146424e-03\n",
      "  -1.36335930e-01 -8.53664984e-02 -6.09605554e-02 -6.91938590e-03\n",
      "   7.96872570e-03 -1.22888518e-01  1.24456701e-01]\n",
      " [-2.51395354e-03  4.38508362e-02  5.45189912e-02 -6.64356501e-02\n",
      "  -1.44597341e-02  9.21880073e-02  8.63265616e-03  3.07850747e-03\n",
      "  -1.24515327e-02 -7.02097870e-03 -2.80636591e-02 -2.12410063e-02\n",
      "  -4.90939018e-03  2.76729266e-02 -8.51340011e-02 -7.53312666e-02\n",
      "  -1.62655970e-01 -1.73598325e-01  1.28772456e-01 -1.03779932e-01\n",
      "   3.71041719e-01  1.05860573e-01  1.93435047e-01  2.06224480e-01\n",
      "   3.06824385e-01  1.81771712e-01  1.87140020e-01  2.32777133e-01\n",
      "   2.38984738e-01 -3.93047661e-01  4.75372000e-01]\n",
      " [-7.48492008e-02 -1.09527546e-01 -1.37848851e-02  8.70425560e-03\n",
      "   5.32766297e-04  2.28926938e-01 -5.69746792e-03 -1.68203262e-02\n",
      "  -1.63444985e-02  4.85734262e-03 -3.43066607e-02  2.09700118e-02\n",
      "  -5.22241691e-02  1.68798770e-01  3.95170444e-01 -3.58617205e-01\n",
      "  -1.52353544e-01  1.25154296e-02 -4.46912750e-01 -1.68279290e-01\n",
      "   5.14130277e-02  1.15299717e-01 -7.58983443e-02 -4.99017588e-02\n",
      "  -4.27001353e-01  1.43497239e-01 -2.10431025e-01  1.00226209e-01\n",
      "  -1.14540431e-01 -2.27035759e-01  1.18323381e-01]\n",
      " [ 1.49163875e-02  1.14949650e-01 -7.57629698e-02  1.32992766e-02\n",
      "   1.29234139e-04  3.51147505e-01  1.04005637e-02 -3.20931066e-03\n",
      "   1.18585520e-02  1.50406377e-02  2.96363163e-02  5.15537960e-02\n",
      "   2.25444128e-02 -3.16533702e-02 -2.46781428e-01  9.29289565e-02\n",
      "   2.21257235e-01  5.61980364e-01 -2.13958124e-01 -1.91839210e-01\n",
      "  -2.16275649e-02 -5.50846238e-02 -3.46855634e-01 -8.72965135e-02\n",
      "  -4.05364444e-02  2.17704660e-02  3.28791050e-01 -2.03851665e-02\n",
      "   2.61764396e-01 -3.49555346e-02  1.52008984e-01]\n",
      " [ 7.42265556e-03 -1.59299187e-02 -1.39603489e-02 -8.48131897e-02\n",
      "   2.38769458e-03 -1.66928801e-02  1.34379537e-04  6.83787648e-03\n",
      "  -1.19662118e-03 -1.59249112e-03 -5.06976098e-02  1.63528893e-02\n",
      "   6.87215402e-03 -3.79795657e-02 -2.55213459e-02 -3.53903711e-01\n",
      "   2.69764871e-01  2.05933115e-01  1.12097958e-01  5.40209231e-01\n",
      "   3.71006650e-01  1.15626737e-01  1.89347802e-02 -5.97782968e-02\n",
      "  -1.45375092e-01 -3.28024680e-02  1.76801460e-01  2.40523392e-01\n",
      "  -2.80149338e-01  2.62571051e-01  1.68739535e-01]\n",
      " [-1.93127624e-03 -2.44122897e-03 -5.74991267e-02 -7.33435318e-03\n",
      "  -5.26801164e-03  2.81957444e-02 -5.27524141e-03 -9.91557066e-03\n",
      "  -3.60046886e-03 -2.05470753e-02 -9.39938562e-03 -1.89762534e-02\n",
      "  -2.37751103e-02  2.78312512e-02  2.44315549e-01  3.27250537e-01\n",
      "   9.24308822e-02 -1.15667363e-01  3.00383305e-01 -3.39095412e-01\n",
      "   3.34599912e-01 -1.95487176e-02 -4.21103598e-01  2.41267265e-01\n",
      "  -1.88787532e-01 -3.31442891e-01 -7.11796192e-02  2.38831091e-01\n",
      "  -1.34918577e-01  1.39890918e-01  7.92778524e-02]\n",
      " [-2.69906967e-02  2.72962692e-03 -2.18640979e-03  7.83382495e-02\n",
      "  -4.55689597e-03  9.29124641e-02  4.30302397e-03 -2.52983365e-03\n",
      "   1.72420047e-02 -7.96764403e-03 -3.93370906e-02  4.06357815e-02\n",
      "   3.22089763e-02 -5.07735453e-02  1.23090363e-01  4.66885621e-02\n",
      "   3.76725405e-02  2.28134661e-01  3.16191485e-01  7.55034193e-02\n",
      "   1.31472445e-01 -5.29801968e-01  3.13661564e-01 -2.52254208e-01\n",
      "  -2.33003568e-01 -2.56325056e-01 -1.48080003e-01 -1.79699251e-01\n",
      "   2.29158361e-02 -3.93076707e-01  1.07506340e-01]\n",
      " [ 1.01249660e-02 -5.04360041e-02  9.67401653e-03 -8.35813390e-02\n",
      "   9.98660329e-03  4.79544040e-02 -4.51747446e-03  8.71769522e-03\n",
      "   1.08183382e-02  2.57643319e-04 -3.37993686e-02  2.80515267e-03\n",
      "  -1.40049471e-02  5.92895512e-02  1.74547329e-02 -3.68156606e-01\n",
      "  -1.93904271e-01  1.77374629e-01  5.94760955e-02 -4.14353543e-01\n",
      "   8.05871920e-02 -2.34306319e-01  4.75383150e-02  5.00134372e-02\n",
      "   3.52237761e-01 -7.59333084e-02  3.00290241e-01 -1.07655314e-01\n",
      "  -5.08303276e-01  4.08858748e-02 -2.11822667e-01]\n",
      " [ 8.34241070e-04 -4.18727012e-02 -2.42930138e-02 -7.72745502e-02\n",
      "  -1.41884711e-03  8.29658853e-04  8.67184692e-03 -3.49264385e-02\n",
      "  -1.51907885e-02  7.36137447e-03  1.15545310e-02  1.64487052e-02\n",
      "   4.47626266e-02  5.95647952e-02 -5.09424617e-02 -1.60104110e-01\n",
      "  -3.83044068e-01 -3.58297145e-02  2.12516761e-01  5.13846691e-03\n",
      "  -8.79068267e-02 -1.95366754e-01 -1.58667677e-01 -4.02155450e-01\n",
      "  -5.53510163e-02  2.42844101e-02  7.91091215e-02  5.89122760e-01\n",
      "   3.08168127e-01  8.88851233e-02 -2.64717875e-01]\n",
      " [-3.83526543e-01 -1.92239468e-01  2.63977962e-03  8.61393176e-02\n",
      "   7.05267724e-01  9.80003187e-02  1.23844058e-01  2.18522241e-01\n",
      "   4.88241015e-02  3.06063420e-02  1.35080145e-02  2.92393683e-01\n",
      "  -7.54777785e-02  1.10578352e-01  2.02154296e-01  9.27113036e-02\n",
      "   1.39222445e-01 -5.16303450e-02  5.99961948e-02  2.62707661e-02\n",
      "  -5.39416046e-02  1.78531829e-02  6.43378363e-02 -4.81461347e-02\n",
      "   1.10091744e-01  5.42098197e-02  1.59466819e-01  3.23387062e-02\n",
      "   4.82174311e-02  3.82754563e-02 -2.63968034e-02]\n",
      " [-1.37259297e-01 -3.13561956e-01  9.87157112e-02  8.76201610e-02\n",
      "   4.84804769e-02 -4.97098663e-01 -2.29301781e-02 -5.00115908e-02\n",
      "  -6.94858887e-02 -4.49958706e-02  3.73752299e-02 -6.10424476e-01\n",
      "  -4.31710553e-02  3.02630790e-01  7.97599917e-02  4.20533770e-02\n",
      "   1.50601935e-01  1.63782487e-01 -8.26160781e-02 -4.51702881e-02\n",
      "   6.58319455e-03 -6.08604782e-02 -5.89645661e-02 -8.35466285e-02\n",
      "   7.66431161e-03  2.55828570e-03  1.81152925e-01  2.70868089e-02\n",
      "   8.02942044e-02 -1.12971326e-01  7.13057558e-02]\n",
      " [ 1.00081483e-02  3.35121371e-02  1.64728412e-02  1.66404664e-02\n",
      "  -2.51874892e-03 -5.27257635e-03 -1.18542700e-02  5.99132688e-03\n",
      "  -1.22014106e-02 -2.61720460e-02 -4.57648613e-02  1.59607507e-03\n",
      "  -1.94295809e-02  5.37682333e-02 -1.43447538e-01  3.41031658e-01\n",
      "  -4.83673986e-02  3.18562565e-01  2.42442767e-01 -1.57226627e-01\n",
      "  -2.41271720e-01  3.78717177e-01  2.92997900e-01 -7.47755285e-02\n",
      "  -1.89007846e-01  2.25291888e-01 -1.52547526e-02  3.10175887e-01\n",
      "  -4.04162359e-01 -1.67925520e-01 -8.50383831e-03]\n",
      " [-5.43848474e-02 -1.43330162e-01  9.84294104e-02 -6.52926393e-01\n",
      "   8.98484820e-04  7.61362335e-03 -2.49533455e-02  2.25635772e-02\n",
      "   3.85961936e-02 -3.49285798e-02 -6.99793691e-01 -2.15078714e-02\n",
      "   1.94566693e-02 -2.14490460e-02  3.95872069e-02  1.23006712e-01\n",
      "   6.12900598e-02  3.96550188e-02 -3.84082076e-02 -1.22296081e-02\n",
      "  -2.15604428e-02 -4.58036757e-02 -1.76462360e-03 -8.87376029e-03\n",
      "   1.10689370e-02  6.26784767e-02 -5.83679791e-02 -5.88316929e-02\n",
      "   8.26417352e-02  2.83095387e-02 -2.71745677e-02]\n",
      " [-3.77669482e-01 -2.23255069e-01  1.52432613e-02  9.61826812e-02\n",
      "  -7.06160653e-01  5.12453943e-02  1.33057088e-01  1.99777507e-01\n",
      "   5.40166382e-02  4.25825889e-02  8.96656505e-03  2.69324892e-01\n",
      "  -6.45583117e-02  1.51384221e-01  2.04551383e-01  9.13718903e-02\n",
      "   1.42171762e-01 -3.21843074e-02  4.39568405e-02  2.53786936e-02\n",
      "  -5.82404168e-02  1.49167076e-02  5.46579650e-02 -5.99241906e-02\n",
      "   1.11468353e-01  4.61956421e-02  1.76667275e-01  2.03815451e-02\n",
      "   4.16779897e-02  4.32187558e-02 -2.65366747e-02]\n",
      " [-6.07972147e-03 -5.38974589e-02 -1.37863409e-02  8.51528741e-02\n",
      "  -3.28733321e-03  3.88716341e-02  1.06787965e-02 -6.98971015e-03\n",
      "  -3.02116595e-03 -1.91544135e-02  1.35159996e-02  7.95424293e-03\n",
      "  -3.70220509e-02 -8.97081443e-03 -5.30933021e-02  1.42985059e-01\n",
      "   1.60769680e-01  2.32241164e-01 -3.87121818e-01 -4.55211823e-02\n",
      "   3.62411737e-01 -5.80345504e-02  3.05133758e-01  8.90376641e-02\n",
      "   2.88396595e-01 -1.21455024e-01 -3.75276126e-01  3.50728360e-01\n",
      "   9.25131619e-02  3.91719615e-02 -3.51102687e-01]\n",
      " [-5.06167620e-02 -4.00191973e-01  4.22122902e-02  5.66205270e-02\n",
      "   5.16340761e-03  2.65872356e-01  1.10209660e-01 -2.25947095e-02\n",
      "   6.89753615e-03 -2.59718181e-02 -3.54182701e-02 -1.38399803e-02\n",
      "  -2.67221278e-01  3.96597997e-01 -5.51669991e-01 -1.21059380e-01\n",
      "  -9.69271645e-02 -1.59541215e-02  1.73275724e-01  8.57383664e-02\n",
      "  -6.12784526e-03  4.09818906e-03 -1.01484747e-01  2.09820135e-01\n",
      "  -9.35309171e-02 -1.07613783e-01 -2.54446791e-01 -1.10781611e-01\n",
      "   6.86615498e-04 -4.36260599e-05 -1.77975433e-02]\n",
      " [ 4.71678375e-03 -3.43708582e-02 -2.04536139e-03  9.76059420e-03\n",
      "   5.79176291e-03  7.39342649e-02 -2.34049934e-03  1.49666866e-02\n",
      "   7.65287291e-03 -7.66458573e-03  1.55677077e-02 -1.25092742e-02\n",
      "  -6.14472261e-02  8.93030791e-02 -2.14434333e-01  4.30313543e-01\n",
      "  -2.50123627e-01 -2.70416613e-01 -3.06347551e-01  6.64550276e-02\n",
      "   3.87015115e-01 -1.23554577e-01 -3.94021336e-03 -4.34544002e-01\n",
      "  -8.01491646e-02  1.23796872e-01  1.84509980e-01 -1.40900238e-01\n",
      "  -2.66227173e-01  1.04746988e-01  6.48933665e-02]\n",
      " [ 1.49720425e-02  1.10267260e-01  6.82525933e-01  9.16272392e-02\n",
      "   6.90201376e-03  7.69957312e-02 -2.76792052e-02 -1.06146866e-01\n",
      "   6.94844168e-01 -2.29176861e-02  2.92437370e-02 -4.80263191e-02\n",
      "  -9.82014448e-03  1.87565785e-02  3.90113928e-02  3.10312003e-04\n",
      "   1.43116992e-02  7.87717994e-03  9.87479988e-04  3.83818806e-03\n",
      "  -8.28350292e-03 -1.49948457e-02 -4.18855686e-02 -1.56288093e-02\n",
      "   6.03691144e-04  5.64728882e-03 -1.21699771e-02  4.38970359e-02\n",
      "  -9.47202995e-03  4.61859772e-02 -1.42290877e-04]\n",
      " [ 4.90211639e-05  1.33166232e-01  6.78509266e-01  9.08322071e-02\n",
      "  -1.92638836e-03  6.32880119e-02  4.42545242e-02  9.23825094e-02\n",
      "  -6.93578964e-01  1.08279966e-02 -4.43720259e-02  7.22919812e-02\n",
      "   1.98915864e-03  8.71409204e-03  1.38324094e-02  5.65883654e-03\n",
      "   6.71823880e-03  2.38354799e-02  7.79898212e-03  4.91078660e-04\n",
      "   1.12433797e-02 -4.81668390e-02 -5.21161260e-02  5.91567687e-04\n",
      "  -9.06993476e-03  1.78963879e-02 -2.06874827e-02  1.37916581e-03\n",
      "  -7.46450559e-03  5.95140308e-02 -1.43107009e-02]\n",
      " [-1.53081208e-02 -6.28786791e-02 -5.80824517e-02  7.51912771e-02\n",
      "   2.02404025e-03 -2.14858465e-02 -2.28495554e-02 -1.12744359e-03\n",
      "   5.67037255e-03  1.92158385e-02  1.15309208e-02  5.45323499e-03\n",
      "  -5.70454779e-02 -2.18993734e-02  2.15984116e-01  1.40549881e-01\n",
      "  -3.08626132e-01  3.32132127e-01  6.07016306e-02  2.32597750e-01\n",
      "  -7.53619262e-02 -1.81418995e-01 -2.94400144e-01  9.39474271e-03\n",
      "   3.85446014e-01  2.88388310e-01 -3.80203446e-01 -6.79406788e-03\n",
      "  -1.36235094e-01  1.40656252e-01  3.34234314e-01]\n",
      " [-2.41155164e-02 -9.81902438e-02  1.03001105e-01 -6.69334015e-01\n",
      "  -5.32023467e-03  4.99042807e-02  1.20314271e-02 -4.47472817e-02\n",
      "  -3.95384456e-02  5.12849386e-03  6.95752309e-01  2.27257687e-02\n",
      "  -1.82654746e-02  4.90289858e-02  4.37873974e-02  6.17824771e-02\n",
      "   8.65629300e-02  4.08774283e-02  3.57249987e-02 -9.46952737e-03\n",
      "   1.21005501e-02 -4.76779459e-02  4.85390034e-02  2.31123257e-03\n",
      "  -2.27004130e-02  8.61416969e-02 -8.27630806e-02 -4.02225370e-02\n",
      "  -3.52960098e-03 -7.59574548e-03 -7.76984984e-03]\n",
      " [-4.01473436e-01 -1.78619678e-01  2.74712344e-02  6.83078345e-02\n",
      "  -6.06230972e-03  8.58926041e-02 -6.86259504e-01 -5.03898880e-01\n",
      "  -9.90835465e-02 -4.81267590e-02  9.91894385e-03  8.75683528e-02\n",
      "   7.24605172e-03 -1.98755357e-01 -5.61052485e-02  5.65834162e-03\n",
      "  -4.74704363e-03 -3.04649907e-02  2.12177819e-02 -1.43460107e-02\n",
      "  -7.91987102e-03  1.41707848e-02  2.89535276e-02  2.22802171e-02\n",
      "   5.63436138e-04 -1.25417430e-03  3.77075464e-02 -4.53943610e-03\n",
      "  -3.11617912e-04  4.33736354e-02  6.78274537e-03]\n",
      " [ 1.10842732e-02  6.28449615e-02 -3.33630959e-02 -8.20508771e-03\n",
      "  -1.88140516e-03 -2.77970269e-02 -1.23790507e-02  4.52327782e-03\n",
      "  -7.73250172e-03  3.24383226e-03 -1.97383778e-02  2.87047450e-02\n",
      "  -4.73089129e-02  6.17997532e-02 -1.92967729e-01 -1.04116298e-01\n",
      "   3.49510796e-01 -2.48751659e-01 -1.36092785e-01 -2.57938363e-01\n",
      "  -3.21977440e-01 -3.34985899e-01  1.56782682e-01 -1.42798120e-01\n",
      "   4.80749069e-02 -3.61866162e-02 -1.59994343e-01  2.77150301e-01\n",
      "  -1.40659129e-01  2.50743822e-01  4.68769641e-01]\n",
      " [-1.37370054e-02  1.92550895e-02 -1.69102021e-02  2.79176571e-02\n",
      "  -7.36011609e-03 -6.93690149e-03  1.80857201e-03 -1.02917106e-02\n",
      "   4.90731738e-03 -4.99887901e-02 -1.93632474e-02  3.27242934e-02\n",
      "   4.97221091e-02 -9.22269591e-02 -1.26716293e-01 -1.15651585e-02\n",
      "   3.65445251e-01 -2.23370646e-01  1.00659390e-02  1.47709617e-01\n",
      "  -9.30688913e-03 -2.34067713e-01 -3.89873271e-01  3.89504543e-02\n",
      "   8.29506302e-02  3.48157513e-01 -4.75293454e-02  1.47522693e-01\n",
      "  -2.59240407e-01 -5.10201113e-01 -2.71370775e-01]\n",
      " [-3.83118105e-01  2.70334863e-01 -4.11953399e-02 -4.17059209e-02\n",
      "   4.48189543e-03 -1.00905940e-01  6.08066164e-01 -6.05434397e-01\n",
      "  -4.26487423e-02 -7.22844162e-02 -4.38752114e-02  9.51451651e-03\n",
      "  -1.00712141e-01 -5.75678917e-02 -3.52738289e-02 -1.39443429e-02\n",
      "  -4.91158242e-02  1.87980585e-02 -2.34172022e-02 -8.29729516e-03\n",
      "   1.74356918e-02  6.52530679e-03 -9.25296315e-03  4.79838329e-04\n",
      "  -7.52444535e-03 -1.58439356e-02 -2.15257549e-02 -2.18211083e-02\n",
      "  -3.25506113e-02  6.78246403e-03  9.08266909e-03]\n",
      " [-3.26655423e-01  3.36709666e-01 -2.06681778e-02 -9.06505857e-02\n",
      "  -4.44062880e-03 -6.89039876e-02 -1.43842611e-01  1.99412716e-01\n",
      "   3.69065770e-02  7.55434321e-01 -1.35741826e-02 -1.61477155e-01\n",
      "  -2.53912106e-01 -3.86514548e-03 -1.16624245e-01 -3.10642035e-02\n",
      "  -6.52880726e-02  1.53551603e-02 -1.63077048e-02  2.63221950e-02\n",
      "   2.23872417e-02 -1.43196428e-02 -4.51169663e-02  3.77414143e-02\n",
      "  -4.06951407e-02 -6.80022787e-02 -6.98198609e-02  2.00634043e-02\n",
      "  -3.72947171e-02 -6.78957179e-02 -3.89615278e-02]\n",
      " [-2.89760048e-01  2.55800468e-01 -3.46426891e-02 -3.34836052e-02\n",
      "   8.93550630e-03 -6.73636740e-02 -8.59746214e-02  9.52035885e-02\n",
      "   3.07691153e-02 -7.59760859e-02  4.60031716e-03  5.99774048e-02\n",
      "   7.52772615e-01  4.37051336e-01 -1.43697721e-01 -1.78728922e-02\n",
      "  -6.47305872e-02  3.39981123e-02 -1.50627557e-02  2.35156761e-02\n",
      "   5.52930981e-02 -4.97122949e-03 -3.54812483e-02  6.91427059e-02\n",
      "  -9.23787304e-03 -2.99215708e-02 -1.32631371e-01 -4.82543577e-02\n",
      "  -3.61986699e-02  2.22097687e-02  1.65258046e-02]\n",
      " [-3.20485634e-01  3.44610044e-01 -3.50229853e-02 -7.12015302e-02\n",
      "  -2.21807179e-02 -8.90543537e-02 -1.53659441e-01  3.84913346e-01\n",
      "   3.29322593e-02 -6.31125147e-01  3.81874599e-02 -9.25520865e-02\n",
      "  -3.68939970e-01 -9.37959121e-02 -9.28932280e-02 -7.68998037e-02\n",
      "  -9.91534284e-02  3.51349581e-02 -1.91504825e-02  1.33679774e-03\n",
      "   1.55587363e-02 -4.23663228e-03 -4.54268481e-02  6.21312483e-03\n",
      "  -4.71657221e-02 -5.39949243e-02 -5.95185857e-02 -7.88269888e-03\n",
      "   1.21490581e-02 -1.72998743e-02 -1.30963642e-02]]\n"
     ]
    }
   ],
   "source": [
    "eigenvalues,eigenvectors=np.linalg.eig(cov_matrix)\n",
    "print('\\nEigen values: \\n',eigenvalues)\n",
    "\n",
    "print('\\n\\nEigen vectors: \\n',eigenvectors)"
   ]
  },
  {
   "cell_type": "code",
   "execution_count": 431,
   "metadata": {},
   "outputs": [
    {
     "data": {
      "text/plain": [
       "[(4.745461827747708,\n",
       "  array([-2.76173423e-01,  2.03934333e-03,  2.87771770e-03,  7.76006673e-03,\n",
       "         -2.51395354e-03, -7.48492008e-02,  1.49163875e-02,  7.42265556e-03,\n",
       "         -1.93127624e-03, -2.69906967e-02,  1.01249660e-02,  8.34241070e-04,\n",
       "         -3.83526543e-01, -1.37259297e-01,  1.00081483e-02, -5.43848474e-02,\n",
       "         -3.77669482e-01, -6.07972147e-03, -5.06167620e-02,  4.71678375e-03,\n",
       "          1.49720425e-02,  4.90211639e-05, -1.53081208e-02, -2.41155164e-02,\n",
       "         -4.01473436e-01,  1.10842732e-02, -1.37370054e-02, -3.83118105e-01,\n",
       "         -3.26655423e-01, -2.89760048e-01, -3.20485634e-01])),\n",
       " (1.9236977538571098,\n",
       "  array([-0.30473007,  0.01748074, -0.05980602, -0.22400271,  0.04385084,\n",
       "         -0.10952755,  0.11494965, -0.01592992, -0.00244123,  0.00272963,\n",
       "         -0.050436  , -0.0418727 , -0.19223947, -0.31356196,  0.03351214,\n",
       "         -0.14333016, -0.22325507, -0.05389746, -0.40019197, -0.03437086,\n",
       "          0.11026726,  0.13316623, -0.06287868, -0.09819024, -0.17861968,\n",
       "          0.06284496,  0.01925509,  0.27033486,  0.33670967,  0.25580047,\n",
       "          0.34461004])),\n",
       " (1.7903281130818458,\n",
       "  array([ 0.05273245, -0.0287867 ,  0.04031234,  0.11335656,  0.05451899,\n",
       "         -0.01378489, -0.07576297, -0.01396035, -0.05749913, -0.00218641,\n",
       "          0.00967402, -0.02429301,  0.00263978,  0.09871571,  0.01647284,\n",
       "          0.09842941,  0.01524326, -0.01378634,  0.04221229, -0.00204536,\n",
       "          0.68252593,  0.67850927, -0.05808245,  0.1030011 ,  0.02747123,\n",
       "         -0.0333631 , -0.0169102 , -0.04119534, -0.02066818, -0.03464269,\n",
       "         -0.03502299])),\n",
       " (1.6920513754549111,\n",
       "  array([ 0.04817481,  0.05872855, -0.09720421, -0.01776191, -0.06643565,\n",
       "          0.00870426,  0.01329928, -0.08481319, -0.00733435,  0.07833825,\n",
       "         -0.08358134, -0.07727455,  0.08613932,  0.08762016,  0.01664047,\n",
       "         -0.65292639,  0.09618268,  0.08515287,  0.05662053,  0.00976059,\n",
       "          0.09162724,  0.09083221,  0.07519128, -0.66933402,  0.06830783,\n",
       "         -0.00820509,  0.02791766, -0.04170592, -0.09065059, -0.03348361,\n",
       "         -0.07120153])),\n",
       " (0.04574214693180134,\n",
       "  array([-1.23494304e-02, -2.54114263e-03,  3.28430874e-03,  1.34574456e-02,\n",
       "         -1.44597341e-02,  5.32766297e-04,  1.29234139e-04,  2.38769458e-03,\n",
       "         -5.26801164e-03, -4.55689597e-03,  9.98660329e-03, -1.41884711e-03,\n",
       "          7.05267724e-01,  4.84804769e-02, -2.51874892e-03,  8.98484820e-04,\n",
       "         -7.06160653e-01, -3.28733321e-03,  5.16340761e-03,  5.79176291e-03,\n",
       "          6.90201376e-03, -1.92638836e-03,  2.02404025e-03, -5.32023467e-03,\n",
       "         -6.06230972e-03, -1.88140516e-03, -7.36011609e-03,  4.48189543e-03,\n",
       "         -4.44062880e-03,  8.93550630e-03, -2.21807179e-02])),\n",
       " (1.4361948574318806,\n",
       "  array([ 0.19301959, -0.07435776,  0.07475169, -0.60814331,  0.09218801,\n",
       "          0.22892694,  0.35114751, -0.01669288,  0.02819574,  0.09291246,\n",
       "          0.0479544 ,  0.00082966,  0.09800032, -0.49709866, -0.00527258,\n",
       "          0.00761362,  0.05124539,  0.03887163,  0.26587236,  0.07393426,\n",
       "          0.07699573,  0.06328801, -0.02148585,  0.04990428,  0.0858926 ,\n",
       "         -0.02779703, -0.0069369 , -0.10090594, -0.06890399, -0.06736367,\n",
       "         -0.08905435])),\n",
       " (0.14092557009283763,\n",
       "  array([ 2.35123883e-01,  1.31650523e-02,  2.32528298e-02,  3.33364344e-02,\n",
       "          8.63265616e-03, -5.69746792e-03,  1.04005637e-02,  1.34379537e-04,\n",
       "         -5.27524141e-03,  4.30302397e-03, -4.51747446e-03,  8.67184692e-03,\n",
       "          1.23844058e-01, -2.29301781e-02, -1.18542700e-02, -2.49533455e-02,\n",
       "          1.33057088e-01,  1.06787965e-02,  1.10209660e-01, -2.34049934e-03,\n",
       "         -2.76792052e-02,  4.42545242e-02, -2.28495554e-02,  1.20314271e-02,\n",
       "         -6.86259504e-01, -1.23790507e-02,  1.80857201e-03,  6.08066164e-01,\n",
       "         -1.43842611e-01, -8.59746214e-02, -1.53659441e-01])),\n",
       " (0.20042022895783618,\n",
       "  array([ 0.24495549,  0.0162386 , -0.0021594 ,  0.08427259,  0.00307851,\n",
       "         -0.01682033, -0.00320931,  0.00683788, -0.00991557, -0.00252983,\n",
       "          0.0087177 , -0.03492644,  0.21852224, -0.05001159,  0.00599133,\n",
       "          0.02256358,  0.19977751, -0.00698971, -0.02259471,  0.01496669,\n",
       "         -0.10614687,  0.09238251, -0.00112744, -0.04474728, -0.50389888,\n",
       "          0.00452328, -0.01029171, -0.6054344 ,  0.19941272,  0.09520359,\n",
       "          0.38491335])),\n",
       " (0.22256340882735526,\n",
       "  array([ 0.01872906,  0.028865  , -0.01926489,  0.06906213, -0.01245153,\n",
       "         -0.0163445 ,  0.01185855, -0.00119662, -0.00360047,  0.017242  ,\n",
       "          0.01081834, -0.01519079,  0.0488241 , -0.06948589, -0.01220141,\n",
       "          0.03859619,  0.05401664, -0.00302117,  0.00689754,  0.00765287,\n",
       "          0.69484417, -0.69357896,  0.00567037, -0.03953845, -0.09908355,\n",
       "         -0.0077325 ,  0.00490732, -0.04264874,  0.03690658,  0.03076912,\n",
       "          0.03293226])),\n",
       " (0.278730648273386,\n",
       "  array([ 2.31034124e-02,  6.51712115e-03, -3.70420204e-02,  5.97436543e-02,\n",
       "         -7.02097870e-03,  4.85734262e-03,  1.50406377e-02, -1.59249112e-03,\n",
       "         -2.05470753e-02, -7.96764403e-03,  2.57643319e-04,  7.36137447e-03,\n",
       "          3.06063420e-02, -4.49958706e-02, -2.61720460e-02, -3.49285798e-02,\n",
       "          4.25825889e-02, -1.91544135e-02, -2.59718181e-02, -7.66458573e-03,\n",
       "         -2.29176861e-02,  1.08279966e-02,  1.92158385e-02,  5.12849386e-03,\n",
       "         -4.81267590e-02,  3.24383226e-03, -4.99887901e-02, -7.22844162e-02,\n",
       "          7.55434321e-01, -7.59760859e-02, -6.31125147e-01])),\n",
       " (0.32424352721791544,\n",
       "  array([ 0.06024241, -0.00214264,  0.02608847,  0.02713026, -0.02806366,\n",
       "         -0.03430666,  0.02963632, -0.05069761, -0.00939939, -0.03933709,\n",
       "         -0.03379937,  0.01155453,  0.01350801,  0.03737523, -0.04576486,\n",
       "         -0.69979369,  0.00896657,  0.013516  , -0.03541827,  0.01556771,\n",
       "          0.02924374, -0.04437203,  0.01153092,  0.69575231,  0.00991894,\n",
       "         -0.01973838, -0.01936325, -0.04387521, -0.01357418,  0.00460032,\n",
       "          0.03818746])),\n",
       " (0.39250956061772735,\n",
       "  array([-0.36595932,  0.01753113,  0.011717  ,  0.52156332, -0.02124101,\n",
       "          0.02097001,  0.0515538 ,  0.01635289, -0.01897625,  0.04063578,\n",
       "          0.00280515,  0.01644871,  0.29239368, -0.61042448,  0.00159608,\n",
       "         -0.02150787,  0.26932489,  0.00795424, -0.01383998, -0.01250927,\n",
       "         -0.04802632,  0.07229198,  0.00545323,  0.02272577,  0.08756835,\n",
       "          0.02870474,  0.03272429,  0.00951452, -0.16147715,  0.0599774 ,\n",
       "         -0.09255209])),\n",
       " (0.5209716084161249,\n",
       "  array([ 0.33958188, -0.01863562,  0.04390903,  0.0203122 , -0.00490939,\n",
       "         -0.05222417,  0.02254441,  0.00687215, -0.02377511,  0.03220898,\n",
       "         -0.01400495,  0.04476263, -0.07547778, -0.04317106, -0.01942958,\n",
       "          0.01945667, -0.06455831, -0.03702205, -0.26722128, -0.06144723,\n",
       "         -0.00982014,  0.00198916, -0.05704548, -0.01826547,  0.00724605,\n",
       "         -0.04730891,  0.04972211, -0.10071214, -0.25391211,  0.75277262,\n",
       "         -0.36893997])),\n",
       " (0.5753671049220775,\n",
       "  array([-0.59518726, -0.0017665 , -0.01937273, -0.22259293,  0.02767293,\n",
       "          0.16879877, -0.03165337, -0.03797957,  0.02783125, -0.05077355,\n",
       "          0.05928955,  0.0595648 ,  0.11057835,  0.30263079,  0.05376823,\n",
       "         -0.02144905,  0.15138422, -0.00897081,  0.396598  ,  0.08930308,\n",
       "          0.01875658,  0.00871409, -0.02189937,  0.04902899, -0.19875536,\n",
       "          0.06179975, -0.09222696, -0.05756789, -0.00386515,  0.43705134,\n",
       "         -0.09379591])),\n",
       " (0.7576783537645005,\n",
       "  array([-0.1428448 , -0.00545019,  0.0300393 , -0.2465019 , -0.085134  ,\n",
       "          0.39517044, -0.24678143, -0.02552135,  0.24431555,  0.12309036,\n",
       "          0.01745473, -0.05094246,  0.2021543 ,  0.07975999, -0.14344754,\n",
       "          0.03958721,  0.20455138, -0.0530933 , -0.55166999, -0.21443433,\n",
       "          0.03901139,  0.01383241,  0.21598412,  0.0437874 , -0.05610525,\n",
       "         -0.19296773, -0.12671629, -0.03527383, -0.11662425, -0.14369772,\n",
       "         -0.09289323])),\n",
       " (1.1964076743839838,\n",
       "  array([-4.79417132e-02,  9.36336856e-02,  1.80239100e-01, -7.36236939e-02,\n",
       "         -7.53312666e-02, -3.58617205e-01,  9.29289565e-02, -3.53903711e-01,\n",
       "          3.27250537e-01,  4.66885621e-02, -3.68156606e-01, -1.60104110e-01,\n",
       "          9.27113036e-02,  4.20533770e-02,  3.41031658e-01,  1.23006712e-01,\n",
       "          9.13718903e-02,  1.42985059e-01, -1.21059380e-01,  4.30313543e-01,\n",
       "          3.10312003e-04,  5.65883654e-03,  1.40549881e-01,  6.17824771e-02,\n",
       "          5.65834162e-03, -1.04116298e-01, -1.15651585e-02, -1.39443429e-02,\n",
       "         -3.10642035e-02, -1.78728922e-02, -7.68998037e-02])),\n",
       " (1.1773160352552878,\n",
       "  array([-0.08235771, -0.11921245, -0.23071209, -0.1204184 , -0.16265597,\n",
       "         -0.15235354,  0.22125723,  0.26976487,  0.09243088,  0.03767254,\n",
       "         -0.19390427, -0.38304407,  0.13922245,  0.15060194, -0.0483674 ,\n",
       "          0.06129006,  0.14217176,  0.16076968, -0.09692716, -0.25012363,\n",
       "          0.0143117 ,  0.00671824, -0.30862613,  0.08656293, -0.00474704,\n",
       "          0.3495108 ,  0.36544525, -0.04911582, -0.06528807, -0.06473059,\n",
       "         -0.09915343])),\n",
       " (0.8238063710105353,\n",
       "  array([-0.04254209,  0.05734581, -0.01989738,  0.1364684 , -0.17359832,\n",
       "          0.01251543,  0.56198036,  0.20593311, -0.11566736,  0.22813466,\n",
       "          0.17737463, -0.03582971, -0.05163034,  0.16378249,  0.31856256,\n",
       "          0.03965502, -0.03218431,  0.23224116, -0.01595412, -0.27041661,\n",
       "          0.00787718,  0.02383548,  0.33213213,  0.04087743, -0.03046499,\n",
       "         -0.24875166, -0.22337065,  0.01879806,  0.01535516,  0.03399811,\n",
       "          0.03513496])),\n",
       " (0.8478558955269382,\n",
       "  array([ 0.00619044, -0.04839599, -0.31064905, -0.1253013 ,  0.12877246,\n",
       "         -0.44691275, -0.21395812,  0.11209796,  0.30038331,  0.31619149,\n",
       "          0.0594761 ,  0.21251676,  0.05999619, -0.08261608,  0.24244277,\n",
       "         -0.03840821,  0.04395684, -0.38712182,  0.17327572, -0.30634755,\n",
       "          0.00098748,  0.00779898,  0.06070163,  0.035725  ,  0.02121778,\n",
       "         -0.13609278,  0.01006594, -0.0234172 , -0.0163077 , -0.01506276,\n",
       "         -0.01915048])),\n",
       " (0.8715786735766065,\n",
       "  array([-8.99228926e-02,  2.98514837e-02,  3.50363257e-01, -1.48281094e-01,\n",
       "         -1.03779932e-01, -1.68279290e-01, -1.91839210e-01,  5.40209231e-01,\n",
       "         -3.39095412e-01,  7.55034193e-02, -4.14353543e-01,  5.13846691e-03,\n",
       "          2.62707661e-02, -4.51702881e-02, -1.57226627e-01, -1.22296081e-02,\n",
       "          2.53786936e-02, -4.55211823e-02,  8.57383664e-02,  6.64550276e-02,\n",
       "          3.83818806e-03,  4.91078660e-04,  2.32597750e-01, -9.46952737e-03,\n",
       "         -1.43460107e-02, -2.57938363e-01,  1.47709617e-01, -8.29729516e-03,\n",
       "          2.63221950e-02,  2.35156761e-02,  1.33679774e-03])),\n",
       " (1.1188621647072532,\n",
       "  array([ 2.45368559e-04,  1.60451868e-02, -3.26053605e-01,  1.06826545e-01,\n",
       "          3.71041719e-01,  5.14130277e-02, -2.16275649e-02,  3.71006650e-01,\n",
       "          3.34599912e-01,  1.31472445e-01,  8.05871920e-02, -8.79068267e-02,\n",
       "         -5.39416046e-02,  6.58319455e-03, -2.41271720e-01, -2.15604428e-02,\n",
       "         -5.82404168e-02,  3.62411737e-01, -6.12784526e-03,  3.87015115e-01,\n",
       "         -8.28350292e-03,  1.12433797e-02, -7.53619262e-02,  1.21005501e-02,\n",
       "         -7.91987102e-03, -3.21977440e-01, -9.30688913e-03,  1.74356918e-02,\n",
       "          2.23872417e-02,  5.52930981e-02,  1.55587363e-02])),\n",
       " (1.0869126178039021,\n",
       "  array([ 0.02220026, -0.44744155, -0.10026348,  0.02367416,  0.10586057,\n",
       "          0.11529972, -0.05508462,  0.11562674, -0.01954872, -0.52980197,\n",
       "         -0.23430632, -0.19536675,  0.01785318, -0.06086048,  0.37871718,\n",
       "         -0.04580368,  0.01491671, -0.05803455,  0.00409819, -0.12355458,\n",
       "         -0.01499485, -0.04816684, -0.181419  , -0.04767795,  0.01417078,\n",
       "         -0.3349859 , -0.23406771,  0.00652531, -0.01431964, -0.00497123,\n",
       "         -0.00423663])),\n",
       " (1.0825921192371004,\n",
       "  array([ 0.00911349,  0.19541178, -0.02175913, -0.13426755,  0.19343505,\n",
       "         -0.07589834, -0.34685563,  0.01893478, -0.4211036 ,  0.31366156,\n",
       "          0.04753832, -0.15866768,  0.06433784, -0.05896457,  0.2929979 ,\n",
       "         -0.00176462,  0.05465797,  0.30513376, -0.10148475, -0.00394021,\n",
       "         -0.04188557, -0.05211613, -0.29440014,  0.048539  ,  0.02895353,\n",
       "          0.15678268, -0.38987327, -0.00925296, -0.04511697, -0.03548125,\n",
       "         -0.04542685])),\n",
       " (0.8955459374713004,\n",
       "  array([ 1.06435002e-02,  5.47425326e-01,  2.63795382e-01,  3.48146424e-03,\n",
       "          2.06224480e-01, -4.99017588e-02, -8.72965135e-02, -5.97782968e-02,\n",
       "          2.41267265e-01, -2.52254208e-01,  5.00134372e-02, -4.02155450e-01,\n",
       "         -4.81461347e-02, -8.35466285e-02, -7.47755285e-02, -8.87376029e-03,\n",
       "         -5.99241906e-02,  8.90376641e-02,  2.09820135e-01, -4.34544002e-01,\n",
       "         -1.56288093e-02,  5.91567687e-04,  9.39474271e-03,  2.31123257e-03,\n",
       "          2.22802171e-02, -1.42798120e-01,  3.89504543e-02,  4.79838329e-04,\n",
       "          3.77414143e-02,  6.91427059e-02,  6.21312483e-03])),\n",
       " (1.0275944122559244,\n",
       "  array([-0.07044565, -0.36916638,  0.05171446, -0.13633593,  0.30682439,\n",
       "         -0.42700135, -0.04053644, -0.14537509, -0.18878753, -0.23300357,\n",
       "          0.35223776, -0.05535102,  0.11009174,  0.00766431, -0.18900785,\n",
       "          0.01106894,  0.11146835,  0.28839659, -0.09353092, -0.08014916,\n",
       "          0.00060369, -0.00906993,  0.38544601, -0.02270041,  0.00056344,\n",
       "          0.04807491,  0.08295063, -0.00752445, -0.04069514, -0.00923787,\n",
       "         -0.04716572])),\n",
       " (1.018803251947962,\n",
       "  array([ 0.01667833,  0.41427234, -0.51004385, -0.0853665 ,  0.18177171,\n",
       "          0.14349724,  0.02177047, -0.03280247, -0.33144289, -0.25632506,\n",
       "         -0.07593331,  0.02428441,  0.05420982,  0.00255829,  0.22529189,\n",
       "          0.06267848,  0.04619564, -0.12145502, -0.10761378,  0.12379687,\n",
       "          0.00564729,  0.01789639,  0.28838831,  0.0861417 , -0.00125417,\n",
       "         -0.03618662,  0.34815751, -0.01584394, -0.06800228, -0.02992157,\n",
       "         -0.05399492])),\n",
       " (1.0039340695132648,\n",
       "  array([-0.0881743 ,  0.21007236,  0.24867578, -0.06096056,  0.18714002,\n",
       "         -0.21043103,  0.32879105,  0.17680146, -0.07117962, -0.14808   ,\n",
       "          0.30029024,  0.07910912,  0.15946682,  0.18115292, -0.01525475,\n",
       "         -0.05836798,  0.17666728, -0.37527613, -0.25444679,  0.18450998,\n",
       "         -0.01216998, -0.02068748, -0.38020345, -0.08276308,  0.03770755,\n",
       "         -0.15999434, -0.04752935, -0.02152575, -0.06981986, -0.13263137,\n",
       "         -0.05951859])),\n",
       " (0.9874796211616376,\n",
       "  array([ 0.0224506 ,  0.07180431,  0.24768587, -0.00691939,  0.23277713,\n",
       "          0.10022621, -0.02038517,  0.24052339,  0.23883109, -0.17969925,\n",
       "         -0.10765531,  0.58912276,  0.03233871,  0.02708681,  0.31017589,\n",
       "         -0.05883169,  0.02038155,  0.35072836, -0.11078161, -0.14090024,\n",
       "          0.04389704,  0.00137917, -0.00679407, -0.04022254, -0.00453944,\n",
       "          0.2771503 ,  0.14752269, -0.02182111,  0.0200634 , -0.04825436,\n",
       "         -0.0078827 ])),\n",
       " (0.9324307843775655,\n",
       "  array([-5.79318234e-02,  7.26057429e-02, -1.79622794e-01,  7.96872570e-03,\n",
       "          2.38984738e-01, -1.14540431e-01,  2.61764396e-01, -2.80149338e-01,\n",
       "         -1.34918577e-01,  2.29158361e-02, -5.08303276e-01,  3.08168127e-01,\n",
       "          4.82174311e-02,  8.02942044e-02, -4.04162359e-01,  8.26417352e-02,\n",
       "          4.16779897e-02,  9.25131619e-02,  6.86615498e-04, -2.66227173e-01,\n",
       "         -9.47202995e-03, -7.46450559e-03, -1.36235094e-01, -3.52960098e-03,\n",
       "         -3.11617912e-04, -1.40659129e-01, -2.59240407e-01, -3.25506113e-02,\n",
       "         -3.72947171e-02, -3.61986699e-02,  1.21490581e-02])),\n",
       " (0.9496524099201138,\n",
       "  array([ 7.38836147e-02,  2.27052323e-01, -2.33264468e-01, -1.22888518e-01,\n",
       "         -3.93047661e-01, -2.27035759e-01, -3.49555346e-02,  2.62571051e-01,\n",
       "          1.39890918e-01, -3.93076707e-01,  4.08858748e-02,  8.88851233e-02,\n",
       "          3.82754563e-02, -1.12971326e-01, -1.67925520e-01,  2.83095387e-02,\n",
       "          4.32187558e-02,  3.91719615e-02, -4.36260599e-05,  1.04746988e-01,\n",
       "          4.61859772e-02,  5.95140308e-02,  1.40656252e-01, -7.59574548e-03,\n",
       "          4.33736354e-02,  2.50743822e-01, -5.10201113e-01,  6.78246403e-03,\n",
       "         -6.78957179e-02,  2.22097687e-02, -1.72998743e-02])),\n",
       " (0.9534446672698929,\n",
       "  array([ 5.12193237e-02, -7.76786536e-02,  9.46266544e-02,  1.24456701e-01,\n",
       "          4.75372000e-01,  1.18323381e-01,  1.52008984e-01,  1.68739535e-01,\n",
       "          7.92778524e-02,  1.07506340e-01, -2.11822667e-01, -2.64717875e-01,\n",
       "         -2.63968034e-02,  7.13057558e-02, -8.50383831e-03, -2.71745677e-02,\n",
       "         -2.65366747e-02, -3.51102687e-01, -1.77975433e-02,  6.48933665e-02,\n",
       "         -1.42290877e-04, -1.43107009e-02,  3.34234314e-01, -7.76984984e-03,\n",
       "          6.78274537e-03,  4.68769641e-01, -2.71370775e-01,  9.08266909e-03,\n",
       "         -3.89615278e-02,  1.65258046e-02, -1.30963642e-02]))]"
      ]
     },
     "execution_count": 431,
     "metadata": {},
     "output_type": "execute_result"
    }
   ],
   "source": [
    "#amke e.value -- e.vector pair\n",
    "\n",
    "eig_pair=[(eigenvalues[index],eigenvectors[:,index]) for index in range(len(eigenvalues)) ]\n",
    "eig_pair\n",
    "\n",
    "#in e.vectors the data is sorted in col wise\n",
    "# in e.pair, tha data is sorted in row wise"
   ]
  },
  {
   "cell_type": "code",
   "execution_count": 432,
   "metadata": {
    "scrolled": false
   },
   "outputs": [
    {
     "data": {
      "text/plain": [
       "[(4.745461827747708,\n",
       "  array([-2.76173423e-01,  2.03934333e-03,  2.87771770e-03,  7.76006673e-03,\n",
       "         -2.51395354e-03, -7.48492008e-02,  1.49163875e-02,  7.42265556e-03,\n",
       "         -1.93127624e-03, -2.69906967e-02,  1.01249660e-02,  8.34241070e-04,\n",
       "         -3.83526543e-01, -1.37259297e-01,  1.00081483e-02, -5.43848474e-02,\n",
       "         -3.77669482e-01, -6.07972147e-03, -5.06167620e-02,  4.71678375e-03,\n",
       "          1.49720425e-02,  4.90211639e-05, -1.53081208e-02, -2.41155164e-02,\n",
       "         -4.01473436e-01,  1.10842732e-02, -1.37370054e-02, -3.83118105e-01,\n",
       "         -3.26655423e-01, -2.89760048e-01, -3.20485634e-01])),\n",
       " (1.9236977538571098,\n",
       "  array([-0.30473007,  0.01748074, -0.05980602, -0.22400271,  0.04385084,\n",
       "         -0.10952755,  0.11494965, -0.01592992, -0.00244123,  0.00272963,\n",
       "         -0.050436  , -0.0418727 , -0.19223947, -0.31356196,  0.03351214,\n",
       "         -0.14333016, -0.22325507, -0.05389746, -0.40019197, -0.03437086,\n",
       "          0.11026726,  0.13316623, -0.06287868, -0.09819024, -0.17861968,\n",
       "          0.06284496,  0.01925509,  0.27033486,  0.33670967,  0.25580047,\n",
       "          0.34461004])),\n",
       " (1.7903281130818458,\n",
       "  array([ 0.05273245, -0.0287867 ,  0.04031234,  0.11335656,  0.05451899,\n",
       "         -0.01378489, -0.07576297, -0.01396035, -0.05749913, -0.00218641,\n",
       "          0.00967402, -0.02429301,  0.00263978,  0.09871571,  0.01647284,\n",
       "          0.09842941,  0.01524326, -0.01378634,  0.04221229, -0.00204536,\n",
       "          0.68252593,  0.67850927, -0.05808245,  0.1030011 ,  0.02747123,\n",
       "         -0.0333631 , -0.0169102 , -0.04119534, -0.02066818, -0.03464269,\n",
       "         -0.03502299])),\n",
       " (1.6920513754549111,\n",
       "  array([ 0.04817481,  0.05872855, -0.09720421, -0.01776191, -0.06643565,\n",
       "          0.00870426,  0.01329928, -0.08481319, -0.00733435,  0.07833825,\n",
       "         -0.08358134, -0.07727455,  0.08613932,  0.08762016,  0.01664047,\n",
       "         -0.65292639,  0.09618268,  0.08515287,  0.05662053,  0.00976059,\n",
       "          0.09162724,  0.09083221,  0.07519128, -0.66933402,  0.06830783,\n",
       "         -0.00820509,  0.02791766, -0.04170592, -0.09065059, -0.03348361,\n",
       "         -0.07120153])),\n",
       " (1.4361948574318806,\n",
       "  array([ 0.19301959, -0.07435776,  0.07475169, -0.60814331,  0.09218801,\n",
       "          0.22892694,  0.35114751, -0.01669288,  0.02819574,  0.09291246,\n",
       "          0.0479544 ,  0.00082966,  0.09800032, -0.49709866, -0.00527258,\n",
       "          0.00761362,  0.05124539,  0.03887163,  0.26587236,  0.07393426,\n",
       "          0.07699573,  0.06328801, -0.02148585,  0.04990428,  0.0858926 ,\n",
       "         -0.02779703, -0.0069369 , -0.10090594, -0.06890399, -0.06736367,\n",
       "         -0.08905435])),\n",
       " (1.1964076743839838,\n",
       "  array([-4.79417132e-02,  9.36336856e-02,  1.80239100e-01, -7.36236939e-02,\n",
       "         -7.53312666e-02, -3.58617205e-01,  9.29289565e-02, -3.53903711e-01,\n",
       "          3.27250537e-01,  4.66885621e-02, -3.68156606e-01, -1.60104110e-01,\n",
       "          9.27113036e-02,  4.20533770e-02,  3.41031658e-01,  1.23006712e-01,\n",
       "          9.13718903e-02,  1.42985059e-01, -1.21059380e-01,  4.30313543e-01,\n",
       "          3.10312003e-04,  5.65883654e-03,  1.40549881e-01,  6.17824771e-02,\n",
       "          5.65834162e-03, -1.04116298e-01, -1.15651585e-02, -1.39443429e-02,\n",
       "         -3.10642035e-02, -1.78728922e-02, -7.68998037e-02])),\n",
       " (1.1773160352552878,\n",
       "  array([-0.08235771, -0.11921245, -0.23071209, -0.1204184 , -0.16265597,\n",
       "         -0.15235354,  0.22125723,  0.26976487,  0.09243088,  0.03767254,\n",
       "         -0.19390427, -0.38304407,  0.13922245,  0.15060194, -0.0483674 ,\n",
       "          0.06129006,  0.14217176,  0.16076968, -0.09692716, -0.25012363,\n",
       "          0.0143117 ,  0.00671824, -0.30862613,  0.08656293, -0.00474704,\n",
       "          0.3495108 ,  0.36544525, -0.04911582, -0.06528807, -0.06473059,\n",
       "         -0.09915343])),\n",
       " (1.1188621647072532,\n",
       "  array([ 2.45368559e-04,  1.60451868e-02, -3.26053605e-01,  1.06826545e-01,\n",
       "          3.71041719e-01,  5.14130277e-02, -2.16275649e-02,  3.71006650e-01,\n",
       "          3.34599912e-01,  1.31472445e-01,  8.05871920e-02, -8.79068267e-02,\n",
       "         -5.39416046e-02,  6.58319455e-03, -2.41271720e-01, -2.15604428e-02,\n",
       "         -5.82404168e-02,  3.62411737e-01, -6.12784526e-03,  3.87015115e-01,\n",
       "         -8.28350292e-03,  1.12433797e-02, -7.53619262e-02,  1.21005501e-02,\n",
       "         -7.91987102e-03, -3.21977440e-01, -9.30688913e-03,  1.74356918e-02,\n",
       "          2.23872417e-02,  5.52930981e-02,  1.55587363e-02])),\n",
       " (1.0869126178039021,\n",
       "  array([ 0.02220026, -0.44744155, -0.10026348,  0.02367416,  0.10586057,\n",
       "          0.11529972, -0.05508462,  0.11562674, -0.01954872, -0.52980197,\n",
       "         -0.23430632, -0.19536675,  0.01785318, -0.06086048,  0.37871718,\n",
       "         -0.04580368,  0.01491671, -0.05803455,  0.00409819, -0.12355458,\n",
       "         -0.01499485, -0.04816684, -0.181419  , -0.04767795,  0.01417078,\n",
       "         -0.3349859 , -0.23406771,  0.00652531, -0.01431964, -0.00497123,\n",
       "         -0.00423663])),\n",
       " (1.0825921192371004,\n",
       "  array([ 0.00911349,  0.19541178, -0.02175913, -0.13426755,  0.19343505,\n",
       "         -0.07589834, -0.34685563,  0.01893478, -0.4211036 ,  0.31366156,\n",
       "          0.04753832, -0.15866768,  0.06433784, -0.05896457,  0.2929979 ,\n",
       "         -0.00176462,  0.05465797,  0.30513376, -0.10148475, -0.00394021,\n",
       "         -0.04188557, -0.05211613, -0.29440014,  0.048539  ,  0.02895353,\n",
       "          0.15678268, -0.38987327, -0.00925296, -0.04511697, -0.03548125,\n",
       "         -0.04542685])),\n",
       " (1.0275944122559244,\n",
       "  array([-0.07044565, -0.36916638,  0.05171446, -0.13633593,  0.30682439,\n",
       "         -0.42700135, -0.04053644, -0.14537509, -0.18878753, -0.23300357,\n",
       "          0.35223776, -0.05535102,  0.11009174,  0.00766431, -0.18900785,\n",
       "          0.01106894,  0.11146835,  0.28839659, -0.09353092, -0.08014916,\n",
       "          0.00060369, -0.00906993,  0.38544601, -0.02270041,  0.00056344,\n",
       "          0.04807491,  0.08295063, -0.00752445, -0.04069514, -0.00923787,\n",
       "         -0.04716572])),\n",
       " (1.018803251947962,\n",
       "  array([ 0.01667833,  0.41427234, -0.51004385, -0.0853665 ,  0.18177171,\n",
       "          0.14349724,  0.02177047, -0.03280247, -0.33144289, -0.25632506,\n",
       "         -0.07593331,  0.02428441,  0.05420982,  0.00255829,  0.22529189,\n",
       "          0.06267848,  0.04619564, -0.12145502, -0.10761378,  0.12379687,\n",
       "          0.00564729,  0.01789639,  0.28838831,  0.0861417 , -0.00125417,\n",
       "         -0.03618662,  0.34815751, -0.01584394, -0.06800228, -0.02992157,\n",
       "         -0.05399492])),\n",
       " (1.0039340695132648,\n",
       "  array([-0.0881743 ,  0.21007236,  0.24867578, -0.06096056,  0.18714002,\n",
       "         -0.21043103,  0.32879105,  0.17680146, -0.07117962, -0.14808   ,\n",
       "          0.30029024,  0.07910912,  0.15946682,  0.18115292, -0.01525475,\n",
       "         -0.05836798,  0.17666728, -0.37527613, -0.25444679,  0.18450998,\n",
       "         -0.01216998, -0.02068748, -0.38020345, -0.08276308,  0.03770755,\n",
       "         -0.15999434, -0.04752935, -0.02152575, -0.06981986, -0.13263137,\n",
       "         -0.05951859])),\n",
       " (0.9874796211616376,\n",
       "  array([ 0.0224506 ,  0.07180431,  0.24768587, -0.00691939,  0.23277713,\n",
       "          0.10022621, -0.02038517,  0.24052339,  0.23883109, -0.17969925,\n",
       "         -0.10765531,  0.58912276,  0.03233871,  0.02708681,  0.31017589,\n",
       "         -0.05883169,  0.02038155,  0.35072836, -0.11078161, -0.14090024,\n",
       "          0.04389704,  0.00137917, -0.00679407, -0.04022254, -0.00453944,\n",
       "          0.2771503 ,  0.14752269, -0.02182111,  0.0200634 , -0.04825436,\n",
       "         -0.0078827 ])),\n",
       " (0.9534446672698929,\n",
       "  array([ 5.12193237e-02, -7.76786536e-02,  9.46266544e-02,  1.24456701e-01,\n",
       "          4.75372000e-01,  1.18323381e-01,  1.52008984e-01,  1.68739535e-01,\n",
       "          7.92778524e-02,  1.07506340e-01, -2.11822667e-01, -2.64717875e-01,\n",
       "         -2.63968034e-02,  7.13057558e-02, -8.50383831e-03, -2.71745677e-02,\n",
       "         -2.65366747e-02, -3.51102687e-01, -1.77975433e-02,  6.48933665e-02,\n",
       "         -1.42290877e-04, -1.43107009e-02,  3.34234314e-01, -7.76984984e-03,\n",
       "          6.78274537e-03,  4.68769641e-01, -2.71370775e-01,  9.08266909e-03,\n",
       "         -3.89615278e-02,  1.65258046e-02, -1.30963642e-02])),\n",
       " (0.9496524099201138,\n",
       "  array([ 7.38836147e-02,  2.27052323e-01, -2.33264468e-01, -1.22888518e-01,\n",
       "         -3.93047661e-01, -2.27035759e-01, -3.49555346e-02,  2.62571051e-01,\n",
       "          1.39890918e-01, -3.93076707e-01,  4.08858748e-02,  8.88851233e-02,\n",
       "          3.82754563e-02, -1.12971326e-01, -1.67925520e-01,  2.83095387e-02,\n",
       "          4.32187558e-02,  3.91719615e-02, -4.36260599e-05,  1.04746988e-01,\n",
       "          4.61859772e-02,  5.95140308e-02,  1.40656252e-01, -7.59574548e-03,\n",
       "          4.33736354e-02,  2.50743822e-01, -5.10201113e-01,  6.78246403e-03,\n",
       "         -6.78957179e-02,  2.22097687e-02, -1.72998743e-02])),\n",
       " (0.9324307843775655,\n",
       "  array([-5.79318234e-02,  7.26057429e-02, -1.79622794e-01,  7.96872570e-03,\n",
       "          2.38984738e-01, -1.14540431e-01,  2.61764396e-01, -2.80149338e-01,\n",
       "         -1.34918577e-01,  2.29158361e-02, -5.08303276e-01,  3.08168127e-01,\n",
       "          4.82174311e-02,  8.02942044e-02, -4.04162359e-01,  8.26417352e-02,\n",
       "          4.16779897e-02,  9.25131619e-02,  6.86615498e-04, -2.66227173e-01,\n",
       "         -9.47202995e-03, -7.46450559e-03, -1.36235094e-01, -3.52960098e-03,\n",
       "         -3.11617912e-04, -1.40659129e-01, -2.59240407e-01, -3.25506113e-02,\n",
       "         -3.72947171e-02, -3.61986699e-02,  1.21490581e-02])),\n",
       " (0.8955459374713004,\n",
       "  array([ 1.06435002e-02,  5.47425326e-01,  2.63795382e-01,  3.48146424e-03,\n",
       "          2.06224480e-01, -4.99017588e-02, -8.72965135e-02, -5.97782968e-02,\n",
       "          2.41267265e-01, -2.52254208e-01,  5.00134372e-02, -4.02155450e-01,\n",
       "         -4.81461347e-02, -8.35466285e-02, -7.47755285e-02, -8.87376029e-03,\n",
       "         -5.99241906e-02,  8.90376641e-02,  2.09820135e-01, -4.34544002e-01,\n",
       "         -1.56288093e-02,  5.91567687e-04,  9.39474271e-03,  2.31123257e-03,\n",
       "          2.22802171e-02, -1.42798120e-01,  3.89504543e-02,  4.79838329e-04,\n",
       "          3.77414143e-02,  6.91427059e-02,  6.21312483e-03])),\n",
       " (0.8715786735766065,\n",
       "  array([-8.99228926e-02,  2.98514837e-02,  3.50363257e-01, -1.48281094e-01,\n",
       "         -1.03779932e-01, -1.68279290e-01, -1.91839210e-01,  5.40209231e-01,\n",
       "         -3.39095412e-01,  7.55034193e-02, -4.14353543e-01,  5.13846691e-03,\n",
       "          2.62707661e-02, -4.51702881e-02, -1.57226627e-01, -1.22296081e-02,\n",
       "          2.53786936e-02, -4.55211823e-02,  8.57383664e-02,  6.64550276e-02,\n",
       "          3.83818806e-03,  4.91078660e-04,  2.32597750e-01, -9.46952737e-03,\n",
       "         -1.43460107e-02, -2.57938363e-01,  1.47709617e-01, -8.29729516e-03,\n",
       "          2.63221950e-02,  2.35156761e-02,  1.33679774e-03])),\n",
       " (0.8478558955269382,\n",
       "  array([ 0.00619044, -0.04839599, -0.31064905, -0.1253013 ,  0.12877246,\n",
       "         -0.44691275, -0.21395812,  0.11209796,  0.30038331,  0.31619149,\n",
       "          0.0594761 ,  0.21251676,  0.05999619, -0.08261608,  0.24244277,\n",
       "         -0.03840821,  0.04395684, -0.38712182,  0.17327572, -0.30634755,\n",
       "          0.00098748,  0.00779898,  0.06070163,  0.035725  ,  0.02121778,\n",
       "         -0.13609278,  0.01006594, -0.0234172 , -0.0163077 , -0.01506276,\n",
       "         -0.01915048])),\n",
       " (0.8238063710105353,\n",
       "  array([-0.04254209,  0.05734581, -0.01989738,  0.1364684 , -0.17359832,\n",
       "          0.01251543,  0.56198036,  0.20593311, -0.11566736,  0.22813466,\n",
       "          0.17737463, -0.03582971, -0.05163034,  0.16378249,  0.31856256,\n",
       "          0.03965502, -0.03218431,  0.23224116, -0.01595412, -0.27041661,\n",
       "          0.00787718,  0.02383548,  0.33213213,  0.04087743, -0.03046499,\n",
       "         -0.24875166, -0.22337065,  0.01879806,  0.01535516,  0.03399811,\n",
       "          0.03513496])),\n",
       " (0.7576783537645005,\n",
       "  array([-0.1428448 , -0.00545019,  0.0300393 , -0.2465019 , -0.085134  ,\n",
       "          0.39517044, -0.24678143, -0.02552135,  0.24431555,  0.12309036,\n",
       "          0.01745473, -0.05094246,  0.2021543 ,  0.07975999, -0.14344754,\n",
       "          0.03958721,  0.20455138, -0.0530933 , -0.55166999, -0.21443433,\n",
       "          0.03901139,  0.01383241,  0.21598412,  0.0437874 , -0.05610525,\n",
       "         -0.19296773, -0.12671629, -0.03527383, -0.11662425, -0.14369772,\n",
       "         -0.09289323])),\n",
       " (0.5753671049220775,\n",
       "  array([-0.59518726, -0.0017665 , -0.01937273, -0.22259293,  0.02767293,\n",
       "          0.16879877, -0.03165337, -0.03797957,  0.02783125, -0.05077355,\n",
       "          0.05928955,  0.0595648 ,  0.11057835,  0.30263079,  0.05376823,\n",
       "         -0.02144905,  0.15138422, -0.00897081,  0.396598  ,  0.08930308,\n",
       "          0.01875658,  0.00871409, -0.02189937,  0.04902899, -0.19875536,\n",
       "          0.06179975, -0.09222696, -0.05756789, -0.00386515,  0.43705134,\n",
       "         -0.09379591])),\n",
       " (0.5209716084161249,\n",
       "  array([ 0.33958188, -0.01863562,  0.04390903,  0.0203122 , -0.00490939,\n",
       "         -0.05222417,  0.02254441,  0.00687215, -0.02377511,  0.03220898,\n",
       "         -0.01400495,  0.04476263, -0.07547778, -0.04317106, -0.01942958,\n",
       "          0.01945667, -0.06455831, -0.03702205, -0.26722128, -0.06144723,\n",
       "         -0.00982014,  0.00198916, -0.05704548, -0.01826547,  0.00724605,\n",
       "         -0.04730891,  0.04972211, -0.10071214, -0.25391211,  0.75277262,\n",
       "         -0.36893997])),\n",
       " (0.39250956061772735,\n",
       "  array([-0.36595932,  0.01753113,  0.011717  ,  0.52156332, -0.02124101,\n",
       "          0.02097001,  0.0515538 ,  0.01635289, -0.01897625,  0.04063578,\n",
       "          0.00280515,  0.01644871,  0.29239368, -0.61042448,  0.00159608,\n",
       "         -0.02150787,  0.26932489,  0.00795424, -0.01383998, -0.01250927,\n",
       "         -0.04802632,  0.07229198,  0.00545323,  0.02272577,  0.08756835,\n",
       "          0.02870474,  0.03272429,  0.00951452, -0.16147715,  0.0599774 ,\n",
       "         -0.09255209])),\n",
       " (0.32424352721791544,\n",
       "  array([ 0.06024241, -0.00214264,  0.02608847,  0.02713026, -0.02806366,\n",
       "         -0.03430666,  0.02963632, -0.05069761, -0.00939939, -0.03933709,\n",
       "         -0.03379937,  0.01155453,  0.01350801,  0.03737523, -0.04576486,\n",
       "         -0.69979369,  0.00896657,  0.013516  , -0.03541827,  0.01556771,\n",
       "          0.02924374, -0.04437203,  0.01153092,  0.69575231,  0.00991894,\n",
       "         -0.01973838, -0.01936325, -0.04387521, -0.01357418,  0.00460032,\n",
       "          0.03818746])),\n",
       " (0.278730648273386,\n",
       "  array([ 2.31034124e-02,  6.51712115e-03, -3.70420204e-02,  5.97436543e-02,\n",
       "         -7.02097870e-03,  4.85734262e-03,  1.50406377e-02, -1.59249112e-03,\n",
       "         -2.05470753e-02, -7.96764403e-03,  2.57643319e-04,  7.36137447e-03,\n",
       "          3.06063420e-02, -4.49958706e-02, -2.61720460e-02, -3.49285798e-02,\n",
       "          4.25825889e-02, -1.91544135e-02, -2.59718181e-02, -7.66458573e-03,\n",
       "         -2.29176861e-02,  1.08279966e-02,  1.92158385e-02,  5.12849386e-03,\n",
       "         -4.81267590e-02,  3.24383226e-03, -4.99887901e-02, -7.22844162e-02,\n",
       "          7.55434321e-01, -7.59760859e-02, -6.31125147e-01])),\n",
       " (0.22256340882735526,\n",
       "  array([ 0.01872906,  0.028865  , -0.01926489,  0.06906213, -0.01245153,\n",
       "         -0.0163445 ,  0.01185855, -0.00119662, -0.00360047,  0.017242  ,\n",
       "          0.01081834, -0.01519079,  0.0488241 , -0.06948589, -0.01220141,\n",
       "          0.03859619,  0.05401664, -0.00302117,  0.00689754,  0.00765287,\n",
       "          0.69484417, -0.69357896,  0.00567037, -0.03953845, -0.09908355,\n",
       "         -0.0077325 ,  0.00490732, -0.04264874,  0.03690658,  0.03076912,\n",
       "          0.03293226])),\n",
       " (0.20042022895783618,\n",
       "  array([ 0.24495549,  0.0162386 , -0.0021594 ,  0.08427259,  0.00307851,\n",
       "         -0.01682033, -0.00320931,  0.00683788, -0.00991557, -0.00252983,\n",
       "          0.0087177 , -0.03492644,  0.21852224, -0.05001159,  0.00599133,\n",
       "          0.02256358,  0.19977751, -0.00698971, -0.02259471,  0.01496669,\n",
       "         -0.10614687,  0.09238251, -0.00112744, -0.04474728, -0.50389888,\n",
       "          0.00452328, -0.01029171, -0.6054344 ,  0.19941272,  0.09520359,\n",
       "          0.38491335])),\n",
       " (0.14092557009283763,\n",
       "  array([ 2.35123883e-01,  1.31650523e-02,  2.32528298e-02,  3.33364344e-02,\n",
       "          8.63265616e-03, -5.69746792e-03,  1.04005637e-02,  1.34379537e-04,\n",
       "         -5.27524141e-03,  4.30302397e-03, -4.51747446e-03,  8.67184692e-03,\n",
       "          1.23844058e-01, -2.29301781e-02, -1.18542700e-02, -2.49533455e-02,\n",
       "          1.33057088e-01,  1.06787965e-02,  1.10209660e-01, -2.34049934e-03,\n",
       "         -2.76792052e-02,  4.42545242e-02, -2.28495554e-02,  1.20314271e-02,\n",
       "         -6.86259504e-01, -1.23790507e-02,  1.80857201e-03,  6.08066164e-01,\n",
       "         -1.43842611e-01, -8.59746214e-02, -1.53659441e-01])),\n",
       " (0.04574214693180134,\n",
       "  array([-1.23494304e-02, -2.54114263e-03,  3.28430874e-03,  1.34574456e-02,\n",
       "         -1.44597341e-02,  5.32766297e-04,  1.29234139e-04,  2.38769458e-03,\n",
       "         -5.26801164e-03, -4.55689597e-03,  9.98660329e-03, -1.41884711e-03,\n",
       "          7.05267724e-01,  4.84804769e-02, -2.51874892e-03,  8.98484820e-04,\n",
       "         -7.06160653e-01, -3.28733321e-03,  5.16340761e-03,  5.79176291e-03,\n",
       "          6.90201376e-03, -1.92638836e-03,  2.02404025e-03, -5.32023467e-03,\n",
       "         -6.06230972e-03, -1.88140516e-03, -7.36011609e-03,  4.48189543e-03,\n",
       "         -4.44062880e-03,  8.93550630e-03, -2.21807179e-02]))]"
      ]
     },
     "execution_count": 432,
     "metadata": {},
     "output_type": "execute_result"
    }
   ],
   "source": [
    "#to sort the eig pari in sorted way. (PC1, PC2, PC3 ... )\n",
    "eig_pair.sort()\n",
    "eig_pair.reverse()\n",
    "eig_pair"
   ]
  },
  {
   "cell_type": "code",
   "execution_count": 433,
   "metadata": {},
   "outputs": [
    {
     "name": "stdout",
     "output_type": "stream",
     "text": [
      "\n",
      "Cummulative variance explained:  [ 15.29752781  21.49878303  27.27010626  32.72462342  37.35435844\n",
      "  41.2111126   45.00632273  48.61310026  52.11688485  55.60674182\n",
      "  58.91930753  62.20353394  65.43982788  68.62307906  71.69661476\n",
      "  74.75792568  77.76372077  80.65061343  83.46024492  86.19340338\n",
      "  88.84903551  91.29149656  93.14625688  94.82566722  96.09096576\n",
      "  97.13620109  98.03472056  98.75217864  99.3982557   99.85254507\n",
      " 100.        ]\n"
     ]
    }
   ],
   "source": [
    "tot=sum(eigenvalues)  #total of all eigen values\n",
    "\n",
    "var_exp=[(i/tot)*100 for i in sorted(eigenvalues,reverse=True)] #converting e.values to percentage variation\n",
    "\n",
    "cum_var=np.cumsum(var_exp) #adding up the percentage score.\n",
    "\n",
    "print('\\nCummulative variance explained: ',cum_var)"
   ]
  },
  {
   "cell_type": "code",
   "execution_count": 434,
   "metadata": {},
   "outputs": [
    {
     "name": "stdout",
     "output_type": "stream",
     "text": [
      "\n",
      "Eigen values [4.745461827747708, 1.9236977538571098, 1.7903281130818458, 1.6920513754549111, 1.4361948574318806, 1.1964076743839838, 1.1773160352552878, 1.1188621647072532, 1.0869126178039021, 1.0825921192371004, 1.0275944122559244, 1.018803251947962, 1.0039340695132648, 0.9874796211616376, 0.9534446672698929, 0.9496524099201138, 0.9324307843775655, 0.8955459374713004, 0.8715786735766065, 0.8478558955269382, 0.8238063710105353, 0.7576783537645005, 0.5753671049220775, 0.5209716084161249, 0.39250956061772735, 0.32424352721791544, 0.278730648273386, 0.22256340882735526, 0.20042022895783618, 0.14092557009283763, 0.04574214693180134]\n",
      "\n",
      "Eigen vectors \n",
      " [array([-2.76173423e-01,  2.03934333e-03,  2.87771770e-03,  7.76006673e-03,\n",
      "       -2.51395354e-03, -7.48492008e-02,  1.49163875e-02,  7.42265556e-03,\n",
      "       -1.93127624e-03, -2.69906967e-02,  1.01249660e-02,  8.34241070e-04,\n",
      "       -3.83526543e-01, -1.37259297e-01,  1.00081483e-02, -5.43848474e-02,\n",
      "       -3.77669482e-01, -6.07972147e-03, -5.06167620e-02,  4.71678375e-03,\n",
      "        1.49720425e-02,  4.90211639e-05, -1.53081208e-02, -2.41155164e-02,\n",
      "       -4.01473436e-01,  1.10842732e-02, -1.37370054e-02, -3.83118105e-01,\n",
      "       -3.26655423e-01, -2.89760048e-01, -3.20485634e-01]), array([-0.30473007,  0.01748074, -0.05980602, -0.22400271,  0.04385084,\n",
      "       -0.10952755,  0.11494965, -0.01592992, -0.00244123,  0.00272963,\n",
      "       -0.050436  , -0.0418727 , -0.19223947, -0.31356196,  0.03351214,\n",
      "       -0.14333016, -0.22325507, -0.05389746, -0.40019197, -0.03437086,\n",
      "        0.11026726,  0.13316623, -0.06287868, -0.09819024, -0.17861968,\n",
      "        0.06284496,  0.01925509,  0.27033486,  0.33670967,  0.25580047,\n",
      "        0.34461004]), array([ 0.05273245, -0.0287867 ,  0.04031234,  0.11335656,  0.05451899,\n",
      "       -0.01378489, -0.07576297, -0.01396035, -0.05749913, -0.00218641,\n",
      "        0.00967402, -0.02429301,  0.00263978,  0.09871571,  0.01647284,\n",
      "        0.09842941,  0.01524326, -0.01378634,  0.04221229, -0.00204536,\n",
      "        0.68252593,  0.67850927, -0.05808245,  0.1030011 ,  0.02747123,\n",
      "       -0.0333631 , -0.0169102 , -0.04119534, -0.02066818, -0.03464269,\n",
      "       -0.03502299]), array([ 0.04817481,  0.05872855, -0.09720421, -0.01776191, -0.06643565,\n",
      "        0.00870426,  0.01329928, -0.08481319, -0.00733435,  0.07833825,\n",
      "       -0.08358134, -0.07727455,  0.08613932,  0.08762016,  0.01664047,\n",
      "       -0.65292639,  0.09618268,  0.08515287,  0.05662053,  0.00976059,\n",
      "        0.09162724,  0.09083221,  0.07519128, -0.66933402,  0.06830783,\n",
      "       -0.00820509,  0.02791766, -0.04170592, -0.09065059, -0.03348361,\n",
      "       -0.07120153]), array([ 0.19301959, -0.07435776,  0.07475169, -0.60814331,  0.09218801,\n",
      "        0.22892694,  0.35114751, -0.01669288,  0.02819574,  0.09291246,\n",
      "        0.0479544 ,  0.00082966,  0.09800032, -0.49709866, -0.00527258,\n",
      "        0.00761362,  0.05124539,  0.03887163,  0.26587236,  0.07393426,\n",
      "        0.07699573,  0.06328801, -0.02148585,  0.04990428,  0.0858926 ,\n",
      "       -0.02779703, -0.0069369 , -0.10090594, -0.06890399, -0.06736367,\n",
      "       -0.08905435]), array([-4.79417132e-02,  9.36336856e-02,  1.80239100e-01, -7.36236939e-02,\n",
      "       -7.53312666e-02, -3.58617205e-01,  9.29289565e-02, -3.53903711e-01,\n",
      "        3.27250537e-01,  4.66885621e-02, -3.68156606e-01, -1.60104110e-01,\n",
      "        9.27113036e-02,  4.20533770e-02,  3.41031658e-01,  1.23006712e-01,\n",
      "        9.13718903e-02,  1.42985059e-01, -1.21059380e-01,  4.30313543e-01,\n",
      "        3.10312003e-04,  5.65883654e-03,  1.40549881e-01,  6.17824771e-02,\n",
      "        5.65834162e-03, -1.04116298e-01, -1.15651585e-02, -1.39443429e-02,\n",
      "       -3.10642035e-02, -1.78728922e-02, -7.68998037e-02]), array([-0.08235771, -0.11921245, -0.23071209, -0.1204184 , -0.16265597,\n",
      "       -0.15235354,  0.22125723,  0.26976487,  0.09243088,  0.03767254,\n",
      "       -0.19390427, -0.38304407,  0.13922245,  0.15060194, -0.0483674 ,\n",
      "        0.06129006,  0.14217176,  0.16076968, -0.09692716, -0.25012363,\n",
      "        0.0143117 ,  0.00671824, -0.30862613,  0.08656293, -0.00474704,\n",
      "        0.3495108 ,  0.36544525, -0.04911582, -0.06528807, -0.06473059,\n",
      "       -0.09915343]), array([ 2.45368559e-04,  1.60451868e-02, -3.26053605e-01,  1.06826545e-01,\n",
      "        3.71041719e-01,  5.14130277e-02, -2.16275649e-02,  3.71006650e-01,\n",
      "        3.34599912e-01,  1.31472445e-01,  8.05871920e-02, -8.79068267e-02,\n",
      "       -5.39416046e-02,  6.58319455e-03, -2.41271720e-01, -2.15604428e-02,\n",
      "       -5.82404168e-02,  3.62411737e-01, -6.12784526e-03,  3.87015115e-01,\n",
      "       -8.28350292e-03,  1.12433797e-02, -7.53619262e-02,  1.21005501e-02,\n",
      "       -7.91987102e-03, -3.21977440e-01, -9.30688913e-03,  1.74356918e-02,\n",
      "        2.23872417e-02,  5.52930981e-02,  1.55587363e-02]), array([ 0.02220026, -0.44744155, -0.10026348,  0.02367416,  0.10586057,\n",
      "        0.11529972, -0.05508462,  0.11562674, -0.01954872, -0.52980197,\n",
      "       -0.23430632, -0.19536675,  0.01785318, -0.06086048,  0.37871718,\n",
      "       -0.04580368,  0.01491671, -0.05803455,  0.00409819, -0.12355458,\n",
      "       -0.01499485, -0.04816684, -0.181419  , -0.04767795,  0.01417078,\n",
      "       -0.3349859 , -0.23406771,  0.00652531, -0.01431964, -0.00497123,\n",
      "       -0.00423663]), array([ 0.00911349,  0.19541178, -0.02175913, -0.13426755,  0.19343505,\n",
      "       -0.07589834, -0.34685563,  0.01893478, -0.4211036 ,  0.31366156,\n",
      "        0.04753832, -0.15866768,  0.06433784, -0.05896457,  0.2929979 ,\n",
      "       -0.00176462,  0.05465797,  0.30513376, -0.10148475, -0.00394021,\n",
      "       -0.04188557, -0.05211613, -0.29440014,  0.048539  ,  0.02895353,\n",
      "        0.15678268, -0.38987327, -0.00925296, -0.04511697, -0.03548125,\n",
      "       -0.04542685]), array([-0.07044565, -0.36916638,  0.05171446, -0.13633593,  0.30682439,\n",
      "       -0.42700135, -0.04053644, -0.14537509, -0.18878753, -0.23300357,\n",
      "        0.35223776, -0.05535102,  0.11009174,  0.00766431, -0.18900785,\n",
      "        0.01106894,  0.11146835,  0.28839659, -0.09353092, -0.08014916,\n",
      "        0.00060369, -0.00906993,  0.38544601, -0.02270041,  0.00056344,\n",
      "        0.04807491,  0.08295063, -0.00752445, -0.04069514, -0.00923787,\n",
      "       -0.04716572]), array([ 0.01667833,  0.41427234, -0.51004385, -0.0853665 ,  0.18177171,\n",
      "        0.14349724,  0.02177047, -0.03280247, -0.33144289, -0.25632506,\n",
      "       -0.07593331,  0.02428441,  0.05420982,  0.00255829,  0.22529189,\n",
      "        0.06267848,  0.04619564, -0.12145502, -0.10761378,  0.12379687,\n",
      "        0.00564729,  0.01789639,  0.28838831,  0.0861417 , -0.00125417,\n",
      "       -0.03618662,  0.34815751, -0.01584394, -0.06800228, -0.02992157,\n",
      "       -0.05399492]), array([-0.0881743 ,  0.21007236,  0.24867578, -0.06096056,  0.18714002,\n",
      "       -0.21043103,  0.32879105,  0.17680146, -0.07117962, -0.14808   ,\n",
      "        0.30029024,  0.07910912,  0.15946682,  0.18115292, -0.01525475,\n",
      "       -0.05836798,  0.17666728, -0.37527613, -0.25444679,  0.18450998,\n",
      "       -0.01216998, -0.02068748, -0.38020345, -0.08276308,  0.03770755,\n",
      "       -0.15999434, -0.04752935, -0.02152575, -0.06981986, -0.13263137,\n",
      "       -0.05951859]), array([ 0.0224506 ,  0.07180431,  0.24768587, -0.00691939,  0.23277713,\n",
      "        0.10022621, -0.02038517,  0.24052339,  0.23883109, -0.17969925,\n",
      "       -0.10765531,  0.58912276,  0.03233871,  0.02708681,  0.31017589,\n",
      "       -0.05883169,  0.02038155,  0.35072836, -0.11078161, -0.14090024,\n",
      "        0.04389704,  0.00137917, -0.00679407, -0.04022254, -0.00453944,\n",
      "        0.2771503 ,  0.14752269, -0.02182111,  0.0200634 , -0.04825436,\n",
      "       -0.0078827 ]), array([ 5.12193237e-02, -7.76786536e-02,  9.46266544e-02,  1.24456701e-01,\n",
      "        4.75372000e-01,  1.18323381e-01,  1.52008984e-01,  1.68739535e-01,\n",
      "        7.92778524e-02,  1.07506340e-01, -2.11822667e-01, -2.64717875e-01,\n",
      "       -2.63968034e-02,  7.13057558e-02, -8.50383831e-03, -2.71745677e-02,\n",
      "       -2.65366747e-02, -3.51102687e-01, -1.77975433e-02,  6.48933665e-02,\n",
      "       -1.42290877e-04, -1.43107009e-02,  3.34234314e-01, -7.76984984e-03,\n",
      "        6.78274537e-03,  4.68769641e-01, -2.71370775e-01,  9.08266909e-03,\n",
      "       -3.89615278e-02,  1.65258046e-02, -1.30963642e-02]), array([ 7.38836147e-02,  2.27052323e-01, -2.33264468e-01, -1.22888518e-01,\n",
      "       -3.93047661e-01, -2.27035759e-01, -3.49555346e-02,  2.62571051e-01,\n",
      "        1.39890918e-01, -3.93076707e-01,  4.08858748e-02,  8.88851233e-02,\n",
      "        3.82754563e-02, -1.12971326e-01, -1.67925520e-01,  2.83095387e-02,\n",
      "        4.32187558e-02,  3.91719615e-02, -4.36260599e-05,  1.04746988e-01,\n",
      "        4.61859772e-02,  5.95140308e-02,  1.40656252e-01, -7.59574548e-03,\n",
      "        4.33736354e-02,  2.50743822e-01, -5.10201113e-01,  6.78246403e-03,\n",
      "       -6.78957179e-02,  2.22097687e-02, -1.72998743e-02]), array([-5.79318234e-02,  7.26057429e-02, -1.79622794e-01,  7.96872570e-03,\n",
      "        2.38984738e-01, -1.14540431e-01,  2.61764396e-01, -2.80149338e-01,\n",
      "       -1.34918577e-01,  2.29158361e-02, -5.08303276e-01,  3.08168127e-01,\n",
      "        4.82174311e-02,  8.02942044e-02, -4.04162359e-01,  8.26417352e-02,\n",
      "        4.16779897e-02,  9.25131619e-02,  6.86615498e-04, -2.66227173e-01,\n",
      "       -9.47202995e-03, -7.46450559e-03, -1.36235094e-01, -3.52960098e-03,\n",
      "       -3.11617912e-04, -1.40659129e-01, -2.59240407e-01, -3.25506113e-02,\n",
      "       -3.72947171e-02, -3.61986699e-02,  1.21490581e-02]), array([ 1.06435002e-02,  5.47425326e-01,  2.63795382e-01,  3.48146424e-03,\n",
      "        2.06224480e-01, -4.99017588e-02, -8.72965135e-02, -5.97782968e-02,\n",
      "        2.41267265e-01, -2.52254208e-01,  5.00134372e-02, -4.02155450e-01,\n",
      "       -4.81461347e-02, -8.35466285e-02, -7.47755285e-02, -8.87376029e-03,\n",
      "       -5.99241906e-02,  8.90376641e-02,  2.09820135e-01, -4.34544002e-01,\n",
      "       -1.56288093e-02,  5.91567687e-04,  9.39474271e-03,  2.31123257e-03,\n",
      "        2.22802171e-02, -1.42798120e-01,  3.89504543e-02,  4.79838329e-04,\n",
      "        3.77414143e-02,  6.91427059e-02,  6.21312483e-03]), array([-8.99228926e-02,  2.98514837e-02,  3.50363257e-01, -1.48281094e-01,\n",
      "       -1.03779932e-01, -1.68279290e-01, -1.91839210e-01,  5.40209231e-01,\n",
      "       -3.39095412e-01,  7.55034193e-02, -4.14353543e-01,  5.13846691e-03,\n",
      "        2.62707661e-02, -4.51702881e-02, -1.57226627e-01, -1.22296081e-02,\n",
      "        2.53786936e-02, -4.55211823e-02,  8.57383664e-02,  6.64550276e-02,\n",
      "        3.83818806e-03,  4.91078660e-04,  2.32597750e-01, -9.46952737e-03,\n",
      "       -1.43460107e-02, -2.57938363e-01,  1.47709617e-01, -8.29729516e-03,\n",
      "        2.63221950e-02,  2.35156761e-02,  1.33679774e-03]), array([ 0.00619044, -0.04839599, -0.31064905, -0.1253013 ,  0.12877246,\n",
      "       -0.44691275, -0.21395812,  0.11209796,  0.30038331,  0.31619149,\n",
      "        0.0594761 ,  0.21251676,  0.05999619, -0.08261608,  0.24244277,\n",
      "       -0.03840821,  0.04395684, -0.38712182,  0.17327572, -0.30634755,\n",
      "        0.00098748,  0.00779898,  0.06070163,  0.035725  ,  0.02121778,\n",
      "       -0.13609278,  0.01006594, -0.0234172 , -0.0163077 , -0.01506276,\n",
      "       -0.01915048]), array([-0.04254209,  0.05734581, -0.01989738,  0.1364684 , -0.17359832,\n",
      "        0.01251543,  0.56198036,  0.20593311, -0.11566736,  0.22813466,\n",
      "        0.17737463, -0.03582971, -0.05163034,  0.16378249,  0.31856256,\n",
      "        0.03965502, -0.03218431,  0.23224116, -0.01595412, -0.27041661,\n",
      "        0.00787718,  0.02383548,  0.33213213,  0.04087743, -0.03046499,\n",
      "       -0.24875166, -0.22337065,  0.01879806,  0.01535516,  0.03399811,\n",
      "        0.03513496]), array([-0.1428448 , -0.00545019,  0.0300393 , -0.2465019 , -0.085134  ,\n",
      "        0.39517044, -0.24678143, -0.02552135,  0.24431555,  0.12309036,\n",
      "        0.01745473, -0.05094246,  0.2021543 ,  0.07975999, -0.14344754,\n",
      "        0.03958721,  0.20455138, -0.0530933 , -0.55166999, -0.21443433,\n",
      "        0.03901139,  0.01383241,  0.21598412,  0.0437874 , -0.05610525,\n",
      "       -0.19296773, -0.12671629, -0.03527383, -0.11662425, -0.14369772,\n",
      "       -0.09289323]), array([-0.59518726, -0.0017665 , -0.01937273, -0.22259293,  0.02767293,\n",
      "        0.16879877, -0.03165337, -0.03797957,  0.02783125, -0.05077355,\n",
      "        0.05928955,  0.0595648 ,  0.11057835,  0.30263079,  0.05376823,\n",
      "       -0.02144905,  0.15138422, -0.00897081,  0.396598  ,  0.08930308,\n",
      "        0.01875658,  0.00871409, -0.02189937,  0.04902899, -0.19875536,\n",
      "        0.06179975, -0.09222696, -0.05756789, -0.00386515,  0.43705134,\n",
      "       -0.09379591]), array([ 0.33958188, -0.01863562,  0.04390903,  0.0203122 , -0.00490939,\n",
      "       -0.05222417,  0.02254441,  0.00687215, -0.02377511,  0.03220898,\n",
      "       -0.01400495,  0.04476263, -0.07547778, -0.04317106, -0.01942958,\n",
      "        0.01945667, -0.06455831, -0.03702205, -0.26722128, -0.06144723,\n",
      "       -0.00982014,  0.00198916, -0.05704548, -0.01826547,  0.00724605,\n",
      "       -0.04730891,  0.04972211, -0.10071214, -0.25391211,  0.75277262,\n",
      "       -0.36893997]), array([-0.36595932,  0.01753113,  0.011717  ,  0.52156332, -0.02124101,\n",
      "        0.02097001,  0.0515538 ,  0.01635289, -0.01897625,  0.04063578,\n",
      "        0.00280515,  0.01644871,  0.29239368, -0.61042448,  0.00159608,\n",
      "       -0.02150787,  0.26932489,  0.00795424, -0.01383998, -0.01250927,\n",
      "       -0.04802632,  0.07229198,  0.00545323,  0.02272577,  0.08756835,\n",
      "        0.02870474,  0.03272429,  0.00951452, -0.16147715,  0.0599774 ,\n",
      "       -0.09255209]), array([ 0.06024241, -0.00214264,  0.02608847,  0.02713026, -0.02806366,\n",
      "       -0.03430666,  0.02963632, -0.05069761, -0.00939939, -0.03933709,\n",
      "       -0.03379937,  0.01155453,  0.01350801,  0.03737523, -0.04576486,\n",
      "       -0.69979369,  0.00896657,  0.013516  , -0.03541827,  0.01556771,\n",
      "        0.02924374, -0.04437203,  0.01153092,  0.69575231,  0.00991894,\n",
      "       -0.01973838, -0.01936325, -0.04387521, -0.01357418,  0.00460032,\n",
      "        0.03818746]), array([ 2.31034124e-02,  6.51712115e-03, -3.70420204e-02,  5.97436543e-02,\n",
      "       -7.02097870e-03,  4.85734262e-03,  1.50406377e-02, -1.59249112e-03,\n",
      "       -2.05470753e-02, -7.96764403e-03,  2.57643319e-04,  7.36137447e-03,\n",
      "        3.06063420e-02, -4.49958706e-02, -2.61720460e-02, -3.49285798e-02,\n",
      "        4.25825889e-02, -1.91544135e-02, -2.59718181e-02, -7.66458573e-03,\n",
      "       -2.29176861e-02,  1.08279966e-02,  1.92158385e-02,  5.12849386e-03,\n",
      "       -4.81267590e-02,  3.24383226e-03, -4.99887901e-02, -7.22844162e-02,\n",
      "        7.55434321e-01, -7.59760859e-02, -6.31125147e-01]), array([ 0.01872906,  0.028865  , -0.01926489,  0.06906213, -0.01245153,\n",
      "       -0.0163445 ,  0.01185855, -0.00119662, -0.00360047,  0.017242  ,\n",
      "        0.01081834, -0.01519079,  0.0488241 , -0.06948589, -0.01220141,\n",
      "        0.03859619,  0.05401664, -0.00302117,  0.00689754,  0.00765287,\n",
      "        0.69484417, -0.69357896,  0.00567037, -0.03953845, -0.09908355,\n",
      "       -0.0077325 ,  0.00490732, -0.04264874,  0.03690658,  0.03076912,\n",
      "        0.03293226]), array([ 0.24495549,  0.0162386 , -0.0021594 ,  0.08427259,  0.00307851,\n",
      "       -0.01682033, -0.00320931,  0.00683788, -0.00991557, -0.00252983,\n",
      "        0.0087177 , -0.03492644,  0.21852224, -0.05001159,  0.00599133,\n",
      "        0.02256358,  0.19977751, -0.00698971, -0.02259471,  0.01496669,\n",
      "       -0.10614687,  0.09238251, -0.00112744, -0.04474728, -0.50389888,\n",
      "        0.00452328, -0.01029171, -0.6054344 ,  0.19941272,  0.09520359,\n",
      "        0.38491335]), array([ 2.35123883e-01,  1.31650523e-02,  2.32528298e-02,  3.33364344e-02,\n",
      "        8.63265616e-03, -5.69746792e-03,  1.04005637e-02,  1.34379537e-04,\n",
      "       -5.27524141e-03,  4.30302397e-03, -4.51747446e-03,  8.67184692e-03,\n",
      "        1.23844058e-01, -2.29301781e-02, -1.18542700e-02, -2.49533455e-02,\n",
      "        1.33057088e-01,  1.06787965e-02,  1.10209660e-01, -2.34049934e-03,\n",
      "       -2.76792052e-02,  4.42545242e-02, -2.28495554e-02,  1.20314271e-02,\n",
      "       -6.86259504e-01, -1.23790507e-02,  1.80857201e-03,  6.08066164e-01,\n",
      "       -1.43842611e-01, -8.59746214e-02, -1.53659441e-01]), array([-1.23494304e-02, -2.54114263e-03,  3.28430874e-03,  1.34574456e-02,\n",
      "       -1.44597341e-02,  5.32766297e-04,  1.29234139e-04,  2.38769458e-03,\n",
      "       -5.26801164e-03, -4.55689597e-03,  9.98660329e-03, -1.41884711e-03,\n",
      "        7.05267724e-01,  4.84804769e-02, -2.51874892e-03,  8.98484820e-04,\n",
      "       -7.06160653e-01, -3.28733321e-03,  5.16340761e-03,  5.79176291e-03,\n",
      "        6.90201376e-03, -1.92638836e-03,  2.02404025e-03, -5.32023467e-03,\n",
      "       -6.06230972e-03, -1.88140516e-03, -7.36011609e-03,  4.48189543e-03,\n",
      "       -4.44062880e-03,  8.93550630e-03, -2.21807179e-02])]\n"
     ]
    }
   ],
   "source": [
    "#to get the eigen vectors alone for dot product\n",
    "eigen_values_sort=[eig_pair[index][0] for index in range(len(eig_pair))]\n",
    "\n",
    "eigen_vectors_sort=[eig_pair[index][1] for index in range(len(eig_pair))]\n",
    "\n",
    "print('\\nEigen values',eigen_values_sort)\n",
    "print('\\nEigen vectors \\n',eigen_vectors_sort)"
   ]
  },
  {
   "cell_type": "code",
   "execution_count": 435,
   "metadata": {},
   "outputs": [
    {
     "data": {
      "text/html": [
       "<div>\n",
       "<style scoped>\n",
       "    .dataframe tbody tr th:only-of-type {\n",
       "        vertical-align: middle;\n",
       "    }\n",
       "\n",
       "    .dataframe tbody tr th {\n",
       "        vertical-align: top;\n",
       "    }\n",
       "\n",
       "    .dataframe thead th {\n",
       "        text-align: right;\n",
       "    }\n",
       "</style>\n",
       "<table border=\"1\" class=\"dataframe\">\n",
       "  <thead>\n",
       "    <tr style=\"text-align: right;\">\n",
       "      <th></th>\n",
       "      <th>0</th>\n",
       "      <th>1</th>\n",
       "      <th>2</th>\n",
       "      <th>3</th>\n",
       "      <th>4</th>\n",
       "      <th>5</th>\n",
       "      <th>6</th>\n",
       "      <th>7</th>\n",
       "      <th>8</th>\n",
       "      <th>9</th>\n",
       "      <th>...</th>\n",
       "      <th>15</th>\n",
       "      <th>16</th>\n",
       "      <th>17</th>\n",
       "      <th>18</th>\n",
       "      <th>19</th>\n",
       "      <th>20</th>\n",
       "      <th>21</th>\n",
       "      <th>22</th>\n",
       "      <th>23</th>\n",
       "      <th>24</th>\n",
       "    </tr>\n",
       "  </thead>\n",
       "  <tbody>\n",
       "    <tr>\n",
       "      <th>0</th>\n",
       "      <td>-0.276173</td>\n",
       "      <td>-0.304730</td>\n",
       "      <td>0.052732</td>\n",
       "      <td>0.048175</td>\n",
       "      <td>0.193020</td>\n",
       "      <td>-0.047942</td>\n",
       "      <td>-0.082358</td>\n",
       "      <td>0.000245</td>\n",
       "      <td>0.022200</td>\n",
       "      <td>0.009113</td>\n",
       "      <td>...</td>\n",
       "      <td>0.073884</td>\n",
       "      <td>-0.057932</td>\n",
       "      <td>0.010644</td>\n",
       "      <td>-0.089923</td>\n",
       "      <td>0.006190</td>\n",
       "      <td>-0.042542</td>\n",
       "      <td>-0.142845</td>\n",
       "      <td>-0.595187</td>\n",
       "      <td>0.339582</td>\n",
       "      <td>-0.365959</td>\n",
       "    </tr>\n",
       "    <tr>\n",
       "      <th>1</th>\n",
       "      <td>0.002039</td>\n",
       "      <td>0.017481</td>\n",
       "      <td>-0.028787</td>\n",
       "      <td>0.058729</td>\n",
       "      <td>-0.074358</td>\n",
       "      <td>0.093634</td>\n",
       "      <td>-0.119212</td>\n",
       "      <td>0.016045</td>\n",
       "      <td>-0.447442</td>\n",
       "      <td>0.195412</td>\n",
       "      <td>...</td>\n",
       "      <td>0.227052</td>\n",
       "      <td>0.072606</td>\n",
       "      <td>0.547425</td>\n",
       "      <td>0.029851</td>\n",
       "      <td>-0.048396</td>\n",
       "      <td>0.057346</td>\n",
       "      <td>-0.005450</td>\n",
       "      <td>-0.001766</td>\n",
       "      <td>-0.018636</td>\n",
       "      <td>0.017531</td>\n",
       "    </tr>\n",
       "    <tr>\n",
       "      <th>2</th>\n",
       "      <td>0.002878</td>\n",
       "      <td>-0.059806</td>\n",
       "      <td>0.040312</td>\n",
       "      <td>-0.097204</td>\n",
       "      <td>0.074752</td>\n",
       "      <td>0.180239</td>\n",
       "      <td>-0.230712</td>\n",
       "      <td>-0.326054</td>\n",
       "      <td>-0.100263</td>\n",
       "      <td>-0.021759</td>\n",
       "      <td>...</td>\n",
       "      <td>-0.233264</td>\n",
       "      <td>-0.179623</td>\n",
       "      <td>0.263795</td>\n",
       "      <td>0.350363</td>\n",
       "      <td>-0.310649</td>\n",
       "      <td>-0.019897</td>\n",
       "      <td>0.030039</td>\n",
       "      <td>-0.019373</td>\n",
       "      <td>0.043909</td>\n",
       "      <td>0.011717</td>\n",
       "    </tr>\n",
       "    <tr>\n",
       "      <th>3</th>\n",
       "      <td>0.007760</td>\n",
       "      <td>-0.224003</td>\n",
       "      <td>0.113357</td>\n",
       "      <td>-0.017762</td>\n",
       "      <td>-0.608143</td>\n",
       "      <td>-0.073624</td>\n",
       "      <td>-0.120418</td>\n",
       "      <td>0.106827</td>\n",
       "      <td>0.023674</td>\n",
       "      <td>-0.134268</td>\n",
       "      <td>...</td>\n",
       "      <td>-0.122889</td>\n",
       "      <td>0.007969</td>\n",
       "      <td>0.003481</td>\n",
       "      <td>-0.148281</td>\n",
       "      <td>-0.125301</td>\n",
       "      <td>0.136468</td>\n",
       "      <td>-0.246502</td>\n",
       "      <td>-0.222593</td>\n",
       "      <td>0.020312</td>\n",
       "      <td>0.521563</td>\n",
       "    </tr>\n",
       "    <tr>\n",
       "      <th>4</th>\n",
       "      <td>-0.002514</td>\n",
       "      <td>0.043851</td>\n",
       "      <td>0.054519</td>\n",
       "      <td>-0.066436</td>\n",
       "      <td>0.092188</td>\n",
       "      <td>-0.075331</td>\n",
       "      <td>-0.162656</td>\n",
       "      <td>0.371042</td>\n",
       "      <td>0.105861</td>\n",
       "      <td>0.193435</td>\n",
       "      <td>...</td>\n",
       "      <td>-0.393048</td>\n",
       "      <td>0.238985</td>\n",
       "      <td>0.206224</td>\n",
       "      <td>-0.103780</td>\n",
       "      <td>0.128772</td>\n",
       "      <td>-0.173598</td>\n",
       "      <td>-0.085134</td>\n",
       "      <td>0.027673</td>\n",
       "      <td>-0.004909</td>\n",
       "      <td>-0.021241</td>\n",
       "    </tr>\n",
       "    <tr>\n",
       "      <th>5</th>\n",
       "      <td>-0.074849</td>\n",
       "      <td>-0.109528</td>\n",
       "      <td>-0.013785</td>\n",
       "      <td>0.008704</td>\n",
       "      <td>0.228927</td>\n",
       "      <td>-0.358617</td>\n",
       "      <td>-0.152354</td>\n",
       "      <td>0.051413</td>\n",
       "      <td>0.115300</td>\n",
       "      <td>-0.075898</td>\n",
       "      <td>...</td>\n",
       "      <td>-0.227036</td>\n",
       "      <td>-0.114540</td>\n",
       "      <td>-0.049902</td>\n",
       "      <td>-0.168279</td>\n",
       "      <td>-0.446913</td>\n",
       "      <td>0.012515</td>\n",
       "      <td>0.395170</td>\n",
       "      <td>0.168799</td>\n",
       "      <td>-0.052224</td>\n",
       "      <td>0.020970</td>\n",
       "    </tr>\n",
       "    <tr>\n",
       "      <th>6</th>\n",
       "      <td>0.014916</td>\n",
       "      <td>0.114950</td>\n",
       "      <td>-0.075763</td>\n",
       "      <td>0.013299</td>\n",
       "      <td>0.351148</td>\n",
       "      <td>0.092929</td>\n",
       "      <td>0.221257</td>\n",
       "      <td>-0.021628</td>\n",
       "      <td>-0.055085</td>\n",
       "      <td>-0.346856</td>\n",
       "      <td>...</td>\n",
       "      <td>-0.034956</td>\n",
       "      <td>0.261764</td>\n",
       "      <td>-0.087297</td>\n",
       "      <td>-0.191839</td>\n",
       "      <td>-0.213958</td>\n",
       "      <td>0.561980</td>\n",
       "      <td>-0.246781</td>\n",
       "      <td>-0.031653</td>\n",
       "      <td>0.022544</td>\n",
       "      <td>0.051554</td>\n",
       "    </tr>\n",
       "    <tr>\n",
       "      <th>7</th>\n",
       "      <td>0.007423</td>\n",
       "      <td>-0.015930</td>\n",
       "      <td>-0.013960</td>\n",
       "      <td>-0.084813</td>\n",
       "      <td>-0.016693</td>\n",
       "      <td>-0.353904</td>\n",
       "      <td>0.269765</td>\n",
       "      <td>0.371007</td>\n",
       "      <td>0.115627</td>\n",
       "      <td>0.018935</td>\n",
       "      <td>...</td>\n",
       "      <td>0.262571</td>\n",
       "      <td>-0.280149</td>\n",
       "      <td>-0.059778</td>\n",
       "      <td>0.540209</td>\n",
       "      <td>0.112098</td>\n",
       "      <td>0.205933</td>\n",
       "      <td>-0.025521</td>\n",
       "      <td>-0.037980</td>\n",
       "      <td>0.006872</td>\n",
       "      <td>0.016353</td>\n",
       "    </tr>\n",
       "    <tr>\n",
       "      <th>8</th>\n",
       "      <td>-0.001931</td>\n",
       "      <td>-0.002441</td>\n",
       "      <td>-0.057499</td>\n",
       "      <td>-0.007334</td>\n",
       "      <td>0.028196</td>\n",
       "      <td>0.327251</td>\n",
       "      <td>0.092431</td>\n",
       "      <td>0.334600</td>\n",
       "      <td>-0.019549</td>\n",
       "      <td>-0.421104</td>\n",
       "      <td>...</td>\n",
       "      <td>0.139891</td>\n",
       "      <td>-0.134919</td>\n",
       "      <td>0.241267</td>\n",
       "      <td>-0.339095</td>\n",
       "      <td>0.300383</td>\n",
       "      <td>-0.115667</td>\n",
       "      <td>0.244316</td>\n",
       "      <td>0.027831</td>\n",
       "      <td>-0.023775</td>\n",
       "      <td>-0.018976</td>\n",
       "    </tr>\n",
       "    <tr>\n",
       "      <th>9</th>\n",
       "      <td>-0.026991</td>\n",
       "      <td>0.002730</td>\n",
       "      <td>-0.002186</td>\n",
       "      <td>0.078338</td>\n",
       "      <td>0.092912</td>\n",
       "      <td>0.046689</td>\n",
       "      <td>0.037673</td>\n",
       "      <td>0.131472</td>\n",
       "      <td>-0.529802</td>\n",
       "      <td>0.313662</td>\n",
       "      <td>...</td>\n",
       "      <td>-0.393077</td>\n",
       "      <td>0.022916</td>\n",
       "      <td>-0.252254</td>\n",
       "      <td>0.075503</td>\n",
       "      <td>0.316191</td>\n",
       "      <td>0.228135</td>\n",
       "      <td>0.123090</td>\n",
       "      <td>-0.050774</td>\n",
       "      <td>0.032209</td>\n",
       "      <td>0.040636</td>\n",
       "    </tr>\n",
       "    <tr>\n",
       "      <th>10</th>\n",
       "      <td>0.010125</td>\n",
       "      <td>-0.050436</td>\n",
       "      <td>0.009674</td>\n",
       "      <td>-0.083581</td>\n",
       "      <td>0.047954</td>\n",
       "      <td>-0.368157</td>\n",
       "      <td>-0.193904</td>\n",
       "      <td>0.080587</td>\n",
       "      <td>-0.234306</td>\n",
       "      <td>0.047538</td>\n",
       "      <td>...</td>\n",
       "      <td>0.040886</td>\n",
       "      <td>-0.508303</td>\n",
       "      <td>0.050013</td>\n",
       "      <td>-0.414354</td>\n",
       "      <td>0.059476</td>\n",
       "      <td>0.177375</td>\n",
       "      <td>0.017455</td>\n",
       "      <td>0.059290</td>\n",
       "      <td>-0.014005</td>\n",
       "      <td>0.002805</td>\n",
       "    </tr>\n",
       "    <tr>\n",
       "      <th>11</th>\n",
       "      <td>0.000834</td>\n",
       "      <td>-0.041873</td>\n",
       "      <td>-0.024293</td>\n",
       "      <td>-0.077275</td>\n",
       "      <td>0.000830</td>\n",
       "      <td>-0.160104</td>\n",
       "      <td>-0.383044</td>\n",
       "      <td>-0.087907</td>\n",
       "      <td>-0.195367</td>\n",
       "      <td>-0.158668</td>\n",
       "      <td>...</td>\n",
       "      <td>0.088885</td>\n",
       "      <td>0.308168</td>\n",
       "      <td>-0.402155</td>\n",
       "      <td>0.005138</td>\n",
       "      <td>0.212517</td>\n",
       "      <td>-0.035830</td>\n",
       "      <td>-0.050942</td>\n",
       "      <td>0.059565</td>\n",
       "      <td>0.044763</td>\n",
       "      <td>0.016449</td>\n",
       "    </tr>\n",
       "    <tr>\n",
       "      <th>12</th>\n",
       "      <td>-0.383527</td>\n",
       "      <td>-0.192239</td>\n",
       "      <td>0.002640</td>\n",
       "      <td>0.086139</td>\n",
       "      <td>0.098000</td>\n",
       "      <td>0.092711</td>\n",
       "      <td>0.139222</td>\n",
       "      <td>-0.053942</td>\n",
       "      <td>0.017853</td>\n",
       "      <td>0.064338</td>\n",
       "      <td>...</td>\n",
       "      <td>0.038275</td>\n",
       "      <td>0.048217</td>\n",
       "      <td>-0.048146</td>\n",
       "      <td>0.026271</td>\n",
       "      <td>0.059996</td>\n",
       "      <td>-0.051630</td>\n",
       "      <td>0.202154</td>\n",
       "      <td>0.110578</td>\n",
       "      <td>-0.075478</td>\n",
       "      <td>0.292394</td>\n",
       "    </tr>\n",
       "    <tr>\n",
       "      <th>13</th>\n",
       "      <td>-0.137259</td>\n",
       "      <td>-0.313562</td>\n",
       "      <td>0.098716</td>\n",
       "      <td>0.087620</td>\n",
       "      <td>-0.497099</td>\n",
       "      <td>0.042053</td>\n",
       "      <td>0.150602</td>\n",
       "      <td>0.006583</td>\n",
       "      <td>-0.060860</td>\n",
       "      <td>-0.058965</td>\n",
       "      <td>...</td>\n",
       "      <td>-0.112971</td>\n",
       "      <td>0.080294</td>\n",
       "      <td>-0.083547</td>\n",
       "      <td>-0.045170</td>\n",
       "      <td>-0.082616</td>\n",
       "      <td>0.163782</td>\n",
       "      <td>0.079760</td>\n",
       "      <td>0.302631</td>\n",
       "      <td>-0.043171</td>\n",
       "      <td>-0.610424</td>\n",
       "    </tr>\n",
       "    <tr>\n",
       "      <th>14</th>\n",
       "      <td>0.010008</td>\n",
       "      <td>0.033512</td>\n",
       "      <td>0.016473</td>\n",
       "      <td>0.016640</td>\n",
       "      <td>-0.005273</td>\n",
       "      <td>0.341032</td>\n",
       "      <td>-0.048367</td>\n",
       "      <td>-0.241272</td>\n",
       "      <td>0.378717</td>\n",
       "      <td>0.292998</td>\n",
       "      <td>...</td>\n",
       "      <td>-0.167926</td>\n",
       "      <td>-0.404162</td>\n",
       "      <td>-0.074776</td>\n",
       "      <td>-0.157227</td>\n",
       "      <td>0.242443</td>\n",
       "      <td>0.318563</td>\n",
       "      <td>-0.143448</td>\n",
       "      <td>0.053768</td>\n",
       "      <td>-0.019430</td>\n",
       "      <td>0.001596</td>\n",
       "    </tr>\n",
       "    <tr>\n",
       "      <th>15</th>\n",
       "      <td>-0.054385</td>\n",
       "      <td>-0.143330</td>\n",
       "      <td>0.098429</td>\n",
       "      <td>-0.652926</td>\n",
       "      <td>0.007614</td>\n",
       "      <td>0.123007</td>\n",
       "      <td>0.061290</td>\n",
       "      <td>-0.021560</td>\n",
       "      <td>-0.045804</td>\n",
       "      <td>-0.001765</td>\n",
       "      <td>...</td>\n",
       "      <td>0.028310</td>\n",
       "      <td>0.082642</td>\n",
       "      <td>-0.008874</td>\n",
       "      <td>-0.012230</td>\n",
       "      <td>-0.038408</td>\n",
       "      <td>0.039655</td>\n",
       "      <td>0.039587</td>\n",
       "      <td>-0.021449</td>\n",
       "      <td>0.019457</td>\n",
       "      <td>-0.021508</td>\n",
       "    </tr>\n",
       "    <tr>\n",
       "      <th>16</th>\n",
       "      <td>-0.377669</td>\n",
       "      <td>-0.223255</td>\n",
       "      <td>0.015243</td>\n",
       "      <td>0.096183</td>\n",
       "      <td>0.051245</td>\n",
       "      <td>0.091372</td>\n",
       "      <td>0.142172</td>\n",
       "      <td>-0.058240</td>\n",
       "      <td>0.014917</td>\n",
       "      <td>0.054658</td>\n",
       "      <td>...</td>\n",
       "      <td>0.043219</td>\n",
       "      <td>0.041678</td>\n",
       "      <td>-0.059924</td>\n",
       "      <td>0.025379</td>\n",
       "      <td>0.043957</td>\n",
       "      <td>-0.032184</td>\n",
       "      <td>0.204551</td>\n",
       "      <td>0.151384</td>\n",
       "      <td>-0.064558</td>\n",
       "      <td>0.269325</td>\n",
       "    </tr>\n",
       "    <tr>\n",
       "      <th>17</th>\n",
       "      <td>-0.006080</td>\n",
       "      <td>-0.053897</td>\n",
       "      <td>-0.013786</td>\n",
       "      <td>0.085153</td>\n",
       "      <td>0.038872</td>\n",
       "      <td>0.142985</td>\n",
       "      <td>0.160770</td>\n",
       "      <td>0.362412</td>\n",
       "      <td>-0.058035</td>\n",
       "      <td>0.305134</td>\n",
       "      <td>...</td>\n",
       "      <td>0.039172</td>\n",
       "      <td>0.092513</td>\n",
       "      <td>0.089038</td>\n",
       "      <td>-0.045521</td>\n",
       "      <td>-0.387122</td>\n",
       "      <td>0.232241</td>\n",
       "      <td>-0.053093</td>\n",
       "      <td>-0.008971</td>\n",
       "      <td>-0.037022</td>\n",
       "      <td>0.007954</td>\n",
       "    </tr>\n",
       "    <tr>\n",
       "      <th>18</th>\n",
       "      <td>-0.050617</td>\n",
       "      <td>-0.400192</td>\n",
       "      <td>0.042212</td>\n",
       "      <td>0.056621</td>\n",
       "      <td>0.265872</td>\n",
       "      <td>-0.121059</td>\n",
       "      <td>-0.096927</td>\n",
       "      <td>-0.006128</td>\n",
       "      <td>0.004098</td>\n",
       "      <td>-0.101485</td>\n",
       "      <td>...</td>\n",
       "      <td>-0.000044</td>\n",
       "      <td>0.000687</td>\n",
       "      <td>0.209820</td>\n",
       "      <td>0.085738</td>\n",
       "      <td>0.173276</td>\n",
       "      <td>-0.015954</td>\n",
       "      <td>-0.551670</td>\n",
       "      <td>0.396598</td>\n",
       "      <td>-0.267221</td>\n",
       "      <td>-0.013840</td>\n",
       "    </tr>\n",
       "    <tr>\n",
       "      <th>19</th>\n",
       "      <td>0.004717</td>\n",
       "      <td>-0.034371</td>\n",
       "      <td>-0.002045</td>\n",
       "      <td>0.009761</td>\n",
       "      <td>0.073934</td>\n",
       "      <td>0.430314</td>\n",
       "      <td>-0.250124</td>\n",
       "      <td>0.387015</td>\n",
       "      <td>-0.123555</td>\n",
       "      <td>-0.003940</td>\n",
       "      <td>...</td>\n",
       "      <td>0.104747</td>\n",
       "      <td>-0.266227</td>\n",
       "      <td>-0.434544</td>\n",
       "      <td>0.066455</td>\n",
       "      <td>-0.306348</td>\n",
       "      <td>-0.270417</td>\n",
       "      <td>-0.214434</td>\n",
       "      <td>0.089303</td>\n",
       "      <td>-0.061447</td>\n",
       "      <td>-0.012509</td>\n",
       "    </tr>\n",
       "    <tr>\n",
       "      <th>20</th>\n",
       "      <td>0.014972</td>\n",
       "      <td>0.110267</td>\n",
       "      <td>0.682526</td>\n",
       "      <td>0.091627</td>\n",
       "      <td>0.076996</td>\n",
       "      <td>0.000310</td>\n",
       "      <td>0.014312</td>\n",
       "      <td>-0.008284</td>\n",
       "      <td>-0.014995</td>\n",
       "      <td>-0.041886</td>\n",
       "      <td>...</td>\n",
       "      <td>0.046186</td>\n",
       "      <td>-0.009472</td>\n",
       "      <td>-0.015629</td>\n",
       "      <td>0.003838</td>\n",
       "      <td>0.000987</td>\n",
       "      <td>0.007877</td>\n",
       "      <td>0.039011</td>\n",
       "      <td>0.018757</td>\n",
       "      <td>-0.009820</td>\n",
       "      <td>-0.048026</td>\n",
       "    </tr>\n",
       "    <tr>\n",
       "      <th>21</th>\n",
       "      <td>0.000049</td>\n",
       "      <td>0.133166</td>\n",
       "      <td>0.678509</td>\n",
       "      <td>0.090832</td>\n",
       "      <td>0.063288</td>\n",
       "      <td>0.005659</td>\n",
       "      <td>0.006718</td>\n",
       "      <td>0.011243</td>\n",
       "      <td>-0.048167</td>\n",
       "      <td>-0.052116</td>\n",
       "      <td>...</td>\n",
       "      <td>0.059514</td>\n",
       "      <td>-0.007465</td>\n",
       "      <td>0.000592</td>\n",
       "      <td>0.000491</td>\n",
       "      <td>0.007799</td>\n",
       "      <td>0.023835</td>\n",
       "      <td>0.013832</td>\n",
       "      <td>0.008714</td>\n",
       "      <td>0.001989</td>\n",
       "      <td>0.072292</td>\n",
       "    </tr>\n",
       "    <tr>\n",
       "      <th>22</th>\n",
       "      <td>-0.015308</td>\n",
       "      <td>-0.062879</td>\n",
       "      <td>-0.058082</td>\n",
       "      <td>0.075191</td>\n",
       "      <td>-0.021486</td>\n",
       "      <td>0.140550</td>\n",
       "      <td>-0.308626</td>\n",
       "      <td>-0.075362</td>\n",
       "      <td>-0.181419</td>\n",
       "      <td>-0.294400</td>\n",
       "      <td>...</td>\n",
       "      <td>0.140656</td>\n",
       "      <td>-0.136235</td>\n",
       "      <td>0.009395</td>\n",
       "      <td>0.232598</td>\n",
       "      <td>0.060702</td>\n",
       "      <td>0.332132</td>\n",
       "      <td>0.215984</td>\n",
       "      <td>-0.021899</td>\n",
       "      <td>-0.057045</td>\n",
       "      <td>0.005453</td>\n",
       "    </tr>\n",
       "    <tr>\n",
       "      <th>23</th>\n",
       "      <td>-0.024116</td>\n",
       "      <td>-0.098190</td>\n",
       "      <td>0.103001</td>\n",
       "      <td>-0.669334</td>\n",
       "      <td>0.049904</td>\n",
       "      <td>0.061782</td>\n",
       "      <td>0.086563</td>\n",
       "      <td>0.012101</td>\n",
       "      <td>-0.047678</td>\n",
       "      <td>0.048539</td>\n",
       "      <td>...</td>\n",
       "      <td>-0.007596</td>\n",
       "      <td>-0.003530</td>\n",
       "      <td>0.002311</td>\n",
       "      <td>-0.009470</td>\n",
       "      <td>0.035725</td>\n",
       "      <td>0.040877</td>\n",
       "      <td>0.043787</td>\n",
       "      <td>0.049029</td>\n",
       "      <td>-0.018265</td>\n",
       "      <td>0.022726</td>\n",
       "    </tr>\n",
       "    <tr>\n",
       "      <th>24</th>\n",
       "      <td>-0.401473</td>\n",
       "      <td>-0.178620</td>\n",
       "      <td>0.027471</td>\n",
       "      <td>0.068308</td>\n",
       "      <td>0.085893</td>\n",
       "      <td>0.005658</td>\n",
       "      <td>-0.004747</td>\n",
       "      <td>-0.007920</td>\n",
       "      <td>0.014171</td>\n",
       "      <td>0.028954</td>\n",
       "      <td>...</td>\n",
       "      <td>0.043374</td>\n",
       "      <td>-0.000312</td>\n",
       "      <td>0.022280</td>\n",
       "      <td>-0.014346</td>\n",
       "      <td>0.021218</td>\n",
       "      <td>-0.030465</td>\n",
       "      <td>-0.056105</td>\n",
       "      <td>-0.198755</td>\n",
       "      <td>0.007246</td>\n",
       "      <td>0.087568</td>\n",
       "    </tr>\n",
       "    <tr>\n",
       "      <th>25</th>\n",
       "      <td>0.011084</td>\n",
       "      <td>0.062845</td>\n",
       "      <td>-0.033363</td>\n",
       "      <td>-0.008205</td>\n",
       "      <td>-0.027797</td>\n",
       "      <td>-0.104116</td>\n",
       "      <td>0.349511</td>\n",
       "      <td>-0.321977</td>\n",
       "      <td>-0.334986</td>\n",
       "      <td>0.156783</td>\n",
       "      <td>...</td>\n",
       "      <td>0.250744</td>\n",
       "      <td>-0.140659</td>\n",
       "      <td>-0.142798</td>\n",
       "      <td>-0.257938</td>\n",
       "      <td>-0.136093</td>\n",
       "      <td>-0.248752</td>\n",
       "      <td>-0.192968</td>\n",
       "      <td>0.061800</td>\n",
       "      <td>-0.047309</td>\n",
       "      <td>0.028705</td>\n",
       "    </tr>\n",
       "    <tr>\n",
       "      <th>26</th>\n",
       "      <td>-0.013737</td>\n",
       "      <td>0.019255</td>\n",
       "      <td>-0.016910</td>\n",
       "      <td>0.027918</td>\n",
       "      <td>-0.006937</td>\n",
       "      <td>-0.011565</td>\n",
       "      <td>0.365445</td>\n",
       "      <td>-0.009307</td>\n",
       "      <td>-0.234068</td>\n",
       "      <td>-0.389873</td>\n",
       "      <td>...</td>\n",
       "      <td>-0.510201</td>\n",
       "      <td>-0.259240</td>\n",
       "      <td>0.038950</td>\n",
       "      <td>0.147710</td>\n",
       "      <td>0.010066</td>\n",
       "      <td>-0.223371</td>\n",
       "      <td>-0.126716</td>\n",
       "      <td>-0.092227</td>\n",
       "      <td>0.049722</td>\n",
       "      <td>0.032724</td>\n",
       "    </tr>\n",
       "    <tr>\n",
       "      <th>27</th>\n",
       "      <td>-0.383118</td>\n",
       "      <td>0.270335</td>\n",
       "      <td>-0.041195</td>\n",
       "      <td>-0.041706</td>\n",
       "      <td>-0.100906</td>\n",
       "      <td>-0.013944</td>\n",
       "      <td>-0.049116</td>\n",
       "      <td>0.017436</td>\n",
       "      <td>0.006525</td>\n",
       "      <td>-0.009253</td>\n",
       "      <td>...</td>\n",
       "      <td>0.006782</td>\n",
       "      <td>-0.032551</td>\n",
       "      <td>0.000480</td>\n",
       "      <td>-0.008297</td>\n",
       "      <td>-0.023417</td>\n",
       "      <td>0.018798</td>\n",
       "      <td>-0.035274</td>\n",
       "      <td>-0.057568</td>\n",
       "      <td>-0.100712</td>\n",
       "      <td>0.009515</td>\n",
       "    </tr>\n",
       "    <tr>\n",
       "      <th>28</th>\n",
       "      <td>-0.326655</td>\n",
       "      <td>0.336710</td>\n",
       "      <td>-0.020668</td>\n",
       "      <td>-0.090651</td>\n",
       "      <td>-0.068904</td>\n",
       "      <td>-0.031064</td>\n",
       "      <td>-0.065288</td>\n",
       "      <td>0.022387</td>\n",
       "      <td>-0.014320</td>\n",
       "      <td>-0.045117</td>\n",
       "      <td>...</td>\n",
       "      <td>-0.067896</td>\n",
       "      <td>-0.037295</td>\n",
       "      <td>0.037741</td>\n",
       "      <td>0.026322</td>\n",
       "      <td>-0.016308</td>\n",
       "      <td>0.015355</td>\n",
       "      <td>-0.116624</td>\n",
       "      <td>-0.003865</td>\n",
       "      <td>-0.253912</td>\n",
       "      <td>-0.161477</td>\n",
       "    </tr>\n",
       "    <tr>\n",
       "      <th>29</th>\n",
       "      <td>-0.289760</td>\n",
       "      <td>0.255800</td>\n",
       "      <td>-0.034643</td>\n",
       "      <td>-0.033484</td>\n",
       "      <td>-0.067364</td>\n",
       "      <td>-0.017873</td>\n",
       "      <td>-0.064731</td>\n",
       "      <td>0.055293</td>\n",
       "      <td>-0.004971</td>\n",
       "      <td>-0.035481</td>\n",
       "      <td>...</td>\n",
       "      <td>0.022210</td>\n",
       "      <td>-0.036199</td>\n",
       "      <td>0.069143</td>\n",
       "      <td>0.023516</td>\n",
       "      <td>-0.015063</td>\n",
       "      <td>0.033998</td>\n",
       "      <td>-0.143698</td>\n",
       "      <td>0.437051</td>\n",
       "      <td>0.752773</td>\n",
       "      <td>0.059977</td>\n",
       "    </tr>\n",
       "    <tr>\n",
       "      <th>30</th>\n",
       "      <td>-0.320486</td>\n",
       "      <td>0.344610</td>\n",
       "      <td>-0.035023</td>\n",
       "      <td>-0.071202</td>\n",
       "      <td>-0.089054</td>\n",
       "      <td>-0.076900</td>\n",
       "      <td>-0.099153</td>\n",
       "      <td>0.015559</td>\n",
       "      <td>-0.004237</td>\n",
       "      <td>-0.045427</td>\n",
       "      <td>...</td>\n",
       "      <td>-0.017300</td>\n",
       "      <td>0.012149</td>\n",
       "      <td>0.006213</td>\n",
       "      <td>0.001337</td>\n",
       "      <td>-0.019150</td>\n",
       "      <td>0.035135</td>\n",
       "      <td>-0.092893</td>\n",
       "      <td>-0.093796</td>\n",
       "      <td>-0.368940</td>\n",
       "      <td>-0.092552</td>\n",
       "    </tr>\n",
       "  </tbody>\n",
       "</table>\n",
       "<p>31 rows × 25 columns</p>\n",
       "</div>"
      ],
      "text/plain": [
       "          0         1         2         3         4         5         6   \\\n",
       "0  -0.276173 -0.304730  0.052732  0.048175  0.193020 -0.047942 -0.082358   \n",
       "1   0.002039  0.017481 -0.028787  0.058729 -0.074358  0.093634 -0.119212   \n",
       "2   0.002878 -0.059806  0.040312 -0.097204  0.074752  0.180239 -0.230712   \n",
       "3   0.007760 -0.224003  0.113357 -0.017762 -0.608143 -0.073624 -0.120418   \n",
       "4  -0.002514  0.043851  0.054519 -0.066436  0.092188 -0.075331 -0.162656   \n",
       "5  -0.074849 -0.109528 -0.013785  0.008704  0.228927 -0.358617 -0.152354   \n",
       "6   0.014916  0.114950 -0.075763  0.013299  0.351148  0.092929  0.221257   \n",
       "7   0.007423 -0.015930 -0.013960 -0.084813 -0.016693 -0.353904  0.269765   \n",
       "8  -0.001931 -0.002441 -0.057499 -0.007334  0.028196  0.327251  0.092431   \n",
       "9  -0.026991  0.002730 -0.002186  0.078338  0.092912  0.046689  0.037673   \n",
       "10  0.010125 -0.050436  0.009674 -0.083581  0.047954 -0.368157 -0.193904   \n",
       "11  0.000834 -0.041873 -0.024293 -0.077275  0.000830 -0.160104 -0.383044   \n",
       "12 -0.383527 -0.192239  0.002640  0.086139  0.098000  0.092711  0.139222   \n",
       "13 -0.137259 -0.313562  0.098716  0.087620 -0.497099  0.042053  0.150602   \n",
       "14  0.010008  0.033512  0.016473  0.016640 -0.005273  0.341032 -0.048367   \n",
       "15 -0.054385 -0.143330  0.098429 -0.652926  0.007614  0.123007  0.061290   \n",
       "16 -0.377669 -0.223255  0.015243  0.096183  0.051245  0.091372  0.142172   \n",
       "17 -0.006080 -0.053897 -0.013786  0.085153  0.038872  0.142985  0.160770   \n",
       "18 -0.050617 -0.400192  0.042212  0.056621  0.265872 -0.121059 -0.096927   \n",
       "19  0.004717 -0.034371 -0.002045  0.009761  0.073934  0.430314 -0.250124   \n",
       "20  0.014972  0.110267  0.682526  0.091627  0.076996  0.000310  0.014312   \n",
       "21  0.000049  0.133166  0.678509  0.090832  0.063288  0.005659  0.006718   \n",
       "22 -0.015308 -0.062879 -0.058082  0.075191 -0.021486  0.140550 -0.308626   \n",
       "23 -0.024116 -0.098190  0.103001 -0.669334  0.049904  0.061782  0.086563   \n",
       "24 -0.401473 -0.178620  0.027471  0.068308  0.085893  0.005658 -0.004747   \n",
       "25  0.011084  0.062845 -0.033363 -0.008205 -0.027797 -0.104116  0.349511   \n",
       "26 -0.013737  0.019255 -0.016910  0.027918 -0.006937 -0.011565  0.365445   \n",
       "27 -0.383118  0.270335 -0.041195 -0.041706 -0.100906 -0.013944 -0.049116   \n",
       "28 -0.326655  0.336710 -0.020668 -0.090651 -0.068904 -0.031064 -0.065288   \n",
       "29 -0.289760  0.255800 -0.034643 -0.033484 -0.067364 -0.017873 -0.064731   \n",
       "30 -0.320486  0.344610 -0.035023 -0.071202 -0.089054 -0.076900 -0.099153   \n",
       "\n",
       "          7         8         9   ...        15        16        17        18  \\\n",
       "0   0.000245  0.022200  0.009113  ...  0.073884 -0.057932  0.010644 -0.089923   \n",
       "1   0.016045 -0.447442  0.195412  ...  0.227052  0.072606  0.547425  0.029851   \n",
       "2  -0.326054 -0.100263 -0.021759  ... -0.233264 -0.179623  0.263795  0.350363   \n",
       "3   0.106827  0.023674 -0.134268  ... -0.122889  0.007969  0.003481 -0.148281   \n",
       "4   0.371042  0.105861  0.193435  ... -0.393048  0.238985  0.206224 -0.103780   \n",
       "5   0.051413  0.115300 -0.075898  ... -0.227036 -0.114540 -0.049902 -0.168279   \n",
       "6  -0.021628 -0.055085 -0.346856  ... -0.034956  0.261764 -0.087297 -0.191839   \n",
       "7   0.371007  0.115627  0.018935  ...  0.262571 -0.280149 -0.059778  0.540209   \n",
       "8   0.334600 -0.019549 -0.421104  ...  0.139891 -0.134919  0.241267 -0.339095   \n",
       "9   0.131472 -0.529802  0.313662  ... -0.393077  0.022916 -0.252254  0.075503   \n",
       "10  0.080587 -0.234306  0.047538  ...  0.040886 -0.508303  0.050013 -0.414354   \n",
       "11 -0.087907 -0.195367 -0.158668  ...  0.088885  0.308168 -0.402155  0.005138   \n",
       "12 -0.053942  0.017853  0.064338  ...  0.038275  0.048217 -0.048146  0.026271   \n",
       "13  0.006583 -0.060860 -0.058965  ... -0.112971  0.080294 -0.083547 -0.045170   \n",
       "14 -0.241272  0.378717  0.292998  ... -0.167926 -0.404162 -0.074776 -0.157227   \n",
       "15 -0.021560 -0.045804 -0.001765  ...  0.028310  0.082642 -0.008874 -0.012230   \n",
       "16 -0.058240  0.014917  0.054658  ...  0.043219  0.041678 -0.059924  0.025379   \n",
       "17  0.362412 -0.058035  0.305134  ...  0.039172  0.092513  0.089038 -0.045521   \n",
       "18 -0.006128  0.004098 -0.101485  ... -0.000044  0.000687  0.209820  0.085738   \n",
       "19  0.387015 -0.123555 -0.003940  ...  0.104747 -0.266227 -0.434544  0.066455   \n",
       "20 -0.008284 -0.014995 -0.041886  ...  0.046186 -0.009472 -0.015629  0.003838   \n",
       "21  0.011243 -0.048167 -0.052116  ...  0.059514 -0.007465  0.000592  0.000491   \n",
       "22 -0.075362 -0.181419 -0.294400  ...  0.140656 -0.136235  0.009395  0.232598   \n",
       "23  0.012101 -0.047678  0.048539  ... -0.007596 -0.003530  0.002311 -0.009470   \n",
       "24 -0.007920  0.014171  0.028954  ...  0.043374 -0.000312  0.022280 -0.014346   \n",
       "25 -0.321977 -0.334986  0.156783  ...  0.250744 -0.140659 -0.142798 -0.257938   \n",
       "26 -0.009307 -0.234068 -0.389873  ... -0.510201 -0.259240  0.038950  0.147710   \n",
       "27  0.017436  0.006525 -0.009253  ...  0.006782 -0.032551  0.000480 -0.008297   \n",
       "28  0.022387 -0.014320 -0.045117  ... -0.067896 -0.037295  0.037741  0.026322   \n",
       "29  0.055293 -0.004971 -0.035481  ...  0.022210 -0.036199  0.069143  0.023516   \n",
       "30  0.015559 -0.004237 -0.045427  ... -0.017300  0.012149  0.006213  0.001337   \n",
       "\n",
       "          19        20        21        22        23        24  \n",
       "0   0.006190 -0.042542 -0.142845 -0.595187  0.339582 -0.365959  \n",
       "1  -0.048396  0.057346 -0.005450 -0.001766 -0.018636  0.017531  \n",
       "2  -0.310649 -0.019897  0.030039 -0.019373  0.043909  0.011717  \n",
       "3  -0.125301  0.136468 -0.246502 -0.222593  0.020312  0.521563  \n",
       "4   0.128772 -0.173598 -0.085134  0.027673 -0.004909 -0.021241  \n",
       "5  -0.446913  0.012515  0.395170  0.168799 -0.052224  0.020970  \n",
       "6  -0.213958  0.561980 -0.246781 -0.031653  0.022544  0.051554  \n",
       "7   0.112098  0.205933 -0.025521 -0.037980  0.006872  0.016353  \n",
       "8   0.300383 -0.115667  0.244316  0.027831 -0.023775 -0.018976  \n",
       "9   0.316191  0.228135  0.123090 -0.050774  0.032209  0.040636  \n",
       "10  0.059476  0.177375  0.017455  0.059290 -0.014005  0.002805  \n",
       "11  0.212517 -0.035830 -0.050942  0.059565  0.044763  0.016449  \n",
       "12  0.059996 -0.051630  0.202154  0.110578 -0.075478  0.292394  \n",
       "13 -0.082616  0.163782  0.079760  0.302631 -0.043171 -0.610424  \n",
       "14  0.242443  0.318563 -0.143448  0.053768 -0.019430  0.001596  \n",
       "15 -0.038408  0.039655  0.039587 -0.021449  0.019457 -0.021508  \n",
       "16  0.043957 -0.032184  0.204551  0.151384 -0.064558  0.269325  \n",
       "17 -0.387122  0.232241 -0.053093 -0.008971 -0.037022  0.007954  \n",
       "18  0.173276 -0.015954 -0.551670  0.396598 -0.267221 -0.013840  \n",
       "19 -0.306348 -0.270417 -0.214434  0.089303 -0.061447 -0.012509  \n",
       "20  0.000987  0.007877  0.039011  0.018757 -0.009820 -0.048026  \n",
       "21  0.007799  0.023835  0.013832  0.008714  0.001989  0.072292  \n",
       "22  0.060702  0.332132  0.215984 -0.021899 -0.057045  0.005453  \n",
       "23  0.035725  0.040877  0.043787  0.049029 -0.018265  0.022726  \n",
       "24  0.021218 -0.030465 -0.056105 -0.198755  0.007246  0.087568  \n",
       "25 -0.136093 -0.248752 -0.192968  0.061800 -0.047309  0.028705  \n",
       "26  0.010066 -0.223371 -0.126716 -0.092227  0.049722  0.032724  \n",
       "27 -0.023417  0.018798 -0.035274 -0.057568 -0.100712  0.009515  \n",
       "28 -0.016308  0.015355 -0.116624 -0.003865 -0.253912 -0.161477  \n",
       "29 -0.015063  0.033998 -0.143698  0.437051  0.752773  0.059977  \n",
       "30 -0.019150  0.035135 -0.092893 -0.093796 -0.368940 -0.092552  \n",
       "\n",
       "[31 rows x 25 columns]"
      ]
     },
     "execution_count": 435,
     "metadata": {},
     "output_type": "execute_result"
    }
   ],
   "source": [
    "# with 6 PC vectors\n",
    "#since dropping last 1 PC dim, we get 5% loss. hence 0:7\n",
    "PC=np.array(eigen_vectors_sort[0:25]).transpose()\n",
    "PC1=pd.DataFrame(PC)\n",
    "PC1\n",
    "\n"
   ]
  },
  {
   "cell_type": "code",
   "execution_count": 437,
   "metadata": {},
   "outputs": [
    {
     "data": {
      "text/plain": [
       "(1470, 25)"
      ]
     },
     "execution_count": 437,
     "metadata": {},
     "output_type": "execute_result"
    }
   ],
   "source": [
    "\n",
    "proj_2D=pd.DataFrame(np.dot(ibm_std,PC))\n",
    "proj_2D.shape"
   ]
  },
  {
   "cell_type": "code",
   "execution_count": 453,
   "metadata": {},
   "outputs": [
    {
     "data": {
      "text/plain": [
       "0    1067\n",
       "1     403\n",
       "Name: 0, dtype: int64"
      ]
     },
     "execution_count": 453,
     "metadata": {},
     "output_type": "execute_result"
    }
   ],
   "source": [
    "model1=AgglomerativeClustering(n_clusters=2,affinity='cosine',linkage='average')\n",
    "model1.fit(proj_2D)\n",
    "L1=pd.DataFrame(model1.labels_)\n",
    "\n",
    "#cent1=pd.DataFrame(cent1,columns=list(ab_scale))\n",
    "L1[0].value_counts()\n"
   ]
  },
  {
   "cell_type": "markdown",
   "metadata": {},
   "source": [
    "### Logistic regression using PCA dataframe"
   ]
  },
  {
   "cell_type": "code",
   "execution_count": 455,
   "metadata": {},
   "outputs": [],
   "source": [
    "y=ibm.Attrition.values\n",
    "x_train,x_test,y_train,y_test=train_test_split(proj_2D, y, test_size=0.30, random_state=0)"
   ]
  },
  {
   "cell_type": "code",
   "execution_count": 456,
   "metadata": {},
   "outputs": [],
   "source": [
    "model =LogisticRegression()\n",
    "model.fit(x_train,y_train)\n",
    "y_pred=model.predict(x_test)"
   ]
  },
  {
   "cell_type": "code",
   "execution_count": 457,
   "metadata": {},
   "outputs": [
    {
     "name": "stdout",
     "output_type": "stream",
     "text": [
      "0.8888888888888888\n"
     ]
    }
   ],
   "source": [
    "model_score = model.score(x_test,y_test)\n",
    "print(model_score)"
   ]
  },
  {
   "cell_type": "code",
   "execution_count": 458,
   "metadata": {},
   "outputs": [
    {
     "name": "stdout",
     "output_type": "stream",
     "text": [
      "[[366   5]\n",
      " [ 44  26]]\n"
     ]
    }
   ],
   "source": [
    "from sklearn.metrics import confusion_matrix\n",
    "\n",
    "print(metrics.confusion_matrix(y_test,y_pred))"
   ]
  },
  {
   "cell_type": "code",
   "execution_count": 459,
   "metadata": {},
   "outputs": [
    {
     "data": {
      "text/plain": [
       "0.5148514851485149"
      ]
     },
     "execution_count": 459,
     "metadata": {},
     "output_type": "execute_result"
    }
   ],
   "source": [
    "# f1 score\n",
    "f1_score(y_test, y_pred) "
   ]
  },
  {
   "cell_type": "code",
   "execution_count": 460,
   "metadata": {},
   "outputs": [
    {
     "data": {
      "text/plain": [
       "0.37142857142857144"
      ]
     },
     "execution_count": 460,
     "metadata": {},
     "output_type": "execute_result"
    }
   ],
   "source": [
    "recall_score(y_test, y_pred)"
   ]
  },
  {
   "cell_type": "code",
   "execution_count": 462,
   "metadata": {},
   "outputs": [
    {
     "data": {
      "text/plain": [
       "DecisionTreeClassifier(class_weight=None, criterion='gini', max_depth=3,\n",
       "            max_features=None, max_leaf_nodes=None,\n",
       "            min_impurity_decrease=0.0, min_impurity_split=None,\n",
       "            min_samples_leaf=5, min_samples_split=2,\n",
       "            min_weight_fraction_leaf=0.0, presort=False, random_state=100,\n",
       "            splitter='best')"
      ]
     },
     "execution_count": 462,
     "metadata": {},
     "output_type": "execute_result"
    }
   ],
   "source": [
    "giniDecisionTree = DecisionTreeClassifier(criterion='gini',random_state = 100,max_depth=3, min_samples_leaf=5)\n",
    "\n",
    "giniDecisionTree.fit(x_train, y_train)"
   ]
  },
  {
   "cell_type": "code",
   "execution_count": 463,
   "metadata": {},
   "outputs": [],
   "source": [
    "giniPred = giniDecisionTree.predict(x_test)"
   ]
  },
  {
   "cell_type": "code",
   "execution_count": 464,
   "metadata": {},
   "outputs": [
    {
     "name": "stdout",
     "output_type": "stream",
     "text": [
      "Accuracy Score:  0.8480725623582767\n"
     ]
    }
   ],
   "source": [
    "print('Accuracy Score: ',accuracy_score(y_test, giniPred))"
   ]
  },
  {
   "cell_type": "code",
   "execution_count": 465,
   "metadata": {},
   "outputs": [
    {
     "name": "stdout",
     "output_type": "stream",
     "text": [
      "F1 score using logistic regression without any technique 0.24719101123595505\n"
     ]
    }
   ],
   "source": [
    "# f1 score\n",
    "print('F1 score using logistic regression without any technique',f1_score(y_test, giniPred))"
   ]
  },
  {
   "cell_type": "code",
   "execution_count": 466,
   "metadata": {},
   "outputs": [
    {
     "name": "stdout",
     "output_type": "stream",
     "text": [
      "Recall score using Logistic Regression without any technique 0.15714285714285714\n"
     ]
    }
   ],
   "source": [
    "print('Recall score using Logistic Regression without any technique',recall_score(y_test, giniPred))"
   ]
  },
  {
   "cell_type": "code",
   "execution_count": 375,
   "metadata": {},
   "outputs": [
    {
     "name": "stdout",
     "output_type": "stream",
     "text": [
      "Classification Report\n",
      "              precision    recall  f1-score   support\n",
      "\n",
      "           0       0.89      0.73      0.80       300\n",
      "           1       0.34      0.62      0.44        68\n",
      "\n",
      "   micro avg       0.71      0.71      0.71       368\n",
      "   macro avg       0.62      0.67      0.62       368\n",
      "weighted avg       0.79      0.71      0.73       368\n",
      "\n"
     ]
    }
   ],
   "source": [
    "print('Classification Report')\n",
    "print(classification_report(y_test, giniPred))"
   ]
  },
  {
   "cell_type": "markdown",
   "metadata": {},
   "source": [
    "### Entropy Criterion"
   ]
  },
  {
   "cell_type": "code",
   "execution_count": 468,
   "metadata": {},
   "outputs": [],
   "source": [
    "entropyDecisionTree = DecisionTreeClassifier(criterion='entropy',random_state = 100,max_depth=3, min_samples_leaf=5)"
   ]
  },
  {
   "cell_type": "code",
   "execution_count": 469,
   "metadata": {},
   "outputs": [
    {
     "data": {
      "text/plain": [
       "DecisionTreeClassifier(class_weight=None, criterion='entropy', max_depth=3,\n",
       "            max_features=None, max_leaf_nodes=None,\n",
       "            min_impurity_decrease=0.0, min_impurity_split=None,\n",
       "            min_samples_leaf=5, min_samples_split=2,\n",
       "            min_weight_fraction_leaf=0.0, presort=False, random_state=100,\n",
       "            splitter='best')"
      ]
     },
     "execution_count": 469,
     "metadata": {},
     "output_type": "execute_result"
    }
   ],
   "source": [
    "entropyDecisionTree.fit(x_train, y_train)"
   ]
  },
  {
   "cell_type": "code",
   "execution_count": 470,
   "metadata": {},
   "outputs": [],
   "source": [
    "entropyPred = entropyDecisionTree.predict(x_test)"
   ]
  },
  {
   "cell_type": "code",
   "execution_count": 471,
   "metadata": {},
   "outputs": [
    {
     "name": "stdout",
     "output_type": "stream",
     "text": [
      "Accuracy Score:  0.8299319727891157\n"
     ]
    }
   ],
   "source": [
    "print('Accuracy Score: ',accuracy_score(y_test, entropyPred))"
   ]
  },
  {
   "cell_type": "code",
   "execution_count": 472,
   "metadata": {},
   "outputs": [
    {
     "name": "stdout",
     "output_type": "stream",
     "text": [
      "F1 score using logistic regression without any technique 0.07407407407407407\n"
     ]
    }
   ],
   "source": [
    "# f1 score\n",
    "print('F1 score using logistic regression without any technique',f1_score(y_test, entropyPred))"
   ]
  },
  {
   "cell_type": "code",
   "execution_count": 473,
   "metadata": {},
   "outputs": [
    {
     "name": "stdout",
     "output_type": "stream",
     "text": [
      "Recall score using Logistic Regression without any technique 0.04285714285714286\n"
     ]
    }
   ],
   "source": [
    "print('Recall score using Logistic Regression without any technique',recall_score(y_test, entropyPred))"
   ]
  },
  {
   "cell_type": "code",
   "execution_count": 474,
   "metadata": {
    "scrolled": true
   },
   "outputs": [
    {
     "name": "stdout",
     "output_type": "stream",
     "text": [
      "              precision    recall  f1-score   support\n",
      "\n",
      "           0       0.84      0.98      0.91       371\n",
      "           1       0.27      0.04      0.07        70\n",
      "\n",
      "   micro avg       0.83      0.83      0.83       441\n",
      "   macro avg       0.56      0.51      0.49       441\n",
      "weighted avg       0.75      0.83      0.77       441\n",
      "\n"
     ]
    }
   ],
   "source": [
    "print(classification_report(y_test, entropyPred))"
   ]
  },
  {
   "cell_type": "code",
   "execution_count": 476,
   "metadata": {},
   "outputs": [
    {
     "name": "stdout",
     "output_type": "stream",
     "text": [
      "Accuracy on training set: 0.93\n",
      "Accuracy on test set: 0.86\n"
     ]
    }
   ],
   "source": [
    "from sklearn.svm import SVC\n",
    "\n",
    "svc = SVC()\n",
    "svc.fit(x_train, y_train)\n",
    "\n",
    "print(\"Accuracy on training set: {:.2f}\".format(svc.score(x_train, y_train)))\n",
    "print(\"Accuracy on test set: {:.2f}\".format(svc.score(x_test, y_test)))"
   ]
  },
  {
   "cell_type": "code",
   "execution_count": null,
   "metadata": {},
   "outputs": [],
   "source": []
  }
 ],
 "metadata": {
  "kernelspec": {
   "display_name": "Python 3",
   "language": "python",
   "name": "python3"
  },
  "language_info": {
   "codemirror_mode": {
    "name": "ipython",
    "version": 3
   },
   "file_extension": ".py",
   "mimetype": "text/x-python",
   "name": "python",
   "nbconvert_exporter": "python",
   "pygments_lexer": "ipython3",
   "version": "3.7.3"
  }
 },
 "nbformat": 4,
 "nbformat_minor": 2
}
